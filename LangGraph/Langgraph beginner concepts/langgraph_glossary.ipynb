{
 "cells": [
  {
   "cell_type": "code",
   "execution_count": 1,
   "metadata": {},
   "outputs": [],
   "source": [
    "## Langgraph Glossary"
   ]
  },
  {
   "cell_type": "markdown",
   "metadata": {},
   "source": [
    "## Graphs:\n",
    "Langgraph  models agent workflows as graphs. We define the behaviour of our agents using three key components:\n",
    "\n",
    "- State: shared data structure that represents the current snapshot of our app.\n",
    "- Nodes: functions that encode the logic of our agent. They receive the current state as input and perform some calculation or side effect and return an updated state\n",
    "- Edges: function to determine which node to execute next time based on the current state. They can be conditional or fix transition."
   ]
  },
  {
   "cell_type": "markdown",
   "metadata": {},
   "source": [
    "Nodes do the work and edges tell what to do next"
   ]
  },
  {
   "cell_type": "markdown",
   "metadata": {},
   "source": [
    "## StateGraph\n",
    "The main graph class to uses. This is parameterized by a user defined state object"
   ]
  },
  {
   "cell_type": "markdown",
   "metadata": {},
   "source": [
    "## Message Graph\n",
    "The class is a special graph which contains a list of messages. Used for chatbots mostly."
   ]
  },
  {
   "cell_type": "markdown",
   "metadata": {},
   "source": [
    "## Compiling the graph\n",
    "To build our graph we first define the state and then add nodes and edges and then we compile the graph.\n",
    "\n",
    "Compiling provides a few basic checks on the structure of our graph. It is also where we can specify runtime args like checkpointers and breakpoints. We can compile the graph by calling just **compile()** method in the graph after building the edges and node.\n",
    "\n",
    "graph.compile()"
   ]
  },
  {
   "cell_type": "markdown",
   "metadata": {},
   "source": [
    "## State\n",
    "The first thing to do when we define a graph is to define state of the graph.\n",
    "\n",
    "The state consists of the schema of the graph as well as reducer functions which specify how to apply updates to the state.\n",
    "\n",
    "The schema of the graph will be the input schema to all Nodes and Edges in the graph."
   ]
  },
  {
   "cell_type": "markdown",
   "metadata": {},
   "source": [
    "## Schema\n",
    "The main documented way to specify the schema of a graph is by using TypedDict or Pydantic model.\n",
    "\n"
   ]
  },
  {
   "cell_type": "code",
   "execution_count": 6,
   "metadata": {},
   "outputs": [],
   "source": [
    "from typing import TypedDict\n",
    "\n",
    "class InputState(TypedDict):\n",
    "    user_input: str\n",
    "    \n",
    "class OverallState(TypedDict):\n",
    "    foo: str\n",
    "    user_input: str\n",
    "    \n",
    "def node_1(state: InputState) -> OverallState:\n",
    "    # write in overall state\n",
    "    return {\"foo\": state[\"user_input\"] + \"name\"}"
   ]
  },
  {
   "cell_type": "markdown",
   "metadata": {},
   "source": [
    "## Building a simple graph"
   ]
  },
  {
   "cell_type": "code",
   "execution_count": 10,
   "metadata": {},
   "outputs": [],
   "source": [
    "from langgraph.graph import StateGraph, START, END\n",
    "\n",
    "class GraphState(TypedDict):\n",
    "    user_input: str\n",
    "    foo: str\n",
    "    graph_output: str\n",
    "    \n",
    "class InputState(TypedDict):\n",
    "    user_input: str\n",
    "    \n",
    "class OutputState(TypedDict):\n",
    "    graph_output: str\n",
    "    \n",
    "def node_1(state: InputState) -> GraphState:\n",
    "    return {\"foo\": state[\"user_input\"] + \" <node_1>>\"}\n",
    "\n",
    "def node_2(state: OverallState) -> OutputState:\n",
    "    return {\"graph_output\": state[\"foo\"] + \" <node_2>>\"}\n",
    "\n",
    "builder = StateGraph(OverallState, input=InputState, output=OutputState)\n",
    "\n",
    "builder.add_node(\"node_1\", node_1)\n",
    "builder.add_node(\"node_2\", node_2)\n",
    "builder.add_edge(START, \"node_1\")\n",
    "builder.add_edge(\"node_1\", \"node_2\")\n",
    "builder.add_edge(\"node_2\", END)\n",
    "\n",
    "graph = builder.compile()"
   ]
  },
  {
   "cell_type": "code",
   "execution_count": 11,
   "metadata": {},
   "outputs": [
    {
     "data": {
      "image/jpeg": "[encoded data removed]",
      "text/plain": [
       "<IPython.core.display.Image object>"
      ]
     },
     "metadata": {},
     "output_type": "display_data"
    }
   ],
   "source": [
    "from IPython.display import display, Image\n",
    "\n",
    "display(Image(graph.get_graph().draw_mermaid_png()))"
   ]
  },
  {
   "cell_type": "code",
   "execution_count": 14,
   "metadata": {},
   "outputs": [
    {
     "data": {
      "text/plain": [
       "{'graph_output': 'Hello <node_1>> <node_2>>'}"
      ]
     },
     "execution_count": 14,
     "metadata": {},
     "output_type": "execute_result"
    }
   ],
   "source": [
    "graph.invoke({\"user_input\": \"Hello\"})\n",
    "\n",
    "## Here first the state user_state: \"Hello\" + \"<node>>1\" is stored in the foo state at node1 and then in node2 the foo state is concatenated with \"<node_2>>\" and stored in the graph_output state. The at the output we get \"Hello <node_1>> <node_2>>\""
   ]
  },
  {
   "cell_type": "markdown",
   "metadata": {},
   "source": [
    "Reducers are key to understanding how updates from nodes are applied to the Graph state. Each key in the state has its own independent reducer function. If no reducer function is explicitly specified then it assumed that all updates to that key should override it. There are a few different types of reducers starting with the default type of reducer."
   ]
  },
  {
   "cell_type": "code",
   "execution_count": 15,
   "metadata": {},
   "outputs": [],
   "source": [
    "from typing import TypedDict\n",
    "\n",
    "class State(TypedDict):\n",
    "    foo: int\n",
    "    bar: list[str]\n",
    "    \n",
    "# no reducer function specified for any key."
   ]
  },
  {
   "cell_type": "code",
   "execution_count": 17,
   "metadata": {},
   "outputs": [],
   "source": [
    "# another example\n",
    "from typing import TypedDict, Annotated\n",
    "from operator import add\n",
    "\n",
    "class State(TypedDict):\n",
    "    foo: int\n",
    "    bar: Annotated[list[str], add]\n",
    "    \n",
    "# annotated type to specity a reducer function operator.add for the second key bar. foo remain unchange but bar will be added to the list.\n",
    "# input: {\"foo\": 1, \"bar\": [\"hi\"]}\n",
    "# if second node return \"bar\": [\"bye\"]\n",
    "# state would be {foo: 2(update from node1), bar: ['hi','bye']}\n"
   ]
  },
  {
   "cell_type": "code",
   "execution_count": 18,
   "metadata": {},
   "outputs": [],
   "source": [
    "## Context Reducer\n",
    "# Learn more about this topic more"
   ]
  },
  {
   "cell_type": "markdown",
   "metadata": {},
   "source": [
    "## Working with messages in graph state\n",
    "\n",
    "Most modern LLM providers have a chat model interface that accepts a list of messages as input. Langchain's **ChatModel** in particular accepts a list of Message objects as inputs. These messages come in a variety of forms such as HumanMessage or AIMessage.\n",
    "\n",
    "It is helpful to store prior conversation history as a list of messages in our graph state.\n",
    "We can add a key(channel) to the graph state that stores a list of Message object and annotate it with a reducer function. The reducer function is vital to telling the graph how to update the list of Message objects in the state with each state update. If we dont specify a reducer state update will overwrite the state an the list of messages will not be a list. Just like above in the bar:['hi','hello'] example.\n",
    "\n",
    "If we want to manually update messages in our graph state. We need a reducer that can keep track of messages ID and overwrite existing messages instead of appending because Human In The Loop is for that instead of just appending new we update the message. For this function we can use the prebuilt **add_messages** function.\n",
    "\n",
    "In addition to keeping track of message ID, the add_messages function will also try to deserialize messages into LangChain Message objects whenever a state update is received on the messages channel."
   ]
  },
  {
   "cell_type": "code",
   "execution_count": 19,
   "metadata": {},
   "outputs": [],
   "source": [
    "from langchain_core.messages import AnyMessage\n",
    "from langgraph.graph.message import add_messages\n",
    "from typing import Annotated, TypedDict\n",
    "\n",
    "class GraphState(TypedDict):\n",
    "    messages: Annotated[list[AnyMessage], add_messages]"
   ]
  },
  {
   "cell_type": "markdown",
   "metadata": {},
   "source": [
    "## Message State\n",
    "There exist a prebuilt state called MessagesState which makes it easy to use messages. It is defined with a single messages key which is a list of AnyMessage object and uses the add_messages reducer."
   ]
  },
  {
   "cell_type": "code",
   "execution_count": 20,
   "metadata": {},
   "outputs": [],
   "source": [
    "from langgraph.graph import MessagesState\n",
    "\n",
    "class State(MessagesState):\n",
    "    documents: list[str]"
   ]
  },
  {
   "cell_type": "code",
   "execution_count": 23,
   "metadata": {},
   "outputs": [
    {
     "data": {
      "text/plain": [
       "<langgraph.graph.state.StateGraph at 0x2b0225f38f0>"
      ]
     },
     "execution_count": 23,
     "metadata": {},
     "output_type": "execute_result"
    }
   ],
   "source": [
    "## Node: they are function where the first argument is state and the optional second positional argument is a config containing congifuration for the node.\n",
    "\n",
    "from langchain_core.runnables import RunnableConfig\n",
    "from langgraph.graph import StateGraph\n",
    "\n",
    "builder = StateGraph(dict)\n",
    "\n",
    "def my_node(state: dict, config: RunnableConfig):\n",
    "    return {\"results\": f\"Hello state['input]\"}\n",
    "\n",
    "builder.add_node(\"my_node\", my_node)"
   ]
  },
  {
   "cell_type": "code",
   "execution_count": 22,
   "metadata": {},
   "outputs": [],
   "source": [
    "## The START and the END node are special node that represent the node input and output i.e begin and final of the graph in langgraph.\n",
    "\n",
    "from langgraph.graph import START, END\n",
    "\n",
    "# Edges define how the logic is routed and how the graph decides to stop.\n",
    "\n",
    "# 1: Normal Edges: Go directly from one node to the next\n",
    "# 2: Conditional Edges: Call a function to determing which node to go\n",
    "# 3: Entry Point: Which node to call first when user input arrives.\n",
    "# 4: Conditional Entry Point: Call a function to determine which node to call first when user input arrive."
   ]
  },
  {
   "cell_type": "code",
   "execution_count": null,
   "metadata": {},
   "outputs": [],
   "source": [
    "from langgraph.graph import START, END\n",
    "\n",
    "def router_function(state):\n",
    "    return \"value\"\n",
    "\n",
    "builder.add_edge(START, \"my_node\")\n",
    "builder.add_edge(\"my_node\", END)\n",
    "\n",
    "builder.add_conditional_edges(\"my_another_node\", router_function)\n"
   ]
  },
  {
   "cell_type": "code",
   "execution_count": 28,
   "metadata": {},
   "outputs": [],
   "source": [
    "## LEARN MORE ABOUT\n",
    "# 1: Send\n",
    "# 2: Persistence\n",
    "# 3: Graph Migrations\n",
    "# 4: Configuration\n",
    "# 5:Recursion Limit\n",
    "# 6: Dunamic breakpoint\n",
    "# 7: Visualization and Streaming"
   ]
  }
 ],
 "metadata": {
  "kernelspec": {
   "display_name": "Python 3",
   "language": "python",
   "name": "python3"
  },
  "language_info": {
   "codemirror_mode": {
    "name": "ipython",
    "version": 3
   },
   "file_extension": ".py",
   "mimetype": "text/x-python",
   "name": "python",
   "nbconvert_exporter": "python",
   "pygments_lexer": "ipython3",
   "version": "3.12.1"
  }
 },
 "nbformat": 4,
 "nbformat_minor": 2
}
