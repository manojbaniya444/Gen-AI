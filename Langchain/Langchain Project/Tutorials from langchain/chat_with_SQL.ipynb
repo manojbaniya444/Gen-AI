{
 "cells": [
  {
   "cell_type": "markdown",
   "metadata": {},
   "source": [
    "## Chat With SQL"
   ]
  },
  {
   "cell_type": "markdown",
   "metadata": {},
   "source": [
    "First get any .db file here i have Chinook.db file"
   ]
  },
  {
   "cell_type": "code",
   "execution_count": 1,
   "metadata": {},
   "outputs": [
    {
     "name": "stdout",
     "output_type": "stream",
     "text": [
      "sqlite\n",
      "['albums', 'artists', 'customers', 'employees', 'genres', 'invoice_items', 'invoices', 'media_types', 'playlist_track', 'playlists', 'tracks']\n"
     ]
    }
   ],
   "source": [
    "from langchain_community.utilities import SQLDatabase\n",
    "\n",
    "db = SQLDatabase.from_uri(\"sqlite:///Chinook.db\")\n",
    "print(db.dialect)\n",
    "print(db.get_usable_table_names())"
   ]
  },
  {
   "cell_type": "code",
   "execution_count": 2,
   "metadata": {},
   "outputs": [
    {
     "data": {
      "text/plain": [
       "\"[(1, 'AC/DC'), (2, 'Accept'), (3, 'Aerosmith'), (4, 'Alanis Morissette'), (5, 'Alice In Chains'), (6, 'Antônio Carlos Jobim'), (7, 'Apocalyptica'), (8, 'Audioslave'), (9, 'BackBeat'), (10, 'Billy Cobham')]\""
      ]
     },
     "execution_count": 2,
     "metadata": {},
     "output_type": "execute_result"
    }
   ],
   "source": [
    "db.run(\"SELECT * FROM artists LIMIT 10;\")"
   ]
  },
  {
   "cell_type": "markdown",
   "metadata": {},
   "source": [
    "Chains are compositions of LangChain Runnables which support applications whose steps are predictable. We can create a simple chain that takes a question and does the following.\n",
    "* Convert the question into a SQL query\n",
    "* Execute the query\n",
    "* Use the result to answer the original question"
   ]
  },
  {
   "cell_type": "code",
   "execution_count": 3,
   "metadata": {},
   "outputs": [
    {
     "data": {
      "text/plain": [
       "True"
      ]
     },
     "execution_count": 3,
     "metadata": {},
     "output_type": "execute_result"
    }
   ],
   "source": [
    "import os\n",
    "from dotenv import load_dotenv\n",
    "\n",
    "load_dotenv()"
   ]
  },
  {
   "cell_type": "code",
   "execution_count": 4,
   "metadata": {},
   "outputs": [],
   "source": [
    "from langchain_groq import ChatGroq\n",
    "\n",
    "os.environ[\"GROQ_API_KEY\"] = os.getenv(\"GROQ_API_KEY\")\n",
    "\n",
    "llm = ChatGroq(model=\"llama3-8b-8192\")"
   ]
  },
  {
   "cell_type": "code",
   "execution_count": 70,
   "metadata": {},
   "outputs": [
    {
     "data": {
      "text/plain": [
       "'Question: How many employees are there?\\nSQLQuery: SELECT COUNT(*) FROM employees;'"
      ]
     },
     "execution_count": 70,
     "metadata": {},
     "output_type": "execute_result"
    }
   ],
   "source": [
    "from langchain.chains import create_sql_query_chain\n",
    "\n",
    "chain = create_sql_query_chain(llm, db)\n",
    "response = chain.invoke(\n",
    "    {\"question\": \"How many employees are there?\"}\n",
    ")\n",
    "response"
   ]
  },
  {
   "cell_type": "code",
   "execution_count": 52,
   "metadata": {},
   "outputs": [
    {
     "data": {
      "text/plain": [
       "'[(8,)]'"
      ]
     },
     "execution_count": 52,
     "metadata": {},
     "output_type": "execute_result"
    }
   ],
   "source": [
    "db.run(response)"
   ]
  },
  {
   "cell_type": "code",
   "execution_count": 53,
   "metadata": {},
   "outputs": [],
   "source": [
    "test_query = llm.invoke(\"Just generate a SQL query to get the number of employees in employees table. just return the sql query\")"
   ]
  },
  {
   "cell_type": "code",
   "execution_count": 54,
   "metadata": {},
   "outputs": [
    {
     "data": {
      "text/plain": [
       "'[(8,)]'"
      ]
     },
     "execution_count": 54,
     "metadata": {},
     "output_type": "execute_result"
    }
   ],
   "source": [
    "db.run(\"SELECT COUNT(*) FROM employees;\")"
   ]
  },
  {
   "cell_type": "code",
   "execution_count": 55,
   "metadata": {},
   "outputs": [
    {
     "data": {
      "text/plain": [
       "'[(8,)]'"
      ]
     },
     "execution_count": 55,
     "metadata": {},
     "output_type": "execute_result"
    }
   ],
   "source": [
    "db.run(test_query.content)"
   ]
  },
  {
   "cell_type": "code",
   "execution_count": 56,
   "metadata": {},
   "outputs": [
    {
     "data": {
      "text/plain": [
       "'[(8,)]'"
      ]
     },
     "execution_count": 56,
     "metadata": {},
     "output_type": "execute_result"
    }
   ],
   "source": [
    "from langchain_community.tools.sql_database.tool import QuerySQLDataBaseTool\n",
    "\n",
    "execute_query = QuerySQLDataBaseTool(db=db)\n",
    "write_query = create_sql_query_chain(llm, db)\n",
    "\n",
    "chain = write_query | execute_query\n",
    "chain.invoke({\n",
    "    \"question\": \"How many employees are there? Just response with the query like this: SELECT * From table; and nothing else other than query.\"\n",
    "})"
   ]
  },
  {
   "cell_type": "code",
   "execution_count": 57,
   "metadata": {},
   "outputs": [
    {
     "name": "stdout",
     "output_type": "stream",
     "text": [
      "You are a SQLite expert. Given an input question, first create a syntactically correct SQLite query to run, then look at the results of the query and return the answer to the input question.\n",
      "Unless the user specifies in the question a specific number of examples to obtain, query for at most 5 results using the LIMIT clause as per SQLite. You can order the results to return the most informative data in the database.\n",
      "Never query for all columns from a table. You must query only the columns that are needed to answer the question. Wrap each column name in double quotes (\") to denote them as delimited identifiers.\n",
      "Pay attention to use only the column names you can see in the tables below. Be careful to not query for columns that do not exist. Also, pay attention to which column is in which table.\n",
      "Pay attention to use date('now') function to get the current date, if the question involves \"today\".\n",
      "\n",
      "Use the following format:\n",
      "\n",
      "Question: Question here\n",
      "SQLQuery: SQL Query to run\n",
      "SQLResult: Result of the SQLQuery\n",
      "Answer: Final answer here\n",
      "\n",
      "Only use the following tables:\n",
      "\u001b[33;1m\u001b[1;3m{table_info}\u001b[0m\n",
      "\n",
      "Question: \u001b[33;1m\u001b[1;3m{input}\u001b[0m\n"
     ]
    }
   ],
   "source": [
    "chain.get_prompts()[0].pretty_print()"
   ]
  },
  {
   "cell_type": "code",
   "execution_count": 85,
   "metadata": {},
   "outputs": [],
   "source": [
    "# now answering the question with the sql query result as well.\n",
    "\n",
    "from operator import itemgetter\n",
    "\n",
    "from langchain_core.output_parsers import StrOutputParser\n",
    "from langchain_core.prompts import PromptTemplate\n",
    "from langchain_core.runnables import RunnablePassthrough\n",
    "\n",
    "answer_prompt = PromptTemplate.from_template(\n",
    "    \"\"\"\n",
    "    Given the following user question, corresponding SQL query and the result, answer the user question.\n",
    "    \n",
    "    Question: {question}\n",
    "    query : {query}\n",
    "    SQL Result: {result}\n",
    "    Answer:\n",
    "    \"\"\"\n",
    ")\n",
    "\n",
    "chain = (\n",
    "    RunnablePassthrough.assign(query=write_query).assign(result=itemgetter(\"query\") | execute_query)\n",
    "\n",
    "    | answer_prompt\n",
    "    | llm\n",
    "    | StrOutputParser()\n",
    ")"
   ]
  },
  {
   "cell_type": "code",
   "execution_count": 100,
   "metadata": {},
   "outputs": [
    {
     "data": {
      "text/plain": [
       "'SELECT \"Name\" FROM artists LIMIT 10'"
      ]
     },
     "execution_count": 100,
     "metadata": {},
     "output_type": "execute_result"
    }
   ],
   "source": [
    "# sahi sanga li raakheko chaina yesle\n",
    "\n",
    "\n",
    "chain.invoke({\n",
    "    \"question\": \"can you say 10 artists? Just response with the query in sql and nothing else other than query.\"\n",
    "})"
   ]
  },
  {
   "cell_type": "code",
   "execution_count": 101,
   "metadata": {},
   "outputs": [
    {
     "data": {
      "text/plain": [
       "'There are 275 artists.'"
      ]
     },
     "execution_count": 101,
     "metadata": {},
     "output_type": "execute_result"
    }
   ],
   "source": [
    "chain.invoke({\n",
    "    \"question\": \"How many artists are there? Just response with the query in sql and nothing else other than query.\"\n",
    "})"
   ]
  },
  {
   "cell_type": "code",
   "execution_count": 103,
   "metadata": {},
   "outputs": [
    {
     "data": {
      "text/plain": [
       "'The user question is: How many employees are there?\\n\\nHowever, the SQL query provided is not valid. It seems that the SQL query is trying to execute the question itself, which is not a valid SQL syntax.\\n\\nThe correct SQL query to answer the question \"How many employees are there?\" would be:\\n\\nSELECT COUNT(*) FROM employees;\\n\\nThis query will count the number of rows in the \"employees\" table and return the result.\\n\\nThe correct answer to the user question would be the result of this query, which is the number of employees in the \"employees\" table.'"
      ]
     },
     "execution_count": 103,
     "metadata": {},
     "output_type": "execute_result"
    }
   ],
   "source": [
    "chain.invoke(\n",
    "    {\n",
    "        \"question\": \"How many employees are there?\"\n",
    "    }\n",
    ")"
   ]
  },
  {
   "cell_type": "code",
   "execution_count": 61,
   "metadata": {},
   "outputs": [
    {
     "name": "stdout",
     "output_type": "stream",
     "text": [
      "You are a SQLite expert. Given an input question, first create a syntactically correct SQLite query to run, then look at the results of the query and return the answer to the input question.\n",
      "Unless the user specifies in the question a specific number of examples to obtain, query for at most 5 results using the LIMIT clause as per SQLite. You can order the results to return the most informative data in the database.\n",
      "Never query for all columns from a table. You must query only the columns that are needed to answer the question. Wrap each column name in double quotes (\") to denote them as delimited identifiers.\n",
      "Pay attention to use only the column names you can see in the tables below. Be careful to not query for columns that do not exist. Also, pay attention to which column is in which table.\n",
      "Pay attention to use date('now') function to get the current date, if the question involves \"today\".\n",
      "\n",
      "Use the following format:\n",
      "\n",
      "Question: Question here\n",
      "SQLQuery: SQL Query to run\n",
      "SQLResult: Result of the SQLQuery\n",
      "Answer: Final answer here\n",
      "\n",
      "Only use the following tables:\n",
      "\u001b[33;1m\u001b[1;3m{table_info}\u001b[0m\n",
      "\n",
      "Question: \u001b[33;1m\u001b[1;3m{input}\u001b[0m\n"
     ]
    }
   ],
   "source": [
    "chain.get_prompts()[0].pretty_print()"
   ]
  },
  {
   "cell_type": "markdown",
   "metadata": {},
   "source": [
    "## Agents"
   ]
  },
  {
   "cell_type": "code",
   "execution_count": 104,
   "metadata": {},
   "outputs": [
    {
     "data": {
      "text/plain": [
       "[QuerySQLDataBaseTool(description=\"Input to this tool is a detailed and correct SQL query, output is a result from the database. If the query is not correct, an error message will be returned. If an error is returned, rewrite the query, check the query, and try again. If you encounter an issue with Unknown column 'xxxx' in 'field list', use sql_db_schema to query the correct table fields.\", db=<langchain_community.utilities.sql_database.SQLDatabase object at 0x000001C5E9A7A090>),\n",
       " InfoSQLDatabaseTool(description='Input to this tool is a comma-separated list of tables, output is the schema and sample rows for those tables. Be sure that the tables actually exist by calling sql_db_list_tables first! Example Input: table1, table2, table3', db=<langchain_community.utilities.sql_database.SQLDatabase object at 0x000001C5E9A7A090>),\n",
       " ListSQLDatabaseTool(db=<langchain_community.utilities.sql_database.SQLDatabase object at 0x000001C5E9A7A090>),\n",
       " QuerySQLCheckerTool(description='Use this tool to double check if your query is correct before executing it. Always use this tool before executing a query with sql_db_query!', db=<langchain_community.utilities.sql_database.SQLDatabase object at 0x000001C5E9A7A090>, llm=ChatGroq(client=<groq.resources.chat.completions.Completions object at 0x000001C5EC891D00>, async_client=<groq.resources.chat.completions.AsyncCompletions object at 0x000001C5EC892720>, model_name='llama3-8b-8192', groq_api_key=SecretStr('**********')), llm_chain=LLMChain(prompt=PromptTemplate(input_variables=['dialect', 'query'], template='\\n{query}\\nDouble check the {dialect} query above for common mistakes, including:\\n- Using NOT IN with NULL values\\n- Using UNION when UNION ALL should have been used\\n- Using BETWEEN for exclusive ranges\\n- Data type mismatch in predicates\\n- Properly quoting identifiers\\n- Using the correct number of arguments for functions\\n- Casting to the correct data type\\n- Using the proper columns for joins\\n\\nIf there are any of the above mistakes, rewrite the query. If there are no mistakes, just reproduce the original query.\\n\\nOutput the final SQL query only.\\n\\nSQL Query: '), llm=ChatGroq(client=<groq.resources.chat.completions.Completions object at 0x000001C5EC891D00>, async_client=<groq.resources.chat.completions.AsyncCompletions object at 0x000001C5EC892720>, model_name='llama3-8b-8192', groq_api_key=SecretStr('**********'))))]"
      ]
     },
     "execution_count": 104,
     "metadata": {},
     "output_type": "execute_result"
    }
   ],
   "source": [
    "# using sqltool agents for robustness and error less response\n",
    "\n",
    "from langchain_community.agent_toolkits import SQLDatabaseToolkit\n",
    "\n",
    "toolkit = SQLDatabaseToolkit(db=db, llm=llm)\n",
    "tools = toolkit.get_tools()\n",
    "\n",
    "tools"
   ]
  },
  {
   "cell_type": "code",
   "execution_count": 105,
   "metadata": {},
   "outputs": [],
   "source": [
    "from langchain_core.messages import SystemMessage\n",
    "\n",
    "SQL_PREFIX = \"\"\"You are an agent designed to interact with a SQL database.\n",
    "Given an input question, create a syntactically correct SQLite query to run, then look at the results of the query and return the answer.\n",
    "Unless the user specifies a specific number of examples they wish to obtain, always limit your query to at most 5 results.\n",
    "You can order the results by a relevant column to return the most interesting examples in the database.\n",
    "Never query for all the columns from a specific table, only ask for the relevant columns given the question.\n",
    "You have access to tools for interacting with the database.\n",
    "Only use the below tools. Only use the information returned by the below tools to construct your final answer.\n",
    "You MUST double check your query before executing it. If you get an error while executing a query, rewrite the query and try again.\n",
    "\n",
    "DO NOT make any DML statements (INSERT, UPDATE, DELETE, DROP etc.) to the database.\n",
    "\n",
    "To start you should ALWAYS look at the tables in the database to see what you can query.\n",
    "Do NOT skip this step.\n",
    "Then you should query the schema of the most relevant tables.\"\"\"\n",
    "\n",
    "system_message = SystemMessage(\n",
    "    content=SQL_PREFIX\n",
    ")"
   ]
  },
  {
   "cell_type": "code",
   "execution_count": 106,
   "metadata": {},
   "outputs": [],
   "source": [
    "from langchain_core.messages import HumanMessage\n",
    "from langgraph.prebuilt import create_react_agent\n",
    "\n",
    "agent_executor = create_react_agent(\n",
    "    llm,\n",
    "    tools,\n",
    "    messages_modifier=system_message\n",
    ")"
   ]
  },
  {
   "cell_type": "code",
   "execution_count": 110,
   "metadata": {},
   "outputs": [
    {
     "data": {
      "text/plain": [
       "{'messages': [HumanMessage(content='Hello who are you?', id='d831f81f-3870-4c74-9875-fd3a63feb9ab'),\n",
       "  AIMessage(content='', additional_kwargs={'tool_calls': [{'id': 'call_kn07', 'function': {'arguments': '{\"tool_input\":\"\"}', 'name': 'sql_db_list_tables'}, 'type': 'function'}]}, response_metadata={'token_usage': {'completion_tokens': 74, 'prompt_tokens': 1630, 'total_tokens': 1704, 'completion_time': 0.05804546, 'prompt_time': 0.246238681, 'queue_time': None, 'total_time': 0.304284141}, 'model_name': 'llama3-8b-8192', 'system_fingerprint': 'fp_af05557ca2', 'finish_reason': 'tool_calls', 'logprobs': None}, id='run-cf10b807-90dd-425a-b971-b246898b7420-0', tool_calls=[{'name': 'sql_db_list_tables', 'args': {'tool_input': ''}, 'id': 'call_kn07'}]),\n",
       "  ToolMessage(content='albums, artists, customers, employees, genres, invoice_items, invoices, media_types, playlist_track, playlists, tracks', name='sql_db_list_tables', id='c7055021-cd76-426c-b47b-29d8217250d7', tool_call_id='call_kn07'),\n",
       "  AIMessage(content=\"I'm an AI designed to interact with a SQL database. I can help answer your questions by constructing a query to retrieve the relevant information.\\n\\nYou've given me a list of tables in the database. Now, I'll need to ask some follow-up questions to narrow down what you're looking for. Can you please tell me what you'd like to know? For example, are you looking for information about a specific artist, album, or genre? Or maybe you're interested in finding out more about customers or employees?\", response_metadata={'token_usage': {'completion_tokens': 105, 'prompt_tokens': 1718, 'total_tokens': 1823, 'completion_time': 0.082993383, 'prompt_time': 0.260490031, 'queue_time': None, 'total_time': 0.34348341400000004}, 'model_name': 'llama3-8b-8192', 'system_fingerprint': 'fp_6a6771ae9c', 'finish_reason': 'stop', 'logprobs': None}, id='run-3eac30a2-0311-4207-9593-b1f9824c14e8-0')]}"
      ]
     },
     "execution_count": 110,
     "metadata": {},
     "output_type": "execute_result"
    }
   ],
   "source": [
    "agent_executor.invoke(\n",
    "    {\n",
    "        \"messages\": HumanMessage(content=\"Hello who are you?\")\n",
    "    }\n",
    ")"
   ]
  },
  {
   "cell_type": "code",
   "execution_count": 107,
   "metadata": {},
   "outputs": [
    {
     "name": "stdout",
     "output_type": "stream",
     "text": [
      "{'agent': {'messages': [AIMessage(content='', additional_kwargs={'tool_calls': [{'id': 'call_td3k', 'function': {'arguments': '{}', 'name': 'sql_db_list_tables'}, 'type': 'function'}, {'id': 'call_9s82', 'function': {'arguments': '{\"table_names\":\"customers\"}', 'name': 'sql_db_schema'}, 'type': 'function'}, {'id': 'call_bxr5', 'function': {'arguments': '{\"query\":\"SELECT country, SUM(total_spent) AS total_spent FROM customers GROUP BY country ORDER BY total_spent DESC LIMIT 1\"}', 'name': 'sql_db_query'}, 'type': 'function'}]}, response_metadata={'token_usage': {'completion_tokens': 200, 'prompt_tokens': 1633, 'total_tokens': 1833, 'completion_time': 0.158688629, 'prompt_time': 0.287298188, 'queue_time': None, 'total_time': 0.445986817}, 'model_name': 'llama3-8b-8192', 'system_fingerprint': 'fp_179b0f92c9', 'finish_reason': 'tool_calls', 'logprobs': None}, id='run-742bbce9-8745-48e9-bd6c-116a075f98bd-0', tool_calls=[{'name': 'sql_db_list_tables', 'args': {}, 'id': 'call_td3k'}, {'name': 'sql_db_schema', 'args': {'table_names': 'customers'}, 'id': 'call_9s82'}, {'name': 'sql_db_query', 'args': {'query': 'SELECT country, SUM(total_spent) AS total_spent FROM customers GROUP BY country ORDER BY total_spent DESC LIMIT 1'}, 'id': 'call_bxr5'}])]}}\n",
      "----\n",
      "{'tools': {'messages': [ToolMessage(content='albums, artists, customers, employees, genres, invoice_items, invoices, media_types, playlist_track, playlists, tracks', name='sql_db_list_tables', tool_call_id='call_td3k'), ToolMessage(content='\\nCREATE TABLE customers (\\n\\t\"CustomerId\" INTEGER NOT NULL, \\n\\t\"FirstName\" NVARCHAR(40) NOT NULL, \\n\\t\"LastName\" NVARCHAR(20) NOT NULL, \\n\\t\"Company\" NVARCHAR(80), \\n\\t\"Address\" NVARCHAR(70), \\n\\t\"City\" NVARCHAR(40), \\n\\t\"State\" NVARCHAR(40), \\n\\t\"Country\" NVARCHAR(40), \\n\\t\"PostalCode\" NVARCHAR(10), \\n\\t\"Phone\" NVARCHAR(24), \\n\\t\"Fax\" NVARCHAR(24), \\n\\t\"Email\" NVARCHAR(60) NOT NULL, \\n\\t\"SupportRepId\" INTEGER, \\n\\tPRIMARY KEY (\"CustomerId\"), \\n\\tFOREIGN KEY(\"SupportRepId\") REFERENCES employees (\"EmployeeId\")\\n)\\n\\n/*\\n3 rows from customers table:\\nCustomerId\\tFirstName\\tLastName\\tCompany\\tAddress\\tCity\\tState\\tCountry\\tPostalCode\\tPhone\\tFax\\tEmail\\tSupportRepId\\n1\\tLuís\\tGonçalves\\tEmbraer - Empresa Brasileira de Aeronáutica S.A.\\tAv. Brigadeiro Faria Lima, 2170\\tSão José dos Campos\\tSP\\tBrazil\\t12227-000\\t+55 (12) 3923-5555\\t+55 (12) 3923-5566\\tluisg@embraer.com.br\\t3\\n2\\tLeonie\\tKöhler\\tNone\\tTheodor-Heuss-Straße 34\\tStuttgart\\tNone\\tGermany\\t70174\\t+49 0711 2842222\\tNone\\tleonekohler@surfeu.de\\t5\\n3\\tFrançois\\tTremblay\\tNone\\t1498 rue Bélanger\\tMontréal\\tQC\\tCanada\\tH2G 1A7\\t+1 (514) 721-4711\\tNone\\tftremblay@gmail.com\\t3\\n*/', name='sql_db_schema', tool_call_id='call_9s82'), ToolMessage(content='Error: (sqlite3.OperationalError) no such column: total_spent\\n[SQL: SELECT country, SUM(total_spent) AS total_spent FROM customers GROUP BY country ORDER BY total_spent DESC LIMIT 1]\\n(Background on this error at: https://sqlalche.me/e/20/e3q8)', name='sql_db_query', tool_call_id='call_bxr5')]}}\n",
      "----\n",
      "{'agent': {'messages': [AIMessage(content='', additional_kwargs={'tool_calls': [{'id': 'call_xbz1', 'function': {'arguments': '{\"query\":\"SELECT country, COUNT(*) AS total_spent FROM customers GROUP BY country ORDER BY total_spent DESC LIMIT 1\"}', 'name': 'sql_db_query_checker'}, 'type': 'function'}]}, response_metadata={'token_usage': {'completion_tokens': 57, 'prompt_tokens': 2315, 'total_tokens': 2372, 'completion_time': 0.044277081, 'prompt_time': 0.558983597, 'queue_time': None, 'total_time': 0.603260678}, 'model_name': 'llama3-8b-8192', 'system_fingerprint': 'fp_873a560973', 'finish_reason': 'tool_calls', 'logprobs': None}, id='run-f6760136-7b9b-4c73-a4e1-bf8248d0ed50-0', tool_calls=[{'name': 'sql_db_query_checker', 'args': {'query': 'SELECT country, COUNT(*) AS total_spent FROM customers GROUP BY country ORDER BY total_spent DESC LIMIT 1'}, 'id': 'call_xbz1'}])]}}\n",
      "----\n",
      "{'tools': {'messages': [ToolMessage(content='The original query appears to be correct and does not contain any common mistakes. The query correctly groups the customers by country, counts the total spent in each country, and orders the results in descending order by the total spent, limiting the result to the top 1 country.\\n\\nHere is the original query:\\n\\nSELECT country, COUNT(*) AS total_spent FROM customers GROUP BY country ORDER BY total_spent DESC LIMIT 1', name='sql_db_query_checker', tool_call_id='call_xbz1')]}}\n",
      "----\n",
      "{'agent': {'messages': [AIMessage(content='', additional_kwargs={'tool_calls': [{'id': 'call_gmnj', 'function': {'arguments': '{\"query\":\"SELECT country, COUNT(*) AS total_spent FROM customers GROUP BY country ORDER BY total_spent DESC LIMIT 1\"}', 'name': 'sql_db_query'}, 'type': 'function'}]}, response_metadata={'token_usage': {'completion_tokens': 59, 'prompt_tokens': 2484, 'total_tokens': 2543, 'completion_time': 0.046133434, 'prompt_time': 0.490984851, 'queue_time': None, 'total_time': 0.537118285}, 'model_name': 'llama3-8b-8192', 'system_fingerprint': 'fp_873a560973', 'finish_reason': 'tool_calls', 'logprobs': None}, id='run-57418fc6-da6b-4601-8111-b01439e31495-0', tool_calls=[{'name': 'sql_db_query', 'args': {'query': 'SELECT country, COUNT(*) AS total_spent FROM customers GROUP BY country ORDER BY total_spent DESC LIMIT 1'}, 'id': 'call_gmnj'}])]}}\n",
      "----\n",
      "{'tools': {'messages': [ToolMessage(content=\"[('USA', 13)]\", name='sql_db_query', tool_call_id='call_gmnj')]}}\n",
      "----\n",
      "{'agent': {'messages': [AIMessage(content='The country whose customers spent the most is the USA, with a total of 13 customers.', response_metadata={'token_usage': {'completion_tokens': 20, 'prompt_tokens': 2575, 'total_tokens': 2595, 'completion_time': 0.015121439, 'prompt_time': 0.382508718, 'queue_time': None, 'total_time': 0.39763015700000004}, 'model_name': 'llama3-8b-8192', 'system_fingerprint': 'fp_873a560973', 'finish_reason': 'stop', 'logprobs': None}, id='run-ccc9d0ae-0001-4665-9f18-9a449f3efcd7-0')]}}\n",
      "----\n"
     ]
    }
   ],
   "source": [
    "for s in agent_executor.stream(\n",
    "    {\"messages\": [HumanMessage(content=\"Which country's customers spent the most?\")]}\n",
    "):\n",
    "    print(s)\n",
    "    print(\"----\")"
   ]
  },
  {
   "cell_type": "code",
   "execution_count": 111,
   "metadata": {},
   "outputs": [
    {
     "name": "stdout",
     "output_type": "stream",
     "text": [
      "{'agent': {'messages': [AIMessage(content='', additional_kwargs={'tool_calls': [{'id': 'call_fs5y', 'function': {'arguments': '{\"tool_input\":\"\"}', 'name': 'sql_db_list_tables'}, 'type': 'function'}, {'id': 'call_a49c', 'function': {'arguments': '{\"table_names\":\"playlisttrack\"}', 'name': 'sql_db_schema'}, 'type': 'function'}]}, response_metadata={'token_usage': {'completion_tokens': 117, 'prompt_tokens': 1630, 'total_tokens': 1747, 'completion_time': 0.091777212, 'prompt_time': 0.242953184, 'queue_time': None, 'total_time': 0.334730396}, 'model_name': 'llama3-8b-8192', 'system_fingerprint': 'fp_c4a72fb330', 'finish_reason': 'tool_calls', 'logprobs': None}, id='run-38325418-ad49-4a0a-8fd8-4e9de8f3393c-0', tool_calls=[{'name': 'sql_db_list_tables', 'args': {'tool_input': ''}, 'id': 'call_fs5y'}, {'name': 'sql_db_schema', 'args': {'table_names': 'playlisttrack'}, 'id': 'call_a49c'}])]}}\n",
      "----\n",
      "{'tools': {'messages': [ToolMessage(content='albums, artists, customers, employees, genres, invoice_items, invoices, media_types, playlist_track, playlists, tracks', name='sql_db_list_tables', tool_call_id='call_fs5y'), ToolMessage(content=\"Error: table_names {'playlisttrack'} not found in database\", name='sql_db_schema', tool_call_id='call_a49c')]}}\n",
      "----\n",
      "{'agent': {'messages': [AIMessage(content='', additional_kwargs={'tool_calls': [{'id': 'call_g419', 'function': {'arguments': '{\"tool_input\":\"\"}', 'name': 'sql_db_list_tables'}, 'type': 'function'}, {'id': 'call_4zra', 'function': {'arguments': '{\"table_names\":\"playlist, playlisttrack\"}', 'name': 'sql_db_schema'}, 'type': 'function'}]}, response_metadata={'token_usage': {'completion_tokens': 62, 'prompt_tokens': 1785, 'total_tokens': 1847, 'completion_time': 0.048318927, 'prompt_time': 0.299907135, 'queue_time': None, 'total_time': 0.348226062}, 'model_name': 'llama3-8b-8192', 'system_fingerprint': 'fp_af05557ca2', 'finish_reason': 'tool_calls', 'logprobs': None}, id='run-4791fd6f-d9c1-4e62-b1fa-88b00f039561-0', tool_calls=[{'name': 'sql_db_list_tables', 'args': {'tool_input': ''}, 'id': 'call_g419'}, {'name': 'sql_db_schema', 'args': {'table_names': 'playlist, playlisttrack'}, 'id': 'call_4zra'}])]}}\n",
      "----\n",
      "{'tools': {'messages': [ToolMessage(content='albums, artists, customers, employees, genres, invoice_items, invoices, media_types, playlist_track, playlists, tracks', name='sql_db_list_tables', tool_call_id='call_g419'), ToolMessage(content=\"Error: table_names {'playlisttrack', 'playlist'} not found in database\", name='sql_db_schema', tool_call_id='call_4zra')]}}\n",
      "----\n",
      "{'agent': {'messages': [AIMessage(content='', additional_kwargs={'tool_calls': [{'id': 'call_711p', 'function': {'arguments': '{\"table_names\":\"playlist\"}', 'name': 'sql_db_schema'}, 'type': 'function'}]}, response_metadata={'token_usage': {'completion_tokens': 35, 'prompt_tokens': 1945, 'total_tokens': 1980, 'completion_time': 0.027155923, 'prompt_time': 0.288911091, 'queue_time': None, 'total_time': 0.31606701400000003}, 'model_name': 'llama3-8b-8192', 'system_fingerprint': 'fp_873a560973', 'finish_reason': 'tool_calls', 'logprobs': None}, id='run-fcc1c2a3-e5f5-4424-b4f5-6c1531b9fea7-0', tool_calls=[{'name': 'sql_db_schema', 'args': {'table_names': 'playlist'}, 'id': 'call_711p'}])]}}\n",
      "----\n",
      "{'tools': {'messages': [ToolMessage(content=\"Error: table_names {'playlist'} not found in database\", name='sql_db_schema', tool_call_id='call_711p')]}}\n",
      "----\n",
      "{'agent': {'messages': [AIMessage(content='', additional_kwargs={'tool_calls': [{'id': 'call_c7e9', 'function': {'arguments': '{\"tool_input\":\"\"}', 'name': 'sql_db_list_tables'}, 'type': 'function'}]}, response_metadata={'token_usage': {'completion_tokens': 37, 'prompt_tokens': 2020, 'total_tokens': 2057, 'completion_time': 0.028632695, 'prompt_time': 0.315875158, 'queue_time': None, 'total_time': 0.344507853}, 'model_name': 'llama3-8b-8192', 'system_fingerprint': 'fp_a97cfe35ae', 'finish_reason': 'tool_calls', 'logprobs': None}, id='run-2d1452a8-be0c-45b6-bf9c-e7c1e68b53e2-0', tool_calls=[{'name': 'sql_db_list_tables', 'args': {'tool_input': ''}, 'id': 'call_c7e9'}])]}}\n",
      "----\n",
      "{'tools': {'messages': [ToolMessage(content='albums, artists, customers, employees, genres, invoice_items, invoices, media_types, playlist_track, playlists, tracks', name='sql_db_list_tables', tool_call_id='call_c7e9')]}}\n",
      "----\n",
      "{'agent': {'messages': [AIMessage(content='', additional_kwargs={'tool_calls': [{'id': 'call_qacj', 'function': {'arguments': '{\"table_names\":\"playlist_track\"}', 'name': 'sql_db_schema'}, 'type': 'function'}]}, response_metadata={'token_usage': {'completion_tokens': 62, 'prompt_tokens': 2110, 'total_tokens': 2172, 'completion_time': 0.048665771, 'prompt_time': 0.319967412, 'queue_time': None, 'total_time': 0.36863318300000003}, 'model_name': 'llama3-8b-8192', 'system_fingerprint': 'fp_6a6771ae9c', 'finish_reason': 'tool_calls', 'logprobs': None}, id='run-ff370672-e62e-459f-817d-1dc5f61f71cf-0', tool_calls=[{'name': 'sql_db_schema', 'args': {'table_names': 'playlist_track'}, 'id': 'call_qacj'}])]}}\n",
      "----\n",
      "{'tools': {'messages': [ToolMessage(content='\\nCREATE TABLE playlist_track (\\n\\t\"PlaylistId\" INTEGER NOT NULL, \\n\\t\"TrackId\" INTEGER NOT NULL, \\n\\tPRIMARY KEY (\"PlaylistId\", \"TrackId\"), \\n\\tFOREIGN KEY(\"TrackId\") REFERENCES tracks (\"TrackId\"), \\n\\tFOREIGN KEY(\"PlaylistId\") REFERENCES playlists (\"PlaylistId\")\\n)\\n\\n/*\\n3 rows from playlist_track table:\\nPlaylistId\\tTrackId\\n1\\t3402\\n1\\t3389\\n1\\t3390\\n*/', name='sql_db_schema', tool_call_id='call_qacj')]}}\n",
      "----\n",
      "{'agent': {'messages': [AIMessage(content='The playlist_track table contains information about the tracks in playlists. It has two foreign keys, one referencing the tracks table and another referencing the playlists table. The table structure suggests that a playlist can have multiple tracks, and a track can be part of multiple playlists.\\n\\nBased on the query results, it appears that playlist_id 1 has three tracks: track_id 3402, track_id 3389, and track_id 3390.', response_metadata={'token_usage': {'completion_tokens': 89, 'prompt_tokens': 2273, 'total_tokens': 2362, 'completion_time': 0.070334733, 'prompt_time': 0.366873325, 'queue_time': None, 'total_time': 0.43720805799999996}, 'model_name': 'llama3-8b-8192', 'system_fingerprint': 'fp_873a560973', 'finish_reason': 'stop', 'logprobs': None}, id='run-f90e159f-b1be-4ce6-956d-931b789c1376-0')]}}\n",
      "----\n"
     ]
    }
   ],
   "source": [
    "for s in agent_executor.stream(\n",
    "    {\"messages\": [HumanMessage(content=\"Describe the playlisttrack table\")]}\n",
    "):\n",
    "    print(s)\n",
    "    print(\"----\")"
   ]
  },
  {
   "cell_type": "markdown",
   "metadata": {},
   "source": [
    "explore more about `**Retriever tool**` to use here"
   ]
  }
 ],
 "metadata": {
  "kernelspec": {
   "display_name": "Python 3",
   "language": "python",
   "name": "python3"
  },
  "language_info": {
   "codemirror_mode": {
    "name": "ipython",
    "version": 3
   },
   "file_extension": ".py",
   "mimetype": "text/x-python",
   "name": "python",
   "nbconvert_exporter": "python",
   "pygments_lexer": "ipython3",
   "version": "3.12.1"
  }
 },
 "nbformat": 4,
 "nbformat_minor": 2
}
