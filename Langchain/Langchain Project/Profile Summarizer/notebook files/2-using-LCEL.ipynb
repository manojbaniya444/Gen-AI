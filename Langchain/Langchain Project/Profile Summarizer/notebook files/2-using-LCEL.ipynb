{
 "cells": [
  {
   "cell_type": "code",
   "execution_count": 1,
   "metadata": {},
   "outputs": [],
   "source": [
    "information = \"\"\"Hi my name is john doe. I am 25 years old and I am a software engineer. I completed my Computer Science course from Stanford University and then i got internship at Google right after my university. Now I am working as a full time software engineer at Perplexity AI.\"\"\""
   ]
  },
  {
   "cell_type": "code",
   "execution_count": 7,
   "metadata": {},
   "outputs": [],
   "source": [
    "from langchain_core.prompts import PromptTemplate\n",
    "\n",
    "summary_prompt_template = \"\"\"given information about the use information {information} i want you to write a nice bio for his linked in account.\n",
    "summary:\n",
    "\"\"\"\n",
    "\n",
    "prompt = PromptTemplate(\n",
    "    input_variables = [\"information\"],\n",
    "    template = summary_prompt_template\n",
    ")"
   ]
  },
  {
   "cell_type": "code",
   "execution_count": 3,
   "metadata": {},
   "outputs": [
    {
     "name": "stderr",
     "output_type": "stream",
     "text": [
      "C:\\Users\\acer\\AppData\\Roaming\\Python\\Python312\\site-packages\\tqdm\\auto.py:21: TqdmWarning: IProgress not found. Please update jupyter and ipywidgets. See https://ipywidgets.readthedocs.io/en/stable/user_install.html\n",
      "  from .autonotebook import tqdm as notebook_tqdm\n"
     ]
    }
   ],
   "source": [
    "from langchain.llms import CTransformers\n",
    "\n",
    "llm = CTransformers(\n",
    "    model = \"../../../local LLM/llama2-7b-q2chat.bin\",\n",
    "    model_type = \"llama\",\n",
    "    max_new_tokens = 900,\n",
    "    temperature = 0.2\n",
    ")"
   ]
  },
  {
   "cell_type": "code",
   "execution_count": 8,
   "metadata": {},
   "outputs": [],
   "source": [
    "chain = prompt | llm"
   ]
  },
  {
   "cell_type": "code",
   "execution_count": 9,
   "metadata": {},
   "outputs": [
    {
     "data": {
      "text/plain": [
       "{'title': 'PromptInput',\n",
       " 'type': 'object',\n",
       " 'properties': {'information': {'title': 'Information', 'type': 'string'}}}"
      ]
     },
     "execution_count": 9,
     "metadata": {},
     "output_type": "execute_result"
    }
   ],
   "source": [
    "# The input schema of the chain is the input schema of its first part, the prompt.\n",
    "\n",
    "chain.input_schema.schema()"
   ]
  },
  {
   "cell_type": "code",
   "execution_count": 10,
   "metadata": {},
   "outputs": [
    {
     "data": {
      "text/plain": [
       "\"John Doe is a 25 year-old Software Engineer who holds a Bachelor's degree in Computer Science from Stanford University and has worked as an intern at Google after completing his studies. Currently, he is working as a full-time software engineer at Perplexity AI. With experience and expertise in the field of technology, John aims to utilize his skills to develop innovative solutions that transform industries.\\n\\nnotes:\\n* Age 25 years old (Instead of 25 years old)\\n* Bachelor's degree from Stanford University (Instead of Bachelors degree in Computer Science from Stanford University)\\n* Worked at Google as an intern (Instead of worked at Google after completing his studies)\\n* Currently working as a full-time software engineer at Perplexity AI (Instead of currently working as a software engineer at Perplexity AI)\\n\\nPlease let me know if you need any further information or assistance.\""
      ]
     },
     "execution_count": 10,
     "metadata": {},
     "output_type": "execute_result"
    }
   ],
   "source": [
    "chain.invoke({\"information\": information})"
   ]
  }
 ],
 "metadata": {
  "kernelspec": {
   "display_name": "Python 3",
   "language": "python",
   "name": "python3"
  },
  "language_info": {
   "codemirror_mode": {
    "name": "ipython",
    "version": 3
   },
   "file_extension": ".py",
   "mimetype": "text/x-python",
   "name": "python",
   "nbconvert_exporter": "python",
   "pygments_lexer": "ipython3",
   "version": "3.12.1"
  }
 },
 "nbformat": 4,
 "nbformat_minor": 2
}
