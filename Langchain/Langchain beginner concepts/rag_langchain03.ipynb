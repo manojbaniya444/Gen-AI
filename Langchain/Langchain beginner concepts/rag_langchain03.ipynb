{
 "cells": [
  {
   "cell_type": "markdown",
   "metadata": {},
   "source": [
    "### Chat with RAG"
   ]
  },
  {
   "cell_type": "code",
   "execution_count": 1,
   "metadata": {},
   "outputs": [
    {
     "data": {
      "text/plain": [
       "True"
      ]
     },
     "execution_count": 1,
     "metadata": {},
     "output_type": "execute_result"
    }
   ],
   "source": [
    "import os\n",
    "from dotenv import load_dotenv\n",
    "\n",
    "load_dotenv()"
   ]
  },
  {
   "cell_type": "code",
   "execution_count": 2,
   "metadata": {},
   "outputs": [],
   "source": [
    "os.environ[\"GROQ_API_KEY\"] = os.environ[\"GROQ_API_KEY\"]"
   ]
  },
  {
   "cell_type": "code",
   "execution_count": 6,
   "metadata": {},
   "outputs": [],
   "source": [
    "from langchain_core.messages import SystemMessage, HumanMessage\n",
    "from langchain_groq import ChatGroq\n",
    "from langchain_pinecone import PineconeVectorStore\n",
    "from langchain_community.embeddings import HuggingFaceEmbeddings"
   ]
  },
  {
   "cell_type": "code",
   "execution_count": 4,
   "metadata": {},
   "outputs": [],
   "source": [
    "model = ChatGroq(\n",
    "    model=\"llama3-8b-8192\"\n",
    ")"
   ]
  },
  {
   "cell_type": "code",
   "execution_count": 5,
   "metadata": {},
   "outputs": [
    {
     "data": {
      "text/plain": [
       "AIMessage(content=\"Hello! I'm just an AI, so I don't have feelings or emotions like humans do, but I'm functioning properly and ready to help with any questions or tasks you may have. How can I assist you today?\", response_metadata={'token_usage': {'completion_tokens': 46, 'prompt_tokens': 15, 'total_tokens': 61, 'completion_time': 0.03563343, 'prompt_time': 0.003603488, 'queue_time': None, 'total_time': 0.039236918}, 'model_name': 'llama3-8b-8192', 'system_fingerprint': 'fp_873a560973', 'finish_reason': 'stop', 'logprobs': None}, id='run-0ae32196-d2f7-4a54-ad5d-3a20920a932b-0')"
      ]
     },
     "execution_count": 5,
     "metadata": {},
     "output_type": "execute_result"
    }
   ],
   "source": [
    "model.invoke(\"Hello how are you.\")"
   ]
  },
  {
   "cell_type": "code",
   "execution_count": 8,
   "metadata": {},
   "outputs": [
    {
     "name": "stderr",
     "output_type": "stream",
     "text": [
      "C:\\Users\\acer\\AppData\\Roaming\\Python\\Python312\\site-packages\\huggingface_hub\\file_download.py:1132: FutureWarning: `resume_download` is deprecated and will be removed in version 1.0.0. Downloads always resume when possible. If you want to force a new download, use `force_download=True`.\n",
      "  warnings.warn(\n"
     ]
    }
   ],
   "source": [
    "embedding = HuggingFaceEmbeddings(\n",
    "    model_name=\"sentence-transformers/paraphrase-MiniLM-L6-v2\"\n",
    ")"
   ]
  },
  {
   "cell_type": "code",
   "execution_count": 9,
   "metadata": {},
   "outputs": [],
   "source": [
    "os.environ[\"PINECONE_API_KEY\"] = os.environ[\"PINECONE_API_KEY\"]\n",
    "index_name = \"books-pinecone-with-metadata\"\n",
    "\n",
    "vectorstore = PineconeVectorStore(\n",
    "    index_name=index_name,\n",
    "    embedding=embedding\n",
    ")"
   ]
  },
  {
   "cell_type": "code",
   "execution_count": 12,
   "metadata": {},
   "outputs": [
    {
     "data": {
      "text/plain": [
       "[Document(page_content='LangChain: A Framework for LLM-Powered Applications\\nLangChain is a powerful and flexible framework designed to simplify the development of applications that harness the capabilities of large language models (LLMs). It provides a wide range of tools, abstractions, and integrations that help developers build, customize, and optimize applications that leverage LLMs for tasks like text generation, question answering, summarization, chatbots, and more.', metadata={'source': 'langchain_demo.txt'}),\n",
       " Document(page_content='Key Features and Benefits\\nModular Components: LangChain offers a variety of modular components (chains, agents, tools, prompts, memory, etc.) that can be easily combined and customized to build complex LLM-powered workflows.\\nData Integration: It seamlessly integrates with various data sources, enabling applications to access and process external information, enhancing the context and relevance of LLM responses.\\nAgent Frameworks: LangChain provides agent frameworks that allow LLMs to interact with their environment, make decisions, and take actions based on user input or specific goals.\\nMemory Management: It includes memory components that enable applications to maintain context and track conversations, leading to more coherent and personalized interactions.\\nPrompt Engineering: LangChain facilitates prompt engineering, the process of crafting effective prompts to elicit desired responses from LLMs, by offering templates and tools for experimentation.\\nChain Optimization: It provides mechanisms to evaluate and optimize chain performance, ensuring that applications deliver the best possible results.\\nUse Cases\\nLangChain empowers developers to create a wide array of applications, including:', metadata={'source': 'langchain_demo.txt'}),\n",
       " Document(page_content=\"For Further Exploration\\nTo learn more about LangChain and its wide range of applications, be sure to check out the comprehensive documentation and tutorials available on the official website:\\n\\nLangChain Documentation: https://python.langchain.com/\\nDon't Forget to Like and Subscribe!\\nIf you're looking for in-depth tutorials and insights into LangChain, CrewAI, and other AI technologies, be sure to check out the fantastic YouTube channel by Brandon Hancock:\\n\\nYouTube Channel: https://www.youtube.com/@bhancock_ai\\nDon't forget to like and subscribe to his channel!!\", metadata={'source': 'langchain_demo.txt'}),\n",
       " Document(page_content='Chatbots and Conversational Agents: Build intelligent chatbots capable of understanding natural language and providing informative responses.\\nQuestion Answering Systems: Develop systems that can accurately answer questions posed in natural language, leveraging information from various sources.\\nSummarization Tools: Create tools that can condense lengthy documents or articles into concise summaries.\\nText Generation Applications: Build applications that can generate creative content like stories, poems, or code snippets.\\nAutonomous Agents: Develop agents that can perform tasks autonomously based on user instructions or predefined goals.\\nA Wealth of Resources\\nLangChain boasts a thriving community and comprehensive documentation, making it easy for developers to get started and explore its capabilities. It offers extensive tutorials, examples, and guides to help users build powerful LLM-powered applications.', metadata={'source': 'langchain_demo.txt'})]"
      ]
     },
     "execution_count": 12,
     "metadata": {},
     "output_type": "execute_result"
    }
   ],
   "source": [
    "vectorstore.similarity_search(\"What is Langchain?\")"
   ]
  },
  {
   "cell_type": "code",
   "execution_count": 15,
   "metadata": {},
   "outputs": [],
   "source": [
    "retriever = vectorstore.as_retriever(\n",
    "    search_type=\"similarity\",\n",
    "    search_kwargs={\n",
    "        \"k\": 2\n",
    "    }\n",
    ")\n",
    "\n",
    "relevant_docs = retriever.invoke(\"What is langchain library\")"
   ]
  },
  {
   "cell_type": "code",
   "execution_count": 17,
   "metadata": {},
   "outputs": [
    {
     "name": "stdout",
     "output_type": "stream",
     "text": [
      "Document 1: LangChain: A Framework for LLM-Powered Applications\n",
      "LangChain is a powerful and flexible framework designed to simplify the development of applications that harness the capabilities of large language models (LLMs). It provides a wide range of tools, abstractions, and integrations that help developers build, customize, and optimize applications that leverage LLMs for tasks like text generation, question answering, summarization, chatbots, and more.\n",
      "\n",
      "\n",
      "Document 2: Key Features and Benefits\n",
      "Modular Components: LangChain offers a variety of modular components (chains, agents, tools, prompts, memory, etc.) that can be easily combined and customized to build complex LLM-powered workflows.\n",
      "Data Integration: It seamlessly integrates with various data sources, enabling applications to access and process external information, enhancing the context and relevance of LLM responses.\n",
      "Agent Frameworks: LangChain provides agent frameworks that allow LLMs to interact with their environment, make decisions, and take actions based on user input or specific goals.\n",
      "Memory Management: It includes memory components that enable applications to maintain context and track conversations, leading to more coherent and personalized interactions.\n",
      "Prompt Engineering: LangChain facilitates prompt engineering, the process of crafting effective prompts to elicit desired responses from LLMs, by offering templates and tools for experimentation.\n",
      "Chain Optimization: It provides mechanisms to evaluate and optimize chain performance, ensuring that applications deliver the best possible results.\n",
      "Use Cases\n",
      "LangChain empowers developers to create a wide array of applications, including:\n",
      "\n",
      "\n"
     ]
    }
   ],
   "source": [
    "for i, doc in enumerate(relevant_docs):\n",
    "    print(f\"Document {i+1}: {doc.page_content}\")\n",
    "    print(\"\\n\")"
   ]
  },
  {
   "cell_type": "code",
   "execution_count": 18,
   "metadata": {},
   "outputs": [
    {
     "name": "stdout",
     "output_type": "stream",
     "text": [
      "LangChain: A Framework for LLM-Powered Applications\n",
      "LangChain is a powerful and flexible framework designed to simplify the development of applications that harness the capabilities of large language models (LLMs). It provides a wide range of tools, abstractions, and integrations that help developers build, customize, and optimize applications that leverage LLMs for tasks like text generation, question answering, summarization, chatbots, and more.Key Features and Benefits\n",
      "Modular Components: LangChain offers a variety of modular components (chains, agents, tools, prompts, memory, etc.) that can be easily combined and customized to build complex LLM-powered workflows.\n",
      "Data Integration: It seamlessly integrates with various data sources, enabling applications to access and process external information, enhancing the context and relevance of LLM responses.\n",
      "Agent Frameworks: LangChain provides agent frameworks that allow LLMs to interact with their environment, make decisions, and take actions based on user input or specific goals.\n",
      "Memory Management: It includes memory components that enable applications to maintain context and track conversations, leading to more coherent and personalized interactions.\n",
      "Prompt Engineering: LangChain facilitates prompt engineering, the process of crafting effective prompts to elicit desired responses from LLMs, by offering templates and tools for experimentation.\n",
      "Chain Optimization: It provides mechanisms to evaluate and optimize chain performance, ensuring that applications deliver the best possible results.\n",
      "Use Cases\n",
      "LangChain empowers developers to create a wide array of applications, including:\n"
     ]
    }
   ],
   "source": [
    "print(\"\".join([doc.page_content for doc in relevant_docs]))"
   ]
  },
  {
   "cell_type": "code",
   "execution_count": 34,
   "metadata": {},
   "outputs": [
    {
     "name": "stderr",
     "output_type": "stream",
     "text": [
      "<>:6: SyntaxWarning: invalid escape sequence '\\s'\n",
      "<>:6: SyntaxWarning: invalid escape sequence '\\s'\n",
      "C:\\Users\\acer\\AppData\\Local\\Temp\\ipykernel_16148\\4139268699.py:6: SyntaxWarning: invalid escape sequence '\\s'\n",
      "  + \"\\some information:\\n\"\n"
     ]
    }
   ],
   "source": [
    "query = \"what is langchain?\"\n",
    "\n",
    "combined_input = (\n",
    "    \"Here are some documents that might help answer the question: \"\n",
    "    + query\n",
    "    + \"\\some information:\\n\"\n",
    "    + \"\\n\".join([doc.page_content for doc in relevant_docs])\n",
    "    + \"\\n answer the question, just answer dont say anything about accorind to the documents or anything like that\"\n",
    ")"
   ]
  },
  {
   "cell_type": "code",
   "execution_count": 35,
   "metadata": {},
   "outputs": [
    {
     "name": "stdout",
     "output_type": "stream",
     "text": [
      "Here are some documents that might help answer the question: what is langchain?\\some information:\n",
      "LangChain: A Framework for LLM-Powered Applications\n",
      "LangChain is a powerful and flexible framework designed to simplify the development of applications that harness the capabilities of large language models (LLMs). It provides a wide range of tools, abstractions, and integrations that help developers build, customize, and optimize applications that leverage LLMs for tasks like text generation, question answering, summarization, chatbots, and more.\n",
      "Key Features and Benefits\n",
      "Modular Components: LangChain offers a variety of modular components (chains, agents, tools, prompts, memory, etc.) that can be easily combined and customized to build complex LLM-powered workflows.\n",
      "Data Integration: It seamlessly integrates with various data sources, enabling applications to access and process external information, enhancing the context and relevance of LLM responses.\n",
      "Agent Frameworks: LangChain provides agent frameworks that allow LLMs to interact with their environment, make decisions, and take actions based on user input or specific goals.\n",
      "Memory Management: It includes memory components that enable applications to maintain context and track conversations, leading to more coherent and personalized interactions.\n",
      "Prompt Engineering: LangChain facilitates prompt engineering, the process of crafting effective prompts to elicit desired responses from LLMs, by offering templates and tools for experimentation.\n",
      "Chain Optimization: It provides mechanisms to evaluate and optimize chain performance, ensuring that applications deliver the best possible results.\n",
      "Use Cases\n",
      "LangChain empowers developers to create a wide array of applications, including:\n",
      " answer the question, just answer dont say anything about accorind to the documents or anything like that\n"
     ]
    }
   ],
   "source": [
    "print(combined_input)"
   ]
  },
  {
   "cell_type": "code",
   "execution_count": 36,
   "metadata": {},
   "outputs": [],
   "source": [
    "messages = [\n",
    "    SystemMessage(content=\"You are a helpful assistant.\"),\n",
    "    HumanMessage(content=combined_input)\n",
    "]"
   ]
  },
  {
   "cell_type": "code",
   "execution_count": 37,
   "metadata": {},
   "outputs": [
    {
     "name": "stdout",
     "output_type": "stream",
     "text": [
      "LangChain is a framework designed to simplify the development of applications that use large language models (LLMs).\n"
     ]
    }
   ],
   "source": [
    "result = model.invoke(messages)\n",
    "print(result.content)"
   ]
  }
 ],
 "metadata": {
  "kernelspec": {
   "display_name": "Python 3",
   "language": "python",
   "name": "python3"
  },
  "language_info": {
   "codemirror_mode": {
    "name": "ipython",
    "version": 3
   },
   "file_extension": ".py",
   "mimetype": "text/x-python",
   "name": "python",
   "nbconvert_exporter": "python",
   "pygments_lexer": "ipython3",
   "version": "3.12.1"
  }
 },
 "nbformat": 4,
 "nbformat_minor": 2
}
