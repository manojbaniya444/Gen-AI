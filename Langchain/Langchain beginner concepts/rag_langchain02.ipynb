{
 "cells": [
  {
   "cell_type": "markdown",
   "metadata": {},
   "source": [
    "## Text Splitting"
   ]
  },
  {
   "cell_type": "code",
   "execution_count": 1,
   "metadata": {},
   "outputs": [],
   "source": [
    "from langchain_community.embeddings import HuggingFaceEmbeddings\n",
    "\n",
    "def download_embedding_model():\n",
    "    embeddings = HuggingFaceEmbeddings(\n",
    "        model_name = \"sentence-transformers/paraphrase-MiniLM-L6-v2\",\n",
    "    )\n",
    "    return embeddings"
   ]
  },
  {
   "cell_type": "code",
   "execution_count": 2,
   "metadata": {},
   "outputs": [
    {
     "name": "stderr",
     "output_type": "stream",
     "text": [
      "C:\\Users\\acer\\AppData\\Roaming\\Python\\Python312\\site-packages\\langchain_core\\_api\\deprecation.py:139: LangChainDeprecationWarning: The class `HuggingFaceEmbeddings` was deprecated in LangChain 0.2.2 and will be removed in 0.3.0. An updated version of the class exists in the langchain-huggingface package and should be used instead. To use it run `pip install -U langchain-huggingface` and import as `from langchain_huggingface import HuggingFaceEmbeddings`.\n",
      "  warn_deprecated(\n",
      "C:\\Users\\acer\\AppData\\Roaming\\Python\\Python312\\site-packages\\sentence_transformers\\cross_encoder\\CrossEncoder.py:11: TqdmWarning: IProgress not found. Please update jupyter and ipywidgets. See https://ipywidgets.readthedocs.io/en/stable/user_install.html\n",
      "  from tqdm.autonotebook import tqdm, trange\n",
      "C:\\Users\\acer\\AppData\\Roaming\\Python\\Python312\\site-packages\\huggingface_hub\\file_download.py:1132: FutureWarning: `resume_download` is deprecated and will be removed in version 1.0.0. Downloads always resume when possible. If you want to force a new download, use `force_download=True`.\n",
      "  warnings.warn(\n"
     ]
    }
   ],
   "source": [
    "embedding = download_embedding_model()"
   ]
  },
  {
   "cell_type": "code",
   "execution_count": 28,
   "metadata": {},
   "outputs": [],
   "source": [
    "from langchain.text_splitter import (\n",
    "    CharacterTextSplitter,\n",
    "    RecursiveCharacterTextSplitter,\n",
    "    SentenceTransformersTokenTextSplitter,\n",
    "    TextSplitter,\n",
    "    TokenTextSplitter\n",
    ")\n",
    "from langchain_community.document_loaders import TextLoader"
   ]
  },
  {
   "cell_type": "code",
   "execution_count": 4,
   "metadata": {},
   "outputs": [],
   "source": [
    "file_path = \"./book/iliad.txt\""
   ]
  },
  {
   "cell_type": "code",
   "execution_count": 13,
   "metadata": {},
   "outputs": [],
   "source": [
    "loader = TextLoader(file_path, encoding=\"utf-8\")\n",
    "documents = loader.load()"
   ]
  },
  {
   "cell_type": "code",
   "execution_count": null,
   "metadata": {},
   "outputs": [],
   "source": [
    "char_splitter = CharacterTextSplitter(\n",
    "    chunk_size=1000,\n",
    "    chunk_overlap=100\n",
    ")\n",
    "char_docs = char_splitter.split_documents(documents)"
   ]
  },
  {
   "cell_type": "code",
   "execution_count": 25,
   "metadata": {},
   "outputs": [
    {
     "name": "stdout",
     "output_type": "stream",
     "text": [
      "The Project Gutenberg eBook of The Iliad\n",
      "    \n",
      "This ebook is for the use of anyone anywhere in the United States and\n",
      "most other parts of the world at no cost and with almost no restrictions\n",
      "whatsoever. You may copy it, give it away or re-use it under the terms\n",
      "of the Project Gutenberg License included with this ebook or online\n",
      "at www.gutenberg.org. If you are not located in the United States,\n",
      "you will have to check the laws of the country where you are located\n",
      "before using this eBook.\n",
      "\n",
      "Title: The Iliad\n",
      "\n",
      "Author: Homer\n",
      "\n",
      "Annotator: Theodore Alois Buckley\n",
      "\n",
      "Translator: Alexander Pope\n",
      "\n",
      "Release date: July 1, 2004 [eBook #6130]\n",
      "                Most recently updated: April 23, 2022\n",
      "\n",
      "Language: English\n",
      "\n",
      "Credits: Anne Soulard, Juliet Sutherland, Charles Franks, and The Online Distributed Proofreading Team\n",
      "\n",
      "\n",
      "*** START OF THE PROJECT GUTENBERG EBOOK THE ILIAD ***\n",
      "\n",
      "\n",
      "The\n",
      "Iliad of Homer\n",
      "\n",
      "Translated by\n",
      "Alexander Pope,\n",
      "\n",
      "With Notes and Introduction\n",
      "by the\n",
      "Rev. Theodore Alois Buckley, M.A., F.S.A.\n"
     ]
    }
   ],
   "source": [
    "print(char_docs[0].page_content)"
   ]
  },
  {
   "cell_type": "code",
   "execution_count": 20,
   "metadata": {},
   "outputs": [
    {
     "name": "stderr",
     "output_type": "stream",
     "text": [
      "C:\\Users\\acer\\AppData\\Roaming\\Python\\Python312\\site-packages\\huggingface_hub\\file_download.py:157: UserWarning: `huggingface_hub` cache-system uses symlinks by default to efficiently store duplicated files but your machine does not support them in C:\\Users\\acer\\.cache\\huggingface\\hub\\models--sentence-transformers--all-mpnet-base-v2. Caching files will still work but in a degraded version that might require more space on your disk. This warning can be disabled by setting the `HF_HUB_DISABLE_SYMLINKS_WARNING` environment variable. For more details, see https://huggingface.co/docs/huggingface_hub/how-to-cache#limitations.\n",
      "To support symlinks on Windows, you either need to activate Developer Mode or to run Python as an administrator. In order to see activate developer mode, see this article: https://docs.microsoft.com/en-us/windows/apps/get-started/enable-your-device-for-development\n",
      "  warnings.warn(message)\n",
      "C:\\Users\\acer\\AppData\\Roaming\\Python\\Python312\\site-packages\\huggingface_hub\\file_download.py:1132: FutureWarning: `resume_download` is deprecated and will be removed in version 1.0.0. Downloads always resume when possible. If you want to force a new download, use `force_download=True`.\n",
      "  warnings.warn(\n"
     ]
    }
   ],
   "source": [
    "sent_splitter = SentenceTransformersTokenTextSplitter(\n",
    "    chunk_size=1000,\n",
    "    chunk_overlap=100\n",
    ")\n",
    "sent_docs = sent_splitter.split_documents(documents)"
   ]
  },
  {
   "cell_type": "code",
   "execution_count": 23,
   "metadata": {},
   "outputs": [
    {
     "name": "stdout",
     "output_type": "stream",
     "text": [
      "the project gutenberg ebook of the iliad this ebook is for the use of anyone anywhere in the united states and most other parts of the world at no cost and with almost no restrictions whatsoever. you may copy it, give it away or re - use it under the terms of the project gutenberg license included with this ebook or online at www. gutenberg. org. if you are not located in the united states, you will have to check the laws of the country where you are located before using this ebook. title : the iliad author : homer annotator : theodore alois buckley translator : alexander pope release date : july 1, 2004 [ ebook # 6130 ] most recently updated : april 23, 2022 language : english credits : anne soulard, juliet sutherland, charles franks, and the online distributed proofreading team * * * start of the project gutenberg ebook the iliad * * * the iliad of homer translated by alexander pope, with notes and introduction by the rev. theodore alois buckley, m. a., f. s. a. and flaxman ’ s designs. 1899 contents introduction. pope ’ s preface to the iliad of homer the iliad book i. book ii. book iii. book iv. book v. book vi. book vii. book viii. book ix. book x. book xi. book xii. book xiii. book xiv. book xv. book xvi. book xvii. book xviii. book xix. book xx. book xxi. book xxii. book xxiii. book xxiv. concluding note. illustrations homer invoking the muse mars minerva repressing the fury of achilles the departure of briseis from the tent of achilles thetis calling briareus to the assistance of jupiter thetis entreating jupiter to honour achilles vulcan jupiter the apotheosis of homer jupiter sending the\n"
     ]
    }
   ],
   "source": [
    "print(sent_docs[0].page_content)"
   ]
  },
  {
   "cell_type": "code",
   "execution_count": 26,
   "metadata": {},
   "outputs": [],
   "source": [
    "token_splitter = TokenTextSplitter(\n",
    "    chunk_size=500,\n",
    "    chunk_overlap=10\n",
    ")\n",
    "token_docs = token_splitter.split_documents(documents)\n"
   ]
  },
  {
   "cell_type": "code",
   "execution_count": 27,
   "metadata": {},
   "outputs": [
    {
     "name": "stdout",
     "output_type": "stream",
     "text": [
      "The Project Gutenberg eBook of The Iliad\n",
      "    \n",
      "This ebook is for the use of anyone anywhere in the United States and\n",
      "most other parts of the world at no cost and with almost no restrictions\n",
      "whatsoever. You may copy it, give it away or re-use it under the terms\n",
      "of the Project Gutenberg License included with this ebook or online\n",
      "at www.gutenberg.org. If you are not located in the United States,\n",
      "you will have to check the laws of the country where you are located\n",
      "before using this eBook.\n",
      "\n",
      "Title: The Iliad\n",
      "\n",
      "Author: Homer\n",
      "\n",
      "Annotator: Theodore Alois Buckley\n",
      "\n",
      "Translator: Alexander Pope\n",
      "\n",
      "Release date: July 1, 2004 [eBook #6130]\n",
      "                Most recently updated: April 23, 2022\n",
      "\n",
      "Language: English\n",
      "\n",
      "Credits: Anne Soulard, Juliet Sutherland, Charles Franks, and The Online Distributed Proofreading Team\n",
      "\n",
      "\n",
      "*** START OF THE PROJECT GUTENBERG EBOOK THE ILIAD ***\n",
      "\n",
      "\n",
      "\n",
      "\n",
      "The\n",
      "Iliad of Homer\n",
      "\n",
      "Translated by\n",
      "Alexander Pope,\n",
      "\n",
      "With Notes and Introduction\n",
      "by the\n",
      "Rev. Theodore Alois Buckley, M.A., F.S.A.\n",
      "\n",
      "and\n",
      "Flaxman’s Designs.\n",
      "\n",
      "1899\n",
      "\n",
      "\n",
      "Contents\n",
      "\n",
      " INTRODUCTION.\n",
      " POPE’S PREFACE TO THE ILIAD OF HOMER\n",
      "\n",
      " THE ILIAD\n",
      " BOOK I.\n",
      " BOOK II.\n",
      " BOOK III.\n",
      " BOOK IV.\n",
      " BOOK V.\n",
      " BOOK VI.\n",
      " BOOK VII.\n",
      " BOOK VIII.\n",
      " BOOK IX.\n",
      " BOOK X.\n",
      " BOOK XI.\n",
      " BOOK XII.\n",
      " BOOK XIII.\n",
      " BOOK XIV.\n",
      " BOOK XV.\n",
      " BOOK XVI.\n",
      " BOOK XVII.\n",
      " BOOK XVIII.\n",
      " BOOK XIX.\n",
      " BOOK XX.\n",
      " BOOK XXI.\n",
      " BOOK XXII.\n",
      " BOOK XXIII.\n",
      " BOOK XXIV.\n",
      "\n",
      " CONCLUDING NOTE.\n",
      "\n",
      "\n",
      "\n",
      "\n",
      "Illustrations\n",
      "\n",
      " HOMER INVOKING THE MUSE\n",
      " MARS\n",
      " MINERVA REPRESSING THE FURY OF ACHILLES\n",
      " THE DEPARTURE OF BRISEIS FROM THE TENT OF ACHILLES\n",
      " THETIS CALLING BRIARE\n"
     ]
    }
   ],
   "source": [
    "print(token_docs[0].page_content)"
   ]
  },
  {
   "cell_type": "code",
   "execution_count": 29,
   "metadata": {},
   "outputs": [],
   "source": [
    "rec_char_splitter = RecursiveCharacterTextSplitter(\n",
    "    chunk_size=1000,\n",
    "    chunk_overlap=100\n",
    ")\n",
    "rec_char_docs = rec_char_splitter.split_documents(documents)"
   ]
  },
  {
   "cell_type": "code",
   "execution_count": 31,
   "metadata": {},
   "outputs": [
    {
     "name": "stdout",
     "output_type": "stream",
     "text": [
      "The Project Gutenberg eBook of The Iliad\n",
      "    \n",
      "This ebook is for the use of anyone anywhere in the United States and\n",
      "most other parts of the world at no cost and with almost no restrictions\n",
      "whatsoever. You may copy it, give it away or re-use it under the terms\n",
      "of the Project Gutenberg License included with this ebook or online\n",
      "at www.gutenberg.org. If you are not located in the United States,\n",
      "you will have to check the laws of the country where you are located\n",
      "before using this eBook.\n",
      "\n",
      "Title: The Iliad\n",
      "\n",
      "Author: Homer\n",
      "\n",
      "Annotator: Theodore Alois Buckley\n",
      "\n",
      "Translator: Alexander Pope\n",
      "\n",
      "Release date: July 1, 2004 [eBook #6130]\n",
      "                Most recently updated: April 23, 2022\n",
      "\n",
      "Language: English\n",
      "\n",
      "Credits: Anne Soulard, Juliet Sutherland, Charles Franks, and The Online Distributed Proofreading Team\n",
      "\n",
      "\n",
      "*** START OF THE PROJECT GUTENBERG EBOOK THE ILIAD ***\n",
      "\n",
      "\n",
      "\n",
      "\n",
      "The\n",
      "Iliad of Homer\n",
      "\n",
      "Translated by\n",
      "Alexander Pope,\n",
      "\n",
      "With Notes and Introduction\n",
      "by the\n",
      "Rev. Theodore Alois Buckley, M.A., F.S.A.\n"
     ]
    }
   ],
   "source": [
    "print(rec_char_docs[0].page_content)"
   ]
  }
 ],
 "metadata": {
  "kernelspec": {
   "display_name": "Python 3",
   "language": "python",
   "name": "python3"
  },
  "language_info": {
   "codemirror_mode": {
    "name": "ipython",
    "version": 3
   },
   "file_extension": ".py",
   "mimetype": "text/x-python",
   "name": "python",
   "nbconvert_exporter": "python",
   "pygments_lexer": "ipython3",
   "version": "3.12.1"
  }
 },
 "nbformat": 4,
 "nbformat_minor": 2
}
