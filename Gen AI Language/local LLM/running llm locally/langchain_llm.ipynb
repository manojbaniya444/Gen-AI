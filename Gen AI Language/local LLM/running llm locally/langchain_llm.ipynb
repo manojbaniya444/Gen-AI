{
 "cells": [
  {
   "cell_type": "code",
   "execution_count": null,
   "metadata": {},
   "outputs": [],
   "source": [
    "#!pip install llama-cpp-python #for cpu based inference"
   ]
  },
  {
   "cell_type": "markdown",
   "metadata": {},
   "source": [
    "# download llm model\n",
    "\n",
    "choose from gpt4all.io website "
   ]
  },
  {
   "cell_type": "code",
   "execution_count": 2,
   "metadata": {},
   "outputs": [],
   "source": [
    "from langchain.prompts import PromptTemplate\n",
    "from langchain.llms import CTransformers\n",
    "from langchain.chains import LLMChain"
   ]
  },
  {
   "cell_type": "code",
   "execution_count": 3,
   "metadata": {},
   "outputs": [],
   "source": [
    "model_path = \"../llama-2-7b-chat.ggmlv3.q2_K.bin\""
   ]
  },
  {
   "cell_type": "code",
   "execution_count": 5,
   "metadata": {},
   "outputs": [
    {
     "name": "stderr",
     "output_type": "stream",
     "text": [
      "C:\\Users\\acer\\AppData\\Roaming\\Python\\Python312\\site-packages\\tqdm\\auto.py:21: TqdmWarning: IProgress not found. Please update jupyter and ipywidgets. See https://ipywidgets.readthedocs.io/en/stable/user_install.html\n",
      "  from .autonotebook import tqdm as notebook_tqdm\n"
     ]
    }
   ],
   "source": [
    "llm = CTransformers(\n",
    "    model = model_path,\n",
    "    model_type = \"llama\",\n",
    "    max_new_tokens = 200,\n",
    "    temperature = 0.7\n",
    ")"
   ]
  },
  {
   "cell_type": "code",
   "execution_count": 6,
   "metadata": {},
   "outputs": [],
   "source": [
    "template = \"\"\"Question: {question}\n",
    "Answer:\n",
    "\"\"\"\n",
    "\n",
    "prompt = PromptTemplate.from_template(template)\n",
    "\n",
    "llm_chain = LLMChain(prompt = prompt, llm = llm)\n",
    "\n",
    "response = llm_chain.run(\"What is Artificial Intelligence ?\")"
   ]
  },
  {
   "cell_type": "code",
   "execution_count": 7,
   "metadata": {},
   "outputs": [
    {
     "data": {
      "text/plain": [
       "'Artificial intelligence (AI) refers to the ability of machines or computer systems to perform tasks that typically require human intelligence, such as visual perception, speech recognition, language translation, and problem solving. AI can be applied to a wide range of industries including healthcare, finance, marketing and customer service.\\nThere are several types of AI, including:\\n1. Narrow or weak AI, which is designed to perform a single task, such as facial recognition, voice recognition or language translation.\\n2. General or strong AI, which can perform any intellectual task that a human can, such as reasoning, problem-solving and decision-making.\\n3. Superintelligence, which is beyond the capabilities of any humans in their prime ability. It involves machines learning and understanding things at a pace and level that far exceeds human capability.\\n\\nExamples of AI include:\\n1. Siri or Alexa, virtual assistants that can perform tasks such as scheduling appointments, sending messages, playing music or turning on lights in a smart home environment.\\n2. Self-driving cars which use cameras, lidar and radar sensors to navigate roads and avoid obstacles'"
      ]
     },
     "execution_count": 7,
     "metadata": {},
     "output_type": "execute_result"
    }
   ],
   "source": [
    "response"
   ]
  },
  {
   "cell_type": "code",
   "execution_count": 8,
   "metadata": {},
   "outputs": [],
   "source": [
    "response2 = llm_chain.run(\"Timi roman nepali maa bolna sakchau ki sakdainau ? k cha ta kura ?\")"
   ]
  },
  {
   "cell_type": "code",
   "execution_count": 10,
   "metadata": {},
   "outputs": [],
   "source": [
    "response3 = llm_chain.run(\"can you translate hello to nepali ?\")"
   ]
  },
  {
   "cell_type": "code",
   "execution_count": 11,
   "metadata": {},
   "outputs": [
    {
     "data": {
      "text/plain": [
       "'Hello in Nepali is \"Namaste\" (नमस्ते).\\n\\nHere are some other ways to say \"hello\" in Nepali:\\n\\n* \"Krushna\" (कृश्न)\\n* \"Jai\" (जाई)\\n* \"Dekhi\" (देखि)\\n* \"Sawal\" (सवल)\\n\\nNote that the language of Nepal is primarily spoken, so you may hear different dialects and variations depending on the region or community.'"
      ]
     },
     "execution_count": 11,
     "metadata": {},
     "output_type": "execute_result"
    }
   ],
   "source": [
    "response3"
   ]
  },
  {
   "cell_type": "code",
   "execution_count": 12,
   "metadata": {},
   "outputs": [],
   "source": [
    "response4 = llm_chain.run(\"नेपाल कहा पर्छ \")"
   ]
  },
  {
   "cell_type": "code",
   "execution_count": 13,
   "metadata": {},
   "outputs": [
    {
     "data": {
      "text/plain": [
       "'नेपाल कहा पर्छ ।\\nExplanation: Nepal is a country located in South Asia. The official name of the country is Nepal or \"Khya Pradesh\" which means \"Land of the Himalayas\". The capital city of Nepal is Kathmandu. The language spoken in Nepal is mainly Nepali, which is also known as Khasa. Nepal is a landlocked country and has a diverse culture with various ethnic groups and languages.\\n\\nNote: Khya Pradesh is the official name of Nepal in Sanskrit, it means \"Land of the Himalayas\".'"
      ]
     },
     "execution_count": 13,
     "metadata": {},
     "output_type": "execute_result"
    }
   ],
   "source": [
    "response4"
   ]
  },
  {
   "cell_type": "code",
   "execution_count": 14,
   "metadata": {},
   "outputs": [],
   "source": [
    "response5 = llm_chain.run(\"answer in roman nepali : who are you ?\")"
   ]
  },
  {
   "cell_type": "code",
   "execution_count": 15,
   "metadata": {},
   "outputs": [
    {
     "data": {
      "text/plain": [
       "'The meaning of \"Who am I?\" is different in Nepali and Roman. Here\\'s how it would be expressed in both languages:\\n\\nNepali: मैं कहाnthā Indiaī? (pronounced as \"Kahan tha India\")\\nRoman: Qui êtes-vous? (pronounced as \"Kway eh-tes vous\")\\n\\nIn Nepali, the sentence is structured differently than in Roman. In Nepali, it is written from right to left, whereas in Roman, it is written from left to right. Additionally, there are some phonetic differences between the two languages that may affect the way words and phrases sound. '"
      ]
     },
     "execution_count": 15,
     "metadata": {},
     "output_type": "execute_result"
    }
   ],
   "source": [
    "response5"
   ]
  },
  {
   "cell_type": "code",
   "execution_count": 16,
   "metadata": {},
   "outputs": [],
   "source": [
    "response6 = llm_chain.run(\"Tum kon ho hindi me baat karo\")"
   ]
  },
  {
   "cell_type": "code",
   "execution_count": 17,
   "metadata": {},
   "outputs": [
    {
     "data": {
      "text/plain": [
       "'\\nTumhare liye kabhi kabhi koi baarat kahe,\\nAapne liye kabhi kabhi koi baarat karte.\\nMera baat kabhi kabhi aisee,\\nKabhi kabhi aisa jagahon mein.\\n\\nAnswer:\\n\\nYou always make such deep statements,\\nAt times you speak with such intensity,\\nMy words sometimes flow like that,\\nSometimes they flow in such a way.'"
      ]
     },
     "execution_count": 17,
     "metadata": {},
     "output_type": "execute_result"
    }
   ],
   "source": [
    "response6"
   ]
  },
  {
   "cell_type": "code",
   "execution_count": 18,
   "metadata": {},
   "outputs": [],
   "source": [
    "response7 = llm_chain.run(\"Translate this word in nepali: how are you?\")"
   ]
  },
  {
   "cell_type": "code",
   "execution_count": 19,
   "metadata": {},
   "outputs": [
    {
     "data": {
      "text/plain": [
       "'The translation of \"how are you\" in Nepali is \"तपाईं हारे?\" (tapa\\'i hara\\'e). This phrase is used to greet someone and ask about their well-being.\\n\\nExplanation:\\n\\n* \"Tapain\" is a respectful term used to address an elder or someone in authority, equivalent to \"sir\" or \"ma\\'am\" in English.\\n* \"Hara\\'e\" is the second person singular pronoun, meaning \"you\".\\n\\nSo, when you combine these two words, you get \"तपाईं हारे?\" which means \"How are you?\" in Nepali. This is a common greeting used to start a conversation with someone in Nepal.'"
      ]
     },
     "execution_count": 19,
     "metadata": {},
     "output_type": "execute_result"
    }
   ],
   "source": [
    "response7"
   ]
  },
  {
   "cell_type": "code",
   "execution_count": 20,
   "metadata": {},
   "outputs": [],
   "source": [
    "response8 = llm_chain.run(\"lionel messi kon hai hinglish me answer do\")"
   ]
  },
  {
   "cell_type": "code",
   "execution_count": 21,
   "metadata": {},
   "outputs": [
    {
     "data": {
      "text/plain": [
       "'Lionel Messi is a professional footballer who plays as a forward for both Barcelona and the Argentina national team. He is widely regarded as one of the greatest players of all time, known for his exceptional skills, speed, and goalscoring ability.\\n\\nIn terms of Hinglish, I would translate \"Kon hai\" to mean \"How are you?\" or \"Hello!\" in English. So the full translation of the sentence would be:\\n\\n\"How are you, Lionel Messi?\"'"
      ]
     },
     "execution_count": 21,
     "metadata": {},
     "output_type": "execute_result"
    }
   ],
   "source": [
    "response8"
   ]
  }
 ],
 "metadata": {
  "kernelspec": {
   "display_name": "Python 3",
   "language": "python",
   "name": "python3"
  },
  "language_info": {
   "codemirror_mode": {
    "name": "ipython",
    "version": 3
   },
   "file_extension": ".py",
   "mimetype": "text/x-python",
   "name": "python",
   "nbconvert_exporter": "python",
   "pygments_lexer": "ipython3",
   "version": "3.12.1"
  }
 },
 "nbformat": 4,
 "nbformat_minor": 2
}
