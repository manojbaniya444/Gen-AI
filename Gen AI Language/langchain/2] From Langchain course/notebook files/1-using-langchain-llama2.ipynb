{
 "cells": [
  {
   "cell_type": "code",
   "execution_count": 1,
   "metadata": {},
   "outputs": [],
   "source": [
    "from langchain import PromptTemplate\n",
    "from langchain.chat_models import ChatOpenAI\n",
    "from langchain.chains import LLMChain"
   ]
  },
  {
   "cell_type": "code",
   "execution_count": 25,
   "metadata": {},
   "outputs": [],
   "source": [
    "summary_template = \"\"\"given the information about a person from I want to you to create:\n",
    "\n",
    "information: {information}\n",
    "    1. a short summary\n",
    "    2. two interesting facts about them\n",
    "    \n",
    "summary:\n",
    "    \"\"\""
   ]
  },
  {
   "cell_type": "code",
   "execution_count": 13,
   "metadata": {},
   "outputs": [],
   "source": [
    "information = \"\"\"Aravind Srinivas is the CEO of Perplexity, the conversational \"answer engine\" that provides precise, user-focused answers to queries — with in-line citations. Aravind co-founded the company in 2022 after working as a research scientist at OpenAI, Google, and DeepMind. To date, Perplexity has raised over $100 million from investors including Jeff Bezos, Nat Friedman, Elad Gil, and Susan Wojciki. He has a PhD in computer science from UC Berkeley and a Bachelors and Masters in Electrical Engineering from the Indian Institute of Technology, Madras.\"\"\""
   ]
  },
  {
   "cell_type": "code",
   "execution_count": 14,
   "metadata": {},
   "outputs": [],
   "source": [
    "user_summary_prompt = PromptTemplate(input_variables=[\"information\"], template=summary_template)"
   ]
  },
  {
   "cell_type": "code",
   "execution_count": 5,
   "metadata": {},
   "outputs": [
    {
     "name": "stderr",
     "output_type": "stream",
     "text": [
      "C:\\Users\\acer\\AppData\\Roaming\\Python\\Python312\\site-packages\\tqdm\\auto.py:21: TqdmWarning: IProgress not found. Please update jupyter and ipywidgets. See https://ipywidgets.readthedocs.io/en/stable/user_install.html\n",
      "  from .autonotebook import tqdm as notebook_tqdm\n"
     ]
    }
   ],
   "source": [
    "from langchain.llms import CTransformers\n",
    "\n",
    "model_path = \"../../../local LLM/llama2-7b-q2chat.bin\"\n",
    "\n",
    "llm = CTransformers(\n",
    "    model = model_path,\n",
    "    model_type = \"llama\",\n",
    "    max_new_tokens = 1000,\n",
    "    temperature = 0.2\n",
    ")"
   ]
  },
  {
   "cell_type": "code",
   "execution_count": 15,
   "metadata": {},
   "outputs": [],
   "source": [
    "chain = LLMChain(\n",
    "    llm = llm,\n",
    "    prompt = user_summary_prompt\n",
    ")"
   ]
  },
  {
   "cell_type": "code",
   "execution_count": 18,
   "metadata": {},
   "outputs": [],
   "source": [
    "# response = chain.run(information = information)"
   ]
  },
  {
   "cell_type": "code",
   "execution_count": 17,
   "metadata": {},
   "outputs": [],
   "source": [
    "response = chain.invoke(input = [{\"information\": information}])"
   ]
  },
  {
   "cell_type": "code",
   "execution_count": 24,
   "metadata": {},
   "outputs": [
    {
     "name": "stdout",
     "output_type": "stream",
     "text": [
      "Aravind Srinivas is the CEO of Perplexity, the conversational \"answer engine\" that provides precise, user-focused answers to queries — with in-line citations. Aravind co-founded the company in 2022 after working as a research scientist at OpenAI, Google, and DeepMind. To date, Perplexity has raised over $100 million from investors including Jeff Bezos, Nat Friedman, Elad Gil, and Susan Wojciki. He has a PhD in computer science from UC Berkeley and a Bachelors and Masters in Electrical Engineering from the Indian Institute of Technology, Madras.\n"
     ]
    }
   ],
   "source": [
    "print(response[\"information\"][0][\"information\"])"
   ]
  }
 ],
 "metadata": {
  "kernelspec": {
   "display_name": "Python 3",
   "language": "python",
   "name": "python3"
  },
  "language_info": {
   "codemirror_mode": {
    "name": "ipython",
    "version": 3
   },
   "file_extension": ".py",
   "mimetype": "text/x-python",
   "name": "python",
   "nbconvert_exporter": "python",
   "pygments_lexer": "ipython3",
   "version": "3.12.1"
  }
 },
 "nbformat": 4,
 "nbformat_minor": 2
}
