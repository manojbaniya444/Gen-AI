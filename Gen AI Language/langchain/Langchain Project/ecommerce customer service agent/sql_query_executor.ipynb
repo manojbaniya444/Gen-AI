{
 "cells": [
  {
   "cell_type": "code",
   "execution_count": 36,
   "metadata": {},
   "outputs": [
    {
     "data": {
      "text/plain": [
       "True"
      ]
     },
     "execution_count": 36,
     "metadata": {},
     "output_type": "execute_result"
    }
   ],
   "source": [
    "import os\n",
    "from dotenv import load_dotenv\n",
    "\n",
    "load_dotenv()"
   ]
  },
  {
   "cell_type": "code",
   "execution_count": 37,
   "metadata": {},
   "outputs": [],
   "source": [
    "os.environ[\"GROQ_API_KEY\"] = os.getenv(\"GROQ_API_KEY\")"
   ]
  },
  {
   "cell_type": "code",
   "execution_count": 38,
   "metadata": {},
   "outputs": [],
   "source": [
    "from langchain_community.utilities import SQLDatabase\n",
    "\n",
    "db_path = \"products.db\"\n",
    "\n",
    "db = SQLDatabase.from_uri(f\"sqlite:///{db_path}\")"
   ]
  },
  {
   "cell_type": "code",
   "execution_count": 39,
   "metadata": {},
   "outputs": [
    {
     "name": "stdout",
     "output_type": "stream",
     "text": [
      "sqlite\n"
     ]
    }
   ],
   "source": [
    "print(db.dialect)"
   ]
  },
  {
   "cell_type": "code",
   "execution_count": 40,
   "metadata": {},
   "outputs": [
    {
     "name": "stdout",
     "output_type": "stream",
     "text": [
      "['products']\n"
     ]
    }
   ],
   "source": [
    "print(db.get_usable_table_names())"
   ]
  },
  {
   "cell_type": "code",
   "execution_count": 41,
   "metadata": {},
   "outputs": [
    {
     "data": {
      "text/plain": [
       "\"[(1, 'I Phone 15 pro max', 'http://res.cloudinary.com/dujmaxztw/image/upload/v1710849551/dypzg5qwma5k2t24nr9c.jpg', 'This is the latest I phone 15 pro max mobile', 2, 190000.0), (2, 'Redmi Note 9 pro', 'http://res.cloudinary.com/dujmaxztw/image/upload/v1710849551/dypzg5qwma5k2t24nr9c.jpg', 'This is redmi note 9 pro latest global version mobile', 9, 20000.0), (3, 'calculator', 'http://res.cloudinary.com/dujmaxztw/image/upload/v1710849551/dypzg5qwma5k2t24nr9c.jpg', 'casio fx caculator', 2, 1200.0), (4, 'Samsung Galaxy M30', 'https://ibb.co/sbLrxnm', 'This is samsung galaxy m30 smartphone.', 5, 20000.0), (5, 'Samsung Galaxy S22', 'https://ibb.co/Svdqcpb', 'This is samsung galaxy S22', 5, 200000.0), (6, 'Samsung Galaxy tab', 'https://ibb.co/YcfZcfm', 'This is samsung galaxy tab', 5, 110000.0), (7, 'Infinix smart 8 pro', 'https://ibb.co/s5YVpnw', 'Infinix smart 8 pro device for gaming.', 3, 30000.0), (8, 'Samsung S23 Ultra', 'https://ibb.co/DwFxTND', 'Samsung s23 ultra phone titanium.', 3, 210000.0), (9, 'I phone 15 pro', 'https://ibb.co/84gvjdH', 'I Phone 15 pro new mobile.', 3, 190000.0)]\""
      ]
     },
     "execution_count": 41,
     "metadata": {},
     "output_type": "execute_result"
    }
   ],
   "source": [
    "db.run(\"SELECT * FROM products;\")"
   ]
  },
  {
   "cell_type": "code",
   "execution_count": 42,
   "metadata": {},
   "outputs": [],
   "source": [
    "from langchain_groq import ChatGroq\n",
    "\n",
    "model = ChatGroq(model=\"llama3-8b-8192\")"
   ]
  },
  {
   "cell_type": "code",
   "execution_count": 43,
   "metadata": {},
   "outputs": [],
   "source": [
    "from langchain.chains import create_sql_query_chain\n",
    "\n",
    "chain = create_sql_query_chain(model, db)"
   ]
  },
  {
   "cell_type": "code",
   "execution_count": 44,
   "metadata": {},
   "outputs": [
    {
     "data": {
      "text/plain": [
       "RunnableAssign(mapper={\n",
       "  input: RunnableLambda(...),\n",
       "  table_info: RunnableLambda(...)\n",
       "})\n",
       "| RunnableLambda(lambda x: {k: v for k, v in x.items() if k not in ('question', 'table_names_to_use')})\n",
       "| PromptTemplate(input_variables=['input', 'table_info'], partial_variables={'top_k': '5'}, template='You are a SQLite expert. Given an input question, first create a syntactically correct SQLite query to run, then look at the results of the query and return the answer to the input question.\\nUnless the user specifies in the question a specific number of examples to obtain, query for at most {top_k} results using the LIMIT clause as per SQLite. You can order the results to return the most informative data in the database.\\nNever query for all columns from a table. You must query only the columns that are needed to answer the question. Wrap each column name in double quotes (\") to denote them as delimited identifiers.\\nPay attention to use only the column names you can see in the tables below. Be careful to not query for columns that do not exist. Also, pay attention to which column is in which table.\\nPay attention to use date(\\'now\\') function to get the current date, if the question involves \"today\".\\n\\nUse the following format:\\n\\nQuestion: Question here\\nSQLQuery: SQL Query to run\\nSQLResult: Result of the SQLQuery\\nAnswer: Final answer here\\n\\nOnly use the following tables:\\n{table_info}\\n\\nQuestion: {input}')\n",
       "| RunnableBinding(bound=ChatGroq(client=<groq.resources.chat.completions.Completions object at 0x0000022CE464A030>, async_client=<groq.resources.chat.completions.AsyncCompletions object at 0x0000022CE463CBC0>, model_name='llama3-8b-8192', groq_api_key=SecretStr('**********')), kwargs={'stop': ['\\nSQLResult:']})\n",
       "| StrOutputParser()\n",
       "| RunnableLambda(_strip)"
      ]
     },
     "execution_count": 44,
     "metadata": {},
     "output_type": "execute_result"
    }
   ],
   "source": [
    "chain"
   ]
  },
  {
   "cell_type": "code",
   "execution_count": 45,
   "metadata": {},
   "outputs": [],
   "source": [
    "response = chain.invoke({\"question\": \"How many products are there\"})"
   ]
  },
  {
   "cell_type": "code",
   "execution_count": 46,
   "metadata": {},
   "outputs": [
    {
     "data": {
      "text/plain": [
       "'Question: what is the highest price of your product\\nSQLQuery: SELECT \"price\" FROM products ORDER BY \"price\" DESC LIMIT 1;'"
      ]
     },
     "execution_count": 46,
     "metadata": {},
     "output_type": "execute_result"
    }
   ],
   "source": [
    "chain.invoke({\n",
    "    \"question\": \"what is the highest price of your product\"\n",
    "})"
   ]
  },
  {
   "cell_type": "code",
   "execution_count": 47,
   "metadata": {},
   "outputs": [
    {
     "data": {
      "text/plain": [
       "'Question: Do you have I phone 15 pro\\nSQLQuery: SELECT \"name\" FROM products WHERE \"name\" LIKE \\'%I Phone 15 pro%\\''"
      ]
     },
     "execution_count": 47,
     "metadata": {},
     "output_type": "execute_result"
    }
   ],
   "source": [
    "chain.invoke({\n",
    "    \"question\": \"Do you have I phone 15 pro\"\n",
    "})"
   ]
  },
  {
   "cell_type": "code",
   "execution_count": 48,
   "metadata": {},
   "outputs": [
    {
     "data": {
      "text/plain": [
       "'Here is the answer:\\n\\nQuestion: What is the price of redmi note 9 pro mobile phone\\nSQLQuery: SELECT \"price\" FROM products WHERE \"name\" = \\'Redmi Note 9 pro\\''"
      ]
     },
     "execution_count": 48,
     "metadata": {},
     "output_type": "execute_result"
    }
   ],
   "source": [
    "chain.invoke({\n",
    "    \"question\": \"What is the price of redmi note 9 pro mobile phone\"\n",
    "})"
   ]
  },
  {
   "cell_type": "code",
   "execution_count": 49,
   "metadata": {},
   "outputs": [
    {
     "name": "stdout",
     "output_type": "stream",
     "text": [
      "Question: How many products are there\n",
      "SQLQuery: SELECT COUNT(*) FROM products\n"
     ]
    }
   ],
   "source": [
    "print(chain.invoke({\"question\": \"How many products are there\"}))"
   ]
  },
  {
   "cell_type": "code",
   "execution_count": 50,
   "metadata": {},
   "outputs": [],
   "source": [
    "import re\n",
    "\n",
    "def extract_query(text):\n",
    "    # Define the regular expression to find the SQL query part\n",
    "    pattern = r'SQLQuery:\\s*(.*)'\n",
    "    match = re.search(pattern, text)\n",
    "    \n",
    "    if match:\n",
    "        return match.group(1)\n",
    "    else:\n",
    "        return None"
   ]
  },
  {
   "cell_type": "code",
   "execution_count": 51,
   "metadata": {},
   "outputs": [],
   "source": [
    "query = extract_query(response)"
   ]
  },
  {
   "cell_type": "code",
   "execution_count": 52,
   "metadata": {},
   "outputs": [
    {
     "data": {
      "text/plain": [
       "'[(9,)]'"
      ]
     },
     "execution_count": 52,
     "metadata": {},
     "output_type": "execute_result"
    }
   ],
   "source": [
    "db.run(query)"
   ]
  },
  {
   "cell_type": "code",
   "execution_count": 53,
   "metadata": {},
   "outputs": [
    {
     "name": "stdout",
     "output_type": "stream",
     "text": [
      "Question: How many products are there\n",
      "SQLQuery: SELECT COUNT(*) AS \"product_count\" FROM products\n"
     ]
    }
   ],
   "source": [
    "print(response)"
   ]
  },
  {
   "cell_type": "code",
   "execution_count": 54,
   "metadata": {},
   "outputs": [],
   "source": [
    "from langchain_core.runnables import RunnableLambda\n",
    "\n",
    "query_extractor = RunnableLambda(lambda x: extract_query(x))"
   ]
  },
  {
   "cell_type": "code",
   "execution_count": 55,
   "metadata": {},
   "outputs": [],
   "source": [
    "from langchain_community.tools.sql_database.tool import QuerySQLDataBaseTool\n",
    "\n",
    "write_query  = create_sql_query_chain(model, db)\n",
    "execute_query = QuerySQLDataBaseTool(db=db)\n",
    "\n",
    "chain = write_query | query_extractor | execute_query"
   ]
  },
  {
   "cell_type": "code",
   "execution_count": 56,
   "metadata": {},
   "outputs": [
    {
     "data": {
      "text/plain": [
       "RunnableAssign(mapper={\n",
       "  input: RunnableLambda(...),\n",
       "  table_info: RunnableLambda(...)\n",
       "})\n",
       "| RunnableLambda(lambda x: {k: v for k, v in x.items() if k not in ('question', 'table_names_to_use')})\n",
       "| PromptTemplate(input_variables=['input', 'table_info'], partial_variables={'top_k': '5'}, template='You are a SQLite expert. Given an input question, first create a syntactically correct SQLite query to run, then look at the results of the query and return the answer to the input question.\\nUnless the user specifies in the question a specific number of examples to obtain, query for at most {top_k} results using the LIMIT clause as per SQLite. You can order the results to return the most informative data in the database.\\nNever query for all columns from a table. You must query only the columns that are needed to answer the question. Wrap each column name in double quotes (\") to denote them as delimited identifiers.\\nPay attention to use only the column names you can see in the tables below. Be careful to not query for columns that do not exist. Also, pay attention to which column is in which table.\\nPay attention to use date(\\'now\\') function to get the current date, if the question involves \"today\".\\n\\nUse the following format:\\n\\nQuestion: Question here\\nSQLQuery: SQL Query to run\\nSQLResult: Result of the SQLQuery\\nAnswer: Final answer here\\n\\nOnly use the following tables:\\n{table_info}\\n\\nQuestion: {input}')\n",
       "| RunnableBinding(bound=ChatGroq(client=<groq.resources.chat.completions.Completions object at 0x0000022CE464A030>, async_client=<groq.resources.chat.completions.AsyncCompletions object at 0x0000022CE463CBC0>, model_name='llama3-8b-8192', groq_api_key=SecretStr('**********')), kwargs={'stop': ['\\nSQLResult:']})\n",
       "| StrOutputParser()\n",
       "| RunnableLambda(_strip)\n",
       "| RunnableLambda(lambda x: extract_query(x))\n",
       "| QuerySQLDataBaseTool(db=<langchain_community.utilities.sql_database.SQLDatabase object at 0x0000022CE464AE70>)"
      ]
     },
     "execution_count": 56,
     "metadata": {},
     "output_type": "execute_result"
    }
   ],
   "source": [
    "chain"
   ]
  },
  {
   "cell_type": "code",
   "execution_count": 57,
   "metadata": {},
   "outputs": [
    {
     "name": "stdout",
     "output_type": "stream",
     "text": [
      "You are a SQLite expert. Given an input question, first create a syntactically correct SQLite query to run, then look at the results of the query and return the answer to the input question.\n",
      "Unless the user specifies in the question a specific number of examples to obtain, query for at most 5 results using the LIMIT clause as per SQLite. You can order the results to return the most informative data in the database.\n",
      "Never query for all columns from a table. You must query only the columns that are needed to answer the question. Wrap each column name in double quotes (\") to denote them as delimited identifiers.\n",
      "Pay attention to use only the column names you can see in the tables below. Be careful to not query for columns that do not exist. Also, pay attention to which column is in which table.\n",
      "Pay attention to use date('now') function to get the current date, if the question involves \"today\".\n",
      "\n",
      "Use the following format:\n",
      "\n",
      "Question: Question here\n",
      "SQLQuery: SQL Query to run\n",
      "SQLResult: Result of the SQLQuery\n",
      "Answer: Final answer here\n",
      "\n",
      "Only use the following tables:\n",
      "\u001b[33;1m\u001b[1;3m{table_info}\u001b[0m\n",
      "\n",
      "Question: \u001b[33;1m\u001b[1;3m{input}\u001b[0m\n"
     ]
    }
   ],
   "source": [
    "chain.get_prompts()[0].pretty_print()"
   ]
  },
  {
   "cell_type": "code",
   "execution_count": 58,
   "metadata": {},
   "outputs": [
    {
     "data": {
      "text/plain": [
       "'[(9,)]'"
      ]
     },
     "execution_count": 58,
     "metadata": {},
     "output_type": "execute_result"
    }
   ],
   "source": [
    "chain.invoke({\"question\": \"How many products are there\"})"
   ]
  },
  {
   "cell_type": "code",
   "execution_count": 59,
   "metadata": {},
   "outputs": [],
   "source": [
    "from operator import itemgetter\n",
    "from langchain_core.prompts import PromptTemplate\n",
    "from langchain_core.output_parsers import StrOutputParser\n",
    "from langchain_core.runnables import RunnablePassthrough"
   ]
  },
  {
   "cell_type": "code",
   "execution_count": 60,
   "metadata": {},
   "outputs": [
    {
     "data": {
      "text/plain": [
       "PromptTemplate(input_variables=['query', 'question', 'result'], template='\\n    You are customer support agent for an e commerce store which sell electronics products.\\n    You will only answer the questions based on the context below.\\n    Given the following user question, corresponding  SQL query, and the result of the query, generate the answer in a short and polite way as a customer support agent.\\n    Question: {question}\\n    SQL Query: {query}\\n    SQL Result: {result}\\n    Answer:\\n    ')\n",
       "| ChatGroq(client=<groq.resources.chat.completions.Completions object at 0x0000022CE464A030>, async_client=<groq.resources.chat.completions.AsyncCompletions object at 0x0000022CE463CBC0>, model_name='llama3-8b-8192', groq_api_key=SecretStr('**********'))\n",
       "| StrOutputParser()"
      ]
     },
     "execution_count": 60,
     "metadata": {},
     "output_type": "execute_result"
    }
   ],
   "source": [
    "answer_prompt = PromptTemplate.from_template(\n",
    "    \"\"\"\n",
    "    You are customer support agent for an e commerce store which sell electronics products.\n",
    "    You will only answer the questions based on the context below.\n",
    "    Given the following user question, corresponding  SQL query, and the result of the query, generate the answer in a short and polite way as a customer support agent.\n",
    "    Question: {question}\n",
    "    SQL Query: {query}\n",
    "    SQL Result: {result}\n",
    "    Answer:\n",
    "    \"\"\"\n",
    ")\n",
    "\n",
    "answer = answer_prompt | model | StrOutputParser()\n",
    "answer"
   ]
  },
  {
   "cell_type": "code",
   "execution_count": 61,
   "metadata": {},
   "outputs": [],
   "source": [
    "query_getter = write_query | query_extractor"
   ]
  },
  {
   "cell_type": "code",
   "execution_count": 62,
   "metadata": {},
   "outputs": [],
   "source": [
    "final_chain = (\n",
    "    RunnablePassthrough.assign(query=query_getter).assign(result=itemgetter(\"query\") | execute_query)\n",
    "    | answer\n",
    ")"
   ]
  },
  {
   "cell_type": "code",
   "execution_count": 63,
   "metadata": {},
   "outputs": [
    {
     "data": {
      "text/plain": [
       "RunnableAssign(mapper={\n",
       "  query: RunnableAssign(mapper={\n",
       "           input: RunnableLambda(...),\n",
       "           table_info: RunnableLambda(...)\n",
       "         })\n",
       "         | RunnableLambda(lambda x: {k: v for k, v in x.items() if k not in ('question', 'table_names_to_use')})\n",
       "         | PromptTemplate(input_variables=['input', 'table_info'], partial_variables={'top_k': '5'}, template='You are a SQLite expert. Given an input question, first create a syntactically correct SQLite query to run, then look at the results of the query and return the answer to the input question.\\nUnless the user specifies in the question a specific number of examples to obtain, query for at most {top_k} results using the LIMIT clause as per SQLite. You can order the results to return the most informative data in the database.\\nNever query for all columns from a table. You must query only the columns that are needed to answer the question. Wrap each column name in double quotes (\") to denote them as delimited identifiers.\\nPay attention to use only the column names you can see in the tables below. Be careful to not query for columns that do not exist. Also, pay attention to which column is in which table.\\nPay attention to use date(\\'now\\') function to get the current date, if the question involves \"today\".\\n\\nUse the following format:\\n\\nQuestion: Question here\\nSQLQuery: SQL Query to run\\nSQLResult: Result of the SQLQuery\\nAnswer: Final answer here\\n\\nOnly use the following tables:\\n{table_info}\\n\\nQuestion: {input}')\n",
       "         | RunnableBinding(bound=ChatGroq(client=<groq.resources.chat.completions.Completions object at 0x0000022CE464A030>, async_client=<groq.resources.chat.completions.AsyncCompletions object at 0x0000022CE463CBC0>, model_name='llama3-8b-8192', groq_api_key=SecretStr('**********')), kwargs={'stop': ['\\nSQLResult:']})\n",
       "         | StrOutputParser()\n",
       "         | RunnableLambda(_strip)\n",
       "         | RunnableLambda(lambda x: extract_query(x))\n",
       "})\n",
       "| RunnableAssign(mapper={\n",
       "    result: RunnableLambda(itemgetter('query'))\n",
       "            | QuerySQLDataBaseTool(db=<langchain_community.utilities.sql_database.SQLDatabase object at 0x0000022CE464AE70>)\n",
       "  })\n",
       "| PromptTemplate(input_variables=['query', 'question', 'result'], template='\\n    You are customer support agent for an e commerce store which sell electronics products.\\n    You will only answer the questions based on the context below.\\n    Given the following user question, corresponding  SQL query, and the result of the query, generate the answer in a short and polite way as a customer support agent.\\n    Question: {question}\\n    SQL Query: {query}\\n    SQL Result: {result}\\n    Answer:\\n    ')\n",
       "| ChatGroq(client=<groq.resources.chat.completions.Completions object at 0x0000022CE464A030>, async_client=<groq.resources.chat.completions.AsyncCompletions object at 0x0000022CE463CBC0>, model_name='llama3-8b-8192', groq_api_key=SecretStr('**********'))\n",
       "| StrOutputParser()"
      ]
     },
     "execution_count": 63,
     "metadata": {},
     "output_type": "execute_result"
    }
   ],
   "source": [
    "final_chain"
   ]
  },
  {
   "cell_type": "code",
   "execution_count": 64,
   "metadata": {},
   "outputs": [],
   "source": [
    "response = final_chain.invoke({\"question\": \"How many products are there\"})"
   ]
  },
  {
   "cell_type": "code",
   "execution_count": 65,
   "metadata": {},
   "outputs": [
    {
     "name": "stdout",
     "output_type": "stream",
     "text": [
      "Hello there! Thank you for reaching out to us. According to our system, we have a total of 9 products available in our electronic store. We're happy to help you with any questions you may have!\n"
     ]
    }
   ],
   "source": [
    "print(response)"
   ]
  },
  {
   "cell_type": "code",
   "execution_count": 66,
   "metadata": {},
   "outputs": [
    {
     "name": "stdout",
     "output_type": "stream",
     "text": [
      "Hi there!\n",
      "\n",
      "Thank you for reaching out to us. I'm happy to help you with your inquiry. Yes, we do have the Redmi Note 9 Pro mobile available in our store. You can check it out on our website or visit us in-store to learn more about its features and pricing. Would you like me to assist you with the product details or help you with the purchase process?\n"
     ]
    }
   ],
   "source": [
    "print(final_chain.invoke({\"question\": \"Do you have Redmi note 9 pro mobile\"}))"
   ]
  },
  {
   "cell_type": "code",
   "execution_count": 67,
   "metadata": {},
   "outputs": [
    {
     "name": "stdout",
     "output_type": "stream",
     "text": [
      "Thank you for reaching out to us! According to our records, the price of the Redmi Note 9 Pro mobile phone is $20,000. If you have any other questions or need assistance with your order, please feel free to ask!\n"
     ]
    }
   ],
   "source": [
    "print(final_chain.invoke({\"question\": \"What is the price of redmi note 9 pro mobile phone\"}))"
   ]
  },
  {
   "cell_type": "code",
   "execution_count": 68,
   "metadata": {},
   "outputs": [
    {
     "name": "stdout",
     "output_type": "stream",
     "text": [
      "Hi there!\n",
      "\n",
      "Thank you for reaching out to us. I'm happy to help you with your question. The price of the Redmi Note 9 Pro is ₹20,000.00.\n"
     ]
    }
   ],
   "source": [
    "print(final_chain.invoke({\"question\": \"what is the price of redmi note 9 pro?\"}))"
   ]
  },
  {
   "cell_type": "code",
   "execution_count": 69,
   "metadata": {},
   "outputs": [
    {
     "name": "stdout",
     "output_type": "stream",
     "text": [
      "Thank you for reaching out to us! I'm happy to help you with your query. According to our database, yes, we do have Samsung Galaxy phones available in our store! Specifically, we have the Samsung Galaxy M30 and Samsung Galaxy S22 models in stock. If you're interested in purchasing either of these phones, please feel free to visit our website or contact us for more information.\n"
     ]
    }
   ],
   "source": [
    "print(final_chain.invoke({\"question\": \"Is samsung galaxy phone available in your store.\"}))"
   ]
  },
  {
   "cell_type": "code",
   "execution_count": 70,
   "metadata": {},
   "outputs": [
    {
     "name": "stdout",
     "output_type": "stream",
     "text": [
      "Thank you for reaching out to us! Unfortunately, we do not have any bubble gum products in stock. Our current product offerings do not include bubble gum. However, we do have a wide range of electronic products available for purchase. If you're looking for something specific, feel free to ask and I'll be happy to help!\n"
     ]
    }
   ],
   "source": [
    "print(final_chain.invoke({\"question\": \"Do you sell bubble gum in stock?\"}))"
   ]
  },
  {
   "cell_type": "code",
   "execution_count": 71,
   "metadata": {},
   "outputs": [
    {
     "name": "stdout",
     "output_type": "stream",
     "text": [
      "Hello! Thank you for reaching out to us. I'm happy to help you with your question. Unfortunately, it seems that our database doesn't store the physical location of our store. However, I can suggest that you visit our website and check the \"About Us\" or \"Contact Us\" section for more information on our store's location and hours of operation. If you have any further questions or concerns, please don't hesitate to ask.\n"
     ]
    }
   ],
   "source": [
    "print(final_chain.invoke({\"question\": \"Where is the store located\"}))"
   ]
  }
 ],
 "metadata": {
  "kernelspec": {
   "display_name": "Python 3",
   "language": "python",
   "name": "python3"
  },
  "language_info": {
   "codemirror_mode": {
    "name": "ipython",
    "version": 3
   },
   "file_extension": ".py",
   "mimetype": "text/x-python",
   "name": "python",
   "nbconvert_exporter": "python",
   "pygments_lexer": "ipython3",
   "version": "3.12.1"
  }
 },
 "nbformat": 4,
 "nbformat_minor": 2
}
