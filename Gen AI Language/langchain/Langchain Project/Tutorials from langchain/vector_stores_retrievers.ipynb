{
 "cells": [
  {
   "cell_type": "markdown",
   "metadata": {},
   "source": [
    "## Vector stores and retrievers\n",
    "* Documents\n",
    "* Vector stores\n",
    "* Retrievers"
   ]
  },
  {
   "cell_type": "code",
   "execution_count": null,
   "metadata": {},
   "outputs": [],
   "source": [
    "!pip install langchain langchain-chroma langchain-openai"
   ]
  },
  {
   "cell_type": "code",
   "execution_count": 7,
   "metadata": {},
   "outputs": [
    {
     "data": {
      "text/plain": [
       "True"
      ]
     },
     "execution_count": 7,
     "metadata": {},
     "output_type": "execute_result"
    }
   ],
   "source": [
    "import os\n",
    "from dotenv import load_dotenv\n",
    "\n",
    "load_dotenv()"
   ]
  },
  {
   "cell_type": "markdown",
   "metadata": {},
   "source": [
    "## Vector stores\n",
    "\n",
    "Given a query we can embed it as a vector of the same dimension and use vector similarity metrics to identify related data in the store.\n",
    "\n",
    "Langchain vectorstore object contains methods for adding text and Document objects to the store and querying them using various similarity metrics."
   ]
  },
  {
   "cell_type": "code",
   "execution_count": 11,
   "metadata": {},
   "outputs": [],
   "source": [
    "from langchain_pinecone import PineconeVectorStore\n",
    "\n",
    "os.environ[\"PINECONE_API_KEY\"] = os.getenv(\"PINECONE_API_KEY\")"
   ]
  },
  {
   "cell_type": "code",
   "execution_count": 9,
   "metadata": {},
   "outputs": [],
   "source": [
    "index_name = \"langchain-vectorstore\""
   ]
  },
  {
   "cell_type": "code",
   "execution_count": 12,
   "metadata": {},
   "outputs": [],
   "source": [
    "from langchain_community.embeddings import HuggingFaceEmbeddings"
   ]
  },
  {
   "cell_type": "code",
   "execution_count": 13,
   "metadata": {},
   "outputs": [],
   "source": [
    "def download_embedding_model():\n",
    "    embeddings = HuggingFaceEmbeddings(\n",
    "        model_name = \"sentence-transformers/paraphrase-MiniLM-L6-v2\",\n",
    "    )\n",
    "    return embeddings"
   ]
  },
  {
   "cell_type": "code",
   "execution_count": 14,
   "metadata": {},
   "outputs": [
    {
     "name": "stderr",
     "output_type": "stream",
     "text": [
      "C:\\Users\\acer\\AppData\\Roaming\\Python\\Python312\\site-packages\\huggingface_hub\\file_download.py:1132: FutureWarning: `resume_download` is deprecated and will be removed in version 1.0.0. Downloads always resume when possible. If you want to force a new download, use `force_download=True`.\n",
      "  warnings.warn(\n"
     ]
    }
   ],
   "source": [
    "embedding = download_embedding_model()"
   ]
  },
  {
   "cell_type": "code",
   "execution_count": 15,
   "metadata": {},
   "outputs": [
    {
     "data": {
      "text/plain": [
       "HuggingFaceEmbeddings(client=SentenceTransformer(\n",
       "  (0): Transformer({'max_seq_length': 128, 'do_lower_case': False}) with Transformer model: BertModel \n",
       "  (1): Pooling({'word_embedding_dimension': 384, 'pooling_mode_cls_token': False, 'pooling_mode_mean_tokens': True, 'pooling_mode_max_tokens': False, 'pooling_mode_mean_sqrt_len_tokens': False, 'pooling_mode_weightedmean_tokens': False, 'pooling_mode_lasttoken': False, 'include_prompt': True})\n",
       "), model_name='sentence-transformers/paraphrase-MiniLM-L6-v2', cache_folder=None, model_kwargs={}, encode_kwargs={}, multi_process=False, show_progress=False)"
      ]
     },
     "execution_count": 15,
     "metadata": {},
     "output_type": "execute_result"
    }
   ],
   "source": [
    "embedding"
   ]
  },
  {
   "cell_type": "markdown",
   "metadata": {},
   "source": [
    "The from_documents method accepts a list of LangChain’s Document class objects, which can be created using LangChain’s CharacterTextSplitter class. The from_texts method accepts a list of strings. \n",
    "\n",
    "Here we have manually prepared documents above so no need to use text splitters for now but if we want to load from .txt file then we can use `**CharacterTextSplitter**` and `**TextLoader**` from langchain."
   ]
  },
  {
   "cell_type": "code",
   "execution_count": 18,
   "metadata": {},
   "outputs": [],
   "source": [
    "from langchain_core.documents import Document\n",
    "\n",
    "documents = [\n",
    "    Document(\n",
    "        page_content=\"Manoj Baniya is a computer engineering student.\",\n",
    "        metadata={\"source\": \"manoj-baniya-doc\"},\n",
    "    ),\n",
    "    Document(\n",
    "        page_content=\"Manoj Baniya studies at Tribhuvan University Institute of Engineering.\",\n",
    "        metadata={\"source\": \"manoj-baniya-doc\"},\n",
    "    ),\n",
    "    Document(\n",
    "        page_content=\"Manoj Baniya is from Jhapa Shivasatakshi-2.\",\n",
    "        metadata={\"source\": \"manoj-baniya-doc\"},\n",
    "    ),\n",
    "    Document(\n",
    "        page_content=\"Eastern Regional Campus, Dharan is one of the constituent campuses of Tribhuvan University Institute of Engineering.\",\n",
    "        metadata={\"source\": \"manoj-baniya-doc\"},\n",
    "    ),\n",
    "    Document(\n",
    "        page_content=\"Manoj Baniya is in his final year of computer engineering.\",\n",
    "        metadata={\"source\": \"manoj-baniya-doc\"},\n",
    "    ),\n",
    "]"
   ]
  },
  {
   "cell_type": "code",
   "execution_count": 25,
   "metadata": {},
   "outputs": [],
   "source": [
    "# From text files\n",
    "from langchain_community.document_loaders import TextLoader\n",
    "from langchain_text_splitters import CharacterTextSplitter\n",
    "\n",
    "loader = TextLoader(\"kaparthy_info.txt\")\n",
    "documents = loader.load()\n",
    "text_splitter = CharacterTextSplitter(chunk_size=1000, chunk_overlap=5)\n",
    "docs = text_splitter.split_documents(documents)"
   ]
  },
  {
   "cell_type": "code",
   "execution_count": 28,
   "metadata": {},
   "outputs": [
    {
     "data": {
      "text/plain": [
       "'Andrej Karpathy is a prominent figure in the field of artificial intelligence and deep learning. Born in Slovakia and raised in Canada, Karpathy is renowned for his contributions to computer vision, neural networks, and autonomous systems. He completed his undergraduate studies at the University of Toronto, where he worked with Geoffrey Hinton, one of the pioneers of deep learning. Karpathy then pursued a Ph.D. at Stanford University under the supervision of Fei-Fei Li, focusing on computer vision and machine learning.'"
      ]
     },
     "execution_count": 28,
     "metadata": {},
     "output_type": "execute_result"
    }
   ],
   "source": [
    "docs[0].page_content"
   ]
  },
  {
   "cell_type": "code",
   "execution_count": 30,
   "metadata": {},
   "outputs": [],
   "source": [
    "vectorstore_kaparthy = PineconeVectorStore.from_documents(\n",
    "    documents=docs,\n",
    "    index_name=\"kaparthy-info\",\n",
    "    embedding=embedding\n",
    ")"
   ]
  },
  {
   "cell_type": "code",
   "execution_count": 34,
   "metadata": {},
   "outputs": [
    {
     "data": {
      "text/plain": [
       "'Andrej Karpathy is a prominent figure in the field of artificial intelligence and deep learning. Born in Slovakia and raised in Canada, Karpathy is renowned for his contributions to computer vision, neural networks, and autonomous systems. He completed his undergraduate studies at the University of Toronto, where he worked with Geoffrey Hinton, one of the pioneers of deep learning. Karpathy then pursued a Ph.D. at Stanford University under the supervision of Fei-Fei Li, focusing on computer vision and machine learning.'"
      ]
     },
     "execution_count": 34,
     "metadata": {},
     "output_type": "execute_result"
    }
   ],
   "source": [
    "vectorstore_kaparthy.similarity_search(\"Who is Andrej Kaparthy\")[0].page_content"
   ]
  },
  {
   "cell_type": "code",
   "execution_count": 36,
   "metadata": {},
   "outputs": [
    {
     "data": {
      "text/plain": [
       "\"In 2017, Karpathy joined Tesla as the Director of AI, where he played a pivotal role in developing the company's Autopilot system. Under his leadership, Tesla made significant advancements in computer vision and deep learning algorithms for autonomous driving. Karpathy's team focused on building end-to-end neural networks that process data from multiple cameras and sensors to enable real-time decision-making and navigation for Tesla's vehicles.\\n\\nKarpathy is also known for his work at OpenAI, an AI research lab dedicated to ensuring that artificial general intelligence (AGI) benefits all of humanity. As a founding member and former research scientist at OpenAI, Karpathy contributed to several groundbreaking projects, including the development of the GPT (Generative Pre-trained Transformer) models, which have set new benchmarks in natural language processing and understanding.\""
      ]
     },
     "execution_count": 36,
     "metadata": {},
     "output_type": "execute_result"
    }
   ],
   "source": [
    "vectorstore_kaparthy.similarity_search(\"What is Computer Vision\")[0].page_content"
   ]
  },
  {
   "cell_type": "markdown",
   "metadata": {},
   "source": [
    "### From langchain documents"
   ]
  },
  {
   "cell_type": "code",
   "execution_count": 19,
   "metadata": {},
   "outputs": [],
   "source": [
    "vectorstore = PineconeVectorStore.from_documents(\n",
    "    documents=documents,\n",
    "    index_name=index_name,\n",
    "    embedding=embedding\n",
    ")"
   ]
  },
  {
   "cell_type": "markdown",
   "metadata": {},
   "source": [
    "Once we have instantiated a `**VectorStore**` that contains documents, we can query it.It includes methods for queryig:\n",
    "\n",
    "* Synchronously and asynchronously\n",
    "* By string query and vector\n",
    "* with and without returning similarity scores\n",
    "* By similarity and maximum marginal relevance"
   ]
  },
  {
   "cell_type": "code",
   "execution_count": 20,
   "metadata": {},
   "outputs": [
    {
     "data": {
      "text/plain": [
       "[Document(page_content='Manoj Baniya is from Jhapa Shivasatakshi-2.', metadata={'source': 'manoj-baniya-doc'}),\n",
       " Document(page_content='Manoj Baniya is a computer engineering student.', metadata={'source': 'manoj-baniya-doc'}),\n",
       " Document(page_content='Manoj Baniya is in his final year of computer engineering.', metadata={'source': 'manoj-baniya-doc'}),\n",
       " Document(page_content='Manoj Baniya studies at Tribhuvan University Institute of Engineering.', metadata={'source': 'manoj-baniya-doc'})]"
      ]
     },
     "execution_count": 20,
     "metadata": {},
     "output_type": "execute_result"
    }
   ],
   "source": [
    "vectorstore.similarity_search(\"Manoj\")"
   ]
  },
  {
   "cell_type": "code",
   "execution_count": 21,
   "metadata": {},
   "outputs": [
    {
     "data": {
      "text/plain": [
       "[Document(page_content='Eastern Regional Campus, Dharan is one of the constituent campuses of Tribhuvan University Institute of Engineering.', metadata={'source': 'manoj-baniya-doc'}),\n",
       " Document(page_content='Manoj Baniya studies at Tribhuvan University Institute of Engineering.', metadata={'source': 'manoj-baniya-doc'}),\n",
       " Document(page_content='Manoj Baniya is in his final year of computer engineering.', metadata={'source': 'manoj-baniya-doc'}),\n",
       " Document(page_content='Manoj Baniya is a computer engineering student.', metadata={'source': 'manoj-baniya-doc'})]"
      ]
     },
     "execution_count": 21,
     "metadata": {},
     "output_type": "execute_result"
    }
   ],
   "source": [
    "# async query\n",
    "await vectorstore.asimilarity_search(\"Eastern Regional Campus\")"
   ]
  }
 ],
 "metadata": {
  "kernelspec": {
   "display_name": "Python 3",
   "language": "python",
   "name": "python3"
  },
  "language_info": {
   "codemirror_mode": {
    "name": "ipython",
    "version": 3
   },
   "file_extension": ".py",
   "mimetype": "text/x-python",
   "name": "python",
   "nbconvert_exporter": "python",
   "pygments_lexer": "ipython3",
   "version": "3.12.1"
  }
 },
 "nbformat": 4,
 "nbformat_minor": 2
}
