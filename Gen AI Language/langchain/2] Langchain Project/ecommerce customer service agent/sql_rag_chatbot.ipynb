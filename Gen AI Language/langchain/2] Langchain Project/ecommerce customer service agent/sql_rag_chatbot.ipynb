{
 "cells": [
  {
   "cell_type": "code",
   "execution_count": 1,
   "metadata": {},
   "outputs": [],
   "source": [
    "import os\n",
    "from dotenv import load_dotenv"
   ]
  },
  {
   "cell_type": "code",
   "execution_count": 2,
   "metadata": {},
   "outputs": [
    {
     "data": {
      "text/plain": [
       "True"
      ]
     },
     "execution_count": 2,
     "metadata": {},
     "output_type": "execute_result"
    }
   ],
   "source": [
    "load_dotenv()"
   ]
  },
  {
   "cell_type": "code",
   "execution_count": 3,
   "metadata": {},
   "outputs": [],
   "source": [
    "from langchain_groq import ChatGroq\n",
    "\n",
    "os.environ[\"GROQ_API_KEY\"] = os.environ[\"GROQ_API_KEY\"]\n",
    "\n",
    "llm = ChatGroq(model=\"llama3-8b-8192\")"
   ]
  },
  {
   "cell_type": "code",
   "execution_count": 4,
   "metadata": {},
   "outputs": [],
   "source": [
    "from langchain_core.runnables import RunnableLambda, RunnableSequence\n",
    "from langchain_core.prompts import PromptTemplate, ChatPromptTemplate\n",
    "from langchain.schema.output_parser import StrOutputParser"
   ]
  },
  {
   "cell_type": "markdown",
   "metadata": {},
   "source": [
    "### Classifier Chain"
   ]
  },
  {
   "cell_type": "code",
   "execution_count": 85,
   "metadata": {},
   "outputs": [],
   "source": [
    "classifier_template = ChatPromptTemplate.from_messages(\n",
    "    [\n",
    "        (\"system\", \"You are a customer service agent who is expert in classifying the customer questions in ecommerce store.\"),\n",
    "        (\"human\", \"Classify the question: {question} as one of the following:\\n1. 'product_inquiry': If the customer is asking about specific product price, product details or product stock only.\\n2. 'general_information': If the customer is asking about the store information, store location, store policies or anything that is general information about the store.\\n3. 'others': If the question does not fall in any of the above categories and is like out of topic for a customer support service.\")\n",
    "    ]\n",
    ")"
   ]
  },
  {
   "cell_type": "code",
   "execution_count": 86,
   "metadata": {},
   "outputs": [],
   "source": [
    "classification_chain = classifier_template | llm | StrOutputParser()"
   ]
  },
  {
   "cell_type": "code",
   "execution_count": 87,
   "metadata": {},
   "outputs": [
    {
     "data": {
      "text/plain": [
       "ChatPromptTemplate(input_variables=['question'], messages=[SystemMessagePromptTemplate(prompt=PromptTemplate(input_variables=[], template='You are a customer service agent who is expert in classifying the customer questions in ecommerce store.')), HumanMessagePromptTemplate(prompt=PromptTemplate(input_variables=['question'], template=\"Classify the question: {question} as one of the following:\\n1. 'product_inquiry': If the customer is asking about specific product price, product details or product stock only.\\n2. 'general_information': If the customer is asking about the store information, store location, store policies or anything that is general information about the store.\\n3. 'others': If the question does not fall in any of the above categories and is like out of topic for a customer support service.\"))])\n",
       "| ChatGroq(client=<groq.resources.chat.completions.Completions object at 0x000001B04D85DA00>, async_client=<groq.resources.chat.completions.AsyncCompletions object at 0x000001B04D85E4E0>, model_name='llama3-8b-8192', groq_api_key=SecretStr('**********'))\n",
       "| StrOutputParser()"
      ]
     },
     "execution_count": 87,
     "metadata": {},
     "output_type": "execute_result"
    }
   ],
   "source": [
    "classification_chain"
   ]
  },
  {
   "cell_type": "code",
   "execution_count": 92,
   "metadata": {},
   "outputs": [
    {
     "data": {
      "text/plain": [
       "'I would classify the question \"what is the delivery options\" as:\\n\\n2. \\'general_information\\'\\n\\nThe question is asking about the delivery options, which is a general piece of information about the store\\'s shipping policies. This type of question is not specific to a particular product, but rather provides information that customers should know when making a purchase.'"
      ]
     },
     "execution_count": 92,
     "metadata": {},
     "output_type": "execute_result"
    }
   ],
   "source": [
    "classification_chain.invoke({\n",
    "    \"question\": \"what is the delivery options\"\n",
    "})"
   ]
  },
  {
   "cell_type": "markdown",
   "metadata": {},
   "source": [
    "### SQL Chain"
   ]
  },
  {
   "cell_type": "code",
   "execution_count": 9,
   "metadata": {},
   "outputs": [],
   "source": [
    "from langchain_core.runnables import RunnablePassthrough"
   ]
  },
  {
   "cell_type": "code",
   "execution_count": 10,
   "metadata": {},
   "outputs": [],
   "source": [
    "from langchain_community.utilities import SQLDatabase\n",
    "\n",
    "db_path = \"products.db\"\n",
    "\n",
    "db = SQLDatabase.from_uri(f\"sqlite:///{db_path}\")"
   ]
  },
  {
   "cell_type": "code",
   "execution_count": 11,
   "metadata": {},
   "outputs": [],
   "source": [
    "from langchain.chains import create_sql_query_chain"
   ]
  },
  {
   "cell_type": "code",
   "execution_count": 12,
   "metadata": {},
   "outputs": [],
   "source": [
    "import re\n",
    "\n",
    "def extract_query(text):\n",
    "    # Define the regular expression to find the SQL query part\n",
    "    pattern = r'SQLQuery:\\s*(.*)'\n",
    "    match = re.search(pattern, text)\n",
    "    \n",
    "    if match:\n",
    "        return match.group(1)\n",
    "    else:\n",
    "        return None"
   ]
  },
  {
   "cell_type": "code",
   "execution_count": 13,
   "metadata": {},
   "outputs": [],
   "source": [
    "from langchain_core.runnables import RunnableLambda\n",
    "\n",
    "extract_sql_query = RunnableLambda(lambda x: extract_query(x))"
   ]
  },
  {
   "cell_type": "code",
   "execution_count": 14,
   "metadata": {},
   "outputs": [],
   "source": [
    "from langchain_community.tools.sql_database.tool import QuerySQLDataBaseTool\n",
    "\n",
    "write_query  = create_sql_query_chain(llm, db)\n",
    "\n",
    "query_getter = write_query | extract_sql_query"
   ]
  },
  {
   "cell_type": "code",
   "execution_count": 15,
   "metadata": {},
   "outputs": [
    {
     "data": {
      "text/plain": [
       "RunnableAssign(mapper={\n",
       "  input: RunnableLambda(...),\n",
       "  table_info: RunnableLambda(...)\n",
       "})\n",
       "| RunnableLambda(lambda x: {k: v for k, v in x.items() if k not in ('question', 'table_names_to_use')})\n",
       "| PromptTemplate(input_variables=['input', 'table_info'], partial_variables={'top_k': '5'}, template='You are a SQLite expert. Given an input question, first create a syntactically correct SQLite query to run, then look at the results of the query and return the answer to the input question.\\nUnless the user specifies in the question a specific number of examples to obtain, query for at most {top_k} results using the LIMIT clause as per SQLite. You can order the results to return the most informative data in the database.\\nNever query for all columns from a table. You must query only the columns that are needed to answer the question. Wrap each column name in double quotes (\") to denote them as delimited identifiers.\\nPay attention to use only the column names you can see in the tables below. Be careful to not query for columns that do not exist. Also, pay attention to which column is in which table.\\nPay attention to use date(\\'now\\') function to get the current date, if the question involves \"today\".\\n\\nUse the following format:\\n\\nQuestion: Question here\\nSQLQuery: SQL Query to run\\nSQLResult: Result of the SQLQuery\\nAnswer: Final answer here\\n\\nOnly use the following tables:\\n{table_info}\\n\\nQuestion: {input}')\n",
       "| RunnableBinding(bound=ChatGroq(client=<groq.resources.chat.completions.Completions object at 0x000001B04D85DA00>, async_client=<groq.resources.chat.completions.AsyncCompletions object at 0x000001B04D85E4E0>, model_name='llama3-8b-8192', groq_api_key=SecretStr('**********')), kwargs={'stop': ['\\nSQLResult:']})\n",
       "| StrOutputParser()\n",
       "| RunnableLambda(_strip)\n",
       "| RunnableLambda(lambda x: extract_query(x))"
      ]
     },
     "execution_count": 15,
     "metadata": {},
     "output_type": "execute_result"
    }
   ],
   "source": [
    "query_getter"
   ]
  },
  {
   "cell_type": "code",
   "execution_count": 110,
   "metadata": {},
   "outputs": [
    {
     "data": {
      "text/plain": [
       "'SELECT \"name\" FROM products WHERE \"name\" LIKE \\'%poco%\\';'"
      ]
     },
     "execution_count": 110,
     "metadata": {},
     "output_type": "execute_result"
    }
   ],
   "source": [
    "query_getter.invoke({\"question\": \"Do you sell poco?\"})"
   ]
  },
  {
   "cell_type": "code",
   "execution_count": 17,
   "metadata": {},
   "outputs": [],
   "source": [
    "execute_query = QuerySQLDataBaseTool(db=db)"
   ]
  },
  {
   "cell_type": "code",
   "execution_count": 18,
   "metadata": {},
   "outputs": [
    {
     "data": {
      "text/plain": [
       "QuerySQLDataBaseTool(db=<langchain_community.utilities.sql_database.SQLDatabase object at 0x000001B04E91CEF0>)"
      ]
     },
     "execution_count": 18,
     "metadata": {},
     "output_type": "execute_result"
    }
   ],
   "source": [
    "execute_query"
   ]
  },
  {
   "cell_type": "code",
   "execution_count": 111,
   "metadata": {},
   "outputs": [
    {
     "data": {
      "text/plain": [
       "''"
      ]
     },
     "execution_count": 111,
     "metadata": {},
     "output_type": "execute_result"
    }
   ],
   "source": [
    "execute_query.invoke({\"query\": \"SELECT * FROM products WHERE name LIKE '%poco%'\"})"
   ]
  },
  {
   "cell_type": "code",
   "execution_count": 112,
   "metadata": {},
   "outputs": [],
   "source": [
    "\n",
    "answer_prompt = PromptTemplate.from_template(\n",
    "    \"\"\"\n",
    "    \"You are customer service agent for an e-commerce store located in Nepal.The store sell electronics and gadgets and you are chatting with a customer who need help.\n",
    "    Given the following user question, corresponding  SQL query, and the result of the query, respond to the user with the suitable answer to the question without adding anything up in a short and concise manner as possible.\n",
    "    \n",
    "    If the SQL Result is empty, dont try to make up answer, just negate the user question.\n",
    "    \n",
    "    Question: <question>{question}</question>\n",
    "    SQL Query: <query>{query}</query>\n",
    "    SQL Result: <result>{result}</result>\n",
    "    Answer:\n",
    "    \"\"\"\n",
    ")\n",
    "\n",
    "answer_chain = answer_prompt | llm | StrOutputParser()"
   ]
  },
  {
   "cell_type": "code",
   "execution_count": 113,
   "metadata": {},
   "outputs": [],
   "source": [
    "from operator import itemgetter\n",
    "\n",
    "sql_chain = (\n",
    "    RunnablePassthrough.assign(query=query_getter).assign(result=itemgetter(\"query\") | execute_query)\n",
    "    | answer_chain\n",
    ")"
   ]
  },
  {
   "cell_type": "code",
   "execution_count": 114,
   "metadata": {},
   "outputs": [
    {
     "data": {
      "text/plain": [
       "RunnableAssign(mapper={\n",
       "  query: RunnableAssign(mapper={\n",
       "           input: RunnableLambda(...),\n",
       "           table_info: RunnableLambda(...)\n",
       "         })\n",
       "         | RunnableLambda(lambda x: {k: v for k, v in x.items() if k not in ('question', 'table_names_to_use')})\n",
       "         | PromptTemplate(input_variables=['input', 'table_info'], partial_variables={'top_k': '5'}, template='You are a SQLite expert. Given an input question, first create a syntactically correct SQLite query to run, then look at the results of the query and return the answer to the input question.\\nUnless the user specifies in the question a specific number of examples to obtain, query for at most {top_k} results using the LIMIT clause as per SQLite. You can order the results to return the most informative data in the database.\\nNever query for all columns from a table. You must query only the columns that are needed to answer the question. Wrap each column name in double quotes (\") to denote them as delimited identifiers.\\nPay attention to use only the column names you can see in the tables below. Be careful to not query for columns that do not exist. Also, pay attention to which column is in which table.\\nPay attention to use date(\\'now\\') function to get the current date, if the question involves \"today\".\\n\\nUse the following format:\\n\\nQuestion: Question here\\nSQLQuery: SQL Query to run\\nSQLResult: Result of the SQLQuery\\nAnswer: Final answer here\\n\\nOnly use the following tables:\\n{table_info}\\n\\nQuestion: {input}')\n",
       "         | RunnableBinding(bound=ChatGroq(client=<groq.resources.chat.completions.Completions object at 0x000001B04D85DA00>, async_client=<groq.resources.chat.completions.AsyncCompletions object at 0x000001B04D85E4E0>, model_name='llama3-8b-8192', groq_api_key=SecretStr('**********')), kwargs={'stop': ['\\nSQLResult:']})\n",
       "         | StrOutputParser()\n",
       "         | RunnableLambda(_strip)\n",
       "         | RunnableLambda(lambda x: extract_query(x))\n",
       "})\n",
       "| RunnableAssign(mapper={\n",
       "    result: RunnableLambda(itemgetter('query'))\n",
       "            | QuerySQLDataBaseTool(db=<langchain_community.utilities.sql_database.SQLDatabase object at 0x000001B04E91CEF0>)\n",
       "  })\n",
       "| PromptTemplate(input_variables=['query', 'question', 'result'], template='\\n    \"You are customer service agent for an e-commerce store located in Nepal.The store sell electronics and gadgets and you are chatting with a customer who need help.\\n    Given the following user question, corresponding  SQL query, and the result of the query, respond to the user with the suitable answer to the question without adding anything up in a short and concise manner as possible.\\n    \\n    If the SQL Result is empty, dont try to make up answer, just negate the user question.\\n    \\n    Question: <question>{question}</question>\\n    SQL Query: <query>{query}</query>\\n    SQL Result: <result>{result}</result>\\n    Answer:\\n    ')\n",
       "| ChatGroq(client=<groq.resources.chat.completions.Completions object at 0x000001B04D85DA00>, async_client=<groq.resources.chat.completions.AsyncCompletions object at 0x000001B04D85E4E0>, model_name='llama3-8b-8192', groq_api_key=SecretStr('**********'))\n",
       "| StrOutputParser()"
      ]
     },
     "execution_count": 114,
     "metadata": {},
     "output_type": "execute_result"
    }
   ],
   "source": [
    "sql_chain"
   ]
  },
  {
   "cell_type": "code",
   "execution_count": 119,
   "metadata": {},
   "outputs": [],
   "source": [
    "response = sql_chain.invoke({\"question\": \"Do you have calculator in your store?\"})"
   ]
  },
  {
   "cell_type": "code",
   "execution_count": 120,
   "metadata": {},
   "outputs": [
    {
     "name": "stdout",
     "output_type": "stream",
     "text": [
      "Yes, we have calculators in our store.\n"
     ]
    }
   ],
   "source": [
    "print(response)"
   ]
  },
  {
   "cell_type": "code",
   "execution_count": 24,
   "metadata": {},
   "outputs": [],
   "source": [
    "response = sql_chain.invoke({\"question\": \"What is the price of redmi note 9 pro\"})"
   ]
  },
  {
   "cell_type": "code",
   "execution_count": 25,
   "metadata": {},
   "outputs": [
    {
     "name": "stdout",
     "output_type": "stream",
     "text": [
      "The price of Redmi Note 9 Pro is NPR 20,000.\n"
     ]
    }
   ],
   "source": [
    "print(response)"
   ]
  },
  {
   "cell_type": "code",
   "execution_count": 26,
   "metadata": {},
   "outputs": [],
   "source": [
    "response = sql_chain.invoke({\"question\": \"Do you have samsung galaxy s29 ultra in stock currently?\"})"
   ]
  },
  {
   "cell_type": "code",
   "execution_count": 27,
   "metadata": {},
   "outputs": [
    {
     "data": {
      "text/plain": [
       "'Thank you for reaching out to us! According to our current stock, we do have Samsung Galaxy S29 Ultra in stock. You can place your order for it.'"
      ]
     },
     "execution_count": 27,
     "metadata": {},
     "output_type": "execute_result"
    }
   ],
   "source": [
    "response"
   ]
  },
  {
   "cell_type": "markdown",
   "metadata": {},
   "source": [
    "### RAG CHAIN"
   ]
  },
  {
   "cell_type": "code",
   "execution_count": 28,
   "metadata": {},
   "outputs": [
    {
     "name": "stderr",
     "output_type": "stream",
     "text": [
      "C:\\Users\\acer\\AppData\\Roaming\\Python\\Python312\\site-packages\\pinecone\\data\\index.py:1: TqdmWarning: IProgress not found. Please update jupyter and ipywidgets. See https://ipywidgets.readthedocs.io/en/stable/user_install.html\n",
      "  from tqdm.autonotebook import tqdm\n"
     ]
    }
   ],
   "source": [
    "from langchain.chains.combine_documents import create_stuff_documents_chain\n",
    "from langchain_pinecone import PineconeVectorStore\n",
    "from langchain_core.prompts import ChatPromptTemplate\n",
    "from langchain.chains import create_retrieval_chain"
   ]
  },
  {
   "cell_type": "code",
   "execution_count": 29,
   "metadata": {},
   "outputs": [],
   "source": [
    "from langchain_community.embeddings import HuggingFaceEmbeddings"
   ]
  },
  {
   "cell_type": "code",
   "execution_count": 30,
   "metadata": {},
   "outputs": [
    {
     "name": "stderr",
     "output_type": "stream",
     "text": [
      "C:\\Users\\acer\\AppData\\Roaming\\Python\\Python312\\site-packages\\langchain_core\\_api\\deprecation.py:139: LangChainDeprecationWarning: The class `HuggingFaceEmbeddings` was deprecated in LangChain 0.2.2 and will be removed in 0.3.0. An updated version of the class exists in the langchain-huggingface package and should be used instead. To use it run `pip install -U langchain-huggingface` and import as `from langchain_huggingface import HuggingFaceEmbeddings`.\n",
      "  warn_deprecated(\n",
      "C:\\Users\\acer\\AppData\\Roaming\\Python\\Python312\\site-packages\\huggingface_hub\\file_download.py:1132: FutureWarning: `resume_download` is deprecated and will be removed in version 1.0.0. Downloads always resume when possible. If you want to force a new download, use `force_download=True`.\n",
      "  warnings.warn(\n"
     ]
    }
   ],
   "source": [
    "embedding = HuggingFaceEmbeddings(\n",
    "    model_name=\"sentence-transformers/paraphrase-MiniLM-L6-v2\",\n",
    ")"
   ]
  },
  {
   "cell_type": "code",
   "execution_count": 31,
   "metadata": {},
   "outputs": [],
   "source": [
    "os.environ[\"PINECONE_API_KEY\"] = os.environ[\"PINECONE_API_KEY\"]\n",
    "index_name = \"storeagent\"\n",
    "\n",
    "vectorstore = PineconeVectorStore(\n",
    "    index_name=index_name,\n",
    "    embedding=embedding,\n",
    ")"
   ]
  },
  {
   "cell_type": "code",
   "execution_count": 32,
   "metadata": {},
   "outputs": [],
   "source": [
    "# from langchain.text_splitter import CharacterTextSplitter\n",
    "# from langchain_community.document_loaders import TextLoader\n",
    "\n",
    "# file_path = \"info.txt\"\n",
    "\n",
    "# loader = TextLoader(file_path=file_path, encoding=\"utf-8\")\n",
    "# documents = loader.load()\n",
    "\n",
    "# text_splitter = CharacterTextSplitter(\n",
    "#     chunk_size=200,\n",
    "#     chunk_overlap=0\n",
    "# )\n",
    "# docs = text_splitter.split_documents(documents=documents)\n",
    "\n",
    "# vectorstore.add_documents(docs)"
   ]
  },
  {
   "cell_type": "code",
   "execution_count": 33,
   "metadata": {},
   "outputs": [
    {
     "data": {
      "text/plain": [
       "[Document(page_content='## What are the delivery options\\n- The delivery  options is available all over Nepal and the delivery charge is Rs. 120 standard price and delivery is free inside Dharan area.', metadata={'source': 'info.txt'}),\n",
       " Document(page_content='## How long the delivery takes\\n- The delivery takes about 2-3 days for all over Nepal and if you are within Dharan Delivery will be the same day you order product.', metadata={'source': 'info.txt'})]"
      ]
     },
     "execution_count": 33,
     "metadata": {},
     "output_type": "execute_result"
    }
   ],
   "source": [
    "retriever = vectorstore.as_retriever(\n",
    "    search_type=\"similarity\",\n",
    "    search_kwargs={\n",
    "        \"k\":2\n",
    "    }\n",
    ")\n",
    "retriever.invoke(\"Delivery options\")"
   ]
  },
  {
   "cell_type": "code",
   "execution_count": 34,
   "metadata": {},
   "outputs": [],
   "source": [
    "chat_system_prompt = (\n",
    "    \"You are customer service agent for an e-commerce store.\"\n",
    "    \"The store sell electronics and gadgets and you are chatting with a customer who need help.\"\n",
    "    \"Use the retrieved information or chat history to answer the customer's question.\"\n",
    "    \"If the retrieved information is not useful or the chat history is not relevant, you can ignore it and just answer the question.\"\n",
    "    \"but remember you only answer about the store and questions related to it and nothing else.\"\n",
    "    \"If asked anything else just say that you are just customer service agent and you can only answer about the store.\"\n",
    "    \"\\n\\n\"\n",
    "    \"{context}\"\n",
    ")"
   ]
  },
  {
   "cell_type": "code",
   "execution_count": 41,
   "metadata": {},
   "outputs": [],
   "source": [
    "chat_prompt = ChatPromptTemplate.from_messages(\n",
    "    [\n",
    "        (\"system\", chat_system_prompt),\n",
    "        (\"human\", \"{input}\"),\n",
    "    ]\n",
    ")"
   ]
  },
  {
   "cell_type": "code",
   "execution_count": 42,
   "metadata": {},
   "outputs": [],
   "source": [
    "chat_chain = create_stuff_documents_chain(\n",
    "    llm,\n",
    "    chat_prompt\n",
    ")"
   ]
  },
  {
   "cell_type": "code",
   "execution_count": 43,
   "metadata": {},
   "outputs": [],
   "source": [
    "rag_chain = create_retrieval_chain(\n",
    "    retriever, # retrieve documents\n",
    "    chat_chain # get the retrieved documents and pass it to LLM to answer the question\n",
    ")"
   ]
  },
  {
   "cell_type": "code",
   "execution_count": 44,
   "metadata": {},
   "outputs": [
    {
     "data": {
      "text/plain": [
       "RunnableBinding(bound=RunnableAssign(mapper={\n",
       "  context: RunnableBinding(bound=RunnableLambda(lambda x: x['input'])\n",
       "           | VectorStoreRetriever(tags=['PineconeVectorStore', 'HuggingFaceEmbeddings'], vectorstore=<langchain_pinecone.vectorstores.PineconeVectorStore object at 0x000001B04D8C8F50>, search_kwargs={'k': 2}), config={'run_name': 'retrieve_documents'})\n",
       "})\n",
       "| RunnableAssign(mapper={\n",
       "    answer: RunnableBinding(bound=RunnableBinding(bound=RunnableAssign(mapper={\n",
       "              context: RunnableLambda(format_docs)\n",
       "            }), config={'run_name': 'format_inputs'})\n",
       "            | ChatPromptTemplate(input_variables=['context', 'input'], messages=[SystemMessagePromptTemplate(prompt=PromptTemplate(input_variables=['context'], template=\"You are customer service agent for an e-commerce store.The store sell electronics and gadgets and you are chatting with a customer who need help.Use the retrieved information or chat history to answer the customer's question.If the retrieved information is not useful or the chat history is not relevant, you can ignore it and just answer the question.but remember you only answer about the store and questions related to it and nothing else.If asked anything else just say that you are just customer service agent and you can only answer about the store.\\n\\n{context}\")), HumanMessagePromptTemplate(prompt=PromptTemplate(input_variables=['input'], template='{input}'))])\n",
       "            | ChatGroq(client=<groq.resources.chat.completions.Completions object at 0x000001B04D85DA00>, async_client=<groq.resources.chat.completions.AsyncCompletions object at 0x000001B04D85E4E0>, model_name='llama3-8b-8192', groq_api_key=SecretStr('**********'))\n",
       "            | StrOutputParser(), config={'run_name': 'stuff_documents_chain'})\n",
       "  }), config={'run_name': 'retrieval_chain'})"
      ]
     },
     "execution_count": 44,
     "metadata": {},
     "output_type": "execute_result"
    }
   ],
   "source": [
    "rag_chain"
   ]
  },
  {
   "cell_type": "code",
   "execution_count": 46,
   "metadata": {},
   "outputs": [],
   "source": [
    "response = rag_chain.invoke({\"input\": \"What are the delivery options?\"})"
   ]
  },
  {
   "cell_type": "code",
   "execution_count": 47,
   "metadata": {},
   "outputs": [
    {
     "data": {
      "text/plain": [
       "'We offer delivery options all over Nepal. The standard delivery charge is Rs. 120. However, if you are within the Dharan area, your order will be delivered free of charge.'"
      ]
     },
     "execution_count": 47,
     "metadata": {},
     "output_type": "execute_result"
    }
   ],
   "source": [
    "response[\"answer\"]"
   ]
  },
  {
   "cell_type": "markdown",
   "metadata": {},
   "source": [
    "### Conditional Chain"
   ]
  },
  {
   "cell_type": "code",
   "execution_count": 48,
   "metadata": {},
   "outputs": [],
   "source": [
    "handle_others_template = ChatPromptTemplate.from_messages(\n",
    "    [\n",
    "        (\"system\", \"You are a customer service representative for an e-commerce store. You are chatting with a customer who needs help.\"),\n",
    "        (\"human\", \"You received a question which is not related to you so you should not have to answer it so just say that you are a customer service agent and you can only answer about the store.\")\n",
    "    ]\n",
    ")"
   ]
  },
  {
   "cell_type": "markdown",
   "metadata": {},
   "source": [
    "## APPROACH1: Runnable Branch"
   ]
  },
  {
   "cell_type": "code",
   "execution_count": 93,
   "metadata": {},
   "outputs": [],
   "source": [
    "def getDict(question):\n",
    "    print(question)\n",
    "    return {\"question\": question}\n",
    "def getDictRag(question):\n",
    "    print(question)\n",
    "    return {\"input\": question}"
   ]
  },
  {
   "cell_type": "code",
   "execution_count": 133,
   "metadata": {},
   "outputs": [],
   "source": [
    "from langchain_core.runnables import RunnableBranch\n",
    "\n",
    "branches = RunnableBranch(\n",
    "    (\n",
    "        lambda x: \"product_inquiry\" in x, # condition\n",
    "        RunnableLambda(lambda x: getDict(x)) | sql_chain\n",
    "    ),\n",
    "    (\n",
    "        lambda x: \"general_information\" in x, # condition\n",
    "        # rag_chain,\n",
    "        RunnableLambda(lambda x: getDictRag(x)) | rag_chain | RunnableLambda(lambda x: x[\"answer\"])\n",
    "    ),\n",
    "    handle_others_template | llm | StrOutputParser()\n",
    ")"
   ]
  },
  {
   "cell_type": "code",
   "execution_count": 134,
   "metadata": {},
   "outputs": [],
   "source": [
    "sql_rag_chain = classification_chain | branches"
   ]
  },
  {
   "cell_type": "code",
   "execution_count": 52,
   "metadata": {},
   "outputs": [
    {
     "data": {
      "text/plain": [
       "ChatPromptTemplate(input_variables=['question'], messages=[SystemMessagePromptTemplate(prompt=PromptTemplate(input_variables=[], template='You are a customer service agent who is expert in classifying the customer questions in ecommerce store.')), HumanMessagePromptTemplate(prompt=PromptTemplate(input_variables=['question'], template=\"Classify the question: {question} as one of the following:\\n1. 'product_inquiry': If the customer is asking about product details, product availability, product inquiry or anything about the products that require looking up to database.\\n2. 'general_information': If the customer is asking about the store information, store location, store policies or anything that is general information about the store.\\n3. 'others': If the question does not fall in any of the above categories and is like out of topic for a customer support service.\"))])\n",
       "| ChatGroq(client=<groq.resources.chat.completions.Completions object at 0x000001B04D85DA00>, async_client=<groq.resources.chat.completions.AsyncCompletions object at 0x000001B04D85E4E0>, model_name='llama3-8b-8192', groq_api_key=SecretStr('**********'))\n",
       "| StrOutputParser()\n",
       "| RunnableBranch(branches=[(RunnableLambda(lambda x: 'product_inquiry' in x), RunnableLambda(lambda x: getDict(x))\n",
       "  | RunnableAssign(mapper={\n",
       "      query: RunnableAssign(mapper={\n",
       "               input: RunnableLambda(...),\n",
       "               table_info: RunnableLambda(...)\n",
       "             })\n",
       "             | RunnableLambda(lambda x: {k: v for k, v in x.items() if k not in ('question', 'table_names_to_use')})\n",
       "             | PromptTemplate(input_variables=['input', 'table_info'], partial_variables={'top_k': '5'}, template='You are a SQLite expert. Given an input question, first create a syntactically correct SQLite query to run, then look at the results of the query and return the answer to the input question.\\nUnless the user specifies in the question a specific number of examples to obtain, query for at most {top_k} results using the LIMIT clause as per SQLite. You can order the results to return the most informative data in the database.\\nNever query for all columns from a table. You must query only the columns that are needed to answer the question. Wrap each column name in double quotes (\") to denote them as delimited identifiers.\\nPay attention to use only the column names you can see in the tables below. Be careful to not query for columns that do not exist. Also, pay attention to which column is in which table.\\nPay attention to use date(\\'now\\') function to get the current date, if the question involves \"today\".\\n\\nUse the following format:\\n\\nQuestion: Question here\\nSQLQuery: SQL Query to run\\nSQLResult: Result of the SQLQuery\\nAnswer: Final answer here\\n\\nOnly use the following tables:\\n{table_info}\\n\\nQuestion: {input}')\n",
       "             | RunnableBinding(bound=ChatGroq(client=<groq.resources.chat.completions.Completions object at 0x000001B04D85DA00>, async_client=<groq.resources.chat.completions.AsyncCompletions object at 0x000001B04D85E4E0>, model_name='llama3-8b-8192', groq_api_key=SecretStr('**********')), kwargs={'stop': ['\\nSQLResult:']})\n",
       "             | StrOutputParser()\n",
       "             | RunnableLambda(_strip)\n",
       "             | RunnableLambda(lambda x: extract_query(x))\n",
       "    })\n",
       "  | RunnableAssign(mapper={\n",
       "      result: RunnableLambda(itemgetter('query'))\n",
       "              | QuerySQLDataBaseTool(db=<langchain_community.utilities.sql_database.SQLDatabase object at 0x000001B04E91CEF0>)\n",
       "    })\n",
       "  | PromptTemplate(input_variables=['query', 'question', 'result'], template='\\n    \"You are customer service agent for an e-commerce store located in Nepal.The store sell electronics and gadgets and you are chatting with a customer who need help.\\n    Given the following user question, corresponding  SQL query, and the result of the query, respond to the user with the suitable answer to the question without adding anything up in a short and concise manner as possible.\\n    \\n    Question: {question}\\n    SQL Query: {query}\\n    SQL Result: {result}\\n    Answer:\\n    ')\n",
       "  | ChatGroq(client=<groq.resources.chat.completions.Completions object at 0x000001B04D85DA00>, async_client=<groq.resources.chat.completions.AsyncCompletions object at 0x000001B04D85E4E0>, model_name='llama3-8b-8192', groq_api_key=SecretStr('**********'))\n",
       "  | StrOutputParser()), (RunnableLambda(lambda x: 'general_information' in x), RunnableLambda(lambda x: getDictRag(x))\n",
       "  | RunnableBinding(bound=RunnableAssign(mapper={\n",
       "      context: RunnableBinding(bound=RunnableLambda(lambda x: x['input'])\n",
       "               | VectorStoreRetriever(tags=['PineconeVectorStore', 'HuggingFaceEmbeddings'], vectorstore=<langchain_pinecone.vectorstores.PineconeVectorStore object at 0x000001B04D8C8F50>, search_kwargs={'k': 2}), config={'run_name': 'retrieve_documents'})\n",
       "    })\n",
       "    | RunnableAssign(mapper={\n",
       "        answer: RunnableBinding(bound=RunnableBinding(bound=RunnableAssign(mapper={\n",
       "                  context: RunnableLambda(format_docs)\n",
       "                }), config={'run_name': 'format_inputs'})\n",
       "                | ChatPromptTemplate(input_variables=['context', 'input'], messages=[SystemMessagePromptTemplate(prompt=PromptTemplate(input_variables=['context'], template=\"You are customer service agent for an e-commerce store.The store sell electronics and gadgets and you are chatting with a customer who need help.Use the retrieved information or chat history to answer the customer's question.If the retrieved information is not useful or the chat history is not relevant, you can ignore it and just answer the question.but remember you only answer about the store and questions related to it and nothing else.If asked anything else just say that you are just customer service agent and you can only answer about the store.\\n\\n{context}\")), HumanMessagePromptTemplate(prompt=PromptTemplate(input_variables=['input'], template='{input}'))])\n",
       "                | ChatGroq(client=<groq.resources.chat.completions.Completions object at 0x000001B04D85DA00>, async_client=<groq.resources.chat.completions.AsyncCompletions object at 0x000001B04D85E4E0>, model_name='llama3-8b-8192', groq_api_key=SecretStr('**********'))\n",
       "                | StrOutputParser(), config={'run_name': 'stuff_documents_chain'})\n",
       "      }), config={'run_name': 'retrieval_chain'}))], default=ChatPromptTemplate(input_variables=[], messages=[SystemMessagePromptTemplate(prompt=PromptTemplate(input_variables=[], template='You are a customer service representative for an e-commerce store. You are chatting with a customer who needs help.')), HumanMessagePromptTemplate(prompt=PromptTemplate(input_variables=[], template='You received a question which is not related to you so you should not have to answer it so just say that you are a customer service agent and you can only answer about the store.'))])\n",
       "  | ChatGroq(client=<groq.resources.chat.completions.Completions object at 0x000001B04D85DA00>, async_client=<groq.resources.chat.completions.AsyncCompletions object at 0x000001B04D85E4E0>, model_name='llama3-8b-8192', groq_api_key=SecretStr('**********'))\n",
       "  | StrOutputParser())"
      ]
     },
     "execution_count": 52,
     "metadata": {},
     "output_type": "execute_result"
    }
   ],
   "source": [
    "sql_rag_chain"
   ]
  },
  {
   "cell_type": "code",
   "execution_count": 53,
   "metadata": {},
   "outputs": [
    {
     "name": "stdout",
     "output_type": "stream",
     "text": [
      "I would classify the question \"Where is the store located?\" as:\n",
      "\n",
      "2. 'general_information'\n",
      "\n",
      "This is because the customer is asking about the store's physical location, which is a piece of general information about the store and not related to a specific product or product inquiry.\n"
     ]
    }
   ],
   "source": [
    "response = sql_rag_chain.invoke({\"question\": \"Where is the store located?\"})"
   ]
  },
  {
   "cell_type": "code",
   "execution_count": 54,
   "metadata": {},
   "outputs": [
    {
     "data": {
      "text/plain": [
       "{'input': 'I would classify the question \"Where is the store located?\" as:\\n\\n2. \\'general_information\\'\\n\\nThis is because the customer is asking about the store\\'s physical location, which is a piece of general information about the store and not related to a specific product or product inquiry.',\n",
       " 'context': [Document(page_content='## What is the name of the store?\\n- The name of the store is All Electronics store.', metadata={'source': 'info.txt'}),\n",
       "  Document(page_content='## Where is the store located?\\n- The Store is located in Dharan sunsari district Nepal.\\n\\n## Who own the store?\\n- The owner is Manoj Baniya.', metadata={'source': 'info.txt'})],\n",
       " 'answer': \"Thank you for the clarification!\\n\\nYou're welcome to ask me anything about All Electronics Store, and I'll do my best to help.\"}"
      ]
     },
     "execution_count": 54,
     "metadata": {},
     "output_type": "execute_result"
    }
   ],
   "source": [
    "response"
   ]
  },
  {
   "cell_type": "markdown",
   "metadata": {},
   "source": [
    "## APPROACH2: RUNNABLE LAMBDA CUSTOM FUNCTION"
   ]
  },
  {
   "cell_type": "code",
   "execution_count": 121,
   "metadata": {},
   "outputs": [],
   "source": [
    "general_chain = PromptTemplate.from_template(\n",
    "    \"\"\"\n",
    "    Respond to the user that you dont answer that question as you are a customer service agent and you can only answer about the store.\n",
    "    \"\"\"\n",
    ") | llm | StrOutputParser()"
   ]
  },
  {
   "cell_type": "code",
   "execution_count": 135,
   "metadata": {},
   "outputs": [],
   "source": [
    "def route(info):\n",
    "    print(info)\n",
    "    if \"general_information\" in info[\"topic\"].lower():\n",
    "        question = info[\"question\"]\n",
    "        return RunnableLambda(lambda x: {\"input\": question}) | rag_chain | RunnableLambda(lambda x: x[\"answer\"])\n",
    "    elif \"product_inquiry\" in info[\"topic\"].lower():\n",
    "        return sql_chain\n",
    "    else:\n",
    "        return general_chain"
   ]
  },
  {
   "cell_type": "code",
   "execution_count": 136,
   "metadata": {},
   "outputs": [],
   "source": [
    "sql_rag_chain_2 = {\"topic\": classification_chain, \"question\": lambda x: x[\"question\"]} | RunnableLambda(\n",
    "    route\n",
    ")"
   ]
  },
  {
   "cell_type": "code",
   "execution_count": 124,
   "metadata": {},
   "outputs": [
    {
     "data": {
      "text/plain": [
       "{\n",
       "  topic: ChatPromptTemplate(input_variables=['question'], messages=[SystemMessagePromptTemplate(prompt=PromptTemplate(input_variables=[], template='You are a customer service agent who is expert in classifying the customer questions in ecommerce store.')), HumanMessagePromptTemplate(prompt=PromptTemplate(input_variables=['question'], template=\"Classify the question: {question} as one of the following:\\n1. 'product_inquiry': If the customer is asking about specific product price, product details or product stock only.\\n2. 'general_information': If the customer is asking about the store information, store location, store policies or anything that is general information about the store.\\n3. 'others': If the question does not fall in any of the above categories and is like out of topic for a customer support service.\"))])\n",
       "         | ChatGroq(client=<groq.resources.chat.completions.Completions object at 0x000001B04D85DA00>, async_client=<groq.resources.chat.completions.AsyncCompletions object at 0x000001B04D85E4E0>, model_name='llama3-8b-8192', groq_api_key=SecretStr('**********'))\n",
       "         | StrOutputParser(),\n",
       "  question: RunnableLambda(lambda x: x['question'])\n",
       "}\n",
       "| RunnableLambda(lambda x: {'input': question})"
      ]
     },
     "execution_count": 124,
     "metadata": {},
     "output_type": "execute_result"
    }
   ],
   "source": [
    "sql_rag_chain_2"
   ]
  },
  {
   "cell_type": "code",
   "execution_count": 80,
   "metadata": {},
   "outputs": [
    {
     "name": "stdout",
     "output_type": "stream",
     "text": [
      "{'topic': 'Based on the question \"what is the price of redmi note 9 pro\", I would classify it as:\\n\\n1. \\'product_inquiry\\'\\n\\nThe customer is asking about the price of a specific product, which requires looking up the database to provide the information.', 'question': 'what is the price of redmi note 9 pro'}\n"
     ]
    },
    {
     "data": {
      "text/plain": [
       "'Dear customer, the price of Redmi Note 9 Pro is NPR 20,000.'"
      ]
     },
     "execution_count": 80,
     "metadata": {},
     "output_type": "execute_result"
    }
   ],
   "source": [
    "sql_rag_chain_2.invoke({\"question\": \"what is the price of redmi note 9 pro\"})"
   ]
  },
  {
   "cell_type": "code",
   "execution_count": 81,
   "metadata": {},
   "outputs": [
    {
     "name": "stdout",
     "output_type": "stream",
     "text": [
      "{'topic': 'I would classify the question \"what is 2 + 2\" as \\'others\\'. This question is not related to the ecommerce store or its products, and is a basic math question that is outside the scope of the customer support service.', 'question': 'what is 2 + 2'}\n"
     ]
    },
    {
     "data": {
      "text/plain": [
       "\"I'm happy to help you with your inquiry! However, I want to clarify that I'm a customer service agent for our store, and I'm only authorized to provide information and assistance related to our products, services, and policies. I apologize, but I won't be able to answer questions that fall outside of our store's scope.\\n\\nIf you have any questions or concerns about our store, such as product availability, pricing, or return policies, I'd be more than happy to help. Please feel free to ask me anything related to our store, and I'll do my best to assist you.\""
      ]
     },
     "execution_count": 81,
     "metadata": {},
     "output_type": "execute_result"
    }
   ],
   "source": [
    "sql_rag_chain_2.invoke({\"question\": \"what is 2 + 2\"})"
   ]
  },
  {
   "cell_type": "code",
   "execution_count": 137,
   "metadata": {},
   "outputs": [
    {
     "name": "stdout",
     "output_type": "stream",
     "text": [
      "{'topic': 'I would classify the question \"where is the store located?\" as:\\n\\n2. \\'general_information\\'\\n\\nThis question falls under the category of general information about the store, as the customer is asking about the physical location of the store.', 'question': 'where is the store located?'}\n"
     ]
    },
    {
     "data": {
      "text/plain": [
       "'The All Electronics store is located in Dharan, Sunsari district, Nepal.'"
      ]
     },
     "execution_count": 137,
     "metadata": {},
     "output_type": "execute_result"
    }
   ],
   "source": [
    "sql_rag_chain_2.invoke({\"question\": \"where is the store located?\"})"
   ]
  },
  {
   "cell_type": "code",
   "execution_count": 132,
   "metadata": {},
   "outputs": [
    {
     "name": "stdout",
     "output_type": "stream",
     "text": [
      "{'topic': 'I would classify the question \"What is the delivery options?\" as:\\n\\n2. \\'general_information\\'\\n\\nThis question is asking about the store\\'s delivery options, which is general information about the store\\'s policies and services. It\\'s not specifically asking about a product, so it doesn\\'t fit into the \\'product_inquiry\\' category.', 'question': 'What is the delivery options?'}\n"
     ]
    },
    {
     "data": {
      "text/plain": [
       "{'input': 'What is the delivery options?',\n",
       " 'context': [Document(page_content='## What are the delivery options\\n- The delivery  options is available all over Nepal and the delivery charge is Rs. 120 standard price and delivery is free inside Dharan area.', metadata={'source': 'info.txt'}),\n",
       "  Document(page_content='## How long the delivery takes\\n- The delivery takes about 2-3 days for all over Nepal and if you are within Dharan Delivery will be the same day you order product.', metadata={'source': 'info.txt'})],\n",
       " 'answer': \"Thank you for reaching out! According to our store's delivery policy, we have delivery options available all over Nepal. The delivery charge is Rs. 120, which is our standard price. However, if you are within the Dharan area, your delivery is absolutely free!\"}"
      ]
     },
     "execution_count": 132,
     "metadata": {},
     "output_type": "execute_result"
    }
   ],
   "source": [
    "sql_rag_chain_2.invoke({\"question\": \"What is the delivery options?\"})"
   ]
  },
  {
   "cell_type": "code",
   "execution_count": 126,
   "metadata": {},
   "outputs": [
    {
     "name": "stdout",
     "output_type": "stream",
     "text": [
      "{'topic': 'I would classify the question \"How many products are there?\" as \\'product_inquiry\\'. The customer is asking about the number of products available in the store, which falls under the category of product information and is a specific inquiry about a product.', 'question': 'How many products are there?'}\n"
     ]
    },
    {
     "data": {
      "text/plain": [
       "'We have a total of 9 products available in our store.'"
      ]
     },
     "execution_count": 126,
     "metadata": {},
     "output_type": "execute_result"
    }
   ],
   "source": [
    "sql_rag_chain_2.invoke({\"question\": \"How many products are there?\"})"
   ]
  },
  {
   "cell_type": "code",
   "execution_count": 129,
   "metadata": {},
   "outputs": [
    {
     "name": "stdout",
     "output_type": "stream",
     "text": [
      "{'topic': 'I would classify the question \"DO you sell playstation?\" as \\'product_inquiry\\'. The customer is asking if the store sells a specific product (PlayStation), which falls under the category of product inquiry.', 'question': 'DO you sell playstation?'}\n"
     ]
    },
    {
     "data": {
      "text/plain": [
       "\"I'm happy to help! We don't currently have playstation products in our inventory.\""
      ]
     },
     "execution_count": 129,
     "metadata": {},
     "output_type": "execute_result"
    }
   ],
   "source": [
    "sql_rag_chain_2.invoke({\"question\": \"DO you sell playstation?\"})"
   ]
  }
 ],
 "metadata": {
  "kernelspec": {
   "display_name": "Python 3",
   "language": "python",
   "name": "python3"
  },
  "language_info": {
   "codemirror_mode": {
    "name": "ipython",
    "version": 3
   },
   "file_extension": ".py",
   "mimetype": "text/x-python",
   "name": "python",
   "nbconvert_exporter": "python",
   "pygments_lexer": "ipython3",
   "version": "3.12.1"
  }
 },
 "nbformat": 4,
 "nbformat_minor": 2
}
