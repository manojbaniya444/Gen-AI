{
 "cells": [
  {
   "cell_type": "code",
   "execution_count": 3,
   "metadata": {},
   "outputs": [
    {
     "data": {
      "text/plain": [
       "True"
      ]
     },
     "execution_count": 3,
     "metadata": {},
     "output_type": "execute_result"
    }
   ],
   "source": [
    "import os\n",
    "from dotenv import load_dotenv\n",
    "\n",
    "load_dotenv()"
   ]
  },
  {
   "cell_type": "code",
   "execution_count": 4,
   "metadata": {},
   "outputs": [],
   "source": [
    "os.environ[\"GROQ_API_KEY\"] = os.getenv(\"GROQ_API_KEY\")"
   ]
  },
  {
   "cell_type": "code",
   "execution_count": 5,
   "metadata": {},
   "outputs": [],
   "source": [
    "from langchain_community.utilities.sql_database import SQLDatabase\n",
    "\n",
    "db = SQLDatabase.from_uri(\"sqlite:///products.db\")"
   ]
  },
  {
   "cell_type": "code",
   "execution_count": 14,
   "metadata": {},
   "outputs": [],
   "source": [
    "from langchain_community.agent_toolkits import create_sql_agent\n",
    "from langchain_groq import ChatGroq\n",
    "\n",
    "llm = ChatGroq(\n",
    "    model=\"llama3-8b-8192\"\n",
    ")\n",
    "agent_executor = create_sql_agent(\n",
    "    llm,\n",
    "    db=db,\n",
    "    agent_type=\"zero-shot-react-description\",\n",
    "    verbose=True\n",
    ")"
   ]
  },
  {
   "cell_type": "code",
   "execution_count": 15,
   "metadata": {},
   "outputs": [
    {
     "data": {
      "text/plain": [
       "langchain.agents.agent.AgentExecutor"
      ]
     },
     "execution_count": 15,
     "metadata": {},
     "output_type": "execute_result"
    }
   ],
   "source": [
    "type(agent_executor)"
   ]
  },
  {
   "cell_type": "code",
   "execution_count": 16,
   "metadata": {},
   "outputs": [
    {
     "data": {
      "text/plain": [
       "<bound method Runnable.get_prompts of AgentExecutor(name='SQL Agent Executor', verbose=True, agent=RunnableAgent(runnable=RunnableAssign(mapper={\n",
       "  agent_scratchpad: RunnableLambda(lambda x: format_log_to_str(x['intermediate_steps']))\n",
       "})\n",
       "| PromptTemplate(input_variables=['agent_scratchpad', 'input'], partial_variables={'tools': \"sql_db_query - Input to this tool is a detailed and correct SQL query, output is a result from the database. If the query is not correct, an error message will be returned. If an error is returned, rewrite the query, check the query, and try again. If you encounter an issue with Unknown column 'xxxx' in 'field list', use sql_db_schema to query the correct table fields.\\nsql_db_schema - Input to this tool is a comma-separated list of tables, output is the schema and sample rows for those tables. Be sure that the tables actually exist by calling sql_db_list_tables first! Example Input: table1, table2, table3\\nsql_db_list_tables - Input is an empty string, output is a comma-separated list of tables in the database.\\nsql_db_query_checker - Use this tool to double check if your query is correct before executing it. Always use this tool before executing a query with sql_db_query!\", 'tool_names': 'sql_db_query, sql_db_schema, sql_db_list_tables, sql_db_query_checker'}, template='Answer the following questions as best you can. You have access to the following tools:\\n\\n{tools}\\n\\nUse the following format:\\n\\nQuestion: the input question you must answer\\nThought: you should always think about what to do\\nAction: the action to take, should be one of [{tool_names}]\\nAction Input: the input to the action\\nObservation: the result of the action\\n... (this Thought/Action/Action Input/Observation can repeat N times)\\nThought: I now know the final answer\\nFinal Answer: the final answer to the original input question\\n\\nBegin!\\n\\nQuestion: {input}\\nThought:{agent_scratchpad}')\n",
       "| RunnableBinding(bound=ChatGroq(client=<groq.resources.chat.completions.Completions object at 0x00000110EFD2FBF0>, async_client=<groq.resources.chat.completions.AsyncCompletions object at 0x00000110EFD2F170>, model_name='llama3-8b-8192', groq_api_key=SecretStr('**********')), kwargs={'stop': ['\\nObservation']})\n",
       "| ReActSingleInputOutputParser(), input_keys_arg=['input'], return_keys_arg=['output'], stream_runnable=True), tools=[QuerySQLDataBaseTool(description=\"Input to this tool is a detailed and correct SQL query, output is a result from the database. If the query is not correct, an error message will be returned. If an error is returned, rewrite the query, check the query, and try again. If you encounter an issue with Unknown column 'xxxx' in 'field list', use sql_db_schema to query the correct table fields.\", db=<langchain_community.utilities.sql_database.SQLDatabase object at 0x00000110DDD57E30>), InfoSQLDatabaseTool(description='Input to this tool is a comma-separated list of tables, output is the schema and sample rows for those tables. Be sure that the tables actually exist by calling sql_db_list_tables first! Example Input: table1, table2, table3', db=<langchain_community.utilities.sql_database.SQLDatabase object at 0x00000110DDD57E30>), ListSQLDatabaseTool(db=<langchain_community.utilities.sql_database.SQLDatabase object at 0x00000110DDD57E30>), QuerySQLCheckerTool(description='Use this tool to double check if your query is correct before executing it. Always use this tool before executing a query with sql_db_query!', db=<langchain_community.utilities.sql_database.SQLDatabase object at 0x00000110DDD57E30>, llm=ChatGroq(client=<groq.resources.chat.completions.Completions object at 0x00000110EFD2FBF0>, async_client=<groq.resources.chat.completions.AsyncCompletions object at 0x00000110EFD2F170>, model_name='llama3-8b-8192', groq_api_key=SecretStr('**********')), llm_chain=LLMChain(prompt=PromptTemplate(input_variables=['dialect', 'query'], template='\\n{query}\\nDouble check the {dialect} query above for common mistakes, including:\\n- Using NOT IN with NULL values\\n- Using UNION when UNION ALL should have been used\\n- Using BETWEEN for exclusive ranges\\n- Data type mismatch in predicates\\n- Properly quoting identifiers\\n- Using the correct number of arguments for functions\\n- Casting to the correct data type\\n- Using the proper columns for joins\\n\\nIf there are any of the above mistakes, rewrite the query. If there are no mistakes, just reproduce the original query.\\n\\nOutput the final SQL query only.\\n\\nSQL Query: '), llm=ChatGroq(client=<groq.resources.chat.completions.Completions object at 0x00000110EFD2FBF0>, async_client=<groq.resources.chat.completions.AsyncCompletions object at 0x00000110EFD2F170>, model_name='llama3-8b-8192', groq_api_key=SecretStr('**********'))))])>"
      ]
     },
     "execution_count": 16,
     "metadata": {},
     "output_type": "execute_result"
    }
   ],
   "source": [
    "agent_executor.get_prompts"
   ]
  },
  {
   "cell_type": "code",
   "execution_count": 17,
   "metadata": {},
   "outputs": [
    {
     "name": "stdout",
     "output_type": "stream",
     "text": [
      "\n",
      "\n",
      "\u001b[1m> Entering new SQL Agent Executor chain...\u001b[0m\n",
      "\u001b[32;1m\u001b[1;3mThought: To answer this question, I need to know the tables and columns available in the database. I'll start by listing all the tables in the database.\n",
      "\n",
      "Action: sql_db_list_tables\n",
      "Action Input: (empty string)\u001b[0m\u001b[38;5;200m\u001b[1;3mproducts\u001b[0m\u001b[32;1m\u001b[1;3mLet's get started!\n",
      "\n",
      "Action: sql_db_list_tables\n",
      "Action Input: (empty string)\u001b[0m\u001b[38;5;200m\u001b[1;3mproducts\u001b[0m\u001b[32;1m\u001b[1;3mAction: sql_db_schema\n",
      "Action Input: products\u001b[0m\u001b[33;1m\u001b[1;3m\n",
      "CREATE TABLE products (\n",
      "\tid INTEGER, \n",
      "\tname TEXT NOT NULL, \n",
      "\turl TEXT, \n",
      "\tdescription TEXT, \n",
      "\tstock_items INTEGER NOT NULL, \n",
      "\tprice REAL NOT NULL, \n",
      "\tPRIMARY KEY (id)\n",
      ")\n",
      "\n",
      "/*\n",
      "3 rows from products table:\n",
      "id\tname\turl\tdescription\tstock_items\tprice\n",
      "1\tI Phone 15 pro max\thttp://res.cloudinary.com/dujmaxztw/image/upload/v1710849551/dypzg5qwma5k2t24nr9c.jpg\tThis is the latest I phone 15 pro max mobile\t2\t190000.0\n",
      "2\tRedmi Note 9 pro\thttp://res.cloudinary.com/dujmaxztw/image/upload/v1710849551/dypzg5qwma5k2t24nr9c.jpg\tThis is redmi note 9 pro latest global version mobile\t9\t20000.0\n",
      "3\tcalculator\thttp://res.cloudinary.com/dujmaxztw/image/upload/v1710849551/dypzg5qwma5k2t24nr9c.jpg\tcasio fx caculator\t2\t1200.0\n",
      "*/\u001b[0m\u001b[32;1m\u001b[1;3mQuestion: List the top 2 products by price\n",
      "Thought: Now that I have the schema and sample rows for the products table, I can write a query to get the top 2 products by price.\n",
      "\n",
      "Action: sql_db_query_checker\n",
      "Action Input: SELECT * FROM products ORDER BY price DESC LIMIT 2\u001b[0m\u001b[36;1m\u001b[1;3mThe original query is correct and does not contain any common mistakes. The query is:\n",
      "\n",
      "SELECT * FROM products ORDER BY price DESC LIMIT 2\u001b[0m\u001b[32;1m\u001b[1;3mAction: sql_db_query\n",
      "Action Input: SELECT * FROM products ORDER BY price DESC LIMIT 2\u001b[0m\u001b[36;1m\u001b[1;3m[(8, 'Samsung S23 Ultra', 'https://ibb.co/DwFxTND', 'Samsung s23 ultra phone titanium.', 3, 210000.0), (5, 'Samsung Galaxy S22', 'https://ibb.co/Svdqcpb', 'This is samsung galaxy S22', 5, 200000.0)]\u001b[0m\u001b[32;1m\u001b[1;3mFinal Answer: The top 2 products by price are Samsung S23 Ultra with a price of 210000.0 and Samsung Galaxy S22 with a price of 200000.0.\n",
      "\n",
      "Note: The query executed on the database returns the top 2 products with the highest price.\u001b[0m\n",
      "\n",
      "\u001b[1m> Finished chain.\u001b[0m\n"
     ]
    },
    {
     "data": {
      "text/plain": [
       "{'input': 'List the top 2 products by price',\n",
       " 'output': 'The top 2 products by price are Samsung S23 Ultra with a price of 210000.0 and Samsung Galaxy S22 with a price of 200000.0.\\n\\nNote: The query executed on the database returns the top 2 products with the highest price.'}"
      ]
     },
     "execution_count": 17,
     "metadata": {},
     "output_type": "execute_result"
    }
   ],
   "source": [
    "agent_executor.invoke(\n",
    "    \"List the top 2 products by price\"\n",
    ")"
   ]
  },
  {
   "cell_type": "code",
   "execution_count": 18,
   "metadata": {},
   "outputs": [
    {
     "name": "stdout",
     "output_type": "stream",
     "text": [
      "\n",
      "\n",
      "\u001b[1m> Entering new SQL Agent Executor chain...\u001b[0m\n",
      "\u001b[32;1m\u001b[1;3mI'll start by thinking...\n",
      "\n",
      "Thought: To find the price of a Redmi mobile, I need to query a database that contains information about mobile phones. Since I have access to SQL database tools, I'll try to use sql_db_list_tables to get a list of tables in the database that might contain this information.\n",
      "\n",
      "Action: sql_db_list_tables\n",
      "Action Input: (empty string)\u001b[0m\u001b[38;5;200m\u001b[1;3mproducts\u001b[0m\u001b[32;1m\u001b[1;3mAction: sql_db_schema\n",
      "Action Input: products\u001b[0m\u001b[33;1m\u001b[1;3m\n",
      "CREATE TABLE products (\n",
      "\tid INTEGER, \n",
      "\tname TEXT NOT NULL, \n",
      "\turl TEXT, \n",
      "\tdescription TEXT, \n",
      "\tstock_items INTEGER NOT NULL, \n",
      "\tprice REAL NOT NULL, \n",
      "\tPRIMARY KEY (id)\n",
      ")\n",
      "\n",
      "/*\n",
      "3 rows from products table:\n",
      "id\tname\turl\tdescription\tstock_items\tprice\n",
      "1\tI Phone 15 pro max\thttp://res.cloudinary.com/dujmaxztw/image/upload/v1710849551/dypzg5qwma5k2t24nr9c.jpg\tThis is the latest I phone 15 pro max mobile\t2\t190000.0\n",
      "2\tRedmi Note 9 pro\thttp://res.cloudinary.com/dujmaxztw/image/upload/v1710849551/dypzg5qwma5k2t24nr9c.jpg\tThis is redmi note 9 pro latest global version mobile\t9\t20000.0\n",
      "3\tcalculator\thttp://res.cloudinary.com/dujmaxztw/image/upload/v1710849551/dypzg5qwma5k2t24nr9c.jpg\tcasio fx caculator\t2\t1200.0\n",
      "*/\u001b[0m\u001b[32;1m\u001b[1;3mThought: Now that I have the schema of the products table, I can query it to find the price of the Redmi mobile.\n",
      "\n",
      "Action: sql_db_query_checker\n",
      "Action Input: SELECT * FROM products WHERE name = 'Redmi Note 9 pro'\u001b[0m\u001b[36;1m\u001b[1;3mThe original query is correct and does not contain any common mistakes. Here is the original query again:\n",
      "\n",
      "```\n",
      "SELECT * FROM products WHERE name = 'Redmi Note 9 pro'\n",
      "```\u001b[0m\u001b[32;1m\u001b[1;3mAction: sql_db_query\n",
      "Action Input: SELECT price FROM products WHERE name = 'Redmi Note 9 pro'\u001b[0m\u001b[36;1m\u001b[1;3m[(20000.0,)]\u001b[0m\u001b[32;1m\u001b[1;3mFinal Answer: The price of the Redmi Note 9 pro is 20000.0.\u001b[0m\n",
      "\n",
      "\u001b[1m> Finished chain.\u001b[0m\n"
     ]
    }
   ],
   "source": [
    "response = agent_executor.invoke(\"what is the price of redmi mobile\")"
   ]
  },
  {
   "cell_type": "code",
   "execution_count": 19,
   "metadata": {},
   "outputs": [
    {
     "name": "stdout",
     "output_type": "stream",
     "text": [
      "The price of the Redmi Note 9 pro is 20000.0.\n"
     ]
    }
   ],
   "source": [
    "print(response[\"output\"])"
   ]
  },
  {
   "cell_type": "code",
   "execution_count": 20,
   "metadata": {},
   "outputs": [
    {
     "name": "stdout",
     "output_type": "stream",
     "text": [
      "\n",
      "\n",
      "\u001b[1m> Entering new SQL Agent Executor chain...\u001b[0m\n",
      "\u001b[32;1m\u001b[1;3mThought: The Samsung Galaxy S22 is a smartphone, so I need to gather information about it. I can start by querying the database to get the specifications and features of the phone.\n",
      "\n",
      "Action: sql_db_query\n",
      "Action Input: SELECT * FROM smartphones WHERE model = 'Samsung Galaxy S22';\u001b[0m\u001b[36;1m\u001b[1;3mError: (sqlite3.OperationalError) no such table: smartphones\n",
      "[SQL: SELECT * FROM smartphones WHERE model = 'Samsung Galaxy S22';]\n",
      "(Background on this error at: https://sqlalche.me/e/20/e3q8)\u001b[0m\u001b[32;1m\u001b[1;3mThought: Oh no! It looks like the table \"smartphones\" does not exist in the database. I need to check the list of tables to see if the table exists.\n",
      "\n",
      "Action: sql_db_list_tables\n",
      "Action Input: (empty string)\u001b[0m\u001b[38;5;200m\u001b[1;3mproducts\u001b[0m\u001b[32;1m\u001b[1;3mLet's continue from here.\n",
      "\n",
      "Thought: It looks like the table \"smartphones\" does not exist in the database, but I do see a table called \"products\" in the list of tables. I'm going to query the schema of the \"products\" table to see if it contains information about the Samsung Galaxy S22.\n",
      "\n",
      "Action: sql_db_schema\n",
      "Action Input: products\u001b[0m\u001b[33;1m\u001b[1;3m\n",
      "CREATE TABLE products (\n",
      "\tid INTEGER, \n",
      "\tname TEXT NOT NULL, \n",
      "\turl TEXT, \n",
      "\tdescription TEXT, \n",
      "\tstock_items INTEGER NOT NULL, \n",
      "\tprice REAL NOT NULL, \n",
      "\tPRIMARY KEY (id)\n",
      ")\n",
      "\n",
      "/*\n",
      "3 rows from products table:\n",
      "id\tname\turl\tdescription\tstock_items\tprice\n",
      "1\tI Phone 15 pro max\thttp://res.cloudinary.com/dujmaxztw/image/upload/v1710849551/dypzg5qwma5k2t24nr9c.jpg\tThis is the latest I phone 15 pro max mobile\t2\t190000.0\n",
      "2\tRedmi Note 9 pro\thttp://res.cloudinary.com/dujmaxztw/image/upload/v1710849551/dypzg5qwma5k2t24nr9c.jpg\tThis is redmi note 9 pro latest global version mobile\t9\t20000.0\n",
      "3\tcalculator\thttp://res.cloudinary.com/dujmaxztw/image/upload/v1710849551/dypzg5qwma5k2t24nr9c.jpg\tcasio fx caculator\t2\t1200.0\n",
      "*/\u001b[0m\u001b[32;1m\u001b[1;3mThought: I now know that the \"products\" table does not contain information about the Samsung Galaxy S22. However, I do see that it contains information about other mobile phones and other products. I'm going to try to query the table with a more general query to see if I can find any information about Samsung products.\n",
      "\n",
      "Action: sql_db_query\n",
      "Action Input: SELECT * FROM products WHERE name LIKE '%Samsung%';\u001b[0m\u001b[36;1m\u001b[1;3m[(4, 'Samsung Galaxy M30', 'https://ibb.co/sbLrxnm', 'This is samsung galaxy m30 smartphone.', 5, 20000.0), (5, 'Samsung Galaxy S22', 'https://ibb.co/Svdqcpb', 'This is samsung galaxy S22', 5, 200000.0), (6, 'Samsung Galaxy tab', 'https://ibb.co/YcfZcfm', 'This is samsung galaxy tab', 5, 110000.0), (8, 'Samsung S23 Ultra', 'https://ibb.co/DwFxTND', 'Samsung s23 ultra phone titanium.', 3, 210000.0)]\u001b[0m\u001b[32;1m\u001b[1;3mThought: It looks like the query was successful and returned some results. The query returned rows from the products table where the name contains the string 'Samsung'. This means that the table does contain information about Samsung products. I can see that it contains information about Samsung Galaxy M30, Samsung Galaxy S22, Samsung Galaxy tab, and Samsung S23 Ultra.\n",
      "\n",
      "Action: sql_db_query\n",
      "Action Input: SELECT * FROM products WHERE name = 'Samsung Galaxy S22';\u001b[0m\u001b[36;1m\u001b[1;3m[(5, 'Samsung Galaxy S22', 'https://ibb.co/Svdqcpb', 'This is samsung galaxy S22', 5, 200000.0)]\u001b[0m\u001b[32;1m\u001b[1;3mFinal Answer: The Samsung Galaxy S22 is a smartphone that is part of the Samsung Galaxy series, with a price of $200,000 and a description of \"This is samsung galaxy S22\".\u001b[0m\n",
      "\n",
      "\u001b[1m> Finished chain.\u001b[0m\n"
     ]
    },
    {
     "data": {
      "text/plain": [
       "{'input': 'Exlain the product samsung galaxy s22',\n",
       " 'output': 'The Samsung Galaxy S22 is a smartphone that is part of the Samsung Galaxy series, with a price of $200,000 and a description of \"This is samsung galaxy S22\".'}"
      ]
     },
     "execution_count": 20,
     "metadata": {},
     "output_type": "execute_result"
    }
   ],
   "source": [
    "agent_executor.invoke(\"Exlain the product samsung galaxy s22\")"
   ]
  },
  {
   "cell_type": "markdown",
   "metadata": {},
   "source": [
    "## Under the hood"
   ]
  },
  {
   "cell_type": "code",
   "execution_count": 22,
   "metadata": {},
   "outputs": [],
   "source": [
    "from langchain_community.agent_toolkits import SQLDatabaseToolkit\n",
    "\n",
    "toolkit = SQLDatabaseToolkit(db=db, llm=llm)\n",
    "context = toolkit.get_context()\n",
    "tools = toolkit.get_tools()"
   ]
  },
  {
   "cell_type": "code",
   "execution_count": 26,
   "metadata": {},
   "outputs": [
    {
     "data": {
      "text/plain": [
       "{'table_info': '\\nCREATE TABLE products (\\n\\tid INTEGER, \\n\\tname TEXT NOT NULL, \\n\\turl TEXT, \\n\\tdescription TEXT, \\n\\tstock_items INTEGER NOT NULL, \\n\\tprice REAL NOT NULL, \\n\\tPRIMARY KEY (id)\\n)\\n\\n/*\\n3 rows from products table:\\nid\\tname\\turl\\tdescription\\tstock_items\\tprice\\n1\\tI Phone 15 pro max\\thttp://res.cloudinary.com/dujmaxztw/image/upload/v1710849551/dypzg5qwma5k2t24nr9c.jpg\\tThis is the latest I phone 15 pro max mobile\\t2\\t190000.0\\n2\\tRedmi Note 9 pro\\thttp://res.cloudinary.com/dujmaxztw/image/upload/v1710849551/dypzg5qwma5k2t24nr9c.jpg\\tThis is redmi note 9 pro latest global version mobile\\t9\\t20000.0\\n3\\tcalculator\\thttp://res.cloudinary.com/dujmaxztw/image/upload/v1710849551/dypzg5qwma5k2t24nr9c.jpg\\tcasio fx caculator\\t2\\t1200.0\\n*/',\n",
       " 'table_names': 'products'}"
      ]
     },
     "execution_count": 26,
     "metadata": {},
     "output_type": "execute_result"
    }
   ],
   "source": [
    "context"
   ]
  }
 ],
 "metadata": {
  "kernelspec": {
   "display_name": "Python 3",
   "language": "python",
   "name": "python3"
  },
  "language_info": {
   "codemirror_mode": {
    "name": "ipython",
    "version": 3
   },
   "file_extension": ".py",
   "mimetype": "text/x-python",
   "name": "python",
   "nbconvert_exporter": "python",
   "pygments_lexer": "ipython3",
   "version": "3.12.1"
  }
 },
 "nbformat": 4,
 "nbformat_minor": 2
}
