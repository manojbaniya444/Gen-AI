{
 "cells": [
  {
   "cell_type": "code",
   "execution_count": 1,
   "metadata": {},
   "outputs": [
    {
     "data": {
      "text/plain": [
       "True"
      ]
     },
     "execution_count": 1,
     "metadata": {},
     "output_type": "execute_result"
    }
   ],
   "source": [
    "import os\n",
    "from dotenv import load_dotenv\n",
    "\n",
    "load_dotenv()"
   ]
  },
  {
   "cell_type": "code",
   "execution_count": 2,
   "metadata": {},
   "outputs": [],
   "source": [
    "os.environ[\"GROQ_API_KEY\"] = os.getenv(\"GROQ_API_KEY\")"
   ]
  },
  {
   "cell_type": "code",
   "execution_count": 3,
   "metadata": {},
   "outputs": [],
   "source": [
    "from langchain_community.utilities.sql_database import SQLDatabase\n",
    "\n",
    "db = SQLDatabase.from_uri(\"sqlite:///products.db\")"
   ]
  },
  {
   "cell_type": "code",
   "execution_count": 4,
   "metadata": {},
   "outputs": [],
   "source": [
    "from langchain_community.agent_toolkits import create_sql_agent\n",
    "from langchain_groq import ChatGroq\n",
    "\n",
    "llm = ChatGroq(\n",
    "    model=\"llama3-8b-8192\"\n",
    ")\n",
    "agent_executor = create_sql_agent(\n",
    "    llm,\n",
    "    db=db,\n",
    "    agent_type=\"zero-shot-react-description\",\n",
    "    verbose=True\n",
    ")"
   ]
  },
  {
   "cell_type": "code",
   "execution_count": 5,
   "metadata": {},
   "outputs": [
    {
     "data": {
      "text/plain": [
       "langchain.agents.agent.AgentExecutor"
      ]
     },
     "execution_count": 5,
     "metadata": {},
     "output_type": "execute_result"
    }
   ],
   "source": [
    "type(agent_executor)"
   ]
  },
  {
   "cell_type": "code",
   "execution_count": 6,
   "metadata": {},
   "outputs": [
    {
     "data": {
      "text/plain": [
       "<bound method Runnable.get_prompts of AgentExecutor(name='SQL Agent Executor', verbose=True, agent=RunnableAgent(runnable=RunnableAssign(mapper={\n",
       "  agent_scratchpad: RunnableLambda(lambda x: format_log_to_str(x['intermediate_steps']))\n",
       "})\n",
       "| PromptTemplate(input_variables=['agent_scratchpad', 'input'], partial_variables={'tools': \"sql_db_query - Input to this tool is a detailed and correct SQL query, output is a result from the database. If the query is not correct, an error message will be returned. If an error is returned, rewrite the query, check the query, and try again. If you encounter an issue with Unknown column 'xxxx' in 'field list', use sql_db_schema to query the correct table fields.\\nsql_db_schema - Input to this tool is a comma-separated list of tables, output is the schema and sample rows for those tables. Be sure that the tables actually exist by calling sql_db_list_tables first! Example Input: table1, table2, table3\\nsql_db_list_tables - Input is an empty string, output is a comma-separated list of tables in the database.\\nsql_db_query_checker - Use this tool to double check if your query is correct before executing it. Always use this tool before executing a query with sql_db_query!\", 'tool_names': 'sql_db_query, sql_db_schema, sql_db_list_tables, sql_db_query_checker'}, template='Answer the following questions as best you can. You have access to the following tools:\\n\\n{tools}\\n\\nUse the following format:\\n\\nQuestion: the input question you must answer\\nThought: you should always think about what to do\\nAction: the action to take, should be one of [{tool_names}]\\nAction Input: the input to the action\\nObservation: the result of the action\\n... (this Thought/Action/Action Input/Observation can repeat N times)\\nThought: I now know the final answer\\nFinal Answer: the final answer to the original input question\\n\\nBegin!\\n\\nQuestion: {input}\\nThought:{agent_scratchpad}')\n",
       "| RunnableBinding(bound=ChatGroq(client=<groq.resources.chat.completions.Completions object at 0x0000028530608F50>, async_client=<groq.resources.chat.completions.AsyncCompletions object at 0x00000285306099D0>, model_name='llama3-8b-8192', groq_api_key=SecretStr('**********')), kwargs={'stop': ['\\nObservation']})\n",
       "| ReActSingleInputOutputParser(), input_keys_arg=['input'], return_keys_arg=['output'], stream_runnable=True), tools=[QuerySQLDataBaseTool(description=\"Input to this tool is a detailed and correct SQL query, output is a result from the database. If the query is not correct, an error message will be returned. If an error is returned, rewrite the query, check the query, and try again. If you encounter an issue with Unknown column 'xxxx' in 'field list', use sql_db_schema to query the correct table fields.\", db=<langchain_community.utilities.sql_database.SQLDatabase object at 0x000002852DE3BC80>), InfoSQLDatabaseTool(description='Input to this tool is a comma-separated list of tables, output is the schema and sample rows for those tables. Be sure that the tables actually exist by calling sql_db_list_tables first! Example Input: table1, table2, table3', db=<langchain_community.utilities.sql_database.SQLDatabase object at 0x000002852DE3BC80>), ListSQLDatabaseTool(db=<langchain_community.utilities.sql_database.SQLDatabase object at 0x000002852DE3BC80>), QuerySQLCheckerTool(description='Use this tool to double check if your query is correct before executing it. Always use this tool before executing a query with sql_db_query!', db=<langchain_community.utilities.sql_database.SQLDatabase object at 0x000002852DE3BC80>, llm=ChatGroq(client=<groq.resources.chat.completions.Completions object at 0x0000028530608F50>, async_client=<groq.resources.chat.completions.AsyncCompletions object at 0x00000285306099D0>, model_name='llama3-8b-8192', groq_api_key=SecretStr('**********')), llm_chain=LLMChain(prompt=PromptTemplate(input_variables=['dialect', 'query'], template='\\n{query}\\nDouble check the {dialect} query above for common mistakes, including:\\n- Using NOT IN with NULL values\\n- Using UNION when UNION ALL should have been used\\n- Using BETWEEN for exclusive ranges\\n- Data type mismatch in predicates\\n- Properly quoting identifiers\\n- Using the correct number of arguments for functions\\n- Casting to the correct data type\\n- Using the proper columns for joins\\n\\nIf there are any of the above mistakes, rewrite the query. If there are no mistakes, just reproduce the original query.\\n\\nOutput the final SQL query only.\\n\\nSQL Query: '), llm=ChatGroq(client=<groq.resources.chat.completions.Completions object at 0x0000028530608F50>, async_client=<groq.resources.chat.completions.AsyncCompletions object at 0x00000285306099D0>, model_name='llama3-8b-8192', groq_api_key=SecretStr('**********'))))])>"
      ]
     },
     "execution_count": 6,
     "metadata": {},
     "output_type": "execute_result"
    }
   ],
   "source": [
    "agent_executor.get_prompts"
   ]
  },
  {
   "cell_type": "code",
   "execution_count": 7,
   "metadata": {},
   "outputs": [
    {
     "name": "stdout",
     "output_type": "stream",
     "text": [
      "\n",
      "\n",
      "\u001b[1m> Entering new SQL Agent Executor chain...\u001b[0m\n",
      "\u001b[32;1m\u001b[1;3mThought: To list the top 2 products by price, I'll need to execute a SQL query that retrieves the product information and sorts it by price in descending order, limiting the result to the top 2 products.\n",
      "\n",
      "Action: sql_db_query\n",
      "Action Input: SELECT * FROM products ORDER BY price DESC LIMIT 2;\u001b[0m\u001b[36;1m\u001b[1;3m[(8, 'Samsung S23 Ultra', 'https://ibb.co/DwFxTND', 'Samsung s23 ultra phone titanium.', 3, 210000.0), (5, 'Samsung Galaxy S22', 'https://ibb.co/Svdqcpb', 'This is samsung galaxy S22', 5, 200000.0)]\u001b[0m\u001b[32;1m\u001b[1;3mThought: Now that I have the result from the query, I can see that it's returning the top 2 products by price. However, I notice that the product information includes not only the product name and price but also other fields such as product image, description, and rating. I might not need all these fields.\n",
      "\n",
      "Action: sql_db_query_checker\n",
      "Action Input: SELECT product_name, price FROM products ORDER BY price DESC LIMIT 2;\u001b[0m\u001b[36;1m\u001b[1;3mThe original query is correct and does not contain any common mistakes. It correctly selects the product name and price from the \"products\" table, orders the results by price in descending order, and limits the output to the top 2 results.\n",
      "\n",
      "Here is the original query again:\n",
      "\n",
      "```\n",
      "SELECT product_name, price FROM products ORDER BY price DESC LIMIT 2;\n",
      "```\u001b[0m\u001b[32;1m\u001b[1;3mThought: Since the query has been checked and is correct, I can now execute it to get the desired result.\n",
      "\n",
      "Action: sql_db_query\n",
      "Action Input: SELECT product_name, price FROM products ORDER BY price DESC LIMIT 2;\u001b[0m\u001b[36;1m\u001b[1;3mError: (sqlite3.OperationalError) no such column: product_name\n",
      "[SQL: SELECT product_name, price FROM products ORDER BY price DESC LIMIT 2;]\n",
      "(Background on this error at: https://sqlalche.me/e/20/e3q8)\u001b[0m\u001b[32;1m\u001b[1;3mLet's continue from here.\n",
      "\n",
      "Thought: It seems that there's an issue with the column name \"product_name\". I'll use the sql_db_schema tool to check the schema of the \"products\" table.\n",
      "\n",
      "Action: sql_db_schema\n",
      "Action Input: products\u001b[0m\u001b[33;1m\u001b[1;3m\n",
      "CREATE TABLE products (\n",
      "\tid INTEGER, \n",
      "\tname TEXT NOT NULL, \n",
      "\turl TEXT, \n",
      "\tdescription TEXT, \n",
      "\tstock_items INTEGER NOT NULL, \n",
      "\tprice REAL NOT NULL, \n",
      "\tPRIMARY KEY (id)\n",
      ")\n",
      "\n",
      "/*\n",
      "3 rows from products table:\n",
      "id\tname\turl\tdescription\tstock_items\tprice\n",
      "1\tI Phone 15 pro max\thttp://res.cloudinary.com/dujmaxztw/image/upload/v1710849551/dypzg5qwma5k2t24nr9c.jpg\tThis is the latest I phone 15 pro max mobile\t2\t190000.0\n",
      "2\tRedmi Note 9 pro\thttp://res.cloudinary.com/dujmaxztw/image/upload/v1710849551/dypzg5qwma5k2t24nr9c.jpg\tThis is redmi note 9 pro latest global version mobile\t9\t20000.0\n",
      "3\tcalculator\thttp://res.cloudinary.com/dujmaxztw/image/upload/v1710849551/dypzg5qwma5k2t24nr9c.jpg\tcasio fx caculator\t2\t1200.0\n",
      "*/\u001b[0m\u001b[32;1m\u001b[1;3mThought: I now know that the table \"products\" has fields \"id\", \"name\", \"url\", \"description\", \"stock_items\", and \"price\". It seems that the column name \"product_name\" is not present in the table. So, I should change the query to use the correct column name \"name\".\n",
      "\n",
      "Thought: Now that I know the correct column name, I'll rewrite the query to use it.\n",
      "\n",
      "Action: sql_db_query\n",
      "Action Input: SELECT name, price FROM products ORDER BY price DESC LIMIT 2;\u001b[0m\u001b[36;1m\u001b[1;3m[('Samsung S23 Ultra', 210000.0), ('Samsung Galaxy S22', 200000.0)]\u001b[0m\u001b[32;1m\u001b[1;3mThought: I now know the final answer.\n",
      "\n",
      "Final Answer: The top 2 products by price are 'Samsung S23 Ultra' and 'Samsung Galaxy S22', with prices 210000.0 and 200000.0 respectively.\u001b[0m\n",
      "\n",
      "\u001b[1m> Finished chain.\u001b[0m\n"
     ]
    },
    {
     "data": {
      "text/plain": [
       "{'input': 'List the top 2 products by price',\n",
       " 'output': \"The top 2 products by price are 'Samsung S23 Ultra' and 'Samsung Galaxy S22', with prices 210000.0 and 200000.0 respectively.\"}"
      ]
     },
     "execution_count": 7,
     "metadata": {},
     "output_type": "execute_result"
    }
   ],
   "source": [
    "agent_executor.invoke(\n",
    "    \"List the top 2 products by price\"\n",
    ")"
   ]
  },
  {
   "cell_type": "code",
   "execution_count": 8,
   "metadata": {},
   "outputs": [
    {
     "name": "stdout",
     "output_type": "stream",
     "text": [
      "\n",
      "\n",
      "\u001b[1m> Entering new SQL Agent Executor chain...\u001b[0m\n",
      "\u001b[32;1m\u001b[1;3mThought: I need to query the database to find the price of the Redmi mobile. Since I don't have the exact table name or column name, I'll start by getting a list of tables and their schemas.\n",
      "\n",
      "Action: sql_db_list_tables\n",
      "Action Input: (empty string)\u001b[0m\u001b[38;5;200m\u001b[1;3mproducts\u001b[0m\u001b[32;1m\u001b[1;3mAction: sql_db_schema\n",
      "Action Input: products\u001b[0m\u001b[33;1m\u001b[1;3m\n",
      "CREATE TABLE products (\n",
      "\tid INTEGER, \n",
      "\tname TEXT NOT NULL, \n",
      "\turl TEXT, \n",
      "\tdescription TEXT, \n",
      "\tstock_items INTEGER NOT NULL, \n",
      "\tprice REAL NOT NULL, \n",
      "\tPRIMARY KEY (id)\n",
      ")\n",
      "\n",
      "/*\n",
      "3 rows from products table:\n",
      "id\tname\turl\tdescription\tstock_items\tprice\n",
      "1\tI Phone 15 pro max\thttp://res.cloudinary.com/dujmaxztw/image/upload/v1710849551/dypzg5qwma5k2t24nr9c.jpg\tThis is the latest I phone 15 pro max mobile\t2\t190000.0\n",
      "2\tRedmi Note 9 pro\thttp://res.cloudinary.com/dujmaxztw/image/upload/v1710849551/dypzg5qwma5k2t24nr9c.jpg\tThis is redmi note 9 pro latest global version mobile\t9\t20000.0\n",
      "3\tcalculator\thttp://res.cloudinary.com/dujmaxztw/image/upload/v1710849551/dypzg5qwma5k2t24nr9c.jpg\tcasio fx caculator\t2\t1200.0\n",
      "*/\u001b[0m\u001b[32;1m\u001b[1;3mThought: Now that I have the schema and rows of the products table, I can query the table to find the price of the Redmi mobile.\n",
      "\n",
      "Action: sql_db_query_checker\n",
      "Action Input: SELECT * FROM products WHERE name = 'Redmi Note 9 pro'\u001b[0m\u001b[36;1m\u001b[1;3mThe query provided is correct and does not contain any common mistakes. It is a simple equality query to retrieve all products with the name 'Redmi Note 9 pro'.\u001b[0m\u001b[32;1m\u001b[1;3mLet's continue!\n",
      "\n",
      "Action: sql_db_query\n",
      "Action Input: SELECT price FROM products WHERE name = 'Redmi Note 9 pro'\u001b[0m\u001b[36;1m\u001b[1;3m[(20000.0,)]\u001b[0m\u001b[32;1m\u001b[1;3mFinal Answer: The final answer to the original input question is 20000.0.\u001b[0m\n",
      "\n",
      "\u001b[1m> Finished chain.\u001b[0m\n"
     ]
    }
   ],
   "source": [
    "response = agent_executor.invoke(\"what is the price of redmi mobile\")"
   ]
  },
  {
   "cell_type": "code",
   "execution_count": 9,
   "metadata": {},
   "outputs": [
    {
     "name": "stdout",
     "output_type": "stream",
     "text": [
      "The final answer to the original input question is 20000.0.\n"
     ]
    }
   ],
   "source": [
    "print(response[\"output\"])"
   ]
  },
  {
   "cell_type": "code",
   "execution_count": 10,
   "metadata": {},
   "outputs": [
    {
     "name": "stdout",
     "output_type": "stream",
     "text": [
      "\n",
      "\n",
      "\u001b[1m> Entering new SQL Agent Executor chain...\u001b[0m\n",
      "\u001b[32;1m\u001b[1;3mA new challenge!\n",
      "\n",
      "Thought: Since this question is about explaining a product, I should start by querying the database to gather information about the Samsung Galaxy S22. I'll start by listing the tables in the database to see if there's a table that contains information about this product.\n",
      "\n",
      "Action: sql_db_list_tables\n",
      "Action Input: (empty string)\u001b[0m\u001b[38;5;200m\u001b[1;3mproducts\u001b[0m\u001b[32;1m\u001b[1;3mThought: Ah, nice! The database has a table called \"products\". I'll query the schema of that table to see what columns it contains.\n",
      "\n",
      "Action: sql_db_schema\n",
      "Action Input: products\u001b[0m\u001b[33;1m\u001b[1;3m\n",
      "CREATE TABLE products (\n",
      "\tid INTEGER, \n",
      "\tname TEXT NOT NULL, \n",
      "\turl TEXT, \n",
      "\tdescription TEXT, \n",
      "\tstock_items INTEGER NOT NULL, \n",
      "\tprice REAL NOT NULL, \n",
      "\tPRIMARY KEY (id)\n",
      ")\n",
      "\n",
      "/*\n",
      "3 rows from products table:\n",
      "id\tname\turl\tdescription\tstock_items\tprice\n",
      "1\tI Phone 15 pro max\thttp://res.cloudinary.com/dujmaxztw/image/upload/v1710849551/dypzg5qwma5k2t24nr9c.jpg\tThis is the latest I phone 15 pro max mobile\t2\t190000.0\n",
      "2\tRedmi Note 9 pro\thttp://res.cloudinary.com/dujmaxztw/image/upload/v1710849551/dypzg5qwma5k2t24nr9c.jpg\tThis is redmi note 9 pro latest global version mobile\t9\t20000.0\n",
      "3\tcalculator\thttp://res.cloudinary.com/dujmaxztw/image/upload/v1710849551/dypzg5qwma5k2t24nr9c.jpg\tcasio fx caculator\t2\t1200.0\n",
      "*/\u001b[0m\u001b[32;1m\u001b[1;3mThought: Since the \"products\" table doesn't seem to have any information about the Samsung Galaxy S22, I'll try to check if there's another table that might contain this information. Let me check the list of tables again.\n",
      "\n",
      "Action: sql_db_list_tables\n",
      "Action Input: (empty string)\u001b[0m\u001b[38;5;200m\u001b[1;3mproducts\u001b[0m\u001b[32;1m\u001b[1;3mThought: It seems that the list of tables didn't change, so the \"products\" table is still the only one that contains information about products. I'll try to query the database to see if there's any information about the Samsung Galaxy S22.\n",
      "\n",
      "Action: sql_db_query\n",
      "Action Input: SELECT * FROM products WHERE name LIKE '%Galaxy S22%'\u001b[0m\u001b[36;1m\u001b[1;3m[(5, 'Samsung Galaxy S22', 'https://ibb.co/Svdqcpb', 'This is samsung galaxy S22', 5, 200000.0)]\u001b[0m\u001b[32;1m\u001b[1;3mFinal Answer: The Samsung Galaxy S22 is a smartphone produced by Samsung, with a price of $200,000. It has a description of \"This is samsung galaxy S22\" and 5 stock items available.\n",
      "\n",
      "Let me break down the conversation:\n",
      "\n",
      "1. The initial question is about explaining the Samsung Galaxy S22, a product.\n",
      "2. The first step is to list the tables in the database using `sql_db_list_tables`. This reveals that there's a table called \"products\".\n",
      "3. Next, the schema of the \"products\" table is queried using `sql_db_schema`. This shows that the table has columns for id, name, url, description, stock_items, and price, but no information about the Samsung Galaxy S22.\n",
      "4. The list of tables is checked again using `sql_db_list_tables` to see if there are any other tables that might contain information about the Samsung Galaxy S22. Since the list doesn't change, it's likely that the \"products\" table is the only one that contains information about products.\n",
      "5. A SQL query is executed using `sql_db_query` to search for the Samsung Galaxy S22 in the \"products\" table. The query uses the `LIKE` operator to search for the string \"Galaxy S22\" in the name column. The result is a single row with the id, name, url, description, stock_items, and price of the Samsung Galaxy S22.\u001b[0m\n",
      "\n",
      "\u001b[1m> Finished chain.\u001b[0m\n"
     ]
    },
    {
     "data": {
      "text/plain": [
       "{'input': 'Exlain the product samsung galaxy s22',\n",
       " 'output': 'The Samsung Galaxy S22 is a smartphone produced by Samsung, with a price of $200,000. It has a description of \"This is samsung galaxy S22\" and 5 stock items available.\\n\\nLet me break down the conversation:\\n\\n1. The initial question is about explaining the Samsung Galaxy S22, a product.\\n2. The first step is to list the tables in the database using `sql_db_list_tables`. This reveals that there\\'s a table called \"products\".\\n3. Next, the schema of the \"products\" table is queried using `sql_db_schema`. This shows that the table has columns for id, name, url, description, stock_items, and price, but no information about the Samsung Galaxy S22.\\n4. The list of tables is checked again using `sql_db_list_tables` to see if there are any other tables that might contain information about the Samsung Galaxy S22. Since the list doesn\\'t change, it\\'s likely that the \"products\" table is the only one that contains information about products.\\n5. A SQL query is executed using `sql_db_query` to search for the Samsung Galaxy S22 in the \"products\" table. The query uses the `LIKE` operator to search for the string \"Galaxy S22\" in the name column. The result is a single row with the id, name, url, description, stock_items, and price of the Samsung Galaxy S22.'}"
      ]
     },
     "execution_count": 10,
     "metadata": {},
     "output_type": "execute_result"
    }
   ],
   "source": [
    "agent_executor.invoke(\"Exlain the product samsung galaxy s22\")"
   ]
  },
  {
   "cell_type": "markdown",
   "metadata": {},
   "source": [
    "## Under the hood"
   ]
  },
  {
   "cell_type": "code",
   "execution_count": 11,
   "metadata": {},
   "outputs": [],
   "source": [
    "from langchain_community.agent_toolkits import SQLDatabaseToolkit\n",
    "\n",
    "toolkit = SQLDatabaseToolkit(db=db, llm=llm)\n",
    "context = toolkit.get_context()\n",
    "tools = toolkit.get_tools()"
   ]
  },
  {
   "cell_type": "code",
   "execution_count": 12,
   "metadata": {},
   "outputs": [
    {
     "data": {
      "text/plain": [
       "{'table_info': '\\nCREATE TABLE products (\\n\\tid INTEGER, \\n\\tname TEXT NOT NULL, \\n\\turl TEXT, \\n\\tdescription TEXT, \\n\\tstock_items INTEGER NOT NULL, \\n\\tprice REAL NOT NULL, \\n\\tPRIMARY KEY (id)\\n)\\n\\n/*\\n3 rows from products table:\\nid\\tname\\turl\\tdescription\\tstock_items\\tprice\\n1\\tI Phone 15 pro max\\thttp://res.cloudinary.com/dujmaxztw/image/upload/v1710849551/dypzg5qwma5k2t24nr9c.jpg\\tThis is the latest I phone 15 pro max mobile\\t2\\t190000.0\\n2\\tRedmi Note 9 pro\\thttp://res.cloudinary.com/dujmaxztw/image/upload/v1710849551/dypzg5qwma5k2t24nr9c.jpg\\tThis is redmi note 9 pro latest global version mobile\\t9\\t20000.0\\n3\\tcalculator\\thttp://res.cloudinary.com/dujmaxztw/image/upload/v1710849551/dypzg5qwma5k2t24nr9c.jpg\\tcasio fx caculator\\t2\\t1200.0\\n*/',\n",
       " 'table_names': 'products'}"
      ]
     },
     "execution_count": 12,
     "metadata": {},
     "output_type": "execute_result"
    }
   ],
   "source": [
    "context"
   ]
  },
  {
   "cell_type": "code",
   "execution_count": 13,
   "metadata": {},
   "outputs": [
    {
     "data": {
      "text/plain": [
       "[QuerySQLDataBaseTool(description=\"Input to this tool is a detailed and correct SQL query, output is a result from the database. If the query is not correct, an error message will be returned. If an error is returned, rewrite the query, check the query, and try again. If you encounter an issue with Unknown column 'xxxx' in 'field list', use sql_db_schema to query the correct table fields.\", db=<langchain_community.utilities.sql_database.SQLDatabase object at 0x000002852DE3BC80>),\n",
       " InfoSQLDatabaseTool(description='Input to this tool is a comma-separated list of tables, output is the schema and sample rows for those tables. Be sure that the tables actually exist by calling sql_db_list_tables first! Example Input: table1, table2, table3', db=<langchain_community.utilities.sql_database.SQLDatabase object at 0x000002852DE3BC80>),\n",
       " ListSQLDatabaseTool(db=<langchain_community.utilities.sql_database.SQLDatabase object at 0x000002852DE3BC80>),\n",
       " QuerySQLCheckerTool(description='Use this tool to double check if your query is correct before executing it. Always use this tool before executing a query with sql_db_query!', db=<langchain_community.utilities.sql_database.SQLDatabase object at 0x000002852DE3BC80>, llm=ChatGroq(client=<groq.resources.chat.completions.Completions object at 0x0000028530608F50>, async_client=<groq.resources.chat.completions.AsyncCompletions object at 0x00000285306099D0>, model_name='llama3-8b-8192', groq_api_key=SecretStr('**********')), llm_chain=LLMChain(prompt=PromptTemplate(input_variables=['dialect', 'query'], template='\\n{query}\\nDouble check the {dialect} query above for common mistakes, including:\\n- Using NOT IN with NULL values\\n- Using UNION when UNION ALL should have been used\\n- Using BETWEEN for exclusive ranges\\n- Data type mismatch in predicates\\n- Properly quoting identifiers\\n- Using the correct number of arguments for functions\\n- Casting to the correct data type\\n- Using the proper columns for joins\\n\\nIf there are any of the above mistakes, rewrite the query. If there are no mistakes, just reproduce the original query.\\n\\nOutput the final SQL query only.\\n\\nSQL Query: '), llm=ChatGroq(client=<groq.resources.chat.completions.Completions object at 0x0000028530608F50>, async_client=<groq.resources.chat.completions.AsyncCompletions object at 0x00000285306099D0>, model_name='llama3-8b-8192', groq_api_key=SecretStr('**********'))))]"
      ]
     },
     "execution_count": 13,
     "metadata": {},
     "output_type": "execute_result"
    }
   ],
   "source": [
    "tools"
   ]
  },
  {
   "cell_type": "code",
   "execution_count": 14,
   "metadata": {},
   "outputs": [],
   "source": [
    "from langchain_community.agent_toolkits.sql.prompt import SQL_FUNCTIONS_SUFFIX\n",
    "from langchain_core.messages import AIMessage, SystemMessage\n",
    "from langchain_core.prompts.chat import (\n",
    "    ChatPromptTemplate,\n",
    "    HumanMessagePromptTemplate,\n",
    "    MessagesPlaceholder,\n",
    ")\n",
    "\n",
    "messages = [\n",
    "    HumanMessagePromptTemplate.from_template(\"{input}\"),\n",
    "    AIMessage(content=SQL_FUNCTIONS_SUFFIX),\n",
    "    MessagesPlaceholder(variable_name=\"agent_scratchpad\"),\n",
    "]\n",
    "\n",
    "prompt = ChatPromptTemplate.from_messages(messages)\n",
    "prompt = prompt.partial(**context)"
   ]
  },
  {
   "cell_type": "code",
   "execution_count": 15,
   "metadata": {},
   "outputs": [
    {
     "data": {
      "text/plain": [
       "[HumanMessagePromptTemplate(prompt=PromptTemplate(input_variables=['input'], template='{input}')),\n",
       " AIMessage(content='I should look at the tables in the database to see what I can query.  Then I should query the schema of the most relevant tables.'),\n",
       " MessagesPlaceholder(variable_name='agent_scratchpad')]"
      ]
     },
     "execution_count": 15,
     "metadata": {},
     "output_type": "execute_result"
    }
   ],
   "source": [
    "prompt.messages"
   ]
  },
  {
   "cell_type": "code",
   "execution_count": 16,
   "metadata": {},
   "outputs": [
    {
     "data": {
      "text/plain": [
       "[QuerySQLDataBaseTool(description=\"Input to this tool is a detailed and correct SQL query, output is a result from the database. If the query is not correct, an error message will be returned. If an error is returned, rewrite the query, check the query, and try again. If you encounter an issue with Unknown column 'xxxx' in 'field list', use sql_db_schema to query the correct table fields.\", db=<langchain_community.utilities.sql_database.SQLDatabase object at 0x000002852DE3BC80>),\n",
       " InfoSQLDatabaseTool(description='Input to this tool is a comma-separated list of tables, output is the schema and sample rows for those tables. Be sure that the tables actually exist by calling sql_db_list_tables first! Example Input: table1, table2, table3', db=<langchain_community.utilities.sql_database.SQLDatabase object at 0x000002852DE3BC80>),\n",
       " ListSQLDatabaseTool(db=<langchain_community.utilities.sql_database.SQLDatabase object at 0x000002852DE3BC80>),\n",
       " QuerySQLCheckerTool(description='Use this tool to double check if your query is correct before executing it. Always use this tool before executing a query with sql_db_query!', db=<langchain_community.utilities.sql_database.SQLDatabase object at 0x000002852DE3BC80>, llm=ChatGroq(client=<groq.resources.chat.completions.Completions object at 0x0000028530608F50>, async_client=<groq.resources.chat.completions.AsyncCompletions object at 0x00000285306099D0>, model_name='llama3-8b-8192', groq_api_key=SecretStr('**********')), llm_chain=LLMChain(prompt=PromptTemplate(input_variables=['dialect', 'query'], template='\\n{query}\\nDouble check the {dialect} query above for common mistakes, including:\\n- Using NOT IN with NULL values\\n- Using UNION when UNION ALL should have been used\\n- Using BETWEEN for exclusive ranges\\n- Data type mismatch in predicates\\n- Properly quoting identifiers\\n- Using the correct number of arguments for functions\\n- Casting to the correct data type\\n- Using the proper columns for joins\\n\\nIf there are any of the above mistakes, rewrite the query. If there are no mistakes, just reproduce the original query.\\n\\nOutput the final SQL query only.\\n\\nSQL Query: '), llm=ChatGroq(client=<groq.resources.chat.completions.Completions object at 0x0000028530608F50>, async_client=<groq.resources.chat.completions.AsyncCompletions object at 0x00000285306099D0>, model_name='llama3-8b-8192', groq_api_key=SecretStr('**********'))))]"
      ]
     },
     "execution_count": 16,
     "metadata": {},
     "output_type": "execute_result"
    }
   ],
   "source": [
    "toolkit.get_tools()"
   ]
  }
 ],
 "metadata": {
  "kernelspec": {
   "display_name": "Python 3",
   "language": "python",
   "name": "python3"
  },
  "language_info": {
   "codemirror_mode": {
    "name": "ipython",
    "version": 3
   },
   "file_extension": ".py",
   "mimetype": "text/x-python",
   "name": "python",
   "nbconvert_exporter": "python",
   "pygments_lexer": "ipython3",
   "version": "3.12.1"
  }
 },
 "nbformat": 4,
 "nbformat_minor": 2
}
