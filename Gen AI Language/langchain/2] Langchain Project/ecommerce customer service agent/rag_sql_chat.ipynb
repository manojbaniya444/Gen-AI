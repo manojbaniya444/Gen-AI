{
 "cells": [
  {
   "cell_type": "code",
   "execution_count": 1,
   "metadata": {},
   "outputs": [],
   "source": [
    "import os\n",
    "from dotenv import load_dotenv\n",
    "\n",
    "load_dotenv()\n",
    "os.environ[\"GROQ_API_KEY\"] = os.getenv(\"GROQ_API_KEY\")"
   ]
  },
  {
   "cell_type": "code",
   "execution_count": 2,
   "metadata": {},
   "outputs": [],
   "source": [
    "from langchain.chains import create_history_aware_retriever, create_retrieval_chain\n",
    "from langchain.chains.combine_documents import create_stuff_documents_chain\n",
    "from langchain_pinecone import PineconeVectorStore\n",
    "from langchain_core.prompts import ChatPromptTemplate, MessagesPlaceholder\n",
    "from langchain_groq import ChatGroq"
   ]
  },
  {
   "cell_type": "code",
   "execution_count": 3,
   "metadata": {},
   "outputs": [],
   "source": [
    "llm = ChatGroq(\n",
    "    model=\"llama3-8b-8192\"\n",
    ")"
   ]
  },
  {
   "cell_type": "code",
   "execution_count": 4,
   "metadata": {},
   "outputs": [
    {
     "name": "stderr",
     "output_type": "stream",
     "text": [
      "C:\\Users\\acer\\AppData\\Roaming\\Python\\Python312\\site-packages\\huggingface_hub\\file_download.py:1132: FutureWarning: `resume_download` is deprecated and will be removed in version 1.0.0. Downloads always resume when possible. If you want to force a new download, use `force_download=True`.\n",
      "  warnings.warn(\n"
     ]
    }
   ],
   "source": [
    "from langchain_community.embeddings import HuggingFaceEmbeddings\n",
    "\n",
    "embedding = HuggingFaceEmbeddings(\n",
    "    model_name=\"sentence-transformers/paraphrase-MiniLM-L6-v2\",\n",
    ")"
   ]
  },
  {
   "cell_type": "code",
   "execution_count": 5,
   "metadata": {},
   "outputs": [],
   "source": [
    "os.environ[\"PINECONE_API_KEY\"] = os.environ[\"PINECONE_API_KEY\"]\n",
    "index_name = \"storeagent\"\n",
    "\n",
    "vectorstore = PineconeVectorStore(\n",
    "    index_name=index_name,\n",
    "    embedding=embedding,\n",
    ")"
   ]
  },
  {
   "cell_type": "code",
   "execution_count": 6,
   "metadata": {},
   "outputs": [],
   "source": [
    "from langchain.text_splitter import CharacterTextSplitter\n",
    "from langchain_community.document_loaders import TextLoader\n",
    "\n",
    "file_path = \"info.txt\"\n",
    "\n",
    "loader = TextLoader(file_path=file_path, encoding=\"utf-8\")\n",
    "documents = loader.load()"
   ]
  },
  {
   "cell_type": "code",
   "execution_count": 8,
   "metadata": {},
   "outputs": [
    {
     "data": {
      "text/plain": [
       "1"
      ]
     },
     "execution_count": 8,
     "metadata": {},
     "output_type": "execute_result"
    }
   ],
   "source": [
    "len(documents)"
   ]
  },
  {
   "cell_type": "code",
   "execution_count": 9,
   "metadata": {},
   "outputs": [
    {
     "data": {
      "text/plain": [
       "[Document(page_content='## Where is the store located?\\n- The Store is located in Dharan sunsari district Nepal.\\n\\n## Who own the store?\\n- The owner is Manoj Baniya.\\n\\n## What is the name of the store?\\n- The name of the store is All Electronics store.\\n\\n## What do the store sell?\\n- The store sell all kinds of electronics including smartphones, camera, laptops, pc, calculators...\\n\\n## What are the delivery options\\n- The delivery  options is available all over Nepal and the delivery charge is Rs. 120 standard price and delivery is free inside Dharan area.\\n\\n## How long the delivery takes\\n- The delivery takes about 2-3 days for all over Nepal and if you are within Dharan Delivery will be the same day you order product.\\n\\n## Is Return Policy available\\n- User can return the products within 3 days after they received their product.\\n\\n## Return rule\\n- The product should be in the same condition as when it was purchased before.\\n\\n## What are the payment options\\n- Online payment with khalti, esewa or Cash On Delivery is Available in our store.\\n\\n### SQL queries \\n\\n## SQL query to get all the products, get all the products, query related products table\\n\"SELECT * FROM products\"\\n\\n## SQL query to get specific \\n\"SELECT {column_name/s} FROM {table_name}\"\\n\\n## Where query\\n\"SELECT {column_name/s} FROM {table_name} WHERE {attribute} = {}\"', metadata={'source': 'info.txt'})]"
      ]
     },
     "execution_count": 9,
     "metadata": {},
     "output_type": "execute_result"
    }
   ],
   "source": [
    "documents"
   ]
  },
  {
   "cell_type": "code",
   "execution_count": 12,
   "metadata": {},
   "outputs": [],
   "source": [
    "text_splitter = CharacterTextSplitter(\n",
    "    chunk_size=200,\n",
    "    chunk_overlap=0\n",
    ")\n",
    "docs = text_splitter.split_documents(documents=documents)"
   ]
  },
  {
   "cell_type": "code",
   "execution_count": 13,
   "metadata": {},
   "outputs": [
    {
     "data": {
      "text/plain": [
       "10"
      ]
     },
     "execution_count": 13,
     "metadata": {},
     "output_type": "execute_result"
    }
   ],
   "source": [
    "len(docs)"
   ]
  },
  {
   "cell_type": "code",
   "execution_count": 14,
   "metadata": {},
   "outputs": [
    {
     "data": {
      "text/plain": [
       "[Document(page_content='## Where is the store located?\\n- The Store is located in Dharan sunsari district Nepal.\\n\\n## Who own the store?\\n- The owner is Manoj Baniya.', metadata={'source': 'info.txt'}),\n",
       " Document(page_content='## What is the name of the store?\\n- The name of the store is All Electronics store.', metadata={'source': 'info.txt'}),\n",
       " Document(page_content='## What do the store sell?\\n- The store sell all kinds of electronics including smartphones, camera, laptops, pc, calculators...', metadata={'source': 'info.txt'}),\n",
       " Document(page_content='## What are the delivery options\\n- The delivery  options is available all over Nepal and the delivery charge is Rs. 120 standard price and delivery is free inside Dharan area.', metadata={'source': 'info.txt'}),\n",
       " Document(page_content='## How long the delivery takes\\n- The delivery takes about 2-3 days for all over Nepal and if you are within Dharan Delivery will be the same day you order product.', metadata={'source': 'info.txt'}),\n",
       " Document(page_content='## Is Return Policy available\\n- User can return the products within 3 days after they received their product.', metadata={'source': 'info.txt'}),\n",
       " Document(page_content='## Return rule\\n- The product should be in the same condition as when it was purchased before.', metadata={'source': 'info.txt'}),\n",
       " Document(page_content='## What are the payment options\\n- Online payment with khalti, esewa or Cash On Delivery is Available in our store.\\n\\n### SQL queries', metadata={'source': 'info.txt'}),\n",
       " Document(page_content='## SQL query to get all the products, get all the products, query related products table\\n\"SELECT * FROM products\"\\n\\n## SQL query to get specific \\n\"SELECT {column_name/s} FROM {table_name}\"', metadata={'source': 'info.txt'}),\n",
       " Document(page_content='## Where query\\n\"SELECT {column_name/s} FROM {table_name} WHERE {attribute} = {}\"', metadata={'source': 'info.txt'})]"
      ]
     },
     "execution_count": 14,
     "metadata": {},
     "output_type": "execute_result"
    }
   ],
   "source": [
    "docs"
   ]
  },
  {
   "cell_type": "code",
   "execution_count": 16,
   "metadata": {},
   "outputs": [
    {
     "data": {
      "text/plain": [
       "<langchain_pinecone.vectorstores.PineconeVectorStore at 0x1f0d0172cc0>"
      ]
     },
     "execution_count": 16,
     "metadata": {},
     "output_type": "execute_result"
    }
   ],
   "source": [
    "vectorstore"
   ]
  },
  {
   "cell_type": "code",
   "execution_count": 17,
   "metadata": {},
   "outputs": [
    {
     "data": {
      "text/plain": [
       "['1132f76a-c675-4157-b497-0bc3db3a8d12',\n",
       " 'ec0ebdcb-f562-4548-938f-4a64cbfca0b0',\n",
       " '5d534793-f857-4fd8-8a2b-e91b9685ebbb',\n",
       " 'c5fdf54d-fb6c-40d8-8330-31f527fdb9e2',\n",
       " 'a6cff85b-0e1d-4462-aecd-2c7841bac782',\n",
       " '9f07a68f-83bb-4b4b-9238-da35d73181ac',\n",
       " 'e195d4ca-10df-4374-a0dc-2a746448e659',\n",
       " '589899b4-e7d2-4d63-80e0-ff1b69aa8d08',\n",
       " 'c0eb2ecb-3234-476d-9879-834977044f58',\n",
       " 'e0373f39-3d32-44c7-abf3-baccdd72bdfb']"
      ]
     },
     "execution_count": 17,
     "metadata": {},
     "output_type": "execute_result"
    }
   ],
   "source": [
    "vectorstore.add_documents(docs)"
   ]
  },
  {
   "cell_type": "code",
   "execution_count": 19,
   "metadata": {},
   "outputs": [
    {
     "data": {
      "text/plain": [
       "[Document(page_content='## Where is the store located?\\n- The Store is located in Dharan sunsari district Nepal.\\n\\n## Who own the store?\\n- The owner is Manoj Baniya.', metadata={'source': 'info.txt'}),\n",
       " Document(page_content='## What is the name of the store?\\n- The name of the store is All Electronics store.', metadata={'source': 'info.txt'})]"
      ]
     },
     "execution_count": 19,
     "metadata": {},
     "output_type": "execute_result"
    }
   ],
   "source": [
    "vectorstore.similarity_search(\"location of store\", k=2)"
   ]
  },
  {
   "cell_type": "code",
   "execution_count": 20,
   "metadata": {},
   "outputs": [
    {
     "data": {
      "text/plain": [
       "[Document(page_content='## What are the delivery options\\n- The delivery  options is available all over Nepal and the delivery charge is Rs. 120 standard price and delivery is free inside Dharan area.', metadata={'source': 'info.txt'}),\n",
       " Document(page_content='## How long the delivery takes\\n- The delivery takes about 2-3 days for all over Nepal and if you are within Dharan Delivery will be the same day you order product.', metadata={'source': 'info.txt'})]"
      ]
     },
     "execution_count": 20,
     "metadata": {},
     "output_type": "execute_result"
    }
   ],
   "source": [
    "retriever = vectorstore.as_retriever(\n",
    "    search_type=\"similarity\",\n",
    "    search_kwargs={\n",
    "        \"k\":2\n",
    "    }\n",
    ")\n",
    "retriever.invoke(\"Delivery options\")"
   ]
  },
  {
   "cell_type": "code",
   "execution_count": 32,
   "metadata": {},
   "outputs": [],
   "source": [
    "system_prompt = (\n",
    "    \"Given a chat history and the latest user question\"\n",
    "    \"Which might reference context in the chat history,\"\n",
    "\n",
    "\"formulate a standalone question which can be understood\"\n",
    "\"without the chat history. Do not answer the question just\"\n",
    "\"reformulate it if needed and otherwise return it as is\"\n",
    "\"if asked any normal question answer it\")"
   ]
  },
  {
   "cell_type": "code",
   "execution_count": 33,
   "metadata": {},
   "outputs": [],
   "source": [
    "prompt = ChatPromptTemplate.from_messages(\n",
    "    [\n",
    "        (\"system\", system_prompt),\n",
    "        MessagesPlaceholder(\"chat_history\"),\n",
    "        (\"human\", \"{input}\"),\n",
    "    ]\n",
    ")"
   ]
  },
  {
   "cell_type": "code",
   "execution_count": 34,
   "metadata": {},
   "outputs": [],
   "source": [
    "history_aware_retriever = create_history_aware_retriever(\n",
    "    llm,\n",
    "    retriever,\n",
    "    prompt\n",
    ")"
   ]
  },
  {
   "cell_type": "code",
   "execution_count": 35,
   "metadata": {},
   "outputs": [
    {
     "data": {
      "text/plain": [
       "RunnableBinding(bound=RunnableBranch(branches=[(RunnableLambda(lambda x: not x.get('chat_history', False)), RunnableLambda(lambda x: x['input'])\n",
       "| VectorStoreRetriever(tags=['PineconeVectorStore', 'HuggingFaceEmbeddings'], vectorstore=<langchain_pinecone.vectorstores.PineconeVectorStore object at 0x000001F0D0172CC0>, search_kwargs={'k': 2}))], default=ChatPromptTemplate(input_variables=['chat_history', 'input'], input_types={'chat_history': typing.List[typing.Union[langchain_core.messages.ai.AIMessage, langchain_core.messages.human.HumanMessage, langchain_core.messages.chat.ChatMessage, langchain_core.messages.system.SystemMessage, langchain_core.messages.function.FunctionMessage, langchain_core.messages.tool.ToolMessage]]}, messages=[SystemMessagePromptTemplate(prompt=PromptTemplate(input_variables=[], template='Given a chat history and the latest user questionWhich might reference context in the chat history,formulate a standalone question which can be understoodwithout the chat history. Do not answer the question justreformulate it if needed and otherwise return it as isif asked any normal question answer it')), MessagesPlaceholder(variable_name='chat_history'), HumanMessagePromptTemplate(prompt=PromptTemplate(input_variables=['input'], template='{input}'))])\n",
       "| ChatGroq(client=<groq.resources.chat.completions.Completions object at 0x000001F0AABDCAA0>, async_client=<groq.resources.chat.completions.AsyncCompletions object at 0x000001F0AABDD4C0>, model_name='llama3-8b-8192', groq_api_key=SecretStr('**********'))\n",
       "| StrOutputParser()\n",
       "| VectorStoreRetriever(tags=['PineconeVectorStore', 'HuggingFaceEmbeddings'], vectorstore=<langchain_pinecone.vectorstores.PineconeVectorStore object at 0x000001F0D0172CC0>, search_kwargs={'k': 2})), config={'run_name': 'chat_retriever_chain'})"
      ]
     },
     "execution_count": 35,
     "metadata": {},
     "output_type": "execute_result"
    }
   ],
   "source": [
    "history_aware_retriever"
   ]
  },
  {
   "cell_type": "code",
   "execution_count": 36,
   "metadata": {},
   "outputs": [
    {
     "data": {
      "text/plain": [
       "[Document(page_content='## What are the delivery options\\n- The delivery  options is available all over Nepal and the delivery charge is Rs. 120 standard price and delivery is free inside Dharan area.', metadata={'source': 'info.txt'}),\n",
       " Document(page_content='## What are the payment options\\n- Online payment with khalti, esewa or Cash On Delivery is Available in our store.\\n\\n### SQL queries', metadata={'source': 'info.txt'})]"
      ]
     },
     "execution_count": 36,
     "metadata": {},
     "output_type": "execute_result"
    }
   ],
   "source": [
    "history_aware_retriever.invoke({\n",
    "    \"chat_history\": [\n",
    "        \"what is the location of the store\",\n",
    "        \"Dharan\"\n",
    "    ],\n",
    "    \"input\": \"Delivery options\"\n",
    "})"
   ]
  },
  {
   "cell_type": "code",
   "execution_count": 37,
   "metadata": {},
   "outputs": [],
   "source": [
    "chat_system_prompt = (\n",
    "    \"You are customer service agent for an e-commerce store.\"\n",
    "    \"The store sell electronics and gadgets and you are chatting with a customer who need help.\"\n",
    "    \"Use the retrieved information or chat history to answer the customer's question.\"\n",
    "    \"If the retrieved information is not useful or the chat history is not relevant, you can ignore it and just answer the question.\"\n",
    "    \"but remember you only answer about the store and questions related to it and nothing else.\"\n",
    "    \"If asked anything else just say that you are just customer service agent and you can only answer about the store.\"\n",
    "    \"\\n\\n\"\n",
    "    \"{context}\"\n",
    ")"
   ]
  },
  {
   "cell_type": "code",
   "execution_count": 38,
   "metadata": {},
   "outputs": [],
   "source": [
    "chat_prompt = ChatPromptTemplate.from_messages(\n",
    "    [\n",
    "        (\"system\", chat_system_prompt),\n",
    "        MessagesPlaceholder(\"chat_history\"),\n",
    "        (\"human\", \"{input}\"),\n",
    "    ]\n",
    ")"
   ]
  },
  {
   "cell_type": "code",
   "execution_count": 39,
   "metadata": {},
   "outputs": [
    {
     "data": {
      "text/plain": [
       "ChatPromptTemplate(input_variables=['chat_history', 'context', 'input'], input_types={'chat_history': typing.List[typing.Union[langchain_core.messages.ai.AIMessage, langchain_core.messages.human.HumanMessage, langchain_core.messages.chat.ChatMessage, langchain_core.messages.system.SystemMessage, langchain_core.messages.function.FunctionMessage, langchain_core.messages.tool.ToolMessage]]}, messages=[SystemMessagePromptTemplate(prompt=PromptTemplate(input_variables=['context'], template=\"You are customer service agent for an e-commerce store.The store sell electronics and gadgets and you are chatting with a customer who need help.Use the retrieved information or chat history to answer the customer's question.If the retrieved information is not useful or the chat history is not relevant, you can ignore it and just answer the question.but remember you only answer about the store and questions related to it and nothing else.If asked anything else just say that you are just customer service agent and you can only answer about the store.\\n\\n{context}\")), MessagesPlaceholder(variable_name='chat_history'), HumanMessagePromptTemplate(prompt=PromptTemplate(input_variables=['input'], template='{input}'))])"
      ]
     },
     "execution_count": 39,
     "metadata": {},
     "output_type": "execute_result"
    }
   ],
   "source": [
    "chat_prompt"
   ]
  },
  {
   "cell_type": "code",
   "execution_count": 40,
   "metadata": {},
   "outputs": [],
   "source": [
    "chat_chain = create_stuff_documents_chain(\n",
    "    llm,\n",
    "    chat_prompt\n",
    ")\n",
    "# This the chain for passing a list of documents to a model"
   ]
  },
  {
   "cell_type": "code",
   "execution_count": 41,
   "metadata": {},
   "outputs": [
    {
     "data": {
      "text/plain": [
       "RunnableBinding(bound=RunnableBinding(bound=RunnableAssign(mapper={\n",
       "  context: RunnableLambda(format_docs)\n",
       "}), config={'run_name': 'format_inputs'})\n",
       "| ChatPromptTemplate(input_variables=['chat_history', 'context', 'input'], input_types={'chat_history': typing.List[typing.Union[langchain_core.messages.ai.AIMessage, langchain_core.messages.human.HumanMessage, langchain_core.messages.chat.ChatMessage, langchain_core.messages.system.SystemMessage, langchain_core.messages.function.FunctionMessage, langchain_core.messages.tool.ToolMessage]]}, messages=[SystemMessagePromptTemplate(prompt=PromptTemplate(input_variables=['context'], template=\"You are customer service agent for an e-commerce store.The store sell electronics and gadgets and you are chatting with a customer who need help.Use the retrieved information or chat history to answer the customer's question.If the retrieved information is not useful or the chat history is not relevant, you can ignore it and just answer the question.but remember you only answer about the store and questions related to it and nothing else.If asked anything else just say that you are just customer service agent and you can only answer about the store.\\n\\n{context}\")), MessagesPlaceholder(variable_name='chat_history'), HumanMessagePromptTemplate(prompt=PromptTemplate(input_variables=['input'], template='{input}'))])\n",
       "| ChatGroq(client=<groq.resources.chat.completions.Completions object at 0x000001F0AABDCAA0>, async_client=<groq.resources.chat.completions.AsyncCompletions object at 0x000001F0AABDD4C0>, model_name='llama3-8b-8192', groq_api_key=SecretStr('**********'))\n",
       "| StrOutputParser(), config={'run_name': 'stuff_documents_chain'})"
      ]
     },
     "execution_count": 41,
     "metadata": {},
     "output_type": "execute_result"
    }
   ],
   "source": [
    "chat_chain"
   ]
  },
  {
   "cell_type": "code",
   "execution_count": 42,
   "metadata": {},
   "outputs": [],
   "source": [
    "rag_chain = create_retrieval_chain(\n",
    "    history_aware_retriever, # retrieve documents\n",
    "    chat_chain # get the retrieved documents and pass it to LLM to answer the question\n",
    ")"
   ]
  },
  {
   "cell_type": "code",
   "execution_count": 43,
   "metadata": {},
   "outputs": [
    {
     "data": {
      "text/plain": [
       "RunnableBinding(bound=RunnableAssign(mapper={\n",
       "  context: RunnableBinding(bound=RunnableBranch(branches=[(RunnableLambda(lambda x: not x.get('chat_history', False)), RunnableLambda(lambda x: x['input'])\n",
       "           | VectorStoreRetriever(tags=['PineconeVectorStore', 'HuggingFaceEmbeddings'], vectorstore=<langchain_pinecone.vectorstores.PineconeVectorStore object at 0x000001F0D0172CC0>, search_kwargs={'k': 2}))], default=ChatPromptTemplate(input_variables=['chat_history', 'input'], input_types={'chat_history': typing.List[typing.Union[langchain_core.messages.ai.AIMessage, langchain_core.messages.human.HumanMessage, langchain_core.messages.chat.ChatMessage, langchain_core.messages.system.SystemMessage, langchain_core.messages.function.FunctionMessage, langchain_core.messages.tool.ToolMessage]]}, messages=[SystemMessagePromptTemplate(prompt=PromptTemplate(input_variables=[], template='Given a chat history and the latest user questionWhich might reference context in the chat history,formulate a standalone question which can be understoodwithout the chat history. Do not answer the question justreformulate it if needed and otherwise return it as isif asked any normal question answer it')), MessagesPlaceholder(variable_name='chat_history'), HumanMessagePromptTemplate(prompt=PromptTemplate(input_variables=['input'], template='{input}'))])\n",
       "           | ChatGroq(client=<groq.resources.chat.completions.Completions object at 0x000001F0AABDCAA0>, async_client=<groq.resources.chat.completions.AsyncCompletions object at 0x000001F0AABDD4C0>, model_name='llama3-8b-8192', groq_api_key=SecretStr('**********'))\n",
       "           | StrOutputParser()\n",
       "           | VectorStoreRetriever(tags=['PineconeVectorStore', 'HuggingFaceEmbeddings'], vectorstore=<langchain_pinecone.vectorstores.PineconeVectorStore object at 0x000001F0D0172CC0>, search_kwargs={'k': 2})), config={'run_name': 'retrieve_documents'})\n",
       "})\n",
       "| RunnableAssign(mapper={\n",
       "    answer: RunnableBinding(bound=RunnableBinding(bound=RunnableAssign(mapper={\n",
       "              context: RunnableLambda(format_docs)\n",
       "            }), config={'run_name': 'format_inputs'})\n",
       "            | ChatPromptTemplate(input_variables=['chat_history', 'context', 'input'], input_types={'chat_history': typing.List[typing.Union[langchain_core.messages.ai.AIMessage, langchain_core.messages.human.HumanMessage, langchain_core.messages.chat.ChatMessage, langchain_core.messages.system.SystemMessage, langchain_core.messages.function.FunctionMessage, langchain_core.messages.tool.ToolMessage]]}, messages=[SystemMessagePromptTemplate(prompt=PromptTemplate(input_variables=['context'], template=\"You are customer service agent for an e-commerce store.The store sell electronics and gadgets and you are chatting with a customer who need help.Use the retrieved information or chat history to answer the customer's question.If the retrieved information is not useful or the chat history is not relevant, you can ignore it and just answer the question.but remember you only answer about the store and questions related to it and nothing else.If asked anything else just say that you are just customer service agent and you can only answer about the store.\\n\\n{context}\")), MessagesPlaceholder(variable_name='chat_history'), HumanMessagePromptTemplate(prompt=PromptTemplate(input_variables=['input'], template='{input}'))])\n",
       "            | ChatGroq(client=<groq.resources.chat.completions.Completions object at 0x000001F0AABDCAA0>, async_client=<groq.resources.chat.completions.AsyncCompletions object at 0x000001F0AABDD4C0>, model_name='llama3-8b-8192', groq_api_key=SecretStr('**********'))\n",
       "            | StrOutputParser(), config={'run_name': 'stuff_documents_chain'})\n",
       "  }), config={'run_name': 'retrieval_chain'})"
      ]
     },
     "execution_count": 43,
     "metadata": {},
     "output_type": "execute_result"
    }
   ],
   "source": [
    "rag_chain"
   ]
  },
  {
   "cell_type": "code",
   "execution_count": 44,
   "metadata": {},
   "outputs": [
    {
     "name": "stdout",
     "output_type": "stream",
     "text": [
      "Start chatting with the AI agent. Type 'exit' to stop chatting.\n",
      "User: hello\n",
      "Assistant: Hello! Welcome to All Electronics Store's customer service. How can I assist you today? Do you have a question about one of our products or need help with an order?\n",
      "\n",
      "\n",
      "User: what do you sell\n",
      "Assistant: We sell a wide range of electronics and gadgets at All Electronics Store! You can find everything from smartphones and cameras to laptops, PCs, calculators, and more. We've got a vast selection of products from top brands at competitive prices. If you're looking for something specific, feel free to ask, and I'll do my best to help you!\n",
      "\n",
      "\n",
      "User: is delivery option available\n",
      "Assistant: Yes, we do offer delivery options at All Electronics Store! We deliver our products to all over Nepal. The delivery charge is Rs. 120 for standard pricing. And, if you're within the Dharan area, delivery is absolutely free!\n",
      "\n",
      "\n",
      "User: I am from Kathmandu so what is the delivery cost\n",
      "Assistant: For customers in Kathmandu, the delivery charge would be Rs. 120. This is our standard delivery rate for all over Nepal. Your order will be processed and dispatched within 2-3 days, and you can expect to receive your products within that timeframe.\n",
      "\n",
      "\n",
      "User: what is the return policy?\n",
      "Assistant: We have a very customer-friendly return policy at All Electronics Store! You can return the products within 3 days after you receive them. The product should be in the same condition as when it was purchased, with all original packaging, accessories, and tags intact. If the product meets these conditions, we'll process the return and provide a full refund or exchange it for a different product of your choice. We want you to be completely satisfied with your purchase!\n",
      "\n",
      "\n",
      "User: who runs the store\n",
      "Assistant: All Electronics Store is owned and operated by Manoj Baniya. He's the founder and CEO of the company, and he's dedicated to providing the best products and services to our customers.\n",
      "\n",
      "\n",
      "User: ok bye\n",
      "Assistant: It was nice chatting with you! Have a great day and happy shopping at All Electronics Store! Bye for now!\n",
      "\n",
      "\n"
     ]
    }
   ],
   "source": [
    "from langchain_core.messages import HumanMessage, AIMessage\n",
    "\n",
    "def continue_chat():\n",
    "    print(\"Start chatting with the AI agent. Type 'exit' to stop chatting.\")\n",
    "    chat_history = []\n",
    "    \n",
    "    while True:\n",
    "        query = input(\"Customer: \")\n",
    "        if query.lower() == \"exit\":\n",
    "            break\n",
    "        \n",
    "        result = rag_chain.invoke({\n",
    "            \"input\": query,\n",
    "            \"chat_history\": chat_history,\n",
    "        })\n",
    "        print(f\"User: {query}\")\n",
    "        print(f\"Assistant: {result[\"answer\"]}\")\n",
    "        print(\"\\n\")\n",
    "        \n",
    "        chat_history.append(HumanMessage(content=query))\n",
    "        chat_history.append(AIMessage(content=result[\"answer\"]))\n",
    "\n",
    "continue_chat()"
   ]
  }
 ],
 "metadata": {
  "kernelspec": {
   "display_name": "Python 3",
   "language": "python",
   "name": "python3"
  },
  "language_info": {
   "codemirror_mode": {
    "name": "ipython",
    "version": 3
   },
   "file_extension": ".py",
   "mimetype": "text/x-python",
   "name": "python",
   "nbconvert_exporter": "python",
   "pygments_lexer": "ipython3",
   "version": "3.12.1"
  }
 },
 "nbformat": 4,
 "nbformat_minor": 2
}
