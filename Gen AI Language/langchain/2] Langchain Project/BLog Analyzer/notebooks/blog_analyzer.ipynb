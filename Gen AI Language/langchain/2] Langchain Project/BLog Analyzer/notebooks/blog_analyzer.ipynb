{
 "cells": [
  {
   "cell_type": "markdown",
   "metadata": {},
   "source": [
    "## Text Loader"
   ]
  },
  {
   "cell_type": "code",
   "execution_count": 21,
   "metadata": {},
   "outputs": [],
   "source": [
    "from langchain_community.document_loaders import TextLoader"
   ]
  },
  {
   "cell_type": "code",
   "execution_count": 22,
   "metadata": {},
   "outputs": [
    {
     "data": {
      "text/plain": [
       "<langchain_community.document_loaders.text.TextLoader at 0x200e41ec230>"
      ]
     },
     "execution_count": 22,
     "metadata": {},
     "output_type": "execute_result"
    }
   ],
   "source": [
    "loader = TextLoader(\"../data/blog1.txt\", encoding = \"utf-8\")\n",
    "loader"
   ]
  },
  {
   "cell_type": "code",
   "execution_count": 23,
   "metadata": {},
   "outputs": [],
   "source": [
    "document = loader.load()"
   ]
  },
  {
   "cell_type": "code",
   "execution_count": 24,
   "metadata": {},
   "outputs": [
    {
     "data": {
      "text/plain": [
       "[Document(page_content='Bagh Chal: A native board game on the brink of extinction\\nStalls adorned with lustrous trinkets, intriguing masks, sacred tokens, singing bowls, intricate miniature statues, and colourful beads are scattered in the Valley’s three Durbar Squares. Their owners eye every passerby with expectations and longing, hoping that an inquisitive look from a passerby will lead to a profitable sale. However, among the vibrant fragments of our history, a square-shaped board, either metallic or wooden, often goes unnoticed by the locals.\\n\\n“No Nepali buys the Bagh Chal board. Only foreigners buy it. It’s not a popular item among foreigners too though. I used to sell hardly one-two boards a week before the pandemic,” says Ram Maharjan, one of the many stallowners in Basantapur Dabali, where about half of the stalls flaunt this age-old board game.\\n\\nThe Bagh Chal board has 5x5 grids which are interconnected creating 25 intersection points where the game pieces are placed. The game pieces consist of four tiger pieces and 20 goat pieces which can move along the lines from one point to another. One player controls four tigers while the other player controls 20 goats. The objective for the player who plays the tiger is to capture four-five goats by jumping over the goats while the objective for the player who controls the goats is to gridlock the tigers so that they do not have any legal moves left.\\n\\nBut players actually playing this ancient game rarely play it on a board; most just sketch the board design on a smooth surface and use stones and rocks as the tiger and goat pieces. To find these players, one needs to venture into the heart of Kathmandu Valley and scour the parks, temples, and public spaces or most commonly the paatis. There, old people can sometimes be found hunched over a Bagh Chal board sketched in the ground, moving rocks and pebbles that substitute the mighty tigers and cunning goats game pieces.\\n\\nBagh Chal, an ancient board game, is thought to be a native game of Nepal. However, since it doesn’t have any written history, the exact origin and history of this game is difficult to trace. The game has survived till now from one generation to another through imitation and oral traditions. As the number of old people playing Bagh Chal in paatis starts to grow thinner and thinner and new generations are nowhere to be found, veteran players and historians are worried that this ancient game might disappear along with them.\\n\\n“Bagh Chal is an indoor game that is popular as a timepass activity during leisure time. People of my generation all know about this game,” says Tri Ratna Manandhar, a retired professor of history at Tribhuvan University. “It’s a game most of us grew up with but I haven’t seen a mention of it in history texts.”\\n\\nHe reminisces that he used to see this game played abundantly in rural areas of places like Gorkha, Lamjung, Nuwakot, etc., almost 50 years ago. During that time, he noticed that people from Gorkha were especially skilled in this game so he speculates that the game may have originated in Gorkha. But, he adds that he has not found any written text or proof to back up his theory.\\n\\nManandhar says that Bagh Chal is a simple game that doesn’t require any special board, game pieces or extensive knowledge to play it. But in recent years, he hasn’t seen people playing this game in his locality. He says, “Maybe this simple game is being replaced by more complex games such as chess and modern smartphone games which appeal better to the young generation.”\\n\\nHowever, Sagar Maharjan, winner of National Bagh Chal Competition organised by Pragativaadi Youth Society Nepal, an NGO, in 2019, doesn’t see the simplicity of the game as a drawback. He argues, “The beauty of this game is in its simplicity. The game is easy to play because the rules are simple. But there are also complex strategies players can use. This is a mental game so the level of difficulty and complexity of a game depends on you and your opponent’s rational capabilities and wit.”\\n\\nSagar, 61, started playing Bagh Chal when he was a child and has been playing it for almost 50 years now. But he says that he hasn’t ever gotten bored of the game. He still plays it with his friends at a paati in Naya Bazar, Kirtipur.\\n\\nHis friends who play Bagh Chal with him are all in a similar age range-late 50s to early 60s. He says that he hasn’t seen any youth interested enough to learn about the game and play with them.\\n\\n“My grandson never accompanies me to the paati so I haven’t taught him about Bagh Chal. He gets lost in the world of his smartphone all day, shooting guns and shouting. Bagh Chal doesn’t interest today’s kids,” says Sagar.\\n\\nManandhar says that since the game was popular in rural areas, he believes that “the agrarian history of Nepal must have influenced the creation of this game.”\\n\\nSagar also thinks along the same lines. “I think the game was invented to be an entertaining way to pass the time during the days when people used to take domestic animals to pasturelands and such was the way of life,” he says. “The aggressive tigers on the hunt for the individually feeble goats was an actual reality of that time. This game was both entertaining and educational.”\\n\\nHowever, as Nepali societies underwent rapid urbanisation, the symbolic representation and significance of Bagh Chal started to lose its relevance. Nirmala Mani Adhikari, Associate Professor at Kathmandu University School of Arts and patron of Pragativadi Youth Society Nepal, says, “The rapid urbanisation of Nepal during the time period after the 1990s was a specially dark period for the prospects of Bagh Chal. The rural context of the game started losing its relevance during this phase and maybe that is why its popularity fell. For two decades, the game lost its relevance but a revival phase has started now.”\\n\\nHe mentions that various schools, clubs, and organisations have begun organising Bagh Chal competitions in recent years. Though the pandemic has halted such competitions and programmes, Adhikari is optimistic that such conservation activities will pick up pace soon.\\n\\nManandhar, meanwhile, believes that along with the conservation efforts, there should also be acceptance of the game as a native game at the local government level so that there can be awareness programmes about the game. He says, “Though every old person knows about the game, no one wants to study the origin and history of Bagh Chal since it isn’t officially recognised by the state and historians do not think the game is important enough.”\\n\\nVeteran player Sagar also agrees with this sentiment and believes that if Bagh Chal is given an official game status, then more people will join hands to contribute for its conservation.\\n\\nBut, there might be another recourse for the conservation of this ancient game—the internet. There are many websites that offer online versions of this game and the mobile app versions are especially popular. The app version of Bagh Chal called ‘BaghChal- Tigers and Goats’, developed by TechnoGuff and available in Google PlayStore, is a popular gaming app that has over 500,000 downloads in the Google PlayStore. The app consists of a single-player mode against an AI opponent as well as online and LAN(Local Area Network) multiplayer mode.\\n\\nHowever, Sagar says that though the online versions of the game have increased the reach and popularity of the game, the essence of the game is still found only on a physical board.\\n\\n“The thrill of the game when you play against a competent player is only possible in real life. The tension in the air, the feeling that the game can go either way with one wrong move, the excitement of winning, these are only possible in real life,” says Sagar. “I believe online versions of the game can be a part of our conservation efforts but our true focus should be on preserving the actual physical game in its original, local context.”', metadata={'source': '../data/blog1.txt'})]"
      ]
     },
     "execution_count": 24,
     "metadata": {},
     "output_type": "execute_result"
    }
   ],
   "source": [
    "document"
   ]
  },
  {
   "cell_type": "markdown",
   "metadata": {},
   "source": [
    "## Text Splitter"
   ]
  },
  {
   "cell_type": "code",
   "execution_count": 29,
   "metadata": {},
   "outputs": [],
   "source": [
    "from langchain.text_splitter import CharacterTextSplitter\n"
   ]
  },
  {
   "cell_type": "code",
   "execution_count": 35,
   "metadata": {},
   "outputs": [],
   "source": [
    "splitter = CharacterTextSplitter(chunk_size = 1000, chunk_overlap = 20)"
   ]
  },
  {
   "cell_type": "code",
   "execution_count": 44,
   "metadata": {},
   "outputs": [
    {
     "data": {
      "text/plain": [
       "11"
      ]
     },
     "execution_count": 44,
     "metadata": {},
     "output_type": "execute_result"
    }
   ],
   "source": [
    "texts = splitter.split_documents(document)\n",
    "len(texts)"
   ]
  },
  {
   "cell_type": "code",
   "execution_count": 42,
   "metadata": {},
   "outputs": [
    {
     "name": "stdout",
     "output_type": "stream",
     "text": [
      "Bagh Chal: A native board game on the brink of extinction\n",
      "Stalls adorned with lustrous trinkets, intriguing masks, sacred tokens, singing bowls, intricate miniature statues, and colourful beads are scattered in the Valley’s three Durbar Squares. Their owners eye every passerby with expectations and longing, hoping that an inquisitive look from a passerby will lead to a profitable sale. However, among the vibrant fragments of our history, a square-shaped board, either metallic or wooden, often goes unnoticed by the locals.\n",
      "\n",
      "“No Nepali buys the Bagh Chal board. Only foreigners buy it. It’s not a popular item among foreigners too though. I used to sell hardly one-two boards a week before the pandemic,” says Ram Maharjan, one of the many stallowners in Basantapur Dabali, where about half of the stalls flaunt this age-old board game.\n"
     ]
    }
   ],
   "source": [
    "print(texts[0].page_content)"
   ]
  },
  {
   "cell_type": "code",
   "execution_count": 43,
   "metadata": {},
   "outputs": [
    {
     "name": "stdout",
     "output_type": "stream",
     "text": [
      "The Bagh Chal board has 5x5 grids which are interconnected creating 25 intersection points where the game pieces are placed. The game pieces consist of four tiger pieces and 20 goat pieces which can move along the lines from one point to another. One player controls four tigers while the other player controls 20 goats. The objective for the player who plays the tiger is to capture four-five goats by jumping over the goats while the objective for the player who controls the goats is to gridlock the tigers so that they do not have any legal moves left.\n"
     ]
    }
   ],
   "source": [
    "print(texts[1].page_content)"
   ]
  },
  {
   "cell_type": "markdown",
   "metadata": {},
   "source": [
    "## Embeddings"
   ]
  },
  {
   "cell_type": "code",
   "execution_count": 50,
   "metadata": {},
   "outputs": [],
   "source": [
    "from langchain_community.embeddings import HuggingFaceEmbeddings"
   ]
  },
  {
   "cell_type": "code",
   "execution_count": 55,
   "metadata": {},
   "outputs": [],
   "source": [
    "def download_embedding_model():\n",
    "    embeddings = HuggingFaceEmbeddings(\n",
    "        model_name = \"sentence-transformers/paraphrase-MiniLM-L6-v2\",\n",
    "    )\n",
    "    return embeddings"
   ]
  },
  {
   "cell_type": "markdown",
   "metadata": {},
   "source": [
    "## downloading embedding from hugging face"
   ]
  },
  {
   "cell_type": "code",
   "execution_count": 57,
   "metadata": {},
   "outputs": [
    {
     "name": "stderr",
     "output_type": "stream",
     "text": [
      "C:\\Users\\acer\\AppData\\Roaming\\Python\\Python312\\site-packages\\sentence_transformers\\cross_encoder\\CrossEncoder.py:11: TqdmWarning: IProgress not found. Please update jupyter and ipywidgets. See https://ipywidgets.readthedocs.io/en/stable/user_install.html\n",
      "  from tqdm.autonotebook import tqdm, trange\n",
      "C:\\Users\\acer\\AppData\\Roaming\\Python\\Python312\\site-packages\\huggingface_hub\\file_download.py:1132: FutureWarning: `resume_download` is deprecated and will be removed in version 1.0.0. Downloads always resume when possible. If you want to force a new download, use `force_download=True`.\n",
      "  warnings.warn(\n"
     ]
    }
   ],
   "source": [
    "embedding = download_embedding_model()\n",
    "# this embedding model has 384 dimensions"
   ]
  },
  {
   "cell_type": "code",
   "execution_count": 58,
   "metadata": {},
   "outputs": [
    {
     "data": {
      "text/plain": [
       "HuggingFaceEmbeddings(client=SentenceTransformer(\n",
       "  (0): Transformer({'max_seq_length': 128, 'do_lower_case': False}) with Transformer model: BertModel \n",
       "  (1): Pooling({'word_embedding_dimension': 384, 'pooling_mode_cls_token': False, 'pooling_mode_mean_tokens': True, 'pooling_mode_max_tokens': False, 'pooling_mode_mean_sqrt_len_tokens': False, 'pooling_mode_weightedmean_tokens': False, 'pooling_mode_lasttoken': False, 'include_prompt': True})\n",
       "), model_name='sentence-transformers/paraphrase-MiniLM-L6-v2', cache_folder=None, model_kwargs={}, encode_kwargs={}, multi_process=False, show_progress=False)"
      ]
     },
     "execution_count": 58,
     "metadata": {},
     "output_type": "execute_result"
    }
   ],
   "source": [
    "embedding"
   ]
  },
  {
   "cell_type": "markdown",
   "metadata": {},
   "source": [
    "## PineCone"
   ]
  },
  {
   "cell_type": "code",
   "execution_count": 60,
   "metadata": {},
   "outputs": [],
   "source": [
    "from langchain_pinecone import PineconeVectorStore"
   ]
  },
  {
   "cell_type": "code",
   "execution_count": 61,
   "metadata": {},
   "outputs": [],
   "source": [
    "import os\n",
    "from dotenv import load_dotenv\n",
    "\n",
    "load_dotenv()\n",
    "\n",
    "os.environ['PINECONE_API_KEY'] = os.environ['PINECONE_API_KEY']"
   ]
  },
  {
   "cell_type": "code",
   "execution_count": 63,
   "metadata": {},
   "outputs": [],
   "source": [
    "index_name=\"bloganalyzer\""
   ]
  },
  {
   "cell_type": "code",
   "execution_count": 66,
   "metadata": {},
   "outputs": [],
   "source": [
    "vectorstore_from_docs = PineconeVectorStore.from_documents(\n",
    "    texts,\n",
    "    index_name=index_name,\n",
    "    embedding=embedding\n",
    ")"
   ]
  },
  {
   "cell_type": "markdown",
   "metadata": {},
   "source": [
    "## VectorQA chain | Retrieval QA chain"
   ]
  },
  {
   "cell_type": "code",
   "execution_count": 84,
   "metadata": {},
   "outputs": [],
   "source": [
    "prompt_template=\"\"\"\n",
    "give answer based on the context:\n",
    "{context}\n",
    "\n",
    "dont make up your own answer if the answer is not in the context just answer I dont know.\n",
    "\n",
    "question: {question}\n",
    "\n",
    "answer:\n",
    "\"\"\""
   ]
  },
  {
   "cell_type": "code",
   "execution_count": 85,
   "metadata": {},
   "outputs": [
    {
     "name": "stderr",
     "output_type": "stream",
     "text": [
      "<>:3: SyntaxWarning: invalid escape sequence '\\G'\n",
      "<>:3: SyntaxWarning: invalid escape sequence '\\G'\n",
      "C:\\Users\\acer\\AppData\\Local\\Temp\\ipykernel_5620\\3166109824.py:3: SyntaxWarning: invalid escape sequence '\\G'\n",
      "  model_path = \"D:\\Generative AI\\Gen AI Language\\local LLM\\llama2-7b-q2chat.bin\"\n"
     ]
    }
   ],
   "source": [
    "from langchain.llms import CTransformers\n",
    "\n",
    "model_path = \"D:\\Generative AI\\Gen AI Language\\local LLM\\llama2-7b-q2chat.bin\"\n",
    "\n",
    "llm = CTransformers(\n",
    "    model = model_path,\n",
    "    model_type = \"llama\",\n",
    "    max_new_tokens = 200,\n",
    "    temperature = 0.7\n",
    ")"
   ]
  },
  {
   "cell_type": "code",
   "execution_count": 86,
   "metadata": {},
   "outputs": [],
   "source": [
    "from langchain.chains import RetrievalQA\n",
    "from langchain.prompts import PromptTemplate\n",
    "\n",
    "PROMPT = PromptTemplate(\n",
    "    template = prompt_template,\n",
    "    input_variables = [\"context\", \"question\"]\n",
    ")"
   ]
  },
  {
   "cell_type": "code",
   "execution_count": 87,
   "metadata": {},
   "outputs": [],
   "source": [
    "qa = RetrievalQA.from_chain_type(\n",
    "    llm = llm,\n",
    "    chain_type = \"stuff\",\n",
    "    retriever = vectorstore_from_docs.as_retriever(\n",
    "        search_kwargs = {\n",
    "            \"k\": 2\n",
    "        }\n",
    "    ),\n",
    "    return_source_documents = True,\n",
    "    chain_type_kwargs = {\n",
    "        \"prompt\": PROMPT\n",
    "    }\n",
    ")"
   ]
  },
  {
   "cell_type": "code",
   "execution_count": 88,
   "metadata": {},
   "outputs": [
    {
     "name": "stderr",
     "output_type": "stream",
     "text": [
      "C:\\Users\\acer\\AppData\\Roaming\\Python\\Python312\\site-packages\\langchain_core\\_api\\deprecation.py:119: LangChainDeprecationWarning: The method `Chain.__call__` was deprecated in langchain 0.1.0 and will be removed in 0.3.0. Use invoke instead.\n",
      "  warn_deprecated(\n"
     ]
    }
   ],
   "source": [
    "response = qa({\n",
    "    \"query\": \"What is the blog about?\",\n",
    "})"
   ]
  },
  {
   "cell_type": "code",
   "execution_count": 93,
   "metadata": {},
   "outputs": [
    {
     "data": {
      "text/plain": [
       "'The blog is about the ancient game called Bagh Chal, and the debate surrounding its conservation and availability through both offline and online versions of the game.'"
      ]
     },
     "execution_count": 93,
     "metadata": {},
     "output_type": "execute_result"
    }
   ],
   "source": [
    "response[\"result\"]"
   ]
  },
  {
   "cell_type": "code",
   "execution_count": 94,
   "metadata": {},
   "outputs": [],
   "source": [
    "# TODO: how to solve the tokens limit if the context size of llm becomes full RAG course padhne majaale"
   ]
  },
  {
   "cell_type": "code",
   "execution_count": 89,
   "metadata": {},
   "outputs": [
    {
     "name": "stderr",
     "output_type": "stream",
     "text": [
      "Number of tokens (513) exceeded maximum context length (512).\n",
      "Number of tokens (514) exceeded maximum context length (512).\n",
      "Number of tokens (515) exceeded maximum context length (512).\n",
      "Number of tokens (516) exceeded maximum context length (512).\n",
      "Number of tokens (517) exceeded maximum context length (512).\n",
      "Number of tokens (518) exceeded maximum context length (512).\n",
      "Number of tokens (519) exceeded maximum context length (512).\n",
      "Number of tokens (520) exceeded maximum context length (512).\n",
      "Number of tokens (521) exceeded maximum context length (512).\n",
      "Number of tokens (522) exceeded maximum context length (512).\n",
      "Number of tokens (523) exceeded maximum context length (512).\n",
      "Number of tokens (524) exceeded maximum context length (512).\n",
      "Number of tokens (525) exceeded maximum context length (512).\n",
      "Number of tokens (526) exceeded maximum context length (512).\n",
      "Number of tokens (527) exceeded maximum context length (512).\n",
      "Number of tokens (528) exceeded maximum context length (512).\n",
      "Number of tokens (529) exceeded maximum context length (512).\n",
      "Number of tokens (530) exceeded maximum context length (512).\n",
      "Number of tokens (531) exceeded maximum context length (512).\n",
      "Number of tokens (532) exceeded maximum context length (512).\n",
      "Number of tokens (533) exceeded maximum context length (512).\n",
      "Number of tokens (534) exceeded maximum context length (512).\n",
      "Number of tokens (535) exceeded maximum context length (512).\n",
      "Number of tokens (536) exceeded maximum context length (512).\n",
      "Number of tokens (537) exceeded maximum context length (512).\n",
      "Number of tokens (538) exceeded maximum context length (512).\n",
      "Number of tokens (539) exceeded maximum context length (512).\n",
      "Number of tokens (540) exceeded maximum context length (512).\n",
      "Number of tokens (541) exceeded maximum context length (512).\n",
      "Number of tokens (542) exceeded maximum context length (512).\n",
      "Number of tokens (543) exceeded maximum context length (512).\n",
      "Number of tokens (544) exceeded maximum context length (512).\n",
      "Number of tokens (545) exceeded maximum context length (512).\n",
      "Number of tokens (546) exceeded maximum context length (512).\n",
      "Number of tokens (547) exceeded maximum context length (512).\n",
      "Number of tokens (548) exceeded maximum context length (512).\n",
      "Number of tokens (549) exceeded maximum context length (512).\n",
      "Number of tokens (550) exceeded maximum context length (512).\n",
      "Number of tokens (551) exceeded maximum context length (512).\n",
      "Number of tokens (552) exceeded maximum context length (512).\n",
      "Number of tokens (553) exceeded maximum context length (512).\n",
      "Number of tokens (554) exceeded maximum context length (512).\n",
      "Number of tokens (555) exceeded maximum context length (512).\n",
      "Number of tokens (556) exceeded maximum context length (512).\n",
      "Number of tokens (557) exceeded maximum context length (512).\n",
      "Number of tokens (558) exceeded maximum context length (512).\n",
      "Number of tokens (559) exceeded maximum context length (512).\n",
      "Number of tokens (560) exceeded maximum context length (512).\n",
      "Number of tokens (561) exceeded maximum context length (512).\n",
      "Number of tokens (562) exceeded maximum context length (512).\n",
      "Number of tokens (563) exceeded maximum context length (512).\n",
      "Number of tokens (564) exceeded maximum context length (512).\n",
      "Number of tokens (565) exceeded maximum context length (512).\n",
      "Number of tokens (566) exceeded maximum context length (512).\n",
      "Number of tokens (567) exceeded maximum context length (512).\n",
      "Number of tokens (568) exceeded maximum context length (512).\n",
      "Number of tokens (569) exceeded maximum context length (512).\n",
      "Number of tokens (570) exceeded maximum context length (512).\n",
      "Number of tokens (571) exceeded maximum context length (512).\n",
      "Number of tokens (572) exceeded maximum context length (512).\n",
      "Number of tokens (573) exceeded maximum context length (512).\n",
      "Number of tokens (574) exceeded maximum context length (512).\n",
      "Number of tokens (575) exceeded maximum context length (512).\n",
      "Number of tokens (576) exceeded maximum context length (512).\n",
      "Number of tokens (577) exceeded maximum context length (512).\n",
      "Number of tokens (578) exceeded maximum context length (512).\n",
      "Number of tokens (579) exceeded maximum context length (512).\n",
      "Number of tokens (580) exceeded maximum context length (512).\n",
      "Number of tokens (581) exceeded maximum context length (512).\n",
      "Number of tokens (582) exceeded maximum context length (512).\n",
      "Number of tokens (583) exceeded maximum context length (512).\n",
      "Number of tokens (584) exceeded maximum context length (512).\n",
      "Number of tokens (585) exceeded maximum context length (512).\n",
      "Number of tokens (586) exceeded maximum context length (512).\n",
      "Number of tokens (587) exceeded maximum context length (512).\n",
      "Number of tokens (588) exceeded maximum context length (512).\n",
      "Number of tokens (589) exceeded maximum context length (512).\n",
      "Number of tokens (590) exceeded maximum context length (512).\n",
      "Number of tokens (591) exceeded maximum context length (512).\n",
      "Number of tokens (592) exceeded maximum context length (512).\n",
      "Number of tokens (593) exceeded maximum context length (512).\n",
      "Number of tokens (594) exceeded maximum context length (512).\n",
      "Number of tokens (595) exceeded maximum context length (512).\n",
      "Number of tokens (596) exceeded maximum context length (512).\n",
      "Number of tokens (597) exceeded maximum context length (512).\n",
      "Number of tokens (598) exceeded maximum context length (512).\n",
      "Number of tokens (599) exceeded maximum context length (512).\n",
      "Number of tokens (600) exceeded maximum context length (512).\n",
      "Number of tokens (601) exceeded maximum context length (512).\n",
      "Number of tokens (602) exceeded maximum context length (512).\n",
      "Number of tokens (603) exceeded maximum context length (512).\n",
      "Number of tokens (604) exceeded maximum context length (512).\n",
      "Number of tokens (605) exceeded maximum context length (512).\n",
      "Number of tokens (606) exceeded maximum context length (512).\n",
      "Number of tokens (607) exceeded maximum context length (512).\n",
      "Number of tokens (608) exceeded maximum context length (512).\n",
      "Number of tokens (609) exceeded maximum context length (512).\n",
      "Number of tokens (610) exceeded maximum context length (512).\n",
      "Number of tokens (611) exceeded maximum context length (512).\n",
      "Number of tokens (612) exceeded maximum context length (512).\n",
      "Number of tokens (613) exceeded maximum context length (512).\n",
      "Number of tokens (614) exceeded maximum context length (512).\n",
      "Number of tokens (615) exceeded maximum context length (512).\n",
      "Number of tokens (616) exceeded maximum context length (512).\n",
      "Number of tokens (617) exceeded maximum context length (512).\n",
      "Number of tokens (618) exceeded maximum context length (512).\n",
      "Number of tokens (619) exceeded maximum context length (512).\n",
      "Number of tokens (620) exceeded maximum context length (512).\n",
      "Number of tokens (621) exceeded maximum context length (512).\n",
      "Number of tokens (622) exceeded maximum context length (512).\n",
      "Number of tokens (623) exceeded maximum context length (512).\n",
      "Number of tokens (624) exceeded maximum context length (512).\n",
      "Number of tokens (625) exceeded maximum context length (512).\n",
      "Number of tokens (626) exceeded maximum context length (512).\n",
      "Number of tokens (627) exceeded maximum context length (512).\n",
      "Number of tokens (628) exceeded maximum context length (512).\n",
      "Number of tokens (629) exceeded maximum context length (512).\n",
      "Number of tokens (630) exceeded maximum context length (512).\n",
      "Number of tokens (631) exceeded maximum context length (512).\n",
      "Number of tokens (632) exceeded maximum context length (512).\n",
      "Number of tokens (633) exceeded maximum context length (512).\n",
      "Number of tokens (634) exceeded maximum context length (512).\n",
      "Number of tokens (635) exceeded maximum context length (512).\n",
      "Number of tokens (636) exceeded maximum context length (512).\n",
      "Number of tokens (637) exceeded maximum context length (512).\n",
      "Number of tokens (638) exceeded maximum context length (512).\n",
      "Number of tokens (639) exceeded maximum context length (512).\n",
      "Number of tokens (640) exceeded maximum context length (512).\n",
      "Number of tokens (641) exceeded maximum context length (512).\n",
      "Number of tokens (642) exceeded maximum context length (512).\n",
      "Number of tokens (643) exceeded maximum context length (512).\n",
      "Number of tokens (644) exceeded maximum context length (512).\n",
      "Number of tokens (645) exceeded maximum context length (512).\n",
      "Number of tokens (646) exceeded maximum context length (512).\n",
      "Number of tokens (647) exceeded maximum context length (512).\n",
      "Number of tokens (648) exceeded maximum context length (512).\n",
      "Number of tokens (649) exceeded maximum context length (512).\n",
      "Number of tokens (650) exceeded maximum context length (512).\n",
      "Number of tokens (651) exceeded maximum context length (512).\n",
      "Number of tokens (652) exceeded maximum context length (512).\n",
      "Number of tokens (653) exceeded maximum context length (512).\n",
      "Number of tokens (654) exceeded maximum context length (512).\n",
      "Number of tokens (655) exceeded maximum context length (512).\n",
      "Number of tokens (656) exceeded maximum context length (512).\n",
      "Number of tokens (657) exceeded maximum context length (512).\n",
      "Number of tokens (658) exceeded maximum context length (512).\n",
      "Number of tokens (659) exceeded maximum context length (512).\n",
      "Number of tokens (660) exceeded maximum context length (512).\n",
      "Number of tokens (661) exceeded maximum context length (512).\n",
      "Number of tokens (662) exceeded maximum context length (512).\n",
      "Number of tokens (663) exceeded maximum context length (512).\n",
      "Number of tokens (664) exceeded maximum context length (512).\n",
      "Number of tokens (665) exceeded maximum context length (512).\n",
      "Number of tokens (666) exceeded maximum context length (512).\n",
      "Number of tokens (667) exceeded maximum context length (512).\n",
      "Number of tokens (668) exceeded maximum context length (512).\n",
      "Number of tokens (669) exceeded maximum context length (512).\n",
      "Number of tokens (670) exceeded maximum context length (512).\n",
      "Number of tokens (671) exceeded maximum context length (512).\n",
      "Number of tokens (672) exceeded maximum context length (512).\n",
      "Number of tokens (673) exceeded maximum context length (512).\n",
      "Number of tokens (674) exceeded maximum context length (512).\n",
      "Number of tokens (675) exceeded maximum context length (512).\n",
      "Number of tokens (676) exceeded maximum context length (512).\n",
      "Number of tokens (677) exceeded maximum context length (512).\n",
      "Number of tokens (678) exceeded maximum context length (512).\n",
      "Number of tokens (679) exceeded maximum context length (512).\n",
      "Number of tokens (680) exceeded maximum context length (512).\n",
      "Number of tokens (681) exceeded maximum context length (512).\n",
      "Number of tokens (682) exceeded maximum context length (512).\n",
      "Number of tokens (683) exceeded maximum context length (512).\n",
      "Number of tokens (684) exceeded maximum context length (512).\n",
      "Number of tokens (685) exceeded maximum context length (512).\n",
      "Number of tokens (686) exceeded maximum context length (512).\n",
      "Number of tokens (687) exceeded maximum context length (512).\n",
      "Number of tokens (688) exceeded maximum context length (512).\n",
      "Number of tokens (689) exceeded maximum context length (512).\n",
      "Number of tokens (690) exceeded maximum context length (512).\n",
      "Number of tokens (691) exceeded maximum context length (512).\n",
      "Number of tokens (692) exceeded maximum context length (512).\n",
      "Number of tokens (693) exceeded maximum context length (512).\n",
      "Number of tokens (694) exceeded maximum context length (512).\n",
      "Number of tokens (695) exceeded maximum context length (512).\n",
      "Number of tokens (696) exceeded maximum context length (512).\n",
      "Number of tokens (697) exceeded maximum context length (512).\n",
      "Number of tokens (698) exceeded maximum context length (512).\n",
      "Number of tokens (699) exceeded maximum context length (512).\n",
      "Number of tokens (700) exceeded maximum context length (512).\n",
      "Number of tokens (701) exceeded maximum context length (512).\n",
      "Number of tokens (702) exceeded maximum context length (512).\n",
      "Number of tokens (703) exceeded maximum context length (512).\n",
      "Number of tokens (704) exceeded maximum context length (512).\n",
      "Number of tokens (705) exceeded maximum context length (512).\n",
      "Number of tokens (706) exceeded maximum context length (512).\n",
      "Number of tokens (707) exceeded maximum context length (512).\n",
      "Number of tokens (708) exceeded maximum context length (512).\n",
      "Number of tokens (709) exceeded maximum context length (512).\n",
      "Number of tokens (710) exceeded maximum context length (512).\n",
      "Number of tokens (711) exceeded maximum context length (512).\n",
      "Number of tokens (712) exceeded maximum context length (512).\n",
      "Number of tokens (713) exceeded maximum context length (512).\n",
      "Number of tokens (714) exceeded maximum context length (512).\n",
      "Number of tokens (715) exceeded maximum context length (512).\n",
      "Number of tokens (716) exceeded maximum context length (512).\n",
      "Number of tokens (717) exceeded maximum context length (512).\n",
      "Number of tokens (718) exceeded maximum context length (512).\n",
      "Number of tokens (719) exceeded maximum context length (512).\n",
      "Number of tokens (720) exceeded maximum context length (512).\n",
      "Number of tokens (721) exceeded maximum context length (512).\n",
      "Number of tokens (722) exceeded maximum context length (512).\n",
      "Number of tokens (723) exceeded maximum context length (512).\n",
      "Number of tokens (724) exceeded maximum context length (512).\n",
      "Number of tokens (725) exceeded maximum context length (512).\n",
      "Number of tokens (726) exceeded maximum context length (512).\n",
      "Number of tokens (727) exceeded maximum context length (512).\n",
      "Number of tokens (728) exceeded maximum context length (512).\n",
      "Number of tokens (729) exceeded maximum context length (512).\n",
      "Number of tokens (730) exceeded maximum context length (512).\n",
      "Number of tokens (731) exceeded maximum context length (512).\n",
      "Number of tokens (732) exceeded maximum context length (512).\n",
      "Number of tokens (733) exceeded maximum context length (512).\n",
      "Number of tokens (734) exceeded maximum context length (512).\n",
      "Number of tokens (735) exceeded maximum context length (512).\n",
      "Number of tokens (736) exceeded maximum context length (512).\n",
      "Number of tokens (737) exceeded maximum context length (512).\n",
      "Number of tokens (738) exceeded maximum context length (512).\n",
      "Number of tokens (739) exceeded maximum context length (512).\n",
      "Number of tokens (740) exceeded maximum context length (512).\n",
      "Number of tokens (741) exceeded maximum context length (512).\n"
     ]
    }
   ],
   "source": [
    "response2 = qa({\n",
    "    \"query\": \"What is baagchal game and where is it played mostly?\"\n",
    "})"
   ]
  },
  {
   "cell_type": "code",
   "execution_count": 95,
   "metadata": {},
   "outputs": [
    {
     "name": "stdout",
     "output_type": "stream",
     "text": [
      "Bagh Chal is a traditional board game popular in Nepal, particularly in rural areas like Gorkha, Lamjung, Nuwak Nuw Nuwak, Nuwak etc.and Nuwak, Nuwak, Nuwak, and Nuwak, Nuwak, Nuwak, Nuwak, and Nuwaknow kathok, Nuwak and Nuwakwnuk and Nuwak and Nuwak and Nuwak, Nuwak, Nuwak, Nuwak, Nuwak, Nuwak, Nuwak and Nuwak and Nuwak, Nuwak, Nuwak, Nuwak, Nuwak, Nuwak, Nuwak, Nuwakwn Nuw Nuwak, Nuwak, Nuwak, Nuwak, Nuwak, Nuwak, and Nuwaktrk NuwalkjNuwak et.and Nuwak, Nuwak, Nuwak and Nuwakc, and Nuwak, Nuwak etc. Itan and Nuwak and Nuwak and Nuwak, Nuwak, Nuwak, Nuwaknow\n"
     ]
    }
   ],
   "source": [
    "print(response2[\"result\"])"
   ]
  },
  {
   "cell_type": "code",
   "execution_count": 115,
   "metadata": {},
   "outputs": [],
   "source": [
    "similarity = vectorstore_from_docs.similarity_search(\"baagchal game board size exact\", k=2)"
   ]
  },
  {
   "cell_type": "code",
   "execution_count": 118,
   "metadata": {},
   "outputs": [
    {
     "data": {
      "text/plain": [
       "'The Bagh Chal board has 5x5 grids which are interconnected creating 25 intersection points where the game pieces are placed. The game pieces consist of four tiger pieces and 20 goat pieces which can move along the lines from one point to another. One player controls four tigers while the other player controls 20 goats. The objective for the player who plays the tiger is to capture four-five goats by jumping over the goats while the objective for the player who controls the goats is to gridlock the tigers so that they do not have any legal moves left.'"
      ]
     },
     "execution_count": 118,
     "metadata": {},
     "output_type": "execute_result"
    }
   ],
   "source": [
    "similarity[0].page_content"
   ]
  },
  {
   "cell_type": "code",
   "execution_count": 119,
   "metadata": {},
   "outputs": [
    {
     "data": {
      "text/plain": [
       "'Bagh Chal: A native board game on the brink of extinction\\nStalls adorned with lustrous trinkets, intriguing masks, sacred tokens, singing bowls, intricate miniature statues, and colourful beads are scattered in the Valley’s three Durbar Squares. Their owners eye every passerby with expectations and longing, hoping that an inquisitive look from a passerby will lead to a profitable sale. However, among the vibrant fragments of our history, a square-shaped board, either metallic or wooden, often goes unnoticed by the locals.\\n\\n“No Nepali buys the Bagh Chal board. Only foreigners buy it. It’s not a popular item among foreigners too though. I used to sell hardly one-two boards a week before the pandemic,” says Ram Maharjan, one of the many stallowners in Basantapur Dabali, where about half of the stalls flaunt this age-old board game.'"
      ]
     },
     "execution_count": 119,
     "metadata": {},
     "output_type": "execute_result"
    }
   ],
   "source": [
    "similarity[1].page_content"
   ]
  }
 ],
 "metadata": {
  "kernelspec": {
   "display_name": "Python 3",
   "language": "python",
   "name": "python3"
  },
  "language_info": {
   "codemirror_mode": {
    "name": "ipython",
    "version": 3
   },
   "file_extension": ".py",
   "mimetype": "text/x-python",
   "name": "python",
   "nbconvert_exporter": "python",
   "pygments_lexer": "ipython3",
   "version": "3.12.1"
  }
 },
 "nbformat": 4,
 "nbformat_minor": 2
}
