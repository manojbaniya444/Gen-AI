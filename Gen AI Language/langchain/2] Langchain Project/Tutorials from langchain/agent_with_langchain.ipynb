{
 "cells": [
  {
   "cell_type": "markdown",
   "metadata": {},
   "source": [
    "## Building an Agent in LangChain\n",
    "Agents are systems that use LLMs as reasoning engines to determine which actions to take and the inputs to pass them.\n",
    "After executing actions, the results can be fed back into the LLM to determine whether more actions are needed, or whether it is okay to finish."
   ]
  },
  {
   "cell_type": "markdown",
   "metadata": {},
   "source": [
    "**Building an Agent that can interact with a search engine. We will be able to ask this agent questions and watch it call the search tool and have conversations with it**"
   ]
  },
  {
   "cell_type": "code",
   "execution_count": 1,
   "metadata": {},
   "outputs": [],
   "source": [
    "# !pip install -U langchain-community langgraph langchain-anthropic tavily-python"
   ]
  },
  {
   "cell_type": "code",
   "execution_count": 2,
   "metadata": {},
   "outputs": [],
   "source": [
    "# Setting up LangSmith\n",
    "\n",
    "import os\n",
    "from dotenv import load_dotenv\n",
    "\n",
    "load_dotenv()\n",
    "\n",
    "os.environ[\"LANGCHAIN_TRACING_V2\"] = \"true\"\n",
    "os.environ[\"LANGCHAIN_API_KEY\"] = os.getenv(\"LANGCHAIN_API_KEY\")"
   ]
  },
  {
   "cell_type": "code",
   "execution_count": 3,
   "metadata": {},
   "outputs": [],
   "source": [
    "# Travily for search engine tool.\n",
    "\n",
    "os.environ[\"TAVILY_API_KEY\"] = os.getenv(\"TAVILY_API_KEY\")"
   ]
  },
  {
   "cell_type": "code",
   "execution_count": 4,
   "metadata": {},
   "outputs": [
    {
     "name": "stdout",
     "output_type": "stream",
     "text": [
      "[{'url': 'https://www.wunderground.com/weather/np/pokhara', 'content': 'Pokhara Weather Forecasts. Weather Underground provides local & long-range weather forecasts, weatherreports, maps & tropical weather conditions for the Pokhara area. ... 25 AM GMT+05:45 on June ...'}, {'url': 'https://www.whereandwhen.net/when/central-and-south-asia/nepal/pokhara/june/', 'content': 'Weather in Pokhara in june 2024. The weather in Pokhara in the month of june comes from statistical datas on the last years. You can view the weather statistics for the whole month, but also by using the tabs for the beginning, the middle and the end of the month. ... 25-06-2023 72°F to 83°F. 26-06-2023 72°F to 86°F. 27-06-2023 74°F to 86 ...'}]\n"
     ]
    }
   ],
   "source": [
    "# Defining tools\n",
    "# our tool: Tavily search engine\n",
    "\n",
    "from langchain_community.tools.tavily_search import TavilySearchResults\n",
    "\n",
    "search = TavilySearchResults(max_results = 2)\n",
    "search_results = search.invoke(\"What is the weather in Pokhara?\")\n",
    "print(search_results)"
   ]
  },
  {
   "cell_type": "code",
   "execution_count": 5,
   "metadata": {},
   "outputs": [],
   "source": [
    "# Add more tools if we want to use \n",
    "\n",
    "tools = [search]"
   ]
  },
  {
   "cell_type": "code",
   "execution_count": 7,
   "metadata": {},
   "outputs": [],
   "source": [
    "# Now learning how to use a language model by to call tools.\n",
    "\n",
    "os.environ[\"GROQ_API_KEY\"] = os.getenv(\"GROQ_API_KEY\")\n",
    "\n",
    "from langchain_groq import ChatGroq\n",
    "model = ChatGroq(model=\"llama3-8b-8192\")"
   ]
  },
  {
   "cell_type": "code",
   "execution_count": 8,
   "metadata": {},
   "outputs": [
    {
     "data": {
      "text/plain": [
       "\"I'm just a language model, I don't have emotions or feelings like humans do, but I'm functioning properly and ready to assist you with any questions or tasks you may have! It's great to chat with you. How can I help you today?\""
      ]
     },
     "execution_count": 8,
     "metadata": {},
     "output_type": "execute_result"
    }
   ],
   "source": [
    "# Now we can call the language model by passing in a list of messages. By default the resonse is a content string.\n",
    "\n",
    "from langchain_core.messages import HumanMessage\n",
    "\n",
    "response = model.invoke(\n",
    "    [\n",
    "        HumanMessage(content=\"Hello, how are you?\")\n",
    "    ]\n",
    ")\n",
    "\n",
    "response.content"
   ]
  },
  {
   "cell_type": "code",
   "execution_count": 9,
   "metadata": {},
   "outputs": [],
   "source": [
    "# Binding these language models with our tools\n",
    "\n",
    "model_with_tools = model.bind_tools(tools)"
   ]
  },
  {
   "cell_type": "code",
   "execution_count": 12,
   "metadata": {},
   "outputs": [
    {
     "name": "stdout",
     "output_type": "stream",
     "text": [
      "content='' additional_kwargs={'tool_calls': [{'id': 'call_3z3c', 'function': {'arguments': '{\"query\":\"weather in Pokhara Nepal\"}', 'name': 'tavily_search_results_json'}, 'type': 'function'}]} response_metadata={'token_usage': {'completion_tokens': 75, 'prompt_tokens': 983, 'total_tokens': 1058, 'completion_time': 0.059026771, 'prompt_time': 0.147786325, 'queue_time': None, 'total_time': 0.206813096}, 'model_name': 'llama3-8b-8192', 'system_fingerprint': 'fp_af05557ca2', 'finish_reason': 'tool_calls', 'logprobs': None} id='run-058db3a2-eb44-4bf1-b2a6-3f43b28ddfec-0' tool_calls=[{'name': 'tavily_search_results_json', 'args': {'query': 'weather in Pokhara Nepal'}, 'id': 'call_3z3c'}]\n"
     ]
    }
   ],
   "source": [
    "response = model_with_tools.invoke(\n",
    "    [\n",
    "        HumanMessage(content=\"What is the weather in Pokhara Nepal?\")\n",
    "    ]\n",
    ")\n",
    "\n",
    "print(response)"
   ]
  },
  {
   "cell_type": "code",
   "execution_count": 13,
   "metadata": {},
   "outputs": [
    {
     "name": "stdout",
     "output_type": "stream",
     "text": [
      "Content String: \n",
      "ToolCalls: [{'name': 'tavily_search_results_json', 'args': {'query': 'weather in Pokhara Nepal'}, 'id': 'call_3z3c'}]\n"
     ]
    }
   ],
   "source": [
    "print(f\"Content String: {response.content}\")\n",
    "print(f\"ToolCalls: {response.tool_calls}\")"
   ]
  },
  {
   "cell_type": "markdown",
   "metadata": {},
   "source": [
    "There is not text content but there is a tool call.\n",
    "\n",
    "This is not calling that tool yer it is just telling us to. \n",
    "\n",
    "In order to actually call we need to create agent."
   ]
  },
  {
   "cell_type": "markdown",
   "metadata": {},
   "source": [
    "## Creating the agent\n",
    "now we have our tools and LLM we can create the agent using **LangGraph**."
   ]
  },
  {
   "cell_type": "code",
   "execution_count": 14,
   "metadata": {},
   "outputs": [],
   "source": [
    "from langgraph.prebuilt import create_react_agent\n",
    "\n",
    "agent_executor = create_react_agent(model, tools)\n",
    "\n",
    "# we are passing the model and not the model with tools because create_react_agent will bind the tools to the model for us."
   ]
  },
  {
   "cell_type": "code",
   "execution_count": 18,
   "metadata": {},
   "outputs": [
    {
     "data": {
      "text/plain": [
       "[HumanMessage(content='Hi how are you?', id='1291d3fd-87e4-4b27-a80b-db911c39534f'),\n",
       " AIMessage(content='', additional_kwargs={'tool_calls': [{'id': 'call_6h2d', 'function': {'arguments': '{\"query\":\"Hi how are you?\"}', 'name': 'tavily_search_results_json'}, 'type': 'function'}]}, response_metadata={'token_usage': {'completion_tokens': 80, 'prompt_tokens': 944, 'total_tokens': 1024, 'completion_time': 0.063244924, 'prompt_time': 0.166151737, 'queue_time': None, 'total_time': 0.229396661}, 'model_name': 'llama3-8b-8192', 'system_fingerprint': 'fp_6a6771ae9c', 'finish_reason': 'tool_calls', 'logprobs': None}, id='run-3e8deb7a-3bd7-4017-9ff6-887eb151b3c4-0', tool_calls=[{'name': 'tavily_search_results_json', 'args': {'query': 'Hi how are you?'}, 'id': 'call_6h2d'}]),\n",
       " ToolMessage(content='[{\"url\": \"https://www.fluentu.com/blog/english/how-are-you-esl/\", \"content\": \"Say \\\\u201chello\\\\u201d to as many people as you can and see how they answer your \\\\u201cHow are you?\\\\u201d\\\\nOnce you\\\\u2019ve mastered this question, you might be so happy that you answer\\\\n\\\\u201cperfect\\\\u201d\\\\nto the next person who asks how you are!\\\\nDownload:\\\\n This can be paired with \\\\u201csame old\\\\u201d like this:\\\\n\\\\u201cHow are you doing?\\\\u201d\\\\n\\\\u201cOh, you know\\\\u2026 same old\\\\u201d\\\\nI\\\\u2019ve been better\\\\nWhen there is something wrong, you can use \\\\u201cI\\\\u2019ve been better\\\\u201d as your first response.\\\\n The difference between \\\\u201cHow are you?\\\\u201d and \\\\u201cHow are you doing?\\\\u201d\\\\nThese phrases are very similar, but \\\\u201chow are you?\\\\u201d is slightly more formal, and may be used more commonly when someone is specifically asking about your health or wellbeing.\\\\n Let\\\\u2019s look at some formal (more polite) answers to \\\\u201cHow are you?\\\\u201d\\\\nYou will use these answers when you\\\\u2019re talking to\\\\nacquaintances\\\\nand\\\\nstrangers\\\\n. This will lead your friend or relative to ask you\\\\n\\\\u201cWhat\\\\u2019s wrong?\\\\u201d\\\\nor something similar.\\\\nCould be worse\\\\nMaybe things aren\\\\u2019t going well lately, but you have some things to be thankful for.\\\\n\"}, {\"url\": \"https://eslspeaking.org/ways-to-answer-how-are-you/\", \"content\": \"Different Ways to Answer How Are You\\\\nCreative Ways to Answer How Are You\\\\nThe following are more creative reply to the question \\\\u201chow are you?\\\\u201d\\\\nFAQs About How Are You Replies\\\\nHere are some of the most frequently asked questions about how to answer \\\\u201chow are you?\\\\u201d qusetion.\\\\n Following are some good ways to reply nicely to \\\\u201chow are you?\\\\u201d\\\\nDaily English Resources\\\\nIf you are looking for more English speaking resources like this one, check out the following topics.\\\\nWays to Answer How Are You: Join the Conversation\\\\nHow do you usually reply when someone says \\\\u201chow are you?\\\\u201d The Most Common 4 Letter Words from A to Z\\\\nAnimal Names: Animals that Start with the Letter E\\\\nDifferent Ways to Say Good Night in English\\\\nThe Most Common 5 Letter Words from A to Z\\\\nJackie Bolen has been talking ESL speaking since 2014 and the goal is to bring you the best recommendations for English conversation games, activities, lesson plans and more. Following are some flirty responses to \\\\u201cHow are you?\\\\u201d:\\\\nIs it polite to say how are you?\\\\nYes, asking \\\\u201chow are you\\\\u201d is considered polite and a common social nicety. in ESL Speaking Resources\\\\u00b7 Learn English\\\\nDifferent Ways to Answer the Question \\\\u201cHow Are You?\\\\u201d\\\\nThe most commonly asked question in English is probably \\\\u201cHow are you?\\\\u201d\"}]', name='tavily_search_results_json', id='8b781e6c-22f5-4ef1-a43e-881d67be187f', tool_call_id='call_6h2d'),\n",
       " AIMessage(content='Based on the result of the tool call, I can provide a direct response. Here it is:\\n\\nThe question \"How are you?\" is a common way to greet someone and show interest in their well-being. There are many ways to answer this question, and the response can vary depending on the context and the level of formality. Some common answers include saying \"I\\'m fine, thank you\" or \"I\\'m doing well.\" If someone is asking about your health or wellbeing, you might say \"I\\'ve been better\" or \"I\\'ve been feeling a bit under the weather lately.\" In some cases, you might even use a more creative response, such as \"I\\'ve been keeping busy\" or \"I\\'ve been trying to stay positive.\"', response_metadata={'token_usage': {'completion_tokens': 152, 'prompt_tokens': 1736, 'total_tokens': 1888, 'completion_time': 0.120970849, 'prompt_time': 0.265468639, 'queue_time': None, 'total_time': 0.386439488}, 'model_name': 'llama3-8b-8192', 'system_fingerprint': 'fp_179b0f92c9', 'finish_reason': 'stop', 'logprobs': None}, id='run-82174b59-7c6d-4700-85bf-8e57241a904b-0')]"
      ]
     },
     "execution_count": 18,
     "metadata": {},
     "output_type": "execute_result"
    }
   ],
   "source": [
    "response = agent_executor.invoke(\n",
    "    {\n",
    "        \"messages\": [\n",
    "            HumanMessage(content=\"Hi how are you?\")\n",
    "        ]\n",
    "    }\n",
    ")\n",
    "\n",
    "response[\"messages\"]"
   ]
  },
  {
   "cell_type": "markdown",
   "metadata": {},
   "source": [
    "watch what is happening in langsmith\n",
    "\n",
    "https://smith.langchain.com/public/28311faa-e135-4d6a-ab6b-caecf6482aaa/r"
   ]
  },
  {
   "cell_type": "code",
   "execution_count": 19,
   "metadata": {},
   "outputs": [
    {
     "data": {
      "text/plain": [
       "[HumanMessage(content='What is the weather in Berlin?', id='eff807db-658e-49c0-b2f8-408852a5a766'),\n",
       " AIMessage(content='', additional_kwargs={'tool_calls': [{'id': 'call_regf', 'function': {'arguments': '{\"query\":\"current weather in Berlin\"}', 'name': 'tavily_search_results_json'}, 'type': 'function'}]}, response_metadata={'token_usage': {'completion_tokens': 73, 'prompt_tokens': 980, 'total_tokens': 1053, 'completion_time': 0.05772761, 'prompt_time': 0.148878676, 'queue_time': None, 'total_time': 0.20660628599999997}, 'model_name': 'llama3-8b-8192', 'system_fingerprint': 'fp_179b0f92c9', 'finish_reason': 'tool_calls', 'logprobs': None}, id='run-a50b2be6-42d2-47e8-859e-551c68cab22c-0', tool_calls=[{'name': 'tavily_search_results_json', 'args': {'query': 'current weather in Berlin'}, 'id': 'call_regf'}]),\n",
       " ToolMessage(content='[{\"url\": \"https://world-weather.info/forecast/germany/berlin/june-2024/\", \"content\": \"Extended weather forecast in Berlin. Hourly Week 10 days 14 days 30 days Year. Detailed \\\\u26a1 Berlin Weather Forecast for June 2024 - day/night \\\\ud83c\\\\udf21\\\\ufe0f temperatures, precipitations - World-Weather.info.\"}, {\"url\": \"https://www.weatherapi.com/\", \"content\": \"{\\'location\\': {\\'name\\': \\'Berlin\\', \\'region\\': \\'Berlin\\', \\'country\\': \\'Germany\\', \\'lat\\': 52.52, \\'lon\\': 13.4, \\'tz_id\\': \\'Europe/Berlin\\', \\'localtime_epoch\\': 1719333967, \\'localtime\\': \\'2024-06-25 18:46\\'}, \\'current\\': {\\'last_updated_epoch\\': 1719333000, \\'last_updated\\': \\'2024-06-25 18:30\\', \\'temp_c\\': 24.1, \\'temp_f\\': 75.4, \\'is_day\\': 1, \\'condition\\': {\\'text\\': \\'Sunny\\', \\'icon\\': \\'//cdn.weatherapi.com/weather/64x64/day/113.png\\', \\'code\\': 1000}, \\'wind_mph\\': 11.9, \\'wind_kph\\': 19.1, \\'wind_degree\\': 80, \\'wind_dir\\': \\'E\\', \\'pressure_mb\\': 1016.0, \\'pressure_in\\': 30.0, \\'precip_mm\\': 0.0, \\'precip_in\\': 0.0, \\'humidity\\': 54, \\'cloud\\': 0, \\'feelslike_c\\': 25.0, \\'feelslike_f\\': 77.0, \\'windchill_c\\': 26.1, \\'windchill_f\\': 79.0, \\'heatindex_c\\': 26.3, \\'heatindex_f\\': 79.4, \\'dewpoint_c\\': 12.5, \\'dewpoint_f\\': 54.5, \\'vis_km\\': 10.0, \\'vis_miles\\': 6.0, \\'uv\\': 7.0, \\'gust_mph\\': 13.2, \\'gust_kph\\': 21.2}}\"}]', name='tavily_search_results_json', id='de0f333b-09e6-425b-bc1c-c91838d4130a', tool_call_id='call_regf'),\n",
       " AIMessage(content='', additional_kwargs={'tool_calls': [{'id': 'call_5mbm', 'function': {'arguments': '{\"query\":\"current weather in Berlin\"}', 'name': 'tavily_search_results_json'}, 'type': 'function'}]}, response_metadata={'token_usage': {'completion_tokens': 40, 'prompt_tokens': 1503, 'total_tokens': 1543, 'completion_time': 0.030974287, 'prompt_time': 0.225489345, 'queue_time': None, 'total_time': 0.256463632}, 'model_name': 'llama3-8b-8192', 'system_fingerprint': 'fp_af05557ca2', 'finish_reason': 'tool_calls', 'logprobs': None}, id='run-e38d9b3c-8f45-4e8e-b431-f6ccfcf844ac-0', tool_calls=[{'name': 'tavily_search_results_json', 'args': {'query': 'current weather in Berlin'}, 'id': 'call_5mbm'}]),\n",
       " ToolMessage(content='[{\"url\": \"https://www.accuweather.com/en/de/berlin/10178/june-weather/178087\", \"content\": \"Get the monthly weather forecast for Berlin, Berlin, Germany, including daily high/low, historical averages, to help you plan ahead.\"}, {\"url\": \"https://world-weather.info/forecast/germany/berlin/june-2024/\", \"content\": \"Extended weather forecast in Berlin. Hourly Week 10 days 14 days 30 days Year. Detailed \\\\u26a1 Berlin Weather Forecast for June 2024 - day/night \\\\ud83c\\\\udf21\\\\ufe0f temperatures, precipitations - World-Weather.info.\"}]', name='tavily_search_results_json', id='cd772809-9ae0-49ba-919d-7911396465f8', tool_call_id='call_5mbm'),\n",
       " AIMessage(content='The current weather in Berlin is sunny with a temperature of 24.1°C (75.4°F).', response_metadata={'token_usage': {'completion_tokens': 23, 'prompt_tokens': 1722, 'total_tokens': 1745, 'completion_time': 0.017681878, 'prompt_time': 0.258341697, 'queue_time': None, 'total_time': 0.27602357499999997}, 'model_name': 'llama3-8b-8192', 'system_fingerprint': 'fp_af05557ca2', 'finish_reason': 'stop', 'logprobs': None}, id='run-84aabee5-ea10-4482-ac2d-888122647c7e-0')]"
      ]
     },
     "execution_count": 19,
     "metadata": {},
     "output_type": "execute_result"
    }
   ],
   "source": [
    "# Trying out an example where it should be invoking the tool\n",
    "\n",
    "response = agent_executor.invoke(\n",
    "    {\n",
    "        \"messages\": [\n",
    "            HumanMessage(\n",
    "                content=\"What is the weather in Berlin?\"\n",
    "            )\n",
    "        ]\n",
    "    }\n",
    ")\n",
    "\n",
    "response[\"messages\"]"
   ]
  },
  {
   "cell_type": "code",
   "execution_count": 20,
   "metadata": {},
   "outputs": [
    {
     "name": "stdout",
     "output_type": "stream",
     "text": [
      "{'agent': {'messages': [AIMessage(content='', additional_kwargs={'tool_calls': [{'id': 'call_8sb6', 'function': {'arguments': '{\"query\":\"current weather in sf\"}', 'name': 'tavily_search_results_json'}, 'type': 'function'}]}, response_metadata={'token_usage': {'completion_tokens': 80, 'prompt_tokens': 967, 'total_tokens': 1047, 'completion_time': 0.063344632, 'prompt_time': 0.694802317, 'queue_time': None, 'total_time': 0.7581469489999999}, 'model_name': 'llama3-8b-8192', 'system_fingerprint': 'fp_c4a72fb330', 'finish_reason': 'tool_calls', 'logprobs': None}, id='run-4f6bed70-bd3b-45a0-a4d4-71b9ccec6f0b-0', tool_calls=[{'name': 'tavily_search_results_json', 'args': {'query': 'current weather in sf'}, 'id': 'call_8sb6'}])]}}\n",
      "----\n",
      "{'tools': {'messages': [ToolMessage(content='[{\"url\": \"https://world-weather.info/forecast/usa/san_francisco/june-2024/\", \"content\": \"Extended weather forecast in San Francisco. Hourly Week 10 days 14 days 30 days Year. Detailed \\\\u26a1 San Francisco Weather Forecast for June 2024 - day/night \\\\ud83c\\\\udf21\\\\ufe0f temperatures, precipitations - World-Weather.info.\"}, {\"url\": \"https://www.weatherapi.com/\", \"content\": \"{\\'location\\': {\\'name\\': \\'San Francisco\\', \\'region\\': \\'California\\', \\'country\\': \\'United States of America\\', \\'lat\\': 37.78, \\'lon\\': -122.42, \\'tz_id\\': \\'America/Los_Angeles\\', \\'localtime_epoch\\': 1719333874, \\'localtime\\': \\'2024-06-25 9:44\\'}, \\'current\\': {\\'last_updated_epoch\\': 1719333000, \\'last_updated\\': \\'2024-06-25 09:30\\', \\'temp_c\\': 18.3, \\'temp_f\\': 64.9, \\'is_day\\': 1, \\'condition\\': {\\'text\\': \\'Partly cloudy\\', \\'icon\\': \\'//cdn.weatherapi.com/weather/64x64/day/116.png\\', \\'code\\': 1003}, \\'wind_mph\\': 8.1, \\'wind_kph\\': 13.0, \\'wind_degree\\': 300, \\'wind_dir\\': \\'WNW\\', \\'pressure_mb\\': 1013.0, \\'pressure_in\\': 29.92, \\'precip_mm\\': 0.0, \\'precip_in\\': 0.0, \\'humidity\\': 70, \\'cloud\\': 50, \\'feelslike_c\\': 18.3, \\'feelslike_f\\': 64.9, \\'windchill_c\\': 14.3, \\'windchill_f\\': 57.8, \\'heatindex_c\\': 14.4, \\'heatindex_f\\': 58.0, \\'dewpoint_c\\': 9.6, \\'dewpoint_f\\': 49.3, \\'vis_km\\': 16.0, \\'vis_miles\\': 9.0, \\'uv\\': 4.0, \\'gust_mph\\': 12.5, \\'gust_kph\\': 20.2}}\"}]', name='tavily_search_results_json', tool_call_id='call_8sb6')]}}\n",
      "----\n",
      "{'agent': {'messages': [AIMessage(content='', additional_kwargs={'tool_calls': [{'id': 'call_qdzv', 'function': {'arguments': '{\"query\":\"current weather in sf\"}', 'name': 'tavily_search_results_json'}, 'type': 'function'}]}, response_metadata={'token_usage': {'completion_tokens': 54, 'prompt_tokens': 1518, 'total_tokens': 1572, 'completion_time': 0.042707171, 'prompt_time': 0.307802987, 'queue_time': None, 'total_time': 0.35051015799999996}, 'model_name': 'llama3-8b-8192', 'system_fingerprint': 'fp_179b0f92c9', 'finish_reason': 'tool_calls', 'logprobs': None}, id='run-deb220eb-b496-4517-9c7e-96b86b2c5ab5-0', tool_calls=[{'name': 'tavily_search_results_json', 'args': {'query': 'current weather in sf'}, 'id': 'call_qdzv'}])]}}\n",
      "----\n",
      "{'tools': {'messages': [ToolMessage(content='[{\"url\": \"https://www.weatherapi.com/\", \"content\": \"{\\'location\\': {\\'name\\': \\'San Francisco\\', \\'region\\': \\'California\\', \\'country\\': \\'United States of America\\', \\'lat\\': 37.78, \\'lon\\': -122.42, \\'tz_id\\': \\'America/Los_Angeles\\', \\'localtime_epoch\\': 1719333874, \\'localtime\\': \\'2024-06-25 9:44\\'}, \\'current\\': {\\'last_updated_epoch\\': 1719333000, \\'last_updated\\': \\'2024-06-25 09:30\\', \\'temp_c\\': 18.3, \\'temp_f\\': 64.9, \\'is_day\\': 1, \\'condition\\': {\\'text\\': \\'Partly cloudy\\', \\'icon\\': \\'//cdn.weatherapi.com/weather/64x64/day/116.png\\', \\'code\\': 1003}, \\'wind_mph\\': 8.1, \\'wind_kph\\': 13.0, \\'wind_degree\\': 300, \\'wind_dir\\': \\'WNW\\', \\'pressure_mb\\': 1013.0, \\'pressure_in\\': 29.92, \\'precip_mm\\': 0.0, \\'precip_in\\': 0.0, \\'humidity\\': 70, \\'cloud\\': 50, \\'feelslike_c\\': 18.3, \\'feelslike_f\\': 64.9, \\'windchill_c\\': 14.3, \\'windchill_f\\': 57.8, \\'heatindex_c\\': 14.4, \\'heatindex_f\\': 58.0, \\'dewpoint_c\\': 9.6, \\'dewpoint_f\\': 49.3, \\'vis_km\\': 16.0, \\'vis_miles\\': 9.0, \\'uv\\': 4.0, \\'gust_mph\\': 12.5, \\'gust_kph\\': 20.2}}\"}, {\"url\": \"https://www.wunderground.com/hourly/us/ca/san-francisco/date/2024-6-25\", \"content\": \"Current Weather for Popular Cities . San Francisco, CA 58 \\\\u00b0 F Fair; Manhattan, NY warning 73 \\\\u00b0 F Clear; Schiller Park, IL (60176) warning 76 \\\\u00b0 F Mostly Cloudy; Boston, MA 65 \\\\u00b0 F Cloudy ...\"}]', name='tavily_search_results_json', tool_call_id='call_qdzv')]}}\n",
      "----\n",
      "{'agent': {'messages': [AIMessage(content='The current weather in San Francisco is partly cloudy with a temperature of 64.9°F (18.3°C) and a wind speed of 13 km/h (8.1 mph).', response_metadata={'token_usage': {'completion_tokens': 40, 'prompt_tokens': 2101, 'total_tokens': 2141, 'completion_time': 0.031210516, 'prompt_time': 0.318683498, 'queue_time': None, 'total_time': 0.34989401400000003}, 'model_name': 'llama3-8b-8192', 'system_fingerprint': 'fp_873a560973', 'finish_reason': 'stop', 'logprobs': None}, id='run-6980ab2b-612a-4600-842b-cd0a3e8007f8-0')]}}\n",
      "----\n"
     ]
    }
   ],
   "source": [
    "# Streaming messages\n",
    "\n",
    "for chunk in agent_executor.stream(\n",
    "    {\"messages\": [HumanMessage(content=\"whats the weather in sf?\")]}\n",
    "):\n",
    "    print(chunk)\n",
    "    print(\"----\")"
   ]
  },
  {
   "cell_type": "code",
   "execution_count": 21,
   "metadata": {},
   "outputs": [
    {
     "name": "stdout",
     "output_type": "stream",
     "text": [
      "--\n",
      "Starting tool: tavily_search_results_json with inputs: {'query': 'what is the weather in sf'}\n",
      "Done tool: tavily_search_results_json\n",
      "Tool output was: [{'url': 'https://www.wunderground.com/hourly/us/ca/san-francisco/date/2024-6-25', 'content': 'San Francisco Weather Forecasts. Weather Underground provides local & long-range weather forecasts, weatherreports, maps & tropical weather conditions for the San Francisco area. ... Tuesday 06/25 ...'}, {'url': 'https://www.weatherapi.com/', 'content': \"{'location': {'name': 'San Francisco', 'region': 'California', 'country': 'United States of America', 'lat': 37.78, 'lon': -122.42, 'tz_id': 'America/Los_Angeles', 'localtime_epoch': 1719334068, 'localtime': '2024-06-25 9:47'}, 'current': {'last_updated_epoch': 1719333900, 'last_updated': '2024-06-25 09:45', 'temp_c': 16.7, 'temp_f': 62.1, 'is_day': 1, 'condition': {'text': 'Partly cloudy', 'icon': '//cdn.weatherapi.com/weather/64x64/day/116.png', 'code': 1003}, 'wind_mph': 5.6, 'wind_kph': 9.0, 'wind_degree': 310, 'wind_dir': 'NW', 'pressure_mb': 1013.0, 'pressure_in': 29.9, 'precip_mm': 0.0, 'precip_in': 0.0, 'humidity': 70, 'cloud': 75, 'feelslike_c': 16.7, 'feelslike_f': 62.1, 'windchill_c': 14.3, 'windchill_f': 57.8, 'heatindex_c': 14.4, 'heatindex_f': 58.0, 'dewpoint_c': 9.6, 'dewpoint_f': 49.3, 'vis_km': 16.0, 'vis_miles': 9.0, 'uv': 4.0, 'gust_mph': 10.1, 'gust_kph': 16.2}}\"}]\n",
      "--\n",
      "According to the latest weather information, the weather in San Francisco is partly cloudy with a temperature of 62.1°F (16.7°C). The wind speed is 9 mph (14.5 km/h) coming from the northwest, with a humidity of 70%.|"
     ]
    }
   ],
   "source": [
    "# Streamin tokens\n",
    "\n",
    "async for event in agent_executor.astream_events(\n",
    "    {\"messages\": [HumanMessage(content=\"whats the weather in sf?\")]}, version=\"v1\"\n",
    "):\n",
    "    kind = event[\"event\"]\n",
    "    if kind == \"on_chain_start\":\n",
    "        if (\n",
    "            event[\"name\"] == \"Agent\"\n",
    "        ):  # Was assigned when creating the agent with `.with_config({\"run_name\": \"Agent\"})`\n",
    "            print(\n",
    "                f\"Starting agent: {event['name']} with input: {event['data'].get('input')}\"\n",
    "            )\n",
    "    elif kind == \"on_chain_end\":\n",
    "        if (\n",
    "            event[\"name\"] == \"Agent\"\n",
    "        ):  # Was assigned when creating the agent with `.with_config({\"run_name\": \"Agent\"})`\n",
    "            print()\n",
    "            print(\"--\")\n",
    "            print(\n",
    "                f\"Done agent: {event['name']} with output: {event['data'].get('output')['output']}\"\n",
    "            )\n",
    "    if kind == \"on_chat_model_stream\":\n",
    "        content = event[\"data\"][\"chunk\"].content\n",
    "        if content:\n",
    "            # Empty content in the context of OpenAI means\n",
    "            # that the model is asking for a tool to be invoked.\n",
    "            # So we only print non-empty content\n",
    "            print(content, end=\"|\")\n",
    "    elif kind == \"on_tool_start\":\n",
    "        print(\"--\")\n",
    "        print(\n",
    "            f\"Starting tool: {event['name']} with inputs: {event['data'].get('input')}\"\n",
    "        )\n",
    "    elif kind == \"on_tool_end\":\n",
    "        print(f\"Done tool: {event['name']}\")\n",
    "        print(f\"Tool output was: {event['data'].get('output')}\")\n",
    "        print(\"--\")"
   ]
  },
  {
   "cell_type": "markdown",
   "metadata": {},
   "source": [
    "### Adding in memory\n",
    "\n",
    " this agent is stateless. This means it does not remember previous interactions. To give it memory we need to pass in a checkpointer. When passing in a checkpointer, we also have to pass in a thread_id when invoking the agent (so it knows which thread/conversation to resume from)."
   ]
  },
  {
   "cell_type": "code",
   "execution_count": 22,
   "metadata": {},
   "outputs": [],
   "source": [
    "from langgraph.checkpoint.sqlite import SqliteSaver\n",
    "\n",
    "memory = SqliteSaver.from_conn_string(\":memory:\")"
   ]
  },
  {
   "cell_type": "code",
   "execution_count": 23,
   "metadata": {},
   "outputs": [],
   "source": [
    "agent_executor = create_react_agent(model, tools, checkpointer=memory)\n",
    "\n",
    "config = {\"configurable\": {\"thread_id\": \"abc123\"}}"
   ]
  },
  {
   "cell_type": "code",
   "execution_count": 24,
   "metadata": {},
   "outputs": [
    {
     "name": "stdout",
     "output_type": "stream",
     "text": [
      "{'agent': {'messages': [AIMessage(content='', additional_kwargs={'tool_calls': [{'id': 'call_gdc2', 'function': {'arguments': '{\"query\":\"hi im manoj\"}', 'name': 'tavily_search_results_json'}, 'type': 'function'}]}, response_metadata={'token_usage': {'completion_tokens': 73, 'prompt_tokens': 965, 'total_tokens': 1038, 'completion_time': 0.057781903, 'prompt_time': 0.154014808, 'queue_time': None, 'total_time': 0.211796711}, 'model_name': 'llama3-8b-8192', 'system_fingerprint': 'fp_c4a72fb330', 'finish_reason': 'tool_calls', 'logprobs': None}, id='run-1efda9a6-0b63-4e21-9f8c-c86996caffea-0', tool_calls=[{'name': 'tavily_search_results_json', 'args': {'query': 'hi im manoj'}, 'id': 'call_gdc2'}])]}}\n",
      "----\n",
      "{'tools': {'messages': [ToolMessage(content='[{\"url\": \"https://www.optionpundit.com/moneymonday\", \"content\": \"Meet Your Host Hi I\\'m Manoj Kumar B.Tech. MBA, CTA Since 2006, Manoj has trained thousands of people to start their trading journey, generate consistent returns from the financial markets and build profitable trading systems.\"}, {\"url\": \"https://en.wikipedia.org/wiki/Sirf_Ek_Bandaa_Kaafi_Hai\", \"content\": \"Sirf Ek Bandaa Kaafi Hai (transl. Just One Common Man is Enough), or simply Bandaa (transl. Common Man), is a 2023 Indian Hindi-language legal drama film directed by Apoorv Singh Karki and co-produced by Zee Studios and Bhanushali Studios. The film stars Manoj Bajpayee. The film brings back the team of Manoj Bajpayee and Suparn Verma, who earlier collaborated on The Family Man.\"}]', name='tavily_search_results_json', tool_call_id='call_gdc2')]}}\n",
      "----\n",
      "{'agent': {'messages': [AIMessage(content=\"Nice to meet you, Manoj! It seems like you're a man of many talents, from trading to acting.\", response_metadata={'token_usage': {'completion_tokens': 25, 'prompt_tokens': 1214, 'total_tokens': 1239, 'completion_time': 0.01934013, 'prompt_time': 0.253273797, 'queue_time': None, 'total_time': 0.27261392700000003}, 'model_name': 'llama3-8b-8192', 'system_fingerprint': 'fp_c4a72fb330', 'finish_reason': 'stop', 'logprobs': None}, id='run-2cfb7aa5-9ddd-4b3c-b380-f1ef62c4dc2e-0')]}}\n",
      "----\n"
     ]
    }
   ],
   "source": [
    "for chunk in agent_executor.stream(\n",
    "    {\"messages\": [HumanMessage(content=\"hi im manoj!\")]}, config\n",
    "):\n",
    "    print(chunk)\n",
    "    print(\"----\")"
   ]
  },
  {
   "cell_type": "code",
   "execution_count": 25,
   "metadata": {},
   "outputs": [
    {
     "name": "stdout",
     "output_type": "stream",
     "text": [
      "{'agent': {'messages': [AIMessage(content='Your name is Manoj!', response_metadata={'token_usage': {'completion_tokens': 7, 'prompt_tokens': 1253, 'total_tokens': 1260, 'completion_time': 0.004789165, 'prompt_time': 0.190961158, 'queue_time': None, 'total_time': 0.195750323}, 'model_name': 'llama3-8b-8192', 'system_fingerprint': 'fp_6a6771ae9c', 'finish_reason': 'stop', 'logprobs': None}, id='run-02a40055-2c19-45d6-a8a2-942d72ae6076-0')]}}\n",
      "----\n"
     ]
    }
   ],
   "source": [
    "for chunk in agent_executor.stream(\n",
    "    {\"messages\": [HumanMessage(content=\"whats my name?\")]}, config\n",
    "):\n",
    "    print(chunk)\n",
    "    print(\"----\")"
   ]
  },
  {
   "cell_type": "code",
   "execution_count": 26,
   "metadata": {},
   "outputs": [
    {
     "name": "stdout",
     "output_type": "stream",
     "text": [
      "{'agent': {'messages': [AIMessage(content='', additional_kwargs={'tool_calls': [{'id': 'call_8fsh', 'function': {'arguments': '{\"query\":\"your name\"}', 'name': 'tavily_search_results_json'}, 'type': 'function'}]}, response_metadata={'token_usage': {'completion_tokens': 78, 'prompt_tokens': 966, 'total_tokens': 1044, 'completion_time': 0.061535294, 'prompt_time': 0.156476727, 'queue_time': None, 'total_time': 0.218012021}, 'model_name': 'llama3-8b-8192', 'system_fingerprint': 'fp_179b0f92c9', 'finish_reason': 'tool_calls', 'logprobs': None}, id='run-4704dbda-0cb5-4210-b195-e9964dd77322-0', tool_calls=[{'name': 'tavily_search_results_json', 'args': {'query': 'your name'}, 'id': 'call_8fsh'}])]}}\n",
      "----\n",
      "{'tools': {'messages': [ToolMessage(content='[{\"url\": \"https://en.wikipedia.org/wiki/Your_Name\", \"content\": \"In its first week, the Blu-ray standard edition sold 202,370 units, the collector\\'s edition sold 125,982 units and the special edition sold 94,079 units.[49] The DVD Standard Edition placed first, selling 215,963.[50] Your Name is the first anime to place three Blu-ray Disc releases in the top 10 of Oricon\\'s overall Blu-ray Disc chart for 2 straight weeks.[51] In 2017, the film generated \\\\u00a56,532,421,094 ($58,238,797) in media revenue from physical home video, soundtrack and book sales in Japan.[52]\\\\nOverseas, the film grossed over $10.5 million from DVD and Blu-ray sales in the United States as of April\\\\u00a02022[update].[53] In the United Kingdom, it was 2017\\'s second best-selling foreign language film on home video (below Operation Chromite)[54] and again 2018\\'s second best-selling foreign language film (below My Neighbor Totoro).[55]\\\\nTelevision broadcast[edit]\\\\nThe Japanese television broadcast of Your Name was premiered on November 4, 2017, through satellite television broadcaster Wowow. On Metacritic, the film has a score of 81 out of 100 based on 26 critics, indicating \\\\\"universal acclaim\\\\\".[84]\\\\nMark Schilling of The Japan Times gave the film a rating of 4 out of 5 and praised the film\\'s animation for its \\\\\"blend of gorgeous, realistic detail and emotionally grounded fantasy\\\\\".[11] He also described the film\\'s \\\\\"over-deliver[y]\\\\\" of \\\\\"the comedy of adolescent embarrassment and awkwardness\\\\\" and its ending for being \\\\\"To the surprise of no one who has ever seen a Japanese seishun eiga (youth drama)\\\\\".[11] Reception outside of Japan was also very positive.[62][85] It made an estimated $10.9 million on its opening day from 66,000 screenings and attracting over 2.77 million admissions, the biggest 2D animated opening in the country.[69][70] It also held the record for the highest-grossing non-Hollywood foreign film in China, up until it was surpassed by two Indian films, Dangal and Secret Superstar, in May 2017 and February 2018, respectively.[71][72]\\\\nThe film was number-one on its opening five days in South Korea, with 1.18 million admissions and a gross of $8.2 million,[73] becoming the first Japanese film since Howl\\'s Moving Castle to reach number one in the country.[74] Mike Toole from Anime News Network listed it as the third-best anime film of all time.[90] John Musker and Ron Clements, directors of the Disney animated films The Great Mouse Detective, The Little Mermaid, Aladdin, Hercules, Treasure Planet, The Princess and the Frog, and Moana, praised the film for its beauty and uniqueness.[91]\\\\nDespite the praise he received, Makoto Shinkai insisted that the film is not as good as it could have been: \\\\\"There are things we could not do, Masashi Ando [Director of Animation] wanted to keep working [on] but had to stop us for lack of money ... In addition, a special program dedicated to Makoto Shinkai as well as his previous works were also broadcast on the same channel.[56] It also received a Japanese terrestrial television premiere on January 3, 2018, via TV Asahi and the initial broadcast received a 17.4% audience rating.[57]\\\\nYour Name has made its first premiere on Philippine television through free-to-air broadcaster ABS-CBN as well as its HD television service on February 18, 2018, but in edited form due to being cut for commercials with a short runtime of 75 minutes.[58] According to Kantar Media statistics, the first free-to-air broadcast of the film received an audience rating of 9.2% while the AGB Nielsen NUTAM statistics, it received a 3.1% audience rating.[59][60]\"}, {\"url\": \"https://www.imdb.com/title/tt5311514/\", \"content\": \"Your Name.: Directed by Makoto Shinkai. With Ryunosuke Kamiki, Mone Kamishiraishi, Ryo Narita, Aoi Y\\\\u00fbki. Two teenagers share a profound, magical connection upon discovering they are swapping bodies. Things manage to become even more complicated when the boy and girl decide to meet in person.\"}]', name='tavily_search_results_json', tool_call_id='call_8fsh')]}}\n",
      "----\n",
      "{'agent': {'messages': [AIMessage(content='Your name is not explicitly mentioned in the output. It appears that the tool call yielded information about a film called \"Your Name\" rather than a person\\'s name.', response_metadata={'token_usage': {'completion_tokens': 34, 'prompt_tokens': 1981, 'total_tokens': 2015, 'completion_time': 0.026348679, 'prompt_time': 0.301216486, 'queue_time': None, 'total_time': 0.327565165}, 'model_name': 'llama3-8b-8192', 'system_fingerprint': 'fp_6a6771ae9c', 'finish_reason': 'stop', 'logprobs': None}, id='run-080ce8a6-2539-4d1a-8f52-b15d8dee2097-0')]}}\n",
      "----\n"
     ]
    }
   ],
   "source": [
    "# To start a new conversation we just need to change the thread id\n",
    "\n",
    "config = {\"configurable\": {\"thread_id\": \"xyz123\"}}\n",
    "for chunk in agent_executor.stream(\n",
    "    {\"messages\": [HumanMessage(content=\"whats my name?\")]}, config\n",
    "):\n",
    "    print(chunk)\n",
    "    print(\"----\")"
   ]
  },
  {
   "cell_type": "markdown",
   "metadata": {},
   "source": []
  }
 ],
 "metadata": {
  "kernelspec": {
   "display_name": "Python 3",
   "language": "python",
   "name": "python3"
  },
  "language_info": {
   "codemirror_mode": {
    "name": "ipython",
    "version": 3
   },
   "file_extension": ".py",
   "mimetype": "text/x-python",
   "name": "python",
   "nbconvert_exporter": "python",
   "pygments_lexer": "ipython3",
   "version": "3.12.1"
  }
 },
 "nbformat": 4,
 "nbformat_minor": 2
}
