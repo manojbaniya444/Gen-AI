{
 "cells": [
  {
   "cell_type": "markdown",
   "metadata": {},
   "source": [
    "# MultiQuery"
   ]
  },
  {
   "cell_type": "code",
   "execution_count": 2,
   "metadata": {},
   "outputs": [
    {
     "data": {
      "text/plain": [
       "True"
      ]
     },
     "execution_count": 2,
     "metadata": {},
     "output_type": "execute_result"
    }
   ],
   "source": [
    "from dotenv import load_dotenv\n",
    "import os\n",
    "\n",
    "load_dotenv()"
   ]
  },
  {
   "cell_type": "code",
   "execution_count": 3,
   "metadata": {},
   "outputs": [],
   "source": [
    "os.environ[\"GROQ_API_KEY\"] = os.getenv(\"GROQ_API_KEY\")"
   ]
  },
  {
   "cell_type": "code",
   "execution_count": 4,
   "metadata": {},
   "outputs": [],
   "source": [
    "from langchain_groq import ChatGroq\n",
    "\n",
    "llm = ChatGroq(\n",
    "    model=\"llama3-8b-8192\"\n",
    ")"
   ]
  },
  {
   "cell_type": "code",
   "execution_count": 14,
   "metadata": {},
   "outputs": [],
   "source": [
    "from langchain.prompts import ChatPromptTemplate\n",
    "\n",
    "# multi query: different perspective of one question\n",
    "template = '''\n",
    "You are an AI Language model. Your task is to generate five different versions of the given user question to retrieve relevant documents from a vector database. By generating multiple perspective on the user question, your goal is to help the user overcome some of the limitations of the distance based similarity search. Provide these alternative questions separated by newlines. Just answer the questions nothing else. Original question: {question}'''\n",
    "\n",
    "prompt_multi_query = ChatPromptTemplate.from_template(template)\n",
    "\n",
    "generate_queries = (\n",
    "    prompt_multi_query\n",
    "    | llm\n",
    "    | (lambda x: x.content)\n",
    "    | (lambda x: x.split(\"\\n\"))\n",
    ")\n"
   ]
  },
  {
   "cell_type": "code",
   "execution_count": 15,
   "metadata": {},
   "outputs": [
    {
     "data": {
      "text/plain": [
       "ChatPromptTemplate(input_variables=['question'], input_types={}, partial_variables={}, messages=[HumanMessagePromptTemplate(prompt=PromptTemplate(input_variables=['question'], input_types={}, partial_variables={}, template='\\nYou are an AI Language model. Your task is to generate five different versions of the given user question to retrieve relevant documents from a vector database. By generating multiple perspective on the user question, your goal is to help the user overcome some of the limitations of the distance based similarity search. Provide these alternative questions separated by newlines. Just answer the questions nothing else. Original question: {question}'), additional_kwargs={})])\n",
       "| ChatGroq(client=<groq.resources.chat.completions.Completions object at 0x000001FB14493A40>, async_client=<groq.resources.chat.completions.AsyncCompletions object at 0x000001FB144B43B0>, model_name='llama3-8b-8192', model_kwargs={}, groq_api_key=SecretStr('**********'))\n",
       "| RunnableLambda(...)\n",
       "| RunnableLambda(...)"
      ]
     },
     "execution_count": 15,
     "metadata": {},
     "output_type": "execute_result"
    }
   ],
   "source": [
    "generate_queries"
   ]
  },
  {
   "cell_type": "code",
   "execution_count": 16,
   "metadata": {},
   "outputs": [
    {
     "data": {
      "text/plain": [
       "['How can I enhance my academic performance?',\n",
       " '',\n",
       " 'What strategies can I use to boost my learning outcomes?',\n",
       " '',\n",
       " 'What are some effective methods for improving my knowledge retention?',\n",
       " '',\n",
       " 'What can I do to optimize my study habits and achieve better results?',\n",
       " '',\n",
       " 'What are the most effective techniques for accelerating my learning process?']"
      ]
     },
     "execution_count": 16,
     "metadata": {},
     "output_type": "execute_result"
    }
   ],
   "source": [
    "generate_queries.invoke(\"How can I improve my learning?\")"
   ]
  },
  {
   "cell_type": "code",
   "execution_count": 22,
   "metadata": {},
   "outputs": [
    {
     "name": "stderr",
     "output_type": "stream",
     "text": [
      "C:\\Users\\acer\\AppData\\Roaming\\Python\\Python312\\site-packages\\huggingface_hub\\file_download.py:1132: FutureWarning: `resume_download` is deprecated and will be removed in version 1.0.0. Downloads always resume when possible. If you want to force a new download, use `force_download=True`.\n",
      "  warnings.warn(\n"
     ]
    }
   ],
   "source": [
    "from langchain_community.embeddings import HuggingFaceBgeEmbeddings\n",
    "\n",
    "# embedding\n",
    "model_name = \"BAAI/bge-small-en\"\n",
    "model_kwargs = {\"device\": \"cpu\"}\n",
    "encode_kwargs = {\"normalize_embeddings\": True}\n",
    "\n",
    "hf_embeddings = HuggingFaceBgeEmbeddings(\n",
    "    model_name=model_name, model_kwargs=model_kwargs, encode_kwargs=encode_kwargs\n",
    ")"
   ]
  },
  {
   "cell_type": "code",
   "execution_count": 23,
   "metadata": {},
   "outputs": [
    {
     "data": {
      "text/plain": [
       "HuggingFaceBgeEmbeddings(client=SentenceTransformer(\n",
       "  (0): Transformer({'max_seq_length': 512, 'do_lower_case': True}) with Transformer model: BertModel \n",
       "  (1): Pooling({'word_embedding_dimension': 384, 'pooling_mode_cls_token': True, 'pooling_mode_mean_tokens': False, 'pooling_mode_max_tokens': False, 'pooling_mode_mean_sqrt_len_tokens': False, 'pooling_mode_weightedmean_tokens': False, 'pooling_mode_lasttoken': False, 'include_prompt': True})\n",
       "  (2): Normalize()\n",
       "), model_name='BAAI/bge-small-en', cache_folder=None, model_kwargs={'device': 'cpu'}, encode_kwargs={'normalize_embeddings': True}, query_instruction='Represent this question for searching relevant passages: ', embed_instruction='', show_progress=False)"
      ]
     },
     "execution_count": 23,
     "metadata": {},
     "output_type": "execute_result"
    }
   ],
   "source": [
    "hf_embeddings"
   ]
  },
  {
   "cell_type": "code",
   "execution_count": 26,
   "metadata": {},
   "outputs": [
    {
     "data": {
      "text/plain": [
       "384"
      ]
     },
     "execution_count": 26,
     "metadata": {},
     "output_type": "execute_result"
    }
   ],
   "source": [
    "len(hf_embeddings.embed_query(\"How can I improve my learning?\"))"
   ]
  },
  {
   "cell_type": "code",
   "execution_count": 28,
   "metadata": {},
   "outputs": [],
   "source": [
    "from langchain.document_loaders import TextLoader\n",
    "\n",
    "loader = TextLoader(\"./agent.txt\")\n",
    "document = loader.load()"
   ]
  },
  {
   "cell_type": "code",
   "execution_count": 35,
   "metadata": {},
   "outputs": [],
   "source": [
    "from langchain_text_splitters import RecursiveCharacterTextSplitter\n",
    "\n",
    "splitter = RecursiveCharacterTextSplitter(chunk_size=1000)\n",
    "document_split = splitter.split_documents(document)"
   ]
  },
  {
   "cell_type": "code",
   "execution_count": 36,
   "metadata": {},
   "outputs": [
    {
     "data": {
      "text/plain": [
       "[Document(metadata={'source': './agent.txt'}, page_content='What are AI Agents?\\nAn artificial intelligence (AI) agent is a software program that can interact with its environment, collect data, and use the data to perform self-determined tasks to meet predetermined goals. Humans set goals, but an AI agent independently chooses the best actions it needs to perform to achieve those goals. For example, consider a contact center AI agent that wants to resolves customer queries. The agent will automatically ask the customer different questions, look up information in internal documents, and respond with a solution. Based on the customer responses, it determines if it can resolve the query itself or pass it on to a human.\\n\\nWhat are the key principles that define AI agents?\\nAll software autonomously completes different tasks as determined by the software developer. So, what makes AI or intelligent agents special?'),\n",
       " Document(metadata={'source': './agent.txt'}, page_content=\"What are the key principles that define AI agents?\\nAll software autonomously completes different tasks as determined by the software developer. So, what makes AI or intelligent agents special? \\n\\nAI agents are rational agents. They make rational decisions based on their perceptions and data to produce optimal performance and results. An AI agent senses its environment with physical or software interfaces.\\n\\nFor example, a robotic agent collects sensor data, and a chatbot uses customer queries as input. Then, the AI agent applies the data to make an informed decision. It analyzes the collected data to predict the best outcomes that support predetermined goals. The agent also uses the results to formulate the next action that it should take. For example, self-driving cars navigate around obstacles on the road based on data from multiple sensors.\\n\\nWhat are the benefits of using AI agents?\\nAI agents can improve your business operations and your customers' experiences.\"),\n",
       " Document(metadata={'source': './agent.txt'}, page_content=\"What are the benefits of using AI agents?\\nAI agents can improve your business operations and your customers' experiences.\\n\\nImproved productivity\\nAI agents are autonomous intelligent systems performing specific tasks without human intervention. Organizations use AI agents to achieve specific goals and more efficient business outcomes. Business teams are more productive when they delegate repetitive tasks to AI agents. This way, they can divert their attention to mission-critical or creative activities, adding more value to their organization.\\n\\nReduced costs\\nBusinesses can use intelligent agents to reduce unnecessary costs arising from process inefficiencies, human errors, and manual processes. You can confidently perform complex tasks because autonomous agents follow a consistent model that adapts to changing environments.\"),\n",
       " Document(metadata={'source': './agent.txt'}, page_content='Informed decision-making\\nAdvanced intelligent agents use machine learning (ML) to gather and process massive amounts of real-time data. This allows business managers to make better predictions at pace when strategizing their next move. For example, you can use AI agents to analyze product demands in different market segments when running an ad campaign. \\n\\nImproved customer experience\\nCustomers seek engaging and personalized experiences when interacting with businesses. Integrating AI agents allows businesses to personalize product recommendations, provide prompt responses, and innovate to improve customer engagement, conversion, and loyalty. \\n\\nWhat are the key components of AI agent architecture?\\nAgents in artificial intelligence may operate in different environments to accomplish unique purposes. However, all functional agents share these components.'),\n",
       " Document(metadata={'source': './agent.txt'}, page_content='Architecture\\nArchitecture is the base the agent operates from. The architecture can be a physical structure, a software program, or a combination. For example, a robotic AI agent consists of actuators, sensors, motors, and robotic arms. Meanwhile, an architecture that hosts an AI software agent may use a text prompt, API, and databases to enable autonomous operations. \\n\\nAgent function\\nThe agent function describes how the data collected is translated into actions that support the agentâ€™s objective. When designing the agent function, developers consider the type of information, AI capabilities, knowledge base, feedback mechanism, and other technologies required.\\n\\nAgent program\\nAn agent program is the implementation of the agent function. It involves developing, training, and deploying the AI agent on the designated architecture. The agent program aligns the agentâ€™s business logic, technical requirements, and performance elements.'),\n",
       " Document(metadata={'source': './agent.txt'}, page_content='How does an AI agent work?\\nAI agents work by simplifying and automating complex tasks. Most autonomous agents follow a specific workflow when performing assigned tasks.\\n\\nDetermine goals\\nThe AI agent receives a specific instruction or goal from the user. It uses the goal to plan tasks that make the final outcome relevant and useful to the user. Then, the agent breaks down the goal into several smaller actionable tasks. To achieve the goal, the agent performs those tasks based on specific orders or conditions. \\n\\nAcquire information\\nAI agents need information to act on tasks they have planned successfully. For example, the agent must extract conversation logs to analyze customer sentiments. As such, AI agents might access the internet to search for and retrieve the information they need. In some applications, an intelligent agent can interact with other agents or machine learning models to access or exchange information.'),\n",
       " Document(metadata={'source': './agent.txt'}, page_content='Implement tasks\\nWith sufficient data, the AI agent methodically implements the task at hand. Once it accomplishes a task, the agent removes it from the list and proceeds to the next one. In between task completions, the agent evaluates if it has achieved the designated goal by seeking external feedback and inspecting its own logs. During this process, the agent might create and act on more tasks to reach the final outcome. \\n\\nWhat are the challenges of using AI agents?\\nAI agents are helpful software technologies to automate business workflows for better outcomes. That being said, organizations should address the following concerns when deploying autonomous AI agents for business use cases.\\n\\nData privacy concerns\\nDeveloping and operating advanced AI agents requires acquiring, storing, and moving massive volumes of data. Organizations should be aware of data privacy requirements and employ necessary measures to improve data security posture.'),\n",
       " Document(metadata={'source': './agent.txt'}, page_content='Ethical challenges\\nIn certain circumstances, deep learning models may produce unfair, biased, or inaccurate results. Applying safeguards, such as human reviews, ensures customers receive helpful and fair responses from the agents deployed. \\n\\nTechnical complexities \\nImplementing advanced AI agents requires specialized experience and knowledge of machine learning technologies. Developers must be able to integrate machine learning libraries with software applications and train the agent with enterprise-specific data. \\n\\nLimited compute resources\\nTraining and deploying deep learning AI agents requires substantial computing resources. When organizations implement these agents on-premise, they must invest in and maintain costly infrastructure that is not easily scalable.')]"
      ]
     },
     "execution_count": 36,
     "metadata": {},
     "output_type": "execute_result"
    }
   ],
   "source": [
    "document_split"
   ]
  },
  {
   "cell_type": "code",
   "execution_count": 38,
   "metadata": {},
   "outputs": [],
   "source": [
    "from langchain.vectorstores import FAISS\n",
    "\n",
    "#!pip install faiss-cpu\n",
    "\n",
    "vectorstore = FAISS.from_documents(\n",
    "    documents=document_split,\n",
    "    embedding=hf_embeddings,\n",
    ")"
   ]
  },
  {
   "cell_type": "code",
   "execution_count": 39,
   "metadata": {},
   "outputs": [
    {
     "data": {
      "text/plain": [
       "VectorStoreRetriever(tags=['FAISS', 'HuggingFaceBgeEmbeddings'], vectorstore=<langchain_community.vectorstores.faiss.FAISS object at 0x000001FB49776DE0>, search_kwargs={})"
      ]
     },
     "execution_count": 39,
     "metadata": {},
     "output_type": "execute_result"
    }
   ],
   "source": [
    "retriever = vectorstore.as_retriever()\n",
    "retriever"
   ]
  },
  {
   "cell_type": "code",
   "execution_count": 47,
   "metadata": {},
   "outputs": [],
   "source": [
    "from langchain.load import dumps, loads\n",
    "\n",
    "def get_unique_union(documents: list[list]):\n",
    "    \"\"\"get unique union of retrieved content\"\"\"\n",
    "    flattened_docs = [dumps(doc) for sublist in documents for doc in sublist]\n",
    "    unique_docs = list(set(flattened_docs))\n",
    "    return [loads(doc) for doc in unique_docs]\n",
    "\n",
    "question = \"Ethical consideration in ai\"\n",
    "chain = generate_queries | retriever.map() | get_unique_union"
   ]
  },
  {
   "cell_type": "code",
   "execution_count": 48,
   "metadata": {},
   "outputs": [
    {
     "data": {
      "text/plain": [
       "[Document(metadata={'source': './agent.txt'}, page_content=\"What are the benefits of using AI agents?\\nAI agents can improve your business operations and your customers' experiences.\\n\\nImproved productivity\\nAI agents are autonomous intelligent systems performing specific tasks without human intervention. Organizations use AI agents to achieve specific goals and more efficient business outcomes. Business teams are more productive when they delegate repetitive tasks to AI agents. This way, they can divert their attention to mission-critical or creative activities, adding more value to their organization.\\n\\nReduced costs\\nBusinesses can use intelligent agents to reduce unnecessary costs arising from process inefficiencies, human errors, and manual processes. You can confidently perform complex tasks because autonomous agents follow a consistent model that adapts to changing environments.\"),\n",
       " Document(metadata={'source': './agent.txt'}, page_content='Informed decision-making\\nAdvanced intelligent agents use machine learning (ML) to gather and process massive amounts of real-time data. This allows business managers to make better predictions at pace when strategizing their next move. For example, you can use AI agents to analyze product demands in different market segments when running an ad campaign. \\n\\nImproved customer experience\\nCustomers seek engaging and personalized experiences when interacting with businesses. Integrating AI agents allows businesses to personalize product recommendations, provide prompt responses, and innovate to improve customer engagement, conversion, and loyalty. \\n\\nWhat are the key components of AI agent architecture?\\nAgents in artificial intelligence may operate in different environments to accomplish unique purposes. However, all functional agents share these components.'),\n",
       " Document(metadata={'source': './agent.txt'}, page_content='Architecture\\nArchitecture is the base the agent operates from. The architecture can be a physical structure, a software program, or a combination. For example, a robotic AI agent consists of actuators, sensors, motors, and robotic arms. Meanwhile, an architecture that hosts an AI software agent may use a text prompt, API, and databases to enable autonomous operations. \\n\\nAgent function\\nThe agent function describes how the data collected is translated into actions that support the agentâ€™s objective. When designing the agent function, developers consider the type of information, AI capabilities, knowledge base, feedback mechanism, and other technologies required.\\n\\nAgent program\\nAn agent program is the implementation of the agent function. It involves developing, training, and deploying the AI agent on the designated architecture. The agent program aligns the agentâ€™s business logic, technical requirements, and performance elements.'),\n",
       " Document(metadata={'source': './agent.txt'}, page_content='Implement tasks\\nWith sufficient data, the AI agent methodically implements the task at hand. Once it accomplishes a task, the agent removes it from the list and proceeds to the next one. In between task completions, the agent evaluates if it has achieved the designated goal by seeking external feedback and inspecting its own logs. During this process, the agent might create and act on more tasks to reach the final outcome. \\n\\nWhat are the challenges of using AI agents?\\nAI agents are helpful software technologies to automate business workflows for better outcomes. That being said, organizations should address the following concerns when deploying autonomous AI agents for business use cases.\\n\\nData privacy concerns\\nDeveloping and operating advanced AI agents requires acquiring, storing, and moving massive volumes of data. Organizations should be aware of data privacy requirements and employ necessary measures to improve data security posture.'),\n",
       " Document(metadata={'source': './agent.txt'}, page_content='Ethical challenges\\nIn certain circumstances, deep learning models may produce unfair, biased, or inaccurate results. Applying safeguards, such as human reviews, ensures customers receive helpful and fair responses from the agents deployed. \\n\\nTechnical complexities \\nImplementing advanced AI agents requires specialized experience and knowledge of machine learning technologies. Developers must be able to integrate machine learning libraries with software applications and train the agent with enterprise-specific data. \\n\\nLimited compute resources\\nTraining and deploying deep learning AI agents requires substantial computing resources. When organizations implement these agents on-premise, they must invest in and maintain costly infrastructure that is not easily scalable.'),\n",
       " Document(metadata={'source': './agent.txt'}, page_content=\"What are the key principles that define AI agents?\\nAll software autonomously completes different tasks as determined by the software developer. So, what makes AI or intelligent agents special? \\n\\nAI agents are rational agents. They make rational decisions based on their perceptions and data to produce optimal performance and results. An AI agent senses its environment with physical or software interfaces.\\n\\nFor example, a robotic agent collects sensor data, and a chatbot uses customer queries as input. Then, the AI agent applies the data to make an informed decision. It analyzes the collected data to predict the best outcomes that support predetermined goals. The agent also uses the results to formulate the next action that it should take. For example, self-driving cars navigate around obstacles on the road based on data from multiple sensors.\\n\\nWhat are the benefits of using AI agents?\\nAI agents can improve your business operations and your customers' experiences.\")]"
      ]
     },
     "execution_count": 48,
     "metadata": {},
     "output_type": "execute_result"
    }
   ],
   "source": [
    "docs = chain.invoke(question)\n",
    "docs"
   ]
  },
  {
   "cell_type": "code",
   "execution_count": 52,
   "metadata": {},
   "outputs": [
    {
     "name": "stdout",
     "output_type": "stream",
     "text": [
      "['Alice', 'Bob', 'Charlie']\n"
     ]
    }
   ],
   "source": [
    "from operator import itemgetter\n",
    "\n",
    "data = [\n",
    "    {\"name\": \"Alice\", \"age\": 10},\n",
    "    {\"name\": \"Bob\", \"age\": 12},\n",
    "    {\"name\": \"Charlie\", \"age\": 11},\n",
    "]\n",
    "\n",
    "names = list(map(itemgetter(\"name\"), data))\n",
    "\n",
    "print(names)"
   ]
  },
  {
   "cell_type": "code",
   "execution_count": 49,
   "metadata": {},
   "outputs": [
    {
     "data": {
      "text/plain": [
       "'Ethical considerations in AI agents include:\\n\\n* Data privacy concerns\\n* Biased or inaccurate results\\n* Technical complexities\\n* Limited compute resources'"
      ]
     },
     "execution_count": 49,
     "metadata": {},
     "output_type": "execute_result"
    }
   ],
   "source": [
    "from  operator import itemgetter\n",
    "from langchain_core.runnables import RunnablePassthrough\n",
    "from langchain_core.prompts import ChatPromptTemplate\n",
    "\n",
    "template = \"\"\"Answer the following question: {question}:< context given > Context: {context} <context> just answer the question nothing else\"\"\"\n",
    "\n",
    "prompt = ChatPromptTemplate.from_template(template)\n",
    "final_rag_chain = (\n",
    "    {\"context\": chain, \"question\": itemgetter(\"question\")}\n",
    "    | prompt\n",
    "    | llm\n",
    "    | (lambda x: x.content)\n",
    ")\n",
    "\n",
    "final_rag_chain.invoke({\"question\": question})"
   ]
  },
  {
   "cell_type": "markdown",
   "metadata": {},
   "source": [
    "# RAG Fusion\n",
    "Reciprocal RAG Fusion\n",
    "\n",
    "EXPLANATION:\n",
    "\n",
    "**According to Question1**\n",
    "Order of doc by relevance\n",
    "1. Doc1\n",
    "2. Doc2\n",
    "3. Doc3\n",
    "4. Doc4\n",
    "\n",
    "**According to Q2**\n",
    "1. Doc3\n",
    "2. Doc1\n",
    "3. Doc2\n",
    "4. Doc4\n",
    "\n",
    "**According to Q3**\n",
    "1. Doc4\n",
    "2. Doc1\n",
    "3. Doc3\n",
    "4. Doc2\n",
    "\n",
    "Rank Positions\n",
    "\n",
    "- Doc1:\n",
    " -- Question 1 rank: 1\n",
    " -- Question 2 rank: 2\n",
    " -- Question 3 rank: 2\n",
    "- Doc2:\n",
    " -- Question 1 rank: 2\n",
    " -- Question 2 rank: 3\n",
    " -- Question 3 rank: 4\n",
    "- Doc3:\n",
    " -- Question 1 rank: 3\n",
    " -- Question 2 rank: 1\n",
    " -- Question 3 rank: 3\n",
    "- Doc4:\n",
    " -- Question 1 rank: 4\n",
    " -- Question 2 rank: 4\n",
    " -- Question 3 rank: 1\n",
    "\n",
    "Reciprocal RAG Fusion\n",
    "\n",
    "using k = 80 (arbitrary value)\n",
    "\n",
    "RRF(Docn): sum[from i=1 to p where p = num of question](1 / (k + n))\n",
    "\n",
    "##### Doc1\n",
    "- Reciprocal Rank (Question1): 1 / (80 + 1) = 1 / 81\n",
    "- Reciprocal Rank (Question2): 1 / (80 + 2) = 1 / 82\n",
    "- Reciprocal Rank (Question3): 1 / (80 + 3) = 1 / 83\n",
    "- RRF(Doc1): 1 / 81 + 1 / 82 + 1 / 83\n",
    "\n",
    "Based on RRF score rank the document."
   ]
  },
  {
   "cell_type": "code",
   "execution_count": 53,
   "metadata": {},
   "outputs": [],
   "source": [
    "from langchain.load import dumps, loads\n",
    "\n",
    "def reciprocal_rank_fusion(results: list[list], k=80):\n",
    "    \"\"\"Reciprocal rank fusion that takes multiple lists of ranked documents and parameter k to return a single list of ranked documents\"\"\"\n",
    "    fused_scores = {}\n",
    "    \n",
    "    # iterate over each list of ranked document\n",
    "    for docs in results:\n",
    "        # iterate\n",
    "        for rank, doc in enumerate(docs):\n",
    "            # document to a string format to use as a key ( to json )\n",
    "            doc_str = dumps(doc)\n",
    "            # if the document is not in the fused scores, add it with score 0\n",
    "            if doc_str not in fused_scores:\n",
    "                fused_scores[doc_str] = 0\n",
    "                \n",
    "            # retrieve the current score of the document\n",
    "            previous_score = fused_scores[doc_str]\n",
    "            # updat the score\n",
    "            fused_scores[doc_str] = previous_score + 1 / (rank + k)\n",
    "            \n",
    "    # sort the fused scores by the score in desscending order to get the final ranked list\n",
    "    reranked_results = [\n",
    "        (loads(doc), score) for doc, score in sorted(fused_scores.items(), key=lambda x: x[1], reverse=True)\n",
    "    ]\n",
    "    # return the final result\n",
    "    return reranked_results\n",
    "            "
   ]
  },
  {
   "cell_type": "code",
   "execution_count": 54,
   "metadata": {},
   "outputs": [
    {
     "data": {
      "text/plain": [
       "ChatPromptTemplate(input_variables=['question'], input_types={}, partial_variables={}, messages=[HumanMessagePromptTemplate(prompt=PromptTemplate(input_variables=['question'], input_types={}, partial_variables={}, template='\\nYou are an AI Language model. Your task is to generate five different versions of the given user question to retrieve relevant documents from a vector database. By generating multiple perspective on the user question, your goal is to help the user overcome some of the limitations of the distance based similarity search. Provide these alternative questions separated by newlines. Just answer the questions nothing else. Original question: {question}'), additional_kwargs={})])\n",
       "| ChatGroq(client=<groq.resources.chat.completions.Completions object at 0x000001FB14493A40>, async_client=<groq.resources.chat.completions.AsyncCompletions object at 0x000001FB144B43B0>, model_name='llama3-8b-8192', model_kwargs={}, groq_api_key=SecretStr('**********'))\n",
       "| RunnableLambda(...)\n",
       "| RunnableLambda(...)\n",
       "| RunnableEach(bound=VectorStoreRetriever(tags=['FAISS', 'HuggingFaceBgeEmbeddings'], vectorstore=<langchain_community.vectorstores.faiss.FAISS object at 0x000001FB49776DE0>, search_kwargs={}))\n",
       "| RunnableLambda(lambda x: x[1])"
      ]
     },
     "execution_count": 54,
     "metadata": {},
     "output_type": "execute_result"
    }
   ],
   "source": [
    "retrieval_chain_rag_fusion = generate_queries | retriever.map() | reciprocal_rank_fusion\n",
    "\n",
    "retrieval_chain_rag_fusion"
   ]
  },
  {
   "cell_type": "code",
   "execution_count": 56,
   "metadata": {},
   "outputs": [
    {
     "data": {
      "text/plain": [
       "[(Document(metadata={'source': './agent.txt'}, page_content='Ethical challenges\\nIn certain circumstances, deep learning models may produce unfair, biased, or inaccurate results. Applying safeguards, such as human reviews, ensures customers receive helpful and fair responses from the agents deployed. \\n\\nTechnical complexities \\nImplementing advanced AI agents requires specialized experience and knowledge of machine learning technologies. Developers must be able to integrate machine learning libraries with software applications and train the agent with enterprise-specific data. \\n\\nLimited compute resources\\nTraining and deploying deep learning AI agents requires substantial computing resources. When organizations implement these agents on-premise, they must invest in and maintain costly infrastructure that is not easily scalable.'),\n",
       "  0.13749999999999998),\n",
       " (Document(metadata={'source': './agent.txt'}, page_content='Implement tasks\\nWith sufficient data, the AI agent methodically implements the task at hand. Once it accomplishes a task, the agent removes it from the list and proceeds to the next one. In between task completions, the agent evaluates if it has achieved the designated goal by seeking external feedback and inspecting its own logs. During this process, the agent might create and act on more tasks to reach the final outcome. \\n\\nWhat are the challenges of using AI agents?\\nAI agents are helpful software technologies to automate business workflows for better outcomes. That being said, organizations should address the following concerns when deploying autonomous AI agents for business use cases.\\n\\nData privacy concerns\\nDeveloping and operating advanced AI agents requires acquiring, storing, and moving massive volumes of data. Organizations should be aware of data privacy requirements and employ necessary measures to improve data security posture.'),\n",
       "  0.13475219758891027),\n",
       " (Document(metadata={'source': './agent.txt'}, page_content='Informed decision-making\\nAdvanced intelligent agents use machine learning (ML) to gather and process massive amounts of real-time data. This allows business managers to make better predictions at pace when strategizing their next move. For example, you can use AI agents to analyze product demands in different market segments when running an ad campaign. \\n\\nImproved customer experience\\nCustomers seek engaging and personalized experiences when interacting with businesses. Integrating AI agents allows businesses to personalize product recommendations, provide prompt responses, and innovate to improve customer engagement, conversion, and loyalty. \\n\\nWhat are the key components of AI agent architecture?\\nAgents in artificial intelligence may operate in different environments to accomplish unique purposes. However, all functional agents share these components.'),\n",
       "  0.11036195368647125),\n",
       " (Document(metadata={'source': './agent.txt'}, page_content=\"What are the benefits of using AI agents?\\nAI agents can improve your business operations and your customers' experiences.\\n\\nImproved productivity\\nAI agents are autonomous intelligent systems performing specific tasks without human intervention. Organizations use AI agents to achieve specific goals and more efficient business outcomes. Business teams are more productive when they delegate repetitive tasks to AI agents. This way, they can divert their attention to mission-critical or creative activities, adding more value to their organization.\\n\\nReduced costs\\nBusinesses can use intelligent agents to reduce unnecessary costs arising from process inefficiencies, human errors, and manual processes. You can confidently perform complex tasks because autonomous agents follow a consistent model that adapts to changing environments.\"),\n",
       "  0.08448427857772553),\n",
       " (Document(metadata={'source': './agent.txt'}, page_content=\"What are the key principles that define AI agents?\\nAll software autonomously completes different tasks as determined by the software developer. So, what makes AI or intelligent agents special? \\n\\nAI agents are rational agents. They make rational decisions based on their perceptions and data to produce optimal performance and results. An AI agent senses its environment with physical or software interfaces.\\n\\nFor example, a robotic agent collects sensor data, and a chatbot uses customer queries as input. Then, the AI agent applies the data to make an informed decision. It analyzes the collected data to predict the best outcomes that support predetermined goals. The agent also uses the results to formulate the next action that it should take. For example, self-driving cars navigate around obstacles on the road based on data from multiple sensors.\\n\\nWhat are the benefits of using AI agents?\\nAI agents can improve your business operations and your customers' experiences.\"),\n",
       "  0.06083230845695338),\n",
       " (Document(metadata={'source': './agent.txt'}, page_content='What are AI Agents?\\nAn artificial intelligence (AI) agent is a software program that can interact with its environment, collect data, and use the data to perform self-determined tasks to meet predetermined goals. Humans set goals, but an AI agent independently chooses the best actions it needs to perform to achieve those goals. For example, consider a contact center AI agent that wants to resolves customer queries. The agent will automatically ask the customer different questions, look up information in internal documents, and respond with a solution. Based on the customer responses, it determines if it can resolve the query itself or pass it on to a human.\\n\\nWhat are the key principles that define AI agents?\\nAll software autonomously completes different tasks as determined by the software developer. So, what makes AI or intelligent agents special?'),\n",
       "  0.012048192771084338)]"
      ]
     },
     "execution_count": 56,
     "metadata": {},
     "output_type": "execute_result"
    }
   ],
   "source": [
    "docs = retrieval_chain_rag_fusion.invoke({\"question\": question})\n",
    "docs"
   ]
  },
  {
   "cell_type": "code",
   "execution_count": 57,
   "metadata": {},
   "outputs": [
    {
     "data": {
      "text/plain": [
       "'Ethical considerations in AI given the context are:\\n\\n* Unfair, biased, or inaccurate results from deep learning models\\n* Data privacy concerns when acquiring, storing, and moving massive volumes of data\\n* Limited compute resources required for training and deploying deep learning AI agents'"
      ]
     },
     "execution_count": 57,
     "metadata": {},
     "output_type": "execute_result"
    }
   ],
   "source": [
    "from langchain_core.runnables import RunnablePassthrough\n",
    "\n",
    "template = '''answer the following question: {question} given context: {context} only answer the question nothing else.'''\n",
    "\n",
    "prompt = ChatPromptTemplate.from_template(template)\n",
    "\n",
    "final_rag_chain = (\n",
    "    {\"context\": retrieval_chain_rag_fusion,\n",
    "     \"question\": itemgetter(\"question\")}\n",
    "    | prompt\n",
    "    | llm\n",
    "    | (lambda x: x.content)\n",
    ")\n",
    "\n",
    "final_rag_chain.invoke({\"question\": question})"
   ]
  },
  {
   "cell_type": "markdown",
   "metadata": {},
   "source": [
    "# Decomposition"
   ]
  },
  {
   "cell_type": "code",
   "execution_count": 105,
   "metadata": {},
   "outputs": [],
   "source": [
    "from langchain.prompts import ChatPromptTemplate\n",
    "\n",
    "template = \"\"\"\n",
    "You are a assistant that generates multiple sub-questions related to an input question. The goal is to break down the input into a set of sub-problems that can be solved independently. Generate three search queries related to: {question}. Response: just response the queries only \"\"\"\n",
    "\n",
    "prompt_decomposition = ChatPromptTemplate.from_template(template)"
   ]
  },
  {
   "cell_type": "code",
   "execution_count": 106,
   "metadata": {},
   "outputs": [
    {
     "data": {
      "text/plain": [
       "ChatPromptTemplate(input_variables=['question'], input_types={}, partial_variables={}, messages=[HumanMessagePromptTemplate(prompt=PromptTemplate(input_variables=['question'], input_types={}, partial_variables={}, template='\\nYou are a assistant that generates multiple sub-questions related to an input question. The goal is to break down the input into a set of sub-problems that can be solved independently. Generate three search queries related to: {question}. Response: just response the queries only '), additional_kwargs={})])\n",
       "| ChatGroq(client=<groq.resources.chat.completions.Completions object at 0x000001FB14493A40>, async_client=<groq.resources.chat.completions.AsyncCompletions object at 0x000001FB144B43B0>, model_name='llama3-8b-8192', model_kwargs={}, groq_api_key=SecretStr('**********'))\n",
       "| RunnableLambda(...)\n",
       "| RunnableLambda(...)"
      ]
     },
     "execution_count": 106,
     "metadata": {},
     "output_type": "execute_result"
    }
   ],
   "source": [
    "generate_queries_decomposition = (\n",
    "    prompt_decomposition\n",
    "    | llm\n",
    "    | (lambda x: x.content)\n",
    "    | (lambda x: x.split(\"\\n\"))\n",
    ")\n",
    "generate_queries_decomposition"
   ]
  },
  {
   "cell_type": "code",
   "execution_count": 102,
   "metadata": {},
   "outputs": [],
   "source": [
    "question = \"What is llm agent in ai\""
   ]
  },
  {
   "cell_type": "code",
   "execution_count": 108,
   "metadata": {},
   "outputs": [
    {
     "data": {
      "text/plain": [
       "['Here are three sub-questions related to \"What is LLM Agent in AI\":',\n",
       " '',\n",
       " '1. What is Large Language Model (LLM) in AI?',\n",
       " '2. What is the role of an Agent in AI systems?',\n",
       " '3. How does a Language Model Agent (LLM Agent) integrate these two concepts in AI applications?']"
      ]
     },
     "execution_count": 108,
     "metadata": {},
     "output_type": "execute_result"
    }
   ],
   "source": [
    "generate_queries_decomposition.invoke(question)"
   ]
  },
  {
   "cell_type": "code",
   "execution_count": 110,
   "metadata": {},
   "outputs": [
    {
     "data": {
      "text/plain": [
       "['Here are three sub-questions related to \"How can I improve my learning?\":',\n",
       " '',\n",
       " '1. What strategies can I use to enhance my focus and concentration during studying?',\n",
       " '2. How can I effectively organize and manage my time to optimize my learning?',\n",
       " '3. What techniques can I use to retain information and recall it more easily?']"
      ]
     },
     "execution_count": 110,
     "metadata": {},
     "output_type": "execute_result"
    }
   ],
   "source": [
    "generate_queries_decomposition.invoke(\"How can I improve my learning?\")"
   ]
  },
  {
   "cell_type": "code",
   "execution_count": 115,
   "metadata": {},
   "outputs": [],
   "source": [
    "template = \"\"\"\n",
    "Here is the question you need to answer\n",
    "\\n---\\n {question}\\n---\\n\n",
    "Here is available background question and answer pairs:\n",
    "\\n---\\n {qa}\\n---\\n\n",
    "Here is other context relevant to the question:\n",
    "\\n---\\n {context}\\n---\\n\n",
    "Use the above context and any background question and answer pair to answer the question {question}\"\"\"\n",
    "\n",
    "decomposition_prompt = ChatPromptTemplate.from_template(template)"
   ]
  },
  {
   "cell_type": "code",
   "execution_count": 117,
   "metadata": {},
   "outputs": [
    {
     "data": {
      "text/plain": [
       "[HumanMessagePromptTemplate(prompt=PromptTemplate(input_variables=['context', 'qa', 'question'], input_types={}, partial_variables={}, template='\\nHere is the question you need to answer\\n\\n---\\n {question}\\n---\\n\\nHere is available background question and answer pairs:\\n\\n---\\n {qa}\\n---\\n\\nHere is other context relevant to the question:\\n\\n---\\n {context}\\n---\\n\\nUse the above context and any background question and answer pair to answer the question {question}'), additional_kwargs={})]"
      ]
     },
     "execution_count": 119,
     "metadata": {},
     "output_type": "execute_result"
    }
   ],
   "source": [
    "decomposition_prompt.messages"
   ]
  },
  {
   "cell_type": "code",
   "execution_count": null,
   "metadata": {},
   "outputs": [],
   "source": [
    "from operator import itemgetter"
   ]
  },
  {
   "cell_type": "code",
   "execution_count": 122,
   "metadata": {},
   "outputs": [],
   "source": [
    "def format_qa_pairs(questions, answers):\n",
    "    formatted_string = \"\"\n",
    "    for i, (question, answer) in enumerate(zip(questions, answers), start=1):\n",
    "        formatted_string += f\"Question{i}: {question}\\nAnswer {i}: {answer}\\n\"\n",
    "    # return the string\n",
    "    return formatted_string.strip()\n"
   ]
  },
  {
   "cell_type": "code",
   "execution_count": 123,
   "metadata": {},
   "outputs": [],
   "source": [
    "from langchain_core.output_parsers import StrOutputParser"
   ]
  },
  {
   "cell_type": "code",
   "execution_count": 127,
   "metadata": {},
   "outputs": [],
   "source": [
    "q_a_pairs = \"\"\n",
    "question = \"What is an ai agent?\"\n",
    "\n",
    "questions = generate_queries_decomposition.invoke(question)\n",
    "\n",
    "for q in questions:\n",
    "    c = (\n",
    "        {\"context\": itemgetter(\"question\") | retriever,\n",
    "         \"question\": itemgetter(\"question\"),\n",
    "         \"qa\": itemgetter(\"qa\")}\n",
    "        | decomposition_prompt\n",
    "        | llm\n",
    "        | StrOutputParser()\n",
    "    )\n",
    "    answer = c.invoke({\"question\": q, \"qa\": q_a_pairs})\n",
    "    q_a_pair = format_qa_pairs(q, answer)\n",
    "    q_a_pairs += \"\\n\\n\" + q_a_pair"
   ]
  },
  {
   "cell_type": "code",
   "execution_count": 128,
   "metadata": {},
   "outputs": [
    {
     "data": {
      "text/plain": [
       "'Based on the provided context and background question and answer pairs, I will answer the question 3.\\n\\nThe context discusses AI agents as software programs that can interact with their environment, collect data, and use the data to perform self-determined tasks to meet predetermined goals. AI agents are rational agents that make rational decisions based on their perceptions and data to produce optimal performance and results.\\n\\nFrom the context, I can identify the following types of AI agents:\\n\\n1. **Stationary Agents**: These agents are software programs that operate within a specific environment or system, collecting data and performing tasks without moving physically. Examples include chatbots, robotic agents that collect sensor data, and software agents that analyze internal documents.\\n2. **Mobile Agents**: These agents are software programs that can move between different environments or systems, collecting data and performing tasks on the move. Examples include self-driving cars that navigate around obstacles on the road based on data from multiple sensors.\\n3. **Hybrid Agents**: These agents combine the characteristics of stationary and mobile agents, operating within a specific environment or system while also being able to move between different environments or systems. Examples may include AI-powered contact center agents that interact with customers remotely and can also move between different customer service platforms.\\n\\nIn summary, the different types of AI agents are:\\n\\n* Stationary Agents: Operate within a specific environment or system\\n* Mobile Agents: Move between different environments or systems\\n* Hybrid Agents: Combine characteristics of stationary and mobile agents\\n\\nAnswer: Stationary agents, Mobile agents, and Hybrid agents.'"
      ]
     },
     "execution_count": 128,
     "metadata": {},
     "output_type": "execute_result"
    }
   ],
   "source": [
    "answer"
   ]
  },
  {
   "cell_type": "markdown",
   "metadata": {},
   "source": [
    "# answer individually"
   ]
  },
  {
   "cell_type": "code",
   "execution_count": 129,
   "metadata": {},
   "outputs": [],
   "source": [
    "from langchain import hub\n",
    "from langchain_core.prompts import ChatPromptTemplate\n",
    "from langchain_core.runnables import RunnablePassthrough, RunnableLambda\n",
    "from langchain_core.output_parsers import StrOutputParser"
   ]
  },
  {
   "cell_type": "code",
   "execution_count": 130,
   "metadata": {},
   "outputs": [],
   "source": [
    "promt_rag = hub.pull(\"rlm/rag-prompt\")"
   ]
  },
  {
   "cell_type": "code",
   "execution_count": 132,
   "metadata": {},
   "outputs": [],
   "source": [
    "def retrieve_and_rag(question, prompt_rag, sub_question_generator_chain):\n",
    "    \"\"\"Retrieve and RAG\"\"\"\n",
    "    sub_questions = sub_question_generator_chain.invoke(question)\n",
    "    rag_results = []\n",
    "    for q in sub_questions:\n",
    "        retreived_doc = retriever.get_relevant_documents(q)\n",
    "        answer = (prompt_rag | llm | StrOutputParser()).invoke({\"question\": q, \"context\": retreived_doc})\n",
    "        \n",
    "        rag_results.append(answer)\n",
    "    return rag_results, sub_questions"
   ]
  },
  {
   "cell_type": "code",
   "execution_count": 133,
   "metadata": {},
   "outputs": [
    {
     "name": "stderr",
     "output_type": "stream",
     "text": [
      "C:\\Users\\acer\\AppData\\Local\\Temp\\ipykernel_13736\\2762158091.py:6: LangChainDeprecationWarning: The method `BaseRetriever.get_relevant_documents` was deprecated in langchain-core 0.1.46 and will be removed in 1.0. Use :meth:`~invoke` instead.\n",
      "  retreived_doc = retriever.get_relevant_documents(q)\n"
     ]
    }
   ],
   "source": [
    "answers, questions = retrieve_and_rag(question, promt_rag, generate_queries_decomposition)"
   ]
  },
  {
   "cell_type": "code",
   "execution_count": 134,
   "metadata": {},
   "outputs": [],
   "source": [
    "def format_qa_pairs(questions, answers):\n",
    "    formatted_string = \"\"\n",
    "    for i, (question, answer) in enumerate(zip(questions, answers), start=1):\n",
    "        formatted_string += f\"Question {i}: {question}\\n\\n Answer: {answer}\\n\\n\"\n",
    "    return formatted_string.strip()"
   ]
  },
  {
   "cell_type": "code",
   "execution_count": 135,
   "metadata": {},
   "outputs": [],
   "source": [
    "context = format_qa_pairs(questions, answers)"
   ]
  },
  {
   "cell_type": "code",
   "execution_count": 136,
   "metadata": {},
   "outputs": [
    {
     "data": {
      "text/plain": [
       "'Question 1: Here are three sub-questions related to \"What is an AI Agent?\":\\n\\n Answer: What makes AI or intelligent agents special is that they are rational agents that make rational decisions based on their perceptions and data to produce optimal performance and results.\\n\\nQuestion 2: \\n\\n Answer: The key components of AI agent architecture are not explicitly mentioned in the provided context.\\n\\nQuestion 3: 1. What is the definition of an artificial intelligence (AI) agent?\\n\\n Answer: An artificial intelligence (AI) agent is a software program that can interact with its environment, collect data, and use the data to perform self-determined tasks to meet predetermined goals. The agent makes rational decisions based on its perceptions and data to produce optimal performance and results.\\n\\nQuestion 4: 2. What are the characteristics of a typical AI agent?\\n\\n Answer: A typical AI agent is a software program that can interact with its environment, collect data, and use the data to perform self-determined tasks to meet predetermined goals. It makes rational decisions based on its perceptions and data to produce optimal performance and results. It senses its environment with physical or software interfaces and applies the data to make informed decisions.\\n\\nQuestion 5: 3. How does an AI agent differ from other types of artificial intelligence systems, such as expert systems or neural networks?\\n\\n Answer: AI agents differ from other types of artificial intelligence systems, such as expert systems or neural networks, in that they can interact with their environment, collect data, and use the data to perform self-determined tasks to meet predetermined goals. AI agents make rational decisions based on their perceptions and data to produce optimal performance and results.'"
      ]
     },
     "execution_count": 136,
     "metadata": {},
     "output_type": "execute_result"
    }
   ],
   "source": [
    "context"
   ]
  },
  {
   "cell_type": "code",
   "execution_count": 138,
   "metadata": {},
   "outputs": [],
   "source": [
    "template = \"\"\"\n",
    "Here is a set of qa pairs: {context}\n",
    "Use these to synthesize an answer to the question: {question}\n",
    "\"\"\"\n",
    "\n",
    "prompt = ChatPromptTemplate.from_template(template)\n",
    "\n",
    "rag = (\n",
    "    prompt | llm | StrOutputParser()\n",
    ")"
   ]
  },
  {
   "cell_type": "code",
   "execution_count": 139,
   "metadata": {},
   "outputs": [
    {
     "data": {
      "text/plain": [
       "ChatPromptTemplate(input_variables=['context', 'question'], input_types={}, partial_variables={}, messages=[HumanMessagePromptTemplate(prompt=PromptTemplate(input_variables=['context', 'question'], input_types={}, partial_variables={}, template='\\nHere is a set of qa pairs: {context}\\nUse these to synthesize an answer to the question: {question}\\n'), additional_kwargs={})])\n",
       "| ChatGroq(client=<groq.resources.chat.completions.Completions object at 0x000001FB14493A40>, async_client=<groq.resources.chat.completions.AsyncCompletions object at 0x000001FB144B43B0>, model_name='llama3-8b-8192', model_kwargs={}, groq_api_key=SecretStr('**********'))\n",
       "| StrOutputParser()"
      ]
     },
     "execution_count": 139,
     "metadata": {},
     "output_type": "execute_result"
    }
   ],
   "source": [
    "rag"
   ]
  },
  {
   "cell_type": "code",
   "execution_count": 140,
   "metadata": {},
   "outputs": [
    {
     "data": {
      "text/plain": [
       "'Based on the provided QA pairs, here is a synthesized answer to the question \"What is an AI Agent?\":\\n\\nAn AI agent is a software program that can interact with its environment, collect data, and use that data to perform self-determined tasks to meet predetermined goals. It is a rational agent that makes decisions based on its perceptions and data to produce optimal performance and results. This means that AI agents can sense their environment through physical or software interfaces, apply the data they collect to make informed decisions, and adjust their actions accordingly. Unlike other types of artificial intelligence systems, such as expert systems or neural networks, AI agents have the ability to interact with their environment and make decisions based on their perceptions and data. Overall, AI agents are software programs that can act autonomously and make rational decisions to achieve specific goals.'"
      ]
     },
     "execution_count": 140,
     "metadata": {},
     "output_type": "execute_result"
    }
   ],
   "source": [
    "rag.invoke({\"question\": question, \"context\": context})"
   ]
  }
 ],
 "metadata": {
  "kernelspec": {
   "display_name": "Python 3",
   "language": "python",
   "name": "python3"
  },
  "language_info": {
   "codemirror_mode": {
    "name": "ipython",
    "version": 3
   },
   "file_extension": ".py",
   "mimetype": "text/x-python",
   "name": "python",
   "nbconvert_exporter": "python",
   "pygments_lexer": "ipython3",
   "version": "3.12.1"
  }
 },
 "nbformat": 4,
 "nbformat_minor": 2
}
