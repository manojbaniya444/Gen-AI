{
 "cells": [
  {
   "cell_type": "markdown",
   "metadata": {},
   "source": [
    "# Chain of Thought Prompting"
   ]
  },
  {
   "cell_type": "code",
   "execution_count": 5,
   "metadata": {},
   "outputs": [],
   "source": [
    "import os\n",
    "import dotenv\n",
    "\n",
    "from dotenv import load_dotenv\n",
    "load_dotenv()\n",
    "\n",
    "api_key = os.getenv(\"GROQ_API_KEY\")"
   ]
  },
  {
   "cell_type": "code",
   "execution_count": null,
   "metadata": {},
   "outputs": [],
   "source": [
    "import groq\n",
    "from groq import Groq\n",
    "\n",
    "client = Groq(api_key=api_key)"
   ]
  },
  {
   "cell_type": "code",
   "execution_count": 15,
   "metadata": {},
   "outputs": [],
   "source": [
    "prompt = \"\"\"\n",
    "Q: Roger has 5 tennis balls. He buys 2 more cans of tennis balls. Each can has 3 tennis balls. How many tennis balls does he have now?\n",
    "A: Roger started with 5 balls. 2 cans of 3 tennis balls each is 6 ball so 5 + 6 = 11 ball.\n",
    "\n",
    "Q: The cafeteria has 23 apples. If they used 20 to make lunch and bought 6 more, how many apples do they have now?\n",
    "A:\"\"\"\n",
    "\n",
    "completion = client.chat.completions.create(\n",
    "    messages = [\n",
    "        {\n",
    "            \"role\": \"user\",\n",
    "            \"content\": prompt\n",
    "        }\n",
    "    ],\n",
    "    model=\"llama3-8b-8192\"\n",
    ")"
   ]
  },
  {
   "cell_type": "code",
   "execution_count": 16,
   "metadata": {},
   "outputs": [
    {
     "name": "stdout",
     "output_type": "stream",
     "text": [
      "Let's break it down step by step!\n",
      "\n",
      "The cafeteria started with 23 apples.\n",
      "\n",
      "They used 20 apples to make lunch, so they have:\n",
      "\n",
      "23 - 20 = 3 apples left\n",
      "\n",
      "Then, they bought 6 more apples. So, they now have:\n",
      "\n",
      "3 ( apples left) + 6 (new apples) = 9 apples\n",
      "\n",
      "So, the cafeteria has 9 apples now!\n"
     ]
    }
   ],
   "source": [
    "print(completion.choices[0].message.content)"
   ]
  },
  {
   "cell_type": "code",
   "execution_count": 17,
   "metadata": {},
   "outputs": [
    {
     "name": "stdout",
     "output_type": "stream",
     "text": [
      "A nice set of problems!\n",
      "\n",
      "Let's add up the odd numbers in this group (15, 5, 13, 7, 1):\n",
      "\n",
      "15 + 5 = 20\n",
      "20 + 13 = 33\n",
      "33 + 7 = 40\n",
      "40 + 1 = 41\n",
      "\n",
      "So, the odd numbers add up to an odd number (41). Therefore, the answer is:\n",
      "\n",
      "A: False\n"
     ]
    }
   ],
   "source": [
    "prompt = \"\"\"The odd numbers in this group add up to an even number: 4, 8, 9, 15, 12, 2, 1.\n",
    "A: Adding all the odd numbers (9, 15, 1) gives 25. The answer is False.\n",
    "The odd numbers in this group add up to an even number: 17,  10, 19, 4, 8, 12, 24.\n",
    "A: Adding all the odd numbers (17, 19) gives 36. The answer is True.\n",
    "The odd numbers in this group add up to an even number: 16,  11, 14, 4, 8, 13, 24.\n",
    "A: Adding all the odd numbers (11, 13) gives 24. The answer is True.\n",
    "The odd numbers in this group add up to an even number: 17,  9, 10, 12, 13, 4, 2.\n",
    "A: Adding all the odd numbers (17, 9, 13) gives 39. The answer is False.\n",
    "The odd numbers in this group add up to an even number: 15, 32, 5, 13, 82, 7, 1. \n",
    "A:\n",
    "\"\"\"\n",
    "\n",
    "completion = client.chat.completions.create(\n",
    "    messages = [\n",
    "        {\n",
    "            \"role\": \"user\",\n",
    "            \"content\": prompt\n",
    "        }\n",
    "    ],\n",
    "    model=\"llama3-8b-8192\"\n",
    ")\n",
    "\n",
    "print(completion.choices[0].message.content)"
   ]
  },
  {
   "cell_type": "code",
   "execution_count": 21,
   "metadata": {},
   "outputs": [
    {
     "name": "stdout",
     "output_type": "stream",
     "text": [
      "Sounds like a fun problem! Let's break it down step by step as you suggested.\n",
      "\n",
      "1. A juggler can juggle 16 balls.\n",
      "2. Half of the balls are golf balls, so the number of golf balls is:\n",
      "16 / 2 = 8 golf balls\n",
      "3. Half of the golf balls are blue, so the number of blue golf balls is:\n",
      "8 (total golf balls) / 2 = 4 blue golf balls\n",
      "\n",
      "So, there are 4 blue golf balls!\n"
     ]
    }
   ],
   "source": [
    "zero_shot_CoT_prompt = '''\n",
    "Q: A jugller can juggle 16 balls. Half of balls are golf balls and half of the golf balls are blue. How many blue golf balls are there?\n",
    "A: Lets think step by step'''\n",
    "\n",
    "completion = client.chat.completions.create(\n",
    "    messages=[\n",
    "        {\n",
    "            \"role\": \"user\",\n",
    "            \"content\": zero_shot_CoT_prompt\n",
    "        }\n",
    "    ],\n",
    "    model=\"llama3-8b-8192\"\n",
    ")\n",
    "\n",
    "print(completion.choices[0].message.content)"
   ]
  },
  {
   "cell_type": "code",
   "execution_count": 24,
   "metadata": {},
   "outputs": [
    {
     "name": "stdout",
     "output_type": "stream",
     "text": [
      "Let's break it down step by step.\n",
      "\n",
      "You started with 10 apples.\n",
      "\n",
      "You gave 2 apples to the neighbor, so you had:\n",
      "10 - 2 = 8 apples left\n",
      "\n",
      "Then, you gave 2 apples to the repairman, so you had:\n",
      "8 - 2 = 6 apples left\n",
      "\n",
      "After that, you bought 5 more apples. So, you now have:\n",
      "6 + 5 = 11 apples\n",
      "\n",
      "Then, you ate 1 apple, so you had:\n",
      "11 - 1 = 10 apples left\n",
      "\n",
      "So, you remained with 10 apples.\n"
     ]
    }
   ],
   "source": [
    "prompt = \"I went to the market and bought 10 apples. I gave 2 apples to the neighbor and 2 to the repairman. I then went and bought 5 more apples and ate 1. How many apples did I remain with? Lets think step by step.\"\n",
    "\n",
    "completion = client.chat.completions.create(\n",
    "    messages=[\n",
    "        {\n",
    "            \"role\": \"user\",\n",
    "            \"content\": prompt\n",
    "        }\n",
    "    ],\n",
    "    model=\"llama3-8b-8192\"\n",
    ")\n",
    "\n",
    "print(completion.choices[0].message.content)"
   ]
  }
 ],
 "metadata": {
  "kernelspec": {
   "display_name": "Python 3",
   "language": "python",
   "name": "python3"
  },
  "language_info": {
   "codemirror_mode": {
    "name": "ipython",
    "version": 3
   },
   "file_extension": ".py",
   "mimetype": "text/x-python",
   "name": "python",
   "nbconvert_exporter": "python",
   "pygments_lexer": "ipython3",
   "version": "3.12.1"
  }
 },
 "nbformat": 4,
 "nbformat_minor": 2
}
