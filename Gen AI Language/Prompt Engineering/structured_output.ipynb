{
 "cells": [
  {
   "cell_type": "code",
   "execution_count": null,
   "metadata": {},
   "outputs": [
    {
     "data": {
      "text/plain": [
       "True"
      ]
     },
     "execution_count": 1,
     "metadata": {},
     "output_type": "execute_result"
    }
   ],
   "source": [
    "import os\n",
    "from dotenv import load_dotenv\n",
    "\n",
    "load_dotenv()"
   ]
  },
  {
   "cell_type": "code",
   "execution_count": null,
   "metadata": {},
   "outputs": [],
   "source": [
    "api_key = os.getenv(\"GROQ_API_KEY_NEW\")"
   ]
  },
  {
   "cell_type": "markdown",
   "metadata": {},
   "source": [
    "## Extracting structured data"
   ]
  },
  {
   "cell_type": "code",
   "execution_count": 3,
   "metadata": {},
   "outputs": [
    {
     "name": "stdout",
     "output_type": "stream",
     "text": [
      "name='John Doe' age='35' email='johndoe@gmail.com'\n",
      "John Doe 35 johndoe@gmail.com\n"
     ]
    }
   ],
   "source": [
    "import instructor\n",
    "from groq import Groq\n",
    "from pydantic import BaseModel\n",
    "\n",
    "MODEL = \"llama3-8b-8192\"\n",
    "\n",
    "class UserInfo(BaseModel):\n",
    "    name: str\n",
    "    age: str\n",
    "    email: str\n",
    "    \n",
    "text = \"\"\"\n",
    "John Doe, a 35 year old engineer from New York has been working with Large Language Model for several yeras. His email address is johndoe@gmail.com You can contact him anytime.\"\"\"\n",
    "\n",
    "client = instructor.from_groq(\n",
    "    Groq(api_key=api_key),\n",
    "    mode=instructor.Mode.JSON\n",
    ")\n",
    "\n",
    "user_info = client.chat.completions.create(\n",
    "    model=MODEL,\n",
    "    response_model=UserInfo,\n",
    "    messages=[\n",
    "        {\"role\": \"system\", \"content\": \"Your job is to extract user information from the given text.\"},\n",
    "        {\"role\": \"user\", \"content\": text}\n",
    "    ],\n",
    "    temperature=0.65\n",
    ")\n",
    "\n",
    "print(user_info)\n",
    "print(user_info.name, user_info.age, user_info.email)"
   ]
  },
  {
   "cell_type": "markdown",
   "metadata": {},
   "source": [
    "## Generating synthetic data"
   ]
  },
  {
   "cell_type": "code",
   "execution_count": null,
   "metadata": {},
   "outputs": [],
   "source": [
    "from pprint import pprint\n",
    "\n",
    "import instructor\n",
    "from pydantic import BaseModel, Field\n",
    "\n",
    "prompt = \"\"\"I am designing a weather agent. This agent can talk to the user and also fetch latest weather information.\n",
    "It has access to the `get_weather_info` tool with the following JSON schema:\n",
    "{json_schema}\n",
    "\n",
    "I want you to write some examples for `get_weather_info` and see if this functionality works correctly and can handle all the cases. \n",
    "Now given the information so far and the JSON schema of the provided tool, write {num} examples.\n",
    "Make sure each example is varied enough to cover common ways of requesting for this functionality.\n",
    "Make sure you fill the function parameters with the correct types when generating the output examples. \n",
    "Make sure your output is valid JSON.\n",
    "\"\"\""
   ]
  },
  {
   "cell_type": "code",
   "execution_count": null,
   "metadata": {},
   "outputs": [],
   "source": [
    "class Example(BaseModel):\n",
    "    input_query: str = Field(description=\"The example text\")\n",
    "    tool_name: str = Field(description=\"The name of the tool\")\n",
    "    tool_parameters: str = Field(description=\"An object containing the key & value pairs for the parameters of this tool as a valid JSON serializable string, make sure it is a valid JSON and parameter values are of the correct type accoording to the tool schema.\")"
   ]
  },
  {
   "cell_type": "code",
   "execution_count": null,
   "metadata": {},
   "outputs": [],
   "source": [
    "class ResponseModel(BaseModel):\n",
    "    examples: list[Example]"
   ]
  },
  {
   "cell_type": "code",
   "execution_count": null,
   "metadata": {},
   "outputs": [],
   "source": [
    "tool_schema = {\n",
    "    \"name\": \"get_weather_info\",\n",
    "    \"description\": \"Get the weather information for any location.\",\n",
    "    \"parameters\": {\n",
    "        \"type\": \"object\",\n",
    "        \"properties\": {\n",
    "            \"location\": {\n",
    "                \"type\": \"string\",\n",
    "                \"description\": \"The location for which we want to get the weather information (e.g. New York)\"\n",
    "            }\n",
    "        },\n",
    "        \"required\": [\"location\"]\n",
    "    }\n",
    "}"
   ]
  },
  {
   "cell_type": "code",
   "execution_count": null,
   "metadata": {},
   "outputs": [],
   "source": [
    "MODEL = \"llama3-70b-8192\""
   ]
  },
  {
   "cell_type": "code",
   "execution_count": 18,
   "metadata": {},
   "outputs": [],
   "source": [
    "def get_weather_info(location: str):\n",
    "    \"\"\"get the weather info for a location from a list\"\"\"\n",
    "    weather_info = {\n",
    "        \"New York\": \"It's 30 degrees in New York with a chance of rain.\",\n",
    "        \"Los Angeles\": \"It's 25 degrees in Los Angeles with clear skies.\",\n",
    "        \"Chicago\": \"It's 20 degrees in Chicago with a chance of snow.\"\n",
    "    }\n",
    "    return weather_info.get(location, \"Weather info not found for now.\")"
   ]
  },
  {
   "cell_type": "code",
   "execution_count": null,
   "metadata": {},
   "outputs": [
    {
     "name": "stdout",
     "output_type": "stream",
     "text": [
      "[Example(input_query='', tool_name='get_weather_info', tool_parameters='{\"location\": \"New York\"}'),\n",
      " Example(input_query='', tool_name='get_weather_info', tool_parameters='{\"location\": \"Los Angeles\"}'),\n",
      " Example(input_query='', tool_name='get_weather_info', tool_parameters='{\"location\": \"London\"}'),\n",
      " Example(input_query='', tool_name='get_weather_info', tool_parameters='{\"location\": \"Paris\"}'),\n",
      " Example(input_query='', tool_name='get_weather_info', tool_parameters='{\"location\": \"Tokyo\"}')]\n"
     ]
    }
   ],
   "source": [
    "client = instructor.from_groq(\n",
    "    Groq(api_key=api_key),\n",
    "    mode=instructor.Mode.JSON\n",
    ")\n",
    "\n",
    "response = client.chat.completions.create(\n",
    "    model = MODEL,\n",
    "    response_model = ResponseModel,\n",
    "    messages = [\n",
    "        {\"role\": \"system\", \"content\": prompt.format(json_schema=tool_schema, num=5)}\n",
    "    ],\n",
    "    temperature=0.65,\n",
    "    max_tokens=5000\n",
    ")\n",
    "\n",
    "pprint(response.examples)"
   ]
  },
  {
   "cell_type": "code",
   "execution_count": 20,
   "metadata": {},
   "outputs": [
    {
     "name": "stdout",
     "output_type": "stream",
     "text": [
      "Weather for New York: It's 30 degrees in New York with a chance of rain.\n",
      "Weather for Los Angeles: It's 25 degrees in Los Angeles with clear skies.\n",
      "Weather for London: Weather info not found for now.\n",
      "Weather for Paris: Weather info not found for now.\n",
      "Weather for Tokyo: Weather info not found for now.\n"
     ]
    }
   ],
   "source": [
    "import json\n",
    "\n",
    "location = [x.tool_parameters for x in response.examples]\n",
    "location = [json.loads(x) for x in location]\n",
    "location = [x[\"location\"] for x in location]\n",
    "\n",
    "for loc in location:\n",
    "    print(f\"Weather for {loc}: {get_weather_info(loc)}\")"
   ]
  }
 ],
 "metadata": {
  "kernelspec": {
   "display_name": "Python 3",
   "language": "python",
   "name": "python3"
  },
  "language_info": {
   "codemirror_mode": {
    "name": "ipython",
    "version": 3
   },
   "file_extension": ".py",
   "mimetype": "text/x-python",
   "name": "python",
   "nbconvert_exporter": "python",
   "pygments_lexer": "ipython3",
   "version": "3.12.1"
  }
 },
 "nbformat": 4,
 "nbformat_minor": 2
}
