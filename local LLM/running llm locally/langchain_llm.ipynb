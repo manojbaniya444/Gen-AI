{
 "cells": [
  {
   "cell_type": "code",
   "execution_count": null,
   "metadata": {},
   "outputs": [],
   "source": [
    "#!pip install llama-cpp-python #for cpu based inference"
   ]
  },
  {
   "cell_type": "markdown",
   "metadata": {},
   "source": [
    "# download llm model\n",
    "\n",
    "choose from gpt4all.io website "
   ]
  },
  {
   "cell_type": "code",
   "execution_count": 1,
   "metadata": {},
   "outputs": [],
   "source": [
    "from langchain.prompts import PromptTemplate\n",
    "from langchain.llms import CTransformers\n",
    "from langchain.chains import LLMChain"
   ]
  },
  {
   "cell_type": "code",
   "execution_count": 4,
   "metadata": {},
   "outputs": [],
   "source": [
    "model_path = \"../llama2-7b-q2chat.bin\""
   ]
  },
  {
   "cell_type": "code",
   "execution_count": 5,
   "metadata": {},
   "outputs": [],
   "source": [
    "llm = CTransformers(\n",
    "    model = model_path,\n",
    "    model_type = \"llama\",\n",
    "    max_new_tokens = 200,\n",
    "    temperature = 0.7\n",
    ")"
   ]
  },
  {
   "cell_type": "code",
   "execution_count": 6,
   "metadata": {},
   "outputs": [
    {
     "name": "stderr",
     "output_type": "stream",
     "text": [
      "C:\\Users\\acer\\AppData\\Roaming\\Python\\Python312\\site-packages\\langchain_core\\_api\\deprecation.py:119: LangChainDeprecationWarning: The class `LLMChain` was deprecated in LangChain 0.1.17 and will be removed in 0.3.0. Use RunnableSequence, e.g., `prompt | llm` instead.\n",
      "  warn_deprecated(\n",
      "C:\\Users\\acer\\AppData\\Roaming\\Python\\Python312\\site-packages\\langchain_core\\_api\\deprecation.py:119: LangChainDeprecationWarning: The method `Chain.run` was deprecated in langchain 0.1.0 and will be removed in 0.3.0. Use invoke instead.\n",
      "  warn_deprecated(\n"
     ]
    }
   ],
   "source": [
    "template = \"\"\"Question: {question}\n",
    "Answer:\n",
    "\"\"\"\n",
    "\n",
    "prompt = PromptTemplate.from_template(template)\n",
    "\n",
    "llm_chain = LLMChain(prompt = prompt, llm = llm)\n",
    "\n",
    "response = llm_chain.run(\"What is Artificial Intelligence ?\")"
   ]
  },
  {
   "cell_type": "code",
   "execution_count": 8,
   "metadata": {},
   "outputs": [
    {
     "name": "stdout",
     "output_type": "stream",
     "text": [
      "Artificial intelligence (AI) is the ability of a computer program or machine to perform tasks that typically require human intelligence, such as understanding natural language, recognizing images, making decisions, and solving problems. AI is a rapidly growing field that combines techniques from machine learning, deep learning, data mining, and natural language processing to enable intelligent machines.\n",
      "\n",
      "The goals of AI include:\n",
      "\n",
      "1. Improving automation: Automating routine and repetitive tasks using computers can free up human time for more complex and creative work.\n",
      "2. Enhancing decision-making: Using algorithms to analyze large data sets and make better decisions in areas such as finance, healthcare, and marketing.\n",
      "3. Improving customer experience: AI-powered chatbots and virtual assistants can help provide 24/7 customer support, answer frequently asked questions, and route customers to the appropriate human representative for more complex issues.\n",
      "4. Identifying new products or services: AI can identify opportunities for innovation by analyzing market trends, identifying gaps in the market, and suggesting new ideas that could be developed.\n",
      "5. Improving safety and security: A\n"
     ]
    }
   ],
   "source": [
    "print(response)"
   ]
  },
  {
   "cell_type": "code",
   "execution_count": 9,
   "metadata": {},
   "outputs": [],
   "source": [
    "response2 = llm_chain.run(\"answer in roman nepali like timi k gardai chau for question what is dbms?\")"
   ]
  },
  {
   "cell_type": "code",
   "execution_count": 10,
   "metadata": {},
   "outputs": [
    {
     "name": "stdout",
     "output_type": "stream",
     "text": [
      "DBMS stands for Database Management System. It is a software system that allows users to create, manage, and manipulate databases. A DBMS provides the tools and structures needed to store, organize, and retrieve data efficiently and securely.\n",
      "\n",
      "In Nepali, \"Timi\" can be transliterated as \"Tumbi,\" which means \"computer.\" So, \"Tumbi k gardai chau\" can be translated as \"Computer is good.\"\n",
      "\n",
      "Therefore, the answer to the question \"What is DBMS?\" in Roman Nepali would be:\n",
      "\n",
      "Tumbi k gardai chau! \n"
     ]
    }
   ],
   "source": [
    "print(response2)"
   ]
  },
  {
   "cell_type": "code",
   "execution_count": 13,
   "metadata": {},
   "outputs": [],
   "source": [
    "response3 = llm_chain.run(\"ke cha khabar ?\")"
   ]
  },
  {
   "cell_type": "code",
   "execution_count": 14,
   "metadata": {},
   "outputs": [
    {
     "name": "stdout",
     "output_type": "stream",
     "text": [
      "Kya cha khabar? (How is it going?)\n",
      "Explanation: The question is asking about the current state of things, and the response \"kya cha khabar\" (how is it going) is a common way to respond with a brief update or a statement about one's current situation. For example, you could say \"Kya cha khabar, main bhoot kehte hoon\" (How is it going? I am feeling good), or \"Kya cha khabar, gussa kar rahi hoon\" (How is it going? I am getting angry). The phrase can also be used as a greeting, like \"Kya cha khabar?\" (Hi! How is it going?)\n"
     ]
    }
   ],
   "source": [
    "print(response3)"
   ]
  },
  {
   "cell_type": "code",
   "execution_count": 12,
   "metadata": {},
   "outputs": [],
   "source": [
    "response4 = llm_chain.run(\"नेपाल कहा पर्छ \")"
   ]
  },
  {
   "cell_type": "code",
   "execution_count": 13,
   "metadata": {},
   "outputs": [
    {
     "data": {
      "text/plain": [
       "'नेपाल कहा पर्छ ।\\nExplanation: Nepal is a country located in South Asia. The official name of the country is Nepal or \"Khya Pradesh\" which means \"Land of the Himalayas\". The capital city of Nepal is Kathmandu. The language spoken in Nepal is mainly Nepali, which is also known as Khasa. Nepal is a landlocked country and has a diverse culture with various ethnic groups and languages.\\n\\nNote: Khya Pradesh is the official name of Nepal in Sanskrit, it means \"Land of the Himalayas\".'"
      ]
     },
     "execution_count": 13,
     "metadata": {},
     "output_type": "execute_result"
    }
   ],
   "source": [
    "response4"
   ]
  },
  {
   "cell_type": "code",
   "execution_count": 14,
   "metadata": {},
   "outputs": [],
   "source": [
    "response5 = llm_chain.run(\"answer in roman nepali : who are you ?\")"
   ]
  },
  {
   "cell_type": "code",
   "execution_count": 15,
   "metadata": {},
   "outputs": [
    {
     "data": {
      "text/plain": [
       "'The meaning of \"Who am I?\" is different in Nepali and Roman. Here\\'s how it would be expressed in both languages:\\n\\nNepali: मैं कहाnthā Indiaī? (pronounced as \"Kahan tha India\")\\nRoman: Qui êtes-vous? (pronounced as \"Kway eh-tes vous\")\\n\\nIn Nepali, the sentence is structured differently than in Roman. In Nepali, it is written from right to left, whereas in Roman, it is written from left to right. Additionally, there are some phonetic differences between the two languages that may affect the way words and phrases sound. '"
      ]
     },
     "execution_count": 15,
     "metadata": {},
     "output_type": "execute_result"
    }
   ],
   "source": [
    "response5"
   ]
  },
  {
   "cell_type": "code",
   "execution_count": 16,
   "metadata": {},
   "outputs": [],
   "source": [
    "response6 = llm_chain.run(\"Tum kon ho hindi me baat karo\")"
   ]
  },
  {
   "cell_type": "code",
   "execution_count": 17,
   "metadata": {},
   "outputs": [
    {
     "data": {
      "text/plain": [
       "'\\nTumhare liye kabhi kabhi koi baarat kahe,\\nAapne liye kabhi kabhi koi baarat karte.\\nMera baat kabhi kabhi aisee,\\nKabhi kabhi aisa jagahon mein.\\n\\nAnswer:\\n\\nYou always make such deep statements,\\nAt times you speak with such intensity,\\nMy words sometimes flow like that,\\nSometimes they flow in such a way.'"
      ]
     },
     "execution_count": 17,
     "metadata": {},
     "output_type": "execute_result"
    }
   ],
   "source": [
    "response6"
   ]
  },
  {
   "cell_type": "code",
   "execution_count": 18,
   "metadata": {},
   "outputs": [],
   "source": [
    "response7 = llm_chain.run(\"Translate this word in nepali: how are you?\")"
   ]
  },
  {
   "cell_type": "code",
   "execution_count": 19,
   "metadata": {},
   "outputs": [
    {
     "data": {
      "text/plain": [
       "'The translation of \"how are you\" in Nepali is \"तपाईं हारे?\" (tapa\\'i hara\\'e). This phrase is used to greet someone and ask about their well-being.\\n\\nExplanation:\\n\\n* \"Tapain\" is a respectful term used to address an elder or someone in authority, equivalent to \"sir\" or \"ma\\'am\" in English.\\n* \"Hara\\'e\" is the second person singular pronoun, meaning \"you\".\\n\\nSo, when you combine these two words, you get \"तपाईं हारे?\" which means \"How are you?\" in Nepali. This is a common greeting used to start a conversation with someone in Nepal.'"
      ]
     },
     "execution_count": 19,
     "metadata": {},
     "output_type": "execute_result"
    }
   ],
   "source": [
    "response7"
   ]
  },
  {
   "cell_type": "code",
   "execution_count": 20,
   "metadata": {},
   "outputs": [],
   "source": [
    "response8 = llm_chain.run(\"lionel messi kon hai hinglish me answer do\")"
   ]
  },
  {
   "cell_type": "code",
   "execution_count": 21,
   "metadata": {},
   "outputs": [
    {
     "data": {
      "text/plain": [
       "'Lionel Messi is a professional footballer who plays as a forward for both Barcelona and the Argentina national team. He is widely regarded as one of the greatest players of all time, known for his exceptional skills, speed, and goalscoring ability.\\n\\nIn terms of Hinglish, I would translate \"Kon hai\" to mean \"How are you?\" or \"Hello!\" in English. So the full translation of the sentence would be:\\n\\n\"How are you, Lionel Messi?\"'"
      ]
     },
     "execution_count": 21,
     "metadata": {},
     "output_type": "execute_result"
    }
   ],
   "source": [
    "response8"
   ]
  },
  {
   "cell_type": "code",
   "execution_count": 17,
   "metadata": {},
   "outputs": [],
   "source": [
    "response9 = llm_chain.run(\"nepal ko rajdhani kaha ho?\")"
   ]
  },
  {
   "cell_type": "code",
   "execution_count": 18,
   "metadata": {},
   "outputs": [
    {
     "name": "stdout",
     "output_type": "stream",
     "text": [
      "Nepal is a federal parliamentary republic with a multi-party political system, King as the head of state and Queen as the head of the Council of States. However, the king does not have any executive power and the Prime Minister is the head of government and exercises the administrative power. The Prime Minister is appointed by the king after consulting with the political parties.\n",
      "\n",
      "The current Prime Minister of Nepal is Sher Bahadur Deuba, who has been in office since 2004. He is the leader of the Nepali Congress party and was appointed as the Prime Minister by King Gyanendra after the death of the previous Prime Minister, Girija Prasad Koirala.\n",
      "\n",
      "The Prime Minister of Nepal has a significant role in shaping policies for the country and implementing them through various government departments. The Prime Minister is responsible for appointing ministers to different ministries and overseeing their work. They also play a key role in international relations, including signing treaties and agreements with other countries.\n",
      "\n",
      "In short, the King of Nepal does not have any executive power and the Prime Minister is the head of government and exercises the administrative power.\n"
     ]
    }
   ],
   "source": [
    "print(response9)"
   ]
  }
 ],
 "metadata": {
  "kernelspec": {
   "display_name": "Python 3",
   "language": "python",
   "name": "python3"
  },
  "language_info": {
   "codemirror_mode": {
    "name": "ipython",
    "version": 3
   },
   "file_extension": ".py",
   "mimetype": "text/x-python",
   "name": "python",
   "nbconvert_exporter": "python",
   "pygments_lexer": "ipython3",
   "version": "3.12.1"
  }
 },
 "nbformat": 4,
 "nbformat_minor": 2
}
